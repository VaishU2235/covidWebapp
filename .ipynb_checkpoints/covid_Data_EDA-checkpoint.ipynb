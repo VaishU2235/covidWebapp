{
 "cells": [
  {
   "cell_type": "code",
   "execution_count": 1,
   "metadata": {},
   "outputs": [],
   "source": [
    "import pandas as pd\n",
    "import numpy as np\n",
    "import matplotlib.pyplot as plt\n",
    "import seaborn as sns"
   ]
  },
  {
   "cell_type": "code",
   "execution_count": 2,
   "metadata": {},
   "outputs": [],
   "source": [
    "#Api link to the dataset\n",
    "url='https://api.covid19india.org/csv/latest/states.csv'"
   ]
  },
  {
   "cell_type": "code",
   "execution_count": 3,
   "metadata": {},
   "outputs": [
    {
     "data": {
      "text/html": [
       "<div>\n",
       "<style scoped>\n",
       "    .dataframe tbody tr th:only-of-type {\n",
       "        vertical-align: middle;\n",
       "    }\n",
       "\n",
       "    .dataframe tbody tr th {\n",
       "        vertical-align: top;\n",
       "    }\n",
       "\n",
       "    .dataframe thead th {\n",
       "        text-align: right;\n",
       "    }\n",
       "</style>\n",
       "<table border=\"1\" class=\"dataframe\">\n",
       "  <thead>\n",
       "    <tr style=\"text-align: right;\">\n",
       "      <th></th>\n",
       "      <th>Date</th>\n",
       "      <th>State</th>\n",
       "      <th>Confirmed</th>\n",
       "      <th>Recovered</th>\n",
       "      <th>Deceased</th>\n",
       "      <th>Other</th>\n",
       "      <th>Tested</th>\n",
       "    </tr>\n",
       "  </thead>\n",
       "  <tbody>\n",
       "    <tr>\n",
       "      <th>0</th>\n",
       "      <td>2020-01-30</td>\n",
       "      <td>Kerala</td>\n",
       "      <td>1</td>\n",
       "      <td>0</td>\n",
       "      <td>0</td>\n",
       "      <td>0</td>\n",
       "      <td>NaN</td>\n",
       "    </tr>\n",
       "    <tr>\n",
       "      <th>1</th>\n",
       "      <td>2020-01-30</td>\n",
       "      <td>India</td>\n",
       "      <td>1</td>\n",
       "      <td>0</td>\n",
       "      <td>0</td>\n",
       "      <td>0</td>\n",
       "      <td>NaN</td>\n",
       "    </tr>\n",
       "    <tr>\n",
       "      <th>2</th>\n",
       "      <td>2020-02-02</td>\n",
       "      <td>Kerala</td>\n",
       "      <td>2</td>\n",
       "      <td>0</td>\n",
       "      <td>0</td>\n",
       "      <td>0</td>\n",
       "      <td>NaN</td>\n",
       "    </tr>\n",
       "    <tr>\n",
       "      <th>3</th>\n",
       "      <td>2020-02-02</td>\n",
       "      <td>India</td>\n",
       "      <td>2</td>\n",
       "      <td>0</td>\n",
       "      <td>0</td>\n",
       "      <td>0</td>\n",
       "      <td>NaN</td>\n",
       "    </tr>\n",
       "    <tr>\n",
       "      <th>4</th>\n",
       "      <td>2020-02-03</td>\n",
       "      <td>Kerala</td>\n",
       "      <td>3</td>\n",
       "      <td>0</td>\n",
       "      <td>0</td>\n",
       "      <td>0</td>\n",
       "      <td>NaN</td>\n",
       "    </tr>\n",
       "  </tbody>\n",
       "</table>\n",
       "</div>"
      ],
      "text/plain": [
       "         Date   State  Confirmed  Recovered  Deceased  Other  Tested\n",
       "0  2020-01-30  Kerala          1          0         0      0     NaN\n",
       "1  2020-01-30   India          1          0         0      0     NaN\n",
       "2  2020-02-02  Kerala          2          0         0      0     NaN\n",
       "3  2020-02-02   India          2          0         0      0     NaN\n",
       "4  2020-02-03  Kerala          3          0         0      0     NaN"
      ]
     },
     "execution_count": 3,
     "metadata": {},
     "output_type": "execute_result"
    }
   ],
   "source": [
    "df=pd.read_csv(url)\n",
    "df.head()"
   ]
  },
  {
   "cell_type": "code",
<<<<<<< HEAD
   "execution_count": 4,
=======
   "execution_count": 1,
>>>>>>> b16863ab3c0a4737f053e604f6f89d5ee197d7c1
   "metadata": {
    "scrolled": true
   },
   "outputs": [
    {
<<<<<<< HEAD
     "data": {
      "text/html": [
       "<div>\n",
       "<style scoped>\n",
       "    .dataframe tbody tr th:only-of-type {\n",
       "        vertical-align: middle;\n",
       "    }\n",
       "\n",
       "    .dataframe tbody tr th {\n",
       "        vertical-align: top;\n",
       "    }\n",
       "\n",
       "    .dataframe thead th {\n",
       "        text-align: right;\n",
       "    }\n",
       "</style>\n",
       "<table border=\"1\" class=\"dataframe\">\n",
       "  <thead>\n",
       "    <tr style=\"text-align: right;\">\n",
       "      <th></th>\n",
       "      <th>Date</th>\n",
       "      <th>State</th>\n",
       "      <th>Confirmed</th>\n",
       "      <th>Recovered</th>\n",
       "      <th>Deceased</th>\n",
       "      <th>Other</th>\n",
       "      <th>Tested</th>\n",
       "    </tr>\n",
       "  </thead>\n",
       "  <tbody>\n",
       "    <tr>\n",
       "      <th>18266</th>\n",
       "      <td>2021-07-31</td>\n",
       "      <td>Tripura</td>\n",
       "      <td>78358</td>\n",
       "      <td>74059</td>\n",
       "      <td>752</td>\n",
       "      <td>63</td>\n",
       "      <td>1559001.0</td>\n",
       "    </tr>\n",
       "    <tr>\n",
       "      <th>18267</th>\n",
       "      <td>2021-07-31</td>\n",
       "      <td>India</td>\n",
       "      <td>31616594</td>\n",
       "      <td>30775162</td>\n",
       "      <td>423932</td>\n",
       "      <td>12513</td>\n",
       "      <td>466427038.0</td>\n",
       "    </tr>\n",
       "    <tr>\n",
       "      <th>18268</th>\n",
       "      <td>2021-07-31</td>\n",
       "      <td>Uttar Pradesh</td>\n",
       "      <td>1708410</td>\n",
       "      <td>1684925</td>\n",
       "      <td>22756</td>\n",
       "      <td>0</td>\n",
       "      <td>65502631.0</td>\n",
       "    </tr>\n",
       "    <tr>\n",
       "      <th>18269</th>\n",
       "      <td>2021-07-31</td>\n",
       "      <td>Uttarakhand</td>\n",
       "      <td>342023</td>\n",
       "      <td>327979</td>\n",
       "      <td>7362</td>\n",
       "      <td>6037</td>\n",
       "      <td>6298254.0</td>\n",
       "    </tr>\n",
       "    <tr>\n",
       "      <th>18270</th>\n",
       "      <td>2021-07-31</td>\n",
       "      <td>West Bengal</td>\n",
       "      <td>1527250</td>\n",
       "      <td>1497951</td>\n",
       "      <td>18128</td>\n",
       "      <td>0</td>\n",
       "      <td>15730474.0</td>\n",
       "    </tr>\n",
       "  </tbody>\n",
       "</table>\n",
       "</div>"
      ],
      "text/plain": [
       "             Date          State  Confirmed  Recovered  Deceased  Other  \\\n",
       "18266  2021-07-31        Tripura      78358      74059       752     63   \n",
       "18267  2021-07-31          India   31616594   30775162    423932  12513   \n",
       "18268  2021-07-31  Uttar Pradesh    1708410    1684925     22756      0   \n",
       "18269  2021-07-31    Uttarakhand     342023     327979      7362   6037   \n",
       "18270  2021-07-31    West Bengal    1527250    1497951     18128      0   \n",
       "\n",
       "            Tested  \n",
       "18266    1559001.0  \n",
       "18267  466427038.0  \n",
       "18268   65502631.0  \n",
       "18269    6298254.0  \n",
       "18270   15730474.0  "
      ]
     },
     "execution_count": 4,
     "metadata": {},
     "output_type": "execute_result"
=======
     "ename": "NameError",
     "evalue": "name 'df' is not defined",
     "output_type": "error",
     "traceback": [
      "\u001b[0;31m---------------------------------------------------------------------------\u001b[0m",
      "\u001b[0;31mNameError\u001b[0m                                 Traceback (most recent call last)",
      "\u001b[0;32m<ipython-input-1-1c4e186d375b>\u001b[0m in \u001b[0;36m<module>\u001b[0;34m\u001b[0m\n\u001b[0;32m----> 1\u001b[0;31m \u001b[0mdf\u001b[0m\u001b[0;34m.\u001b[0m\u001b[0mtail\u001b[0m\u001b[0;34m(\u001b[0m\u001b[0;34m)\u001b[0m \u001b[0;31m#comment\u001b[0m\u001b[0;34m\u001b[0m\u001b[0;34m\u001b[0m\u001b[0m\n\u001b[0m",
      "\u001b[0;31mNameError\u001b[0m: name 'df' is not defined"
     ]
>>>>>>> b16863ab3c0a4737f053e604f6f89d5ee197d7c1
    }
   ],
   "source": [
    "df.tail() #comment"
   ]
  },
  {
   "cell_type": "code",
<<<<<<< HEAD
   "execution_count": 5,
=======
   "execution_count": 6,
>>>>>>> b16863ab3c0a4737f053e604f6f89d5ee197d7c1
   "metadata": {},
   "outputs": [
    {
     "data": {
      "text/plain": [
       "array(['Kerala', 'India', 'Delhi', 'Telangana', 'Rajasthan', 'Haryana',\n",
       "       'Uttar Pradesh', 'Ladakh', 'Tamil Nadu', 'Jammu and Kashmir',\n",
       "       'Karnataka', 'Maharashtra', 'Punjab', 'Andhra Pradesh',\n",
       "       'Himachal Pradesh', 'Uttarakhand', 'Odisha', 'Puducherry',\n",
       "       'West Bengal', 'Chandigarh', 'Chhattisgarh', 'Gujarat',\n",
       "       'Madhya Pradesh', 'Bihar', 'Manipur', 'Goa', 'Mizoram',\n",
       "       'Andaman and Nicobar Islands', 'Assam', 'Jharkhand',\n",
       "       'Arunachal Pradesh', 'Nagaland', 'Tripura',\n",
       "       'Dadra and Nagar Haveli and Daman and Diu', 'Meghalaya', 'Sikkim',\n",
       "       'State Unassigned', 'Lakshadweep'], dtype=object)"
      ]
     },
     "execution_count": 6,
     "metadata": {},
     "output_type": "execute_result"
    }
   ],
   "source": [
    "statelist=df['State'].unique()\n",
    "statelist\n"
   ]
  },
  {
   "cell_type": "markdown",
   "metadata": {},
   "source": [
    "### The above data set is in a cumulative form we have convert it to the usual form"
   ]
  },
  {
   "cell_type": "markdown",
   "metadata": {},
   "source": [
    "#### The codes that follows are part of me developing a strategy to see how to change the data from cumulative to usual form"
   ]
  },
  {
   "cell_type": "code",
<<<<<<< HEAD
   "execution_count": 6,
=======
   "execution_count": 8,
>>>>>>> b16863ab3c0a4737f053e604f6f89d5ee197d7c1
   "metadata": {},
   "outputs": [],
   "source": [
    "newdf=pd.DataFrame()#Empty dataframe"
   ]
  },
  {
   "cell_type": "code",
<<<<<<< HEAD
   "execution_count": 7,
=======
   "execution_count": 9,
>>>>>>> b16863ab3c0a4737f053e604f6f89d5ee197d7c1
   "metadata": {},
   "outputs": [],
   "source": [
    "test=df.groupby('State').get_group('India')"
   ]
  },
  {
   "cell_type": "code",
<<<<<<< HEAD
   "execution_count": 8,
=======
   "execution_count": 10,
>>>>>>> b16863ab3c0a4737f053e604f6f89d5ee197d7c1
   "metadata": {},
   "outputs": [
    {
     "data": {
      "text/html": [
       "<div>\n",
       "<style scoped>\n",
       "    .dataframe tbody tr th:only-of-type {\n",
       "        vertical-align: middle;\n",
       "    }\n",
       "\n",
       "    .dataframe tbody tr th {\n",
       "        vertical-align: top;\n",
       "    }\n",
       "\n",
       "    .dataframe thead th {\n",
       "        text-align: right;\n",
       "    }\n",
       "</style>\n",
       "<table border=\"1\" class=\"dataframe\">\n",
       "  <thead>\n",
       "    <tr style=\"text-align: right;\">\n",
       "      <th></th>\n",
       "      <th>Date</th>\n",
       "      <th>State</th>\n",
       "      <th>Confirmed</th>\n",
       "      <th>Recovered</th>\n",
       "      <th>Deceased</th>\n",
       "      <th>Other</th>\n",
       "      <th>Tested</th>\n",
       "    </tr>\n",
       "  </thead>\n",
       "  <tbody>\n",
       "    <tr>\n",
       "      <th>18119</th>\n",
       "      <td>2021-07-27</td>\n",
       "      <td>India</td>\n",
       "      <td>31483463</td>\n",
       "      <td>30655597</td>\n",
       "      <td>422055</td>\n",
       "      <td>12469</td>\n",
       "      <td>460900978.0</td>\n",
       "    </tr>\n",
       "    <tr>\n",
       "      <th>18156</th>\n",
       "      <td>2021-07-28</td>\n",
       "      <td>India</td>\n",
       "      <td>31526628</td>\n",
       "      <td>30694134</td>\n",
       "      <td>422695</td>\n",
       "      <td>12477</td>\n",
       "      <td>462629773.0</td>\n",
       "    </tr>\n",
       "    <tr>\n",
       "      <th>18193</th>\n",
       "      <td>2021-07-29</td>\n",
       "      <td>India</td>\n",
       "      <td>31571299</td>\n",
       "      <td>30736249</td>\n",
       "      <td>423244</td>\n",
       "      <td>12495</td>\n",
       "      <td>464650723.0</td>\n",
       "    </tr>\n",
       "    <tr>\n",
       "      <th>18230</th>\n",
       "      <td>2021-07-30</td>\n",
       "      <td>India</td>\n",
       "      <td>31612798</td>\n",
       "      <td>30773569</td>\n",
       "      <td>423842</td>\n",
       "      <td>12513</td>\n",
       "      <td>466427038.0</td>\n",
       "    </tr>\n",
       "    <tr>\n",
       "      <th>18267</th>\n",
       "      <td>2021-07-31</td>\n",
       "      <td>India</td>\n",
       "      <td>31616594</td>\n",
       "      <td>30775162</td>\n",
       "      <td>423932</td>\n",
       "      <td>12513</td>\n",
       "      <td>466427038.0</td>\n",
       "    </tr>\n",
       "  </tbody>\n",
       "</table>\n",
       "</div>"
      ],
      "text/plain": [
       "             Date  State  Confirmed  Recovered  Deceased  Other       Tested\n",
       "18119  2021-07-27  India   31483463   30655597    422055  12469  460900978.0\n",
       "18156  2021-07-28  India   31526628   30694134    422695  12477  462629773.0\n",
       "18193  2021-07-29  India   31571299   30736249    423244  12495  464650723.0\n",
       "18230  2021-07-30  India   31612798   30773569    423842  12513  466427038.0\n",
       "18267  2021-07-31  India   31616594   30775162    423932  12513  466427038.0"
      ]
     },
<<<<<<< HEAD
     "execution_count": 8,
=======
     "execution_count": 10,
>>>>>>> b16863ab3c0a4737f053e604f6f89d5ee197d7c1
     "metadata": {},
     "output_type": "execute_result"
    }
   ],
   "source": [
    "test.tail()"
   ]
  },
  {
   "cell_type": "code",
<<<<<<< HEAD
   "execution_count": 9,
=======
   "execution_count": 11,
>>>>>>> b16863ab3c0a4737f053e604f6f89d5ee197d7c1
   "metadata": {},
   "outputs": [
    {
     "data": {
      "text/html": [
       "<div>\n",
       "<style scoped>\n",
       "    .dataframe tbody tr th:only-of-type {\n",
       "        vertical-align: middle;\n",
       "    }\n",
       "\n",
       "    .dataframe tbody tr th {\n",
       "        vertical-align: top;\n",
       "    }\n",
       "\n",
       "    .dataframe thead th {\n",
       "        text-align: right;\n",
       "    }\n",
       "</style>\n",
       "<table border=\"1\" class=\"dataframe\">\n",
       "  <thead>\n",
       "    <tr style=\"text-align: right;\">\n",
       "      <th></th>\n",
       "      <th>State</th>\n",
       "      <th>Confirmed</th>\n",
       "      <th>Recovered</th>\n",
       "      <th>Deceased</th>\n",
       "      <th>Other</th>\n",
       "      <th>Tested</th>\n",
       "    </tr>\n",
       "    <tr>\n",
       "      <th>Date</th>\n",
       "      <th></th>\n",
       "      <th></th>\n",
       "      <th></th>\n",
       "      <th></th>\n",
       "      <th></th>\n",
       "      <th></th>\n",
       "    </tr>\n",
       "  </thead>\n",
       "  <tbody>\n",
       "    <tr>\n",
       "      <th>2020-01-30</th>\n",
       "      <td>India</td>\n",
       "      <td>1</td>\n",
       "      <td>0</td>\n",
       "      <td>0</td>\n",
       "      <td>0</td>\n",
       "      <td>NaN</td>\n",
       "    </tr>\n",
       "    <tr>\n",
       "      <th>2020-02-02</th>\n",
       "      <td>India</td>\n",
       "      <td>2</td>\n",
       "      <td>0</td>\n",
       "      <td>0</td>\n",
       "      <td>0</td>\n",
       "      <td>NaN</td>\n",
       "    </tr>\n",
       "  </tbody>\n",
       "</table>\n",
       "</div>"
      ],
      "text/plain": [
       "            State  Confirmed  Recovered  Deceased  Other  Tested\n",
       "Date                                                            \n",
       "2020-01-30  India          1          0         0      0     NaN\n",
       "2020-02-02  India          2          0         0      0     NaN"
      ]
     },
<<<<<<< HEAD
     "execution_count": 9,
=======
     "execution_count": 11,
>>>>>>> b16863ab3c0a4737f053e604f6f89d5ee197d7c1
     "metadata": {},
     "output_type": "execute_result"
    }
   ],
   "source": [
    "test=test.set_index(['Date'])\n",
    "test.head(2)"
   ]
  },
  {
   "cell_type": "code",
<<<<<<< HEAD
   "execution_count": 10,
=======
   "execution_count": 12,
>>>>>>> b16863ab3c0a4737f053e604f6f89d5ee197d7c1
   "metadata": {},
   "outputs": [
    {
     "data": {
      "text/html": [
       "<div>\n",
       "<style scoped>\n",
       "    .dataframe tbody tr th:only-of-type {\n",
       "        vertical-align: middle;\n",
       "    }\n",
       "\n",
       "    .dataframe tbody tr th {\n",
       "        vertical-align: top;\n",
       "    }\n",
       "\n",
       "    .dataframe thead th {\n",
       "        text-align: right;\n",
       "    }\n",
       "</style>\n",
       "<table border=\"1\" class=\"dataframe\">\n",
       "  <thead>\n",
       "    <tr style=\"text-align: right;\">\n",
       "      <th></th>\n",
       "      <th>Confirmed</th>\n",
       "      <th>Recovered</th>\n",
       "      <th>Deceased</th>\n",
       "      <th>Other</th>\n",
       "      <th>Tested</th>\n",
       "    </tr>\n",
       "    <tr>\n",
       "      <th>Date</th>\n",
       "      <th></th>\n",
       "      <th></th>\n",
       "      <th></th>\n",
       "      <th></th>\n",
       "      <th></th>\n",
       "    </tr>\n",
       "  </thead>\n",
       "  <tbody>\n",
       "    <tr>\n",
       "      <th>2021-07-27</th>\n",
       "      <td>31483463</td>\n",
       "      <td>30655597</td>\n",
       "      <td>422055</td>\n",
       "      <td>12469</td>\n",
       "      <td>460900978.0</td>\n",
       "    </tr>\n",
       "    <tr>\n",
       "      <th>2021-07-28</th>\n",
       "      <td>31526628</td>\n",
       "      <td>30694134</td>\n",
       "      <td>422695</td>\n",
       "      <td>12477</td>\n",
       "      <td>462629773.0</td>\n",
       "    </tr>\n",
       "    <tr>\n",
       "      <th>2021-07-29</th>\n",
       "      <td>31571299</td>\n",
       "      <td>30736249</td>\n",
       "      <td>423244</td>\n",
       "      <td>12495</td>\n",
       "      <td>464650723.0</td>\n",
       "    </tr>\n",
       "    <tr>\n",
       "      <th>2021-07-30</th>\n",
       "      <td>31612798</td>\n",
       "      <td>30773569</td>\n",
       "      <td>423842</td>\n",
       "      <td>12513</td>\n",
       "      <td>466427038.0</td>\n",
       "    </tr>\n",
       "    <tr>\n",
       "      <th>2021-07-31</th>\n",
       "      <td>31616594</td>\n",
       "      <td>30775162</td>\n",
       "      <td>423932</td>\n",
       "      <td>12513</td>\n",
       "      <td>466427038.0</td>\n",
       "    </tr>\n",
       "  </tbody>\n",
       "</table>\n",
       "</div>"
      ],
      "text/plain": [
       "            Confirmed  Recovered  Deceased  Other       Tested\n",
       "Date                                                          \n",
       "2021-07-27   31483463   30655597    422055  12469  460900978.0\n",
       "2021-07-28   31526628   30694134    422695  12477  462629773.0\n",
       "2021-07-29   31571299   30736249    423244  12495  464650723.0\n",
       "2021-07-30   31612798   30773569    423842  12513  466427038.0\n",
       "2021-07-31   31616594   30775162    423932  12513  466427038.0"
      ]
     },
<<<<<<< HEAD
     "execution_count": 10,
=======
     "execution_count": 12,
>>>>>>> b16863ab3c0a4737f053e604f6f89d5ee197d7c1
     "metadata": {},
     "output_type": "execute_result"
    }
   ],
   "source": [
    "test.drop('State',axis=1,inplace=True)\n",
    "test.tail()"
   ]
  },
  {
   "cell_type": "code",
<<<<<<< HEAD
   "execution_count": 11,
=======
   "execution_count": 13,
>>>>>>> b16863ab3c0a4737f053e604f6f89d5ee197d7c1
   "metadata": {},
   "outputs": [
    {
     "data": {
      "text/html": [
       "<div>\n",
       "<style scoped>\n",
       "    .dataframe tbody tr th:only-of-type {\n",
       "        vertical-align: middle;\n",
       "    }\n",
       "\n",
       "    .dataframe tbody tr th {\n",
       "        vertical-align: top;\n",
       "    }\n",
       "\n",
       "    .dataframe thead th {\n",
       "        text-align: right;\n",
       "    }\n",
       "</style>\n",
       "<table border=\"1\" class=\"dataframe\">\n",
       "  <thead>\n",
       "    <tr style=\"text-align: right;\">\n",
       "      <th></th>\n",
       "      <th>Confirmed</th>\n",
       "      <th>Recovered</th>\n",
       "      <th>Deceased</th>\n",
       "      <th>Other</th>\n",
       "      <th>Tested</th>\n",
       "    </tr>\n",
       "    <tr>\n",
       "      <th>Date</th>\n",
       "      <th></th>\n",
       "      <th></th>\n",
       "      <th></th>\n",
       "      <th></th>\n",
       "      <th></th>\n",
       "    </tr>\n",
       "  </thead>\n",
       "  <tbody>\n",
       "    <tr>\n",
       "      <th>2021-07-27</th>\n",
       "      <td>42971.0</td>\n",
       "      <td>41653.0</td>\n",
       "      <td>641.0</td>\n",
       "      <td>29.0</td>\n",
       "      <td>1736857.0</td>\n",
       "    </tr>\n",
       "    <tr>\n",
       "      <th>2021-07-28</th>\n",
       "      <td>43165.0</td>\n",
       "      <td>38537.0</td>\n",
       "      <td>640.0</td>\n",
       "      <td>8.0</td>\n",
       "      <td>1728795.0</td>\n",
       "    </tr>\n",
       "    <tr>\n",
       "      <th>2021-07-29</th>\n",
       "      <td>44671.0</td>\n",
       "      <td>42115.0</td>\n",
       "      <td>549.0</td>\n",
       "      <td>18.0</td>\n",
       "      <td>2020950.0</td>\n",
       "    </tr>\n",
       "    <tr>\n",
       "      <th>2021-07-30</th>\n",
       "      <td>41499.0</td>\n",
       "      <td>37320.0</td>\n",
       "      <td>598.0</td>\n",
       "      <td>18.0</td>\n",
       "      <td>1776315.0</td>\n",
       "    </tr>\n",
       "    <tr>\n",
       "      <th>2021-07-31</th>\n",
       "      <td>3796.0</td>\n",
       "      <td>1593.0</td>\n",
       "      <td>90.0</td>\n",
       "      <td>0.0</td>\n",
       "      <td>0.0</td>\n",
       "    </tr>\n",
       "  </tbody>\n",
       "</table>\n",
       "</div>"
      ],
      "text/plain": [
       "            Confirmed  Recovered  Deceased  Other     Tested\n",
       "Date                                                        \n",
       "2021-07-27    42971.0    41653.0     641.0   29.0  1736857.0\n",
       "2021-07-28    43165.0    38537.0     640.0    8.0  1728795.0\n",
       "2021-07-29    44671.0    42115.0     549.0   18.0  2020950.0\n",
       "2021-07-30    41499.0    37320.0     598.0   18.0  1776315.0\n",
       "2021-07-31     3796.0     1593.0      90.0    0.0        0.0"
      ]
     },
<<<<<<< HEAD
     "execution_count": 11,
=======
     "execution_count": 13,
>>>>>>> b16863ab3c0a4737f053e604f6f89d5ee197d7c1
     "metadata": {},
     "output_type": "execute_result"
    }
   ],
   "source": [
    "test=test.diff(axis=0,periods=1)\n",
    "test.tail()"
   ]
  },
  {
   "cell_type": "code",
<<<<<<< HEAD
   "execution_count": 12,
=======
   "execution_count": 14,
>>>>>>> b16863ab3c0a4737f053e604f6f89d5ee197d7c1
   "metadata": {},
   "outputs": [
    {
     "data": {
      "text/html": [
       "<div>\n",
       "<style scoped>\n",
       "    .dataframe tbody tr th:only-of-type {\n",
       "        vertical-align: middle;\n",
       "    }\n",
       "\n",
       "    .dataframe tbody tr th {\n",
       "        vertical-align: top;\n",
       "    }\n",
       "\n",
       "    .dataframe thead th {\n",
       "        text-align: right;\n",
       "    }\n",
       "</style>\n",
       "<table border=\"1\" class=\"dataframe\">\n",
       "  <thead>\n",
       "    <tr style=\"text-align: right;\">\n",
       "      <th></th>\n",
       "      <th>Confirmed</th>\n",
       "      <th>Recovered</th>\n",
       "      <th>Deceased</th>\n",
       "      <th>Other</th>\n",
       "      <th>Tested</th>\n",
       "      <th>State</th>\n",
       "    </tr>\n",
       "    <tr>\n",
       "      <th>Date</th>\n",
       "      <th></th>\n",
       "      <th></th>\n",
       "      <th></th>\n",
       "      <th></th>\n",
       "      <th></th>\n",
       "      <th></th>\n",
       "    </tr>\n",
       "  </thead>\n",
       "  <tbody>\n",
       "    <tr>\n",
       "      <th>2021-07-27</th>\n",
       "      <td>42971.0</td>\n",
       "      <td>41653.0</td>\n",
       "      <td>641.0</td>\n",
       "      <td>29.0</td>\n",
       "      <td>1736857.0</td>\n",
       "      <td>India</td>\n",
       "    </tr>\n",
       "    <tr>\n",
       "      <th>2021-07-28</th>\n",
       "      <td>43165.0</td>\n",
       "      <td>38537.0</td>\n",
       "      <td>640.0</td>\n",
       "      <td>8.0</td>\n",
       "      <td>1728795.0</td>\n",
       "      <td>India</td>\n",
       "    </tr>\n",
       "    <tr>\n",
       "      <th>2021-07-29</th>\n",
       "      <td>44671.0</td>\n",
       "      <td>42115.0</td>\n",
       "      <td>549.0</td>\n",
       "      <td>18.0</td>\n",
       "      <td>2020950.0</td>\n",
       "      <td>India</td>\n",
       "    </tr>\n",
       "    <tr>\n",
       "      <th>2021-07-30</th>\n",
       "      <td>41499.0</td>\n",
       "      <td>37320.0</td>\n",
       "      <td>598.0</td>\n",
       "      <td>18.0</td>\n",
       "      <td>1776315.0</td>\n",
       "      <td>India</td>\n",
       "    </tr>\n",
       "    <tr>\n",
       "      <th>2021-07-31</th>\n",
       "      <td>3796.0</td>\n",
       "      <td>1593.0</td>\n",
       "      <td>90.0</td>\n",
       "      <td>0.0</td>\n",
       "      <td>0.0</td>\n",
       "      <td>India</td>\n",
       "    </tr>\n",
       "  </tbody>\n",
       "</table>\n",
       "</div>"
      ],
      "text/plain": [
       "            Confirmed  Recovered  Deceased  Other     Tested  State\n",
       "Date                                                               \n",
       "2021-07-27    42971.0    41653.0     641.0   29.0  1736857.0  India\n",
       "2021-07-28    43165.0    38537.0     640.0    8.0  1728795.0  India\n",
       "2021-07-29    44671.0    42115.0     549.0   18.0  2020950.0  India\n",
       "2021-07-30    41499.0    37320.0     598.0   18.0  1776315.0  India\n",
       "2021-07-31     3796.0     1593.0      90.0    0.0        0.0  India"
      ]
     },
<<<<<<< HEAD
     "execution_count": 12,
=======
     "execution_count": 14,
>>>>>>> b16863ab3c0a4737f053e604f6f89d5ee197d7c1
     "metadata": {},
     "output_type": "execute_result"
    }
   ],
   "source": [
    "test['State']='India'\n",
    "test.tail()"
   ]
  },
  {
   "cell_type": "code",
<<<<<<< HEAD
   "execution_count": 13,
=======
   "execution_count": 15,
>>>>>>> b16863ab3c0a4737f053e604f6f89d5ee197d7c1
   "metadata": {},
   "outputs": [
    {
     "data": {
      "text/html": [
       "<div>\n",
       "<style scoped>\n",
       "    .dataframe tbody tr th:only-of-type {\n",
       "        vertical-align: middle;\n",
       "    }\n",
       "\n",
       "    .dataframe tbody tr th {\n",
       "        vertical-align: top;\n",
       "    }\n",
       "\n",
       "    .dataframe thead th {\n",
       "        text-align: right;\n",
       "    }\n",
       "</style>\n",
       "<table border=\"1\" class=\"dataframe\">\n",
       "  <thead>\n",
       "    <tr style=\"text-align: right;\">\n",
       "      <th></th>\n",
       "      <th>Date</th>\n",
       "      <th>Confirmed</th>\n",
       "      <th>Recovered</th>\n",
       "      <th>Deceased</th>\n",
       "      <th>Other</th>\n",
       "      <th>Tested</th>\n",
       "      <th>State</th>\n",
       "    </tr>\n",
       "  </thead>\n",
       "  <tbody>\n",
       "    <tr>\n",
       "      <th>0</th>\n",
       "      <td>2020-01-30</td>\n",
       "      <td>NaN</td>\n",
       "      <td>NaN</td>\n",
       "      <td>NaN</td>\n",
       "      <td>NaN</td>\n",
       "      <td>NaN</td>\n",
       "      <td>India</td>\n",
       "    </tr>\n",
       "    <tr>\n",
       "      <th>1</th>\n",
       "      <td>2020-02-02</td>\n",
       "      <td>1.0</td>\n",
       "      <td>0.0</td>\n",
       "      <td>0.0</td>\n",
       "      <td>0.0</td>\n",
       "      <td>NaN</td>\n",
       "      <td>India</td>\n",
       "    </tr>\n",
       "    <tr>\n",
       "      <th>2</th>\n",
       "      <td>2020-02-03</td>\n",
       "      <td>1.0</td>\n",
       "      <td>0.0</td>\n",
       "      <td>0.0</td>\n",
       "      <td>0.0</td>\n",
       "      <td>NaN</td>\n",
       "      <td>India</td>\n",
       "    </tr>\n",
       "    <tr>\n",
       "      <th>3</th>\n",
       "      <td>2020-02-14</td>\n",
       "      <td>0.0</td>\n",
       "      <td>3.0</td>\n",
       "      <td>0.0</td>\n",
       "      <td>0.0</td>\n",
       "      <td>NaN</td>\n",
       "      <td>India</td>\n",
       "    </tr>\n",
       "    <tr>\n",
       "      <th>4</th>\n",
       "      <td>2020-03-02</td>\n",
       "      <td>2.0</td>\n",
       "      <td>0.0</td>\n",
       "      <td>0.0</td>\n",
       "      <td>0.0</td>\n",
       "      <td>NaN</td>\n",
       "      <td>India</td>\n",
       "    </tr>\n",
       "    <tr>\n",
       "      <th>...</th>\n",
       "      <td>...</td>\n",
       "      <td>...</td>\n",
       "      <td>...</td>\n",
       "      <td>...</td>\n",
       "      <td>...</td>\n",
       "      <td>...</td>\n",
       "      <td>...</td>\n",
       "    </tr>\n",
       "    <tr>\n",
       "      <th>516</th>\n",
       "      <td>2021-07-27</td>\n",
       "      <td>42971.0</td>\n",
       "      <td>41653.0</td>\n",
       "      <td>641.0</td>\n",
       "      <td>29.0</td>\n",
       "      <td>1736857.0</td>\n",
       "      <td>India</td>\n",
       "    </tr>\n",
       "    <tr>\n",
       "      <th>517</th>\n",
       "      <td>2021-07-28</td>\n",
       "      <td>43165.0</td>\n",
       "      <td>38537.0</td>\n",
       "      <td>640.0</td>\n",
       "      <td>8.0</td>\n",
       "      <td>1728795.0</td>\n",
       "      <td>India</td>\n",
       "    </tr>\n",
       "    <tr>\n",
       "      <th>518</th>\n",
       "      <td>2021-07-29</td>\n",
       "      <td>44671.0</td>\n",
       "      <td>42115.0</td>\n",
       "      <td>549.0</td>\n",
       "      <td>18.0</td>\n",
       "      <td>2020950.0</td>\n",
       "      <td>India</td>\n",
       "    </tr>\n",
       "    <tr>\n",
       "      <th>519</th>\n",
       "      <td>2021-07-30</td>\n",
       "      <td>41499.0</td>\n",
       "      <td>37320.0</td>\n",
       "      <td>598.0</td>\n",
       "      <td>18.0</td>\n",
       "      <td>1776315.0</td>\n",
       "      <td>India</td>\n",
       "    </tr>\n",
       "    <tr>\n",
       "      <th>520</th>\n",
       "      <td>2021-07-31</td>\n",
       "      <td>3796.0</td>\n",
       "      <td>1593.0</td>\n",
       "      <td>90.0</td>\n",
       "      <td>0.0</td>\n",
       "      <td>0.0</td>\n",
       "      <td>India</td>\n",
       "    </tr>\n",
       "  </tbody>\n",
       "</table>\n",
       "<p>521 rows × 7 columns</p>\n",
       "</div>"
      ],
      "text/plain": [
       "           Date  Confirmed  Recovered  Deceased  Other     Tested  State\n",
       "0    2020-01-30        NaN        NaN       NaN    NaN        NaN  India\n",
       "1    2020-02-02        1.0        0.0       0.0    0.0        NaN  India\n",
       "2    2020-02-03        1.0        0.0       0.0    0.0        NaN  India\n",
       "3    2020-02-14        0.0        3.0       0.0    0.0        NaN  India\n",
       "4    2020-03-02        2.0        0.0       0.0    0.0        NaN  India\n",
       "..          ...        ...        ...       ...    ...        ...    ...\n",
       "516  2021-07-27    42971.0    41653.0     641.0   29.0  1736857.0  India\n",
       "517  2021-07-28    43165.0    38537.0     640.0    8.0  1728795.0  India\n",
       "518  2021-07-29    44671.0    42115.0     549.0   18.0  2020950.0  India\n",
       "519  2021-07-30    41499.0    37320.0     598.0   18.0  1776315.0  India\n",
       "520  2021-07-31     3796.0     1593.0      90.0    0.0        0.0  India\n",
       "\n",
       "[521 rows x 7 columns]"
      ]
     },
<<<<<<< HEAD
     "execution_count": 13,
=======
     "execution_count": 15,
>>>>>>> b16863ab3c0a4737f053e604f6f89d5ee197d7c1
     "metadata": {},
     "output_type": "execute_result"
    }
   ],
   "source": [
    "test.reset_index()"
   ]
  },
  {
   "cell_type": "code",
<<<<<<< HEAD
   "execution_count": 14,
=======
   "execution_count": 16,
>>>>>>> b16863ab3c0a4737f053e604f6f89d5ee197d7c1
   "metadata": {},
   "outputs": [
    {
     "data": {
      "text/html": [
       "<div>\n",
       "<style scoped>\n",
       "    .dataframe tbody tr th:only-of-type {\n",
       "        vertical-align: middle;\n",
       "    }\n",
       "\n",
       "    .dataframe tbody tr th {\n",
       "        vertical-align: top;\n",
       "    }\n",
       "\n",
       "    .dataframe thead th {\n",
       "        text-align: right;\n",
       "    }\n",
       "</style>\n",
       "<table border=\"1\" class=\"dataframe\">\n",
       "  <thead>\n",
       "    <tr style=\"text-align: right;\">\n",
       "      <th></th>\n",
       "      <th>Confirmed</th>\n",
       "      <th>Recovered</th>\n",
       "      <th>Deceased</th>\n",
       "      <th>Other</th>\n",
       "      <th>Tested</th>\n",
       "      <th>State</th>\n",
       "    </tr>\n",
       "  </thead>\n",
       "  <tbody>\n",
       "    <tr>\n",
       "      <th>0</th>\n",
       "      <td>NaN</td>\n",
       "      <td>NaN</td>\n",
       "      <td>NaN</td>\n",
       "      <td>NaN</td>\n",
       "      <td>NaN</td>\n",
       "      <td>India</td>\n",
       "    </tr>\n",
       "    <tr>\n",
       "      <th>1</th>\n",
       "      <td>1.0</td>\n",
       "      <td>0.0</td>\n",
       "      <td>0.0</td>\n",
       "      <td>0.0</td>\n",
       "      <td>NaN</td>\n",
       "      <td>India</td>\n",
       "    </tr>\n",
       "    <tr>\n",
       "      <th>2</th>\n",
       "      <td>1.0</td>\n",
       "      <td>0.0</td>\n",
       "      <td>0.0</td>\n",
       "      <td>0.0</td>\n",
       "      <td>NaN</td>\n",
       "      <td>India</td>\n",
       "    </tr>\n",
       "    <tr>\n",
       "      <th>3</th>\n",
       "      <td>0.0</td>\n",
       "      <td>3.0</td>\n",
       "      <td>0.0</td>\n",
       "      <td>0.0</td>\n",
       "      <td>NaN</td>\n",
       "      <td>India</td>\n",
       "    </tr>\n",
       "    <tr>\n",
       "      <th>4</th>\n",
       "      <td>2.0</td>\n",
       "      <td>0.0</td>\n",
       "      <td>0.0</td>\n",
       "      <td>0.0</td>\n",
       "      <td>NaN</td>\n",
       "      <td>India</td>\n",
       "    </tr>\n",
       "    <tr>\n",
       "      <th>...</th>\n",
       "      <td>...</td>\n",
       "      <td>...</td>\n",
       "      <td>...</td>\n",
       "      <td>...</td>\n",
       "      <td>...</td>\n",
       "      <td>...</td>\n",
       "    </tr>\n",
       "    <tr>\n",
       "      <th>516</th>\n",
       "      <td>42971.0</td>\n",
       "      <td>41653.0</td>\n",
       "      <td>641.0</td>\n",
       "      <td>29.0</td>\n",
       "      <td>1736857.0</td>\n",
       "      <td>India</td>\n",
       "    </tr>\n",
       "    <tr>\n",
       "      <th>517</th>\n",
       "      <td>43165.0</td>\n",
       "      <td>38537.0</td>\n",
       "      <td>640.0</td>\n",
       "      <td>8.0</td>\n",
       "      <td>1728795.0</td>\n",
       "      <td>India</td>\n",
       "    </tr>\n",
       "    <tr>\n",
       "      <th>518</th>\n",
       "      <td>44671.0</td>\n",
       "      <td>42115.0</td>\n",
       "      <td>549.0</td>\n",
       "      <td>18.0</td>\n",
       "      <td>2020950.0</td>\n",
       "      <td>India</td>\n",
       "    </tr>\n",
       "    <tr>\n",
       "      <th>519</th>\n",
       "      <td>41499.0</td>\n",
       "      <td>37320.0</td>\n",
       "      <td>598.0</td>\n",
       "      <td>18.0</td>\n",
       "      <td>1776315.0</td>\n",
       "      <td>India</td>\n",
       "    </tr>\n",
       "    <tr>\n",
       "      <th>520</th>\n",
       "      <td>3796.0</td>\n",
       "      <td>1593.0</td>\n",
       "      <td>90.0</td>\n",
       "      <td>0.0</td>\n",
       "      <td>0.0</td>\n",
       "      <td>India</td>\n",
       "    </tr>\n",
       "  </tbody>\n",
       "</table>\n",
       "<p>521 rows × 6 columns</p>\n",
       "</div>"
      ],
      "text/plain": [
       "     Confirmed  Recovered  Deceased  Other     Tested  State\n",
       "0          NaN        NaN       NaN    NaN        NaN  India\n",
       "1          1.0        0.0       0.0    0.0        NaN  India\n",
       "2          1.0        0.0       0.0    0.0        NaN  India\n",
       "3          0.0        3.0       0.0    0.0        NaN  India\n",
       "4          2.0        0.0       0.0    0.0        NaN  India\n",
       "..         ...        ...       ...    ...        ...    ...\n",
       "516    42971.0    41653.0     641.0   29.0  1736857.0  India\n",
       "517    43165.0    38537.0     640.0    8.0  1728795.0  India\n",
       "518    44671.0    42115.0     549.0   18.0  2020950.0  India\n",
       "519    41499.0    37320.0     598.0   18.0  1776315.0  India\n",
       "520     3796.0     1593.0      90.0    0.0        0.0  India\n",
       "\n",
       "[521 rows x 6 columns]"
      ]
     },
<<<<<<< HEAD
     "execution_count": 14,
=======
     "execution_count": 16,
>>>>>>> b16863ab3c0a4737f053e604f6f89d5ee197d7c1
     "metadata": {},
     "output_type": "execute_result"
    }
   ],
   "source": [
    "newdf.append(test, ignore_index = True)"
   ]
  },
  {
   "cell_type": "code",
<<<<<<< HEAD
   "execution_count": 15,
=======
   "execution_count": 17,
>>>>>>> b16863ab3c0a4737f053e604f6f89d5ee197d7c1
   "metadata": {},
   "outputs": [],
   "source": [
    "c=df.columns"
   ]
  },
  {
   "cell_type": "code",
<<<<<<< HEAD
   "execution_count": 16,
=======
   "execution_count": 18,
>>>>>>> b16863ab3c0a4737f053e604f6f89d5ee197d7c1
   "metadata": {},
   "outputs": [],
   "source": [
    "ndf = pd.DataFrame(columns=c)"
   ]
  },
  {
   "cell_type": "code",
<<<<<<< HEAD
   "execution_count": 17,
=======
   "execution_count": 19,
>>>>>>> b16863ab3c0a4737f053e604f6f89d5ee197d7c1
   "metadata": {},
   "outputs": [],
   "source": [
    "ndf=pd.DataFrame()"
   ]
  },
  {
   "cell_type": "markdown",
   "metadata": {},
   "source": [
    "#### from the above operations I have developed a strategy to convert the data from cumulative to usual form; The following for loop is used to do the above performed operations in one breath"
   ]
  },
  {
   "cell_type": "code",
<<<<<<< HEAD
   "execution_count": 18,
=======
   "execution_count": 20,
>>>>>>> b16863ab3c0a4737f053e604f6f89d5ee197d7c1
   "metadata": {},
   "outputs": [],
   "source": [
    "for state in statelist:\n",
    "    dftest=df.groupby('State').get_group(state)\n",
    "    \n",
    "    dftest=dftest.set_index(['Date'])\n",
    "    \n",
    "    dftest.drop('State',axis=1,inplace=True)\n",
    "    \n",
    "    dftest=dftest.diff(axis=0,periods=1)\n",
    "    \n",
    "    dftest['State']=state\n",
    "    \n",
    "    \n",
    "    \n",
    "    dftest.reset_index(inplace=True)\n",
    "    \n",
    "   # display(dftest.tail())\n",
    "    \n",
    "    #ndf.append(dftest,ignore_index = True)\n",
    "    ndf=pd.concat([ndf,dftest])\n",
    "    \n",
    "    "
   ]
  },
  {
   "cell_type": "code",
<<<<<<< HEAD
   "execution_count": 19,
=======
   "execution_count": 21,
>>>>>>> b16863ab3c0a4737f053e604f6f89d5ee197d7c1
   "metadata": {},
   "outputs": [
    {
     "data": {
      "text/html": [
       "<div>\n",
       "<style scoped>\n",
       "    .dataframe tbody tr th:only-of-type {\n",
       "        vertical-align: middle;\n",
       "    }\n",
       "\n",
       "    .dataframe tbody tr th {\n",
       "        vertical-align: top;\n",
       "    }\n",
       "\n",
       "    .dataframe thead th {\n",
       "        text-align: right;\n",
       "    }\n",
       "</style>\n",
       "<table border=\"1\" class=\"dataframe\">\n",
       "  <thead>\n",
       "    <tr style=\"text-align: right;\">\n",
       "      <th></th>\n",
       "      <th>Date</th>\n",
       "      <th>Confirmed</th>\n",
       "      <th>Recovered</th>\n",
       "      <th>Deceased</th>\n",
       "      <th>Other</th>\n",
       "      <th>Tested</th>\n",
       "      <th>State</th>\n",
       "    </tr>\n",
       "  </thead>\n",
       "  <tbody>\n",
       "    <tr>\n",
       "      <th>190</th>\n",
       "      <td>2021-07-27</td>\n",
       "      <td>8.0</td>\n",
       "      <td>8.0</td>\n",
       "      <td>0.0</td>\n",
       "      <td>0.0</td>\n",
       "      <td>1327.0</td>\n",
       "      <td>Lakshadweep</td>\n",
       "    </tr>\n",
       "    <tr>\n",
       "      <th>191</th>\n",
       "      <td>2021-07-28</td>\n",
       "      <td>6.0</td>\n",
       "      <td>11.0</td>\n",
       "      <td>1.0</td>\n",
       "      <td>0.0</td>\n",
       "      <td>1238.0</td>\n",
       "      <td>Lakshadweep</td>\n",
       "    </tr>\n",
       "    <tr>\n",
       "      <th>192</th>\n",
       "      <td>2021-07-29</td>\n",
       "      <td>7.0</td>\n",
       "      <td>13.0</td>\n",
       "      <td>0.0</td>\n",
       "      <td>0.0</td>\n",
       "      <td>1088.0</td>\n",
       "      <td>Lakshadweep</td>\n",
       "    </tr>\n",
       "    <tr>\n",
       "      <th>193</th>\n",
       "      <td>2021-07-30</td>\n",
       "      <td>16.0</td>\n",
       "      <td>9.0</td>\n",
       "      <td>0.0</td>\n",
       "      <td>0.0</td>\n",
       "      <td>804.0</td>\n",
       "      <td>Lakshadweep</td>\n",
       "    </tr>\n",
       "    <tr>\n",
       "      <th>194</th>\n",
       "      <td>2021-07-31</td>\n",
       "      <td>0.0</td>\n",
       "      <td>0.0</td>\n",
       "      <td>0.0</td>\n",
       "      <td>0.0</td>\n",
       "      <td>0.0</td>\n",
       "      <td>Lakshadweep</td>\n",
       "    </tr>\n",
       "  </tbody>\n",
       "</table>\n",
       "</div>"
      ],
      "text/plain": [
       "           Date  Confirmed  Recovered  Deceased  Other  Tested        State\n",
       "190  2021-07-27        8.0        8.0       0.0    0.0  1327.0  Lakshadweep\n",
       "191  2021-07-28        6.0       11.0       1.0    0.0  1238.0  Lakshadweep\n",
       "192  2021-07-29        7.0       13.0       0.0    0.0  1088.0  Lakshadweep\n",
       "193  2021-07-30       16.0        9.0       0.0    0.0   804.0  Lakshadweep\n",
       "194  2021-07-31        0.0        0.0       0.0    0.0     0.0  Lakshadweep"
      ]
     },
<<<<<<< HEAD
     "execution_count": 19,
=======
     "execution_count": 21,
>>>>>>> b16863ab3c0a4737f053e604f6f89d5ee197d7c1
     "metadata": {},
     "output_type": "execute_result"
    }
   ],
   "source": [
    "ndf.tail()"
   ]
  },
  {
   "cell_type": "code",
<<<<<<< HEAD
   "execution_count": 20,
=======
   "execution_count": 22,
>>>>>>> b16863ab3c0a4737f053e604f6f89d5ee197d7c1
   "metadata": {},
   "outputs": [
    {
     "data": {
      "text/plain": [
       "(18271, 7)"
      ]
     },
<<<<<<< HEAD
     "execution_count": 20,
=======
     "execution_count": 22,
>>>>>>> b16863ab3c0a4737f053e604f6f89d5ee197d7c1
     "metadata": {},
     "output_type": "execute_result"
    }
   ],
   "source": [
    "df.shape"
   ]
  },
  {
   "cell_type": "code",
<<<<<<< HEAD
   "execution_count": 21,
=======
   "execution_count": 23,
>>>>>>> b16863ab3c0a4737f053e604f6f89d5ee197d7c1
   "metadata": {},
   "outputs": [
    {
     "data": {
      "text/plain": [
       "(18271, 7)"
      ]
     },
<<<<<<< HEAD
     "execution_count": 21,
=======
     "execution_count": 23,
>>>>>>> b16863ab3c0a4737f053e604f6f89d5ee197d7c1
     "metadata": {},
     "output_type": "execute_result"
    }
   ],
   "source": [
    "ndf.shape"
   ]
  },
  {
   "cell_type": "code",
<<<<<<< HEAD
   "execution_count": 22,
=======
   "execution_count": 24,
>>>>>>> b16863ab3c0a4737f053e604f6f89d5ee197d7c1
   "metadata": {},
   "outputs": [],
   "source": [
    "ndf.sort_values(by=['Date'],ignore_index=True,inplace=True)"
   ]
  },
  {
   "cell_type": "code",
<<<<<<< HEAD
   "execution_count": 23,
=======
   "execution_count": 25,
>>>>>>> b16863ab3c0a4737f053e604f6f89d5ee197d7c1
   "metadata": {},
   "outputs": [
    {
     "data": {
      "text/html": [
       "<div>\n",
       "<style scoped>\n",
       "    .dataframe tbody tr th:only-of-type {\n",
       "        vertical-align: middle;\n",
       "    }\n",
       "\n",
       "    .dataframe tbody tr th {\n",
       "        vertical-align: top;\n",
       "    }\n",
       "\n",
       "    .dataframe thead th {\n",
       "        text-align: right;\n",
       "    }\n",
       "</style>\n",
       "<table border=\"1\" class=\"dataframe\">\n",
       "  <thead>\n",
       "    <tr style=\"text-align: right;\">\n",
       "      <th></th>\n",
       "      <th>Date</th>\n",
       "      <th>Confirmed</th>\n",
       "      <th>Recovered</th>\n",
       "      <th>Deceased</th>\n",
       "      <th>Other</th>\n",
       "      <th>Tested</th>\n",
       "      <th>State</th>\n",
       "    </tr>\n",
       "  </thead>\n",
       "  <tbody>\n",
       "    <tr>\n",
       "      <th>0</th>\n",
       "      <td>2020-01-30</td>\n",
       "      <td>NaN</td>\n",
       "      <td>NaN</td>\n",
       "      <td>NaN</td>\n",
       "      <td>NaN</td>\n",
       "      <td>NaN</td>\n",
       "      <td>Kerala</td>\n",
       "    </tr>\n",
       "    <tr>\n",
       "      <th>1</th>\n",
       "      <td>2020-01-30</td>\n",
       "      <td>NaN</td>\n",
       "      <td>NaN</td>\n",
       "      <td>NaN</td>\n",
       "      <td>NaN</td>\n",
       "      <td>NaN</td>\n",
       "      <td>India</td>\n",
       "    </tr>\n",
       "  </tbody>\n",
       "</table>\n",
       "</div>"
      ],
      "text/plain": [
       "         Date  Confirmed  Recovered  Deceased  Other  Tested   State\n",
       "0  2020-01-30        NaN        NaN       NaN    NaN     NaN  Kerala\n",
       "1  2020-01-30        NaN        NaN       NaN    NaN     NaN   India"
      ]
     },
     "metadata": {},
     "output_type": "display_data"
    },
    {
     "data": {
      "text/html": [
       "<div>\n",
       "<style scoped>\n",
       "    .dataframe tbody tr th:only-of-type {\n",
       "        vertical-align: middle;\n",
       "    }\n",
       "\n",
       "    .dataframe tbody tr th {\n",
       "        vertical-align: top;\n",
       "    }\n",
       "\n",
       "    .dataframe thead th {\n",
       "        text-align: right;\n",
       "    }\n",
       "</style>\n",
       "<table border=\"1\" class=\"dataframe\">\n",
       "  <thead>\n",
       "    <tr style=\"text-align: right;\">\n",
       "      <th></th>\n",
       "      <th>Date</th>\n",
       "      <th>Confirmed</th>\n",
       "      <th>Recovered</th>\n",
       "      <th>Deceased</th>\n",
       "      <th>Other</th>\n",
       "      <th>Tested</th>\n",
       "      <th>State</th>\n",
       "    </tr>\n",
       "  </thead>\n",
       "  <tbody>\n",
       "    <tr>\n",
       "      <th>18269</th>\n",
       "      <td>2021-07-31</td>\n",
       "      <td>0.0</td>\n",
       "      <td>0.0</td>\n",
       "      <td>0.0</td>\n",
       "      <td>0.0</td>\n",
       "      <td>0.0</td>\n",
       "      <td>Assam</td>\n",
       "    </tr>\n",
       "    <tr>\n",
       "      <th>18270</th>\n",
       "      <td>2021-07-31</td>\n",
       "      <td>0.0</td>\n",
       "      <td>0.0</td>\n",
       "      <td>0.0</td>\n",
       "      <td>0.0</td>\n",
       "      <td>0.0</td>\n",
       "      <td>Lakshadweep</td>\n",
       "    </tr>\n",
       "  </tbody>\n",
       "</table>\n",
       "</div>"
      ],
      "text/plain": [
       "             Date  Confirmed  Recovered  Deceased  Other  Tested        State\n",
       "18269  2021-07-31        0.0        0.0       0.0    0.0     0.0        Assam\n",
       "18270  2021-07-31        0.0        0.0       0.0    0.0     0.0  Lakshadweep"
      ]
     },
<<<<<<< HEAD
     "execution_count": 23,
=======
     "execution_count": 25,
>>>>>>> b16863ab3c0a4737f053e604f6f89d5ee197d7c1
     "metadata": {},
     "output_type": "execute_result"
    }
   ],
   "source": [
    "display(ndf.head(2))\n",
    "ndf.tail(2)\n"
   ]
  },
  {
   "cell_type": "code",
<<<<<<< HEAD
   "execution_count": 24,
=======
   "execution_count": 26,
>>>>>>> b16863ab3c0a4737f053e604f6f89d5ee197d7c1
   "metadata": {},
   "outputs": [
    {
     "data": {
      "text/plain": [
       "Date           0\n",
       "Confirmed     38\n",
       "Recovered     38\n",
       "Deceased      38\n",
       "Other         38\n",
       "Tested       791\n",
       "State          0\n",
       "dtype: int64"
      ]
     },
<<<<<<< HEAD
     "execution_count": 24,
=======
     "execution_count": 26,
>>>>>>> b16863ab3c0a4737f053e604f6f89d5ee197d7c1
     "metadata": {},
     "output_type": "execute_result"
    }
   ],
   "source": [
    "ndf.isnull().sum()"
   ]
  },
  {
   "cell_type": "code",
<<<<<<< HEAD
   "execution_count": 25,
=======
   "execution_count": 27,
>>>>>>> b16863ab3c0a4737f053e604f6f89d5ee197d7c1
   "metadata": {},
   "outputs": [
    {
     "data": {
      "text/plain": [
       "Date          object\n",
       "Confirmed    float64\n",
       "Recovered    float64\n",
       "Deceased     float64\n",
       "Other        float64\n",
       "Tested       float64\n",
       "State         object\n",
       "dtype: object"
      ]
     },
<<<<<<< HEAD
     "execution_count": 25,
=======
     "execution_count": 27,
>>>>>>> b16863ab3c0a4737f053e604f6f89d5ee197d7c1
     "metadata": {},
     "output_type": "execute_result"
    }
   ],
   "source": [
    "ndf.dtypes"
   ]
  },
  {
   "cell_type": "markdown",
   "metadata": {},
   "source": [
    "#### Aproximately splitting the data set into First wave and second wave by assuming that  the seceond wave started in march 2021 in india\n"
   ]
  },
  {
   "cell_type": "code",
<<<<<<< HEAD
   "execution_count": 26,
=======
   "execution_count": 28,
>>>>>>> b16863ab3c0a4737f053e604f6f89d5ee197d7c1
   "metadata": {},
   "outputs": [
    {
     "data": {
      "text/html": [
       "<div>\n",
       "<style scoped>\n",
       "    .dataframe tbody tr th:only-of-type {\n",
       "        vertical-align: middle;\n",
       "    }\n",
       "\n",
       "    .dataframe tbody tr th {\n",
       "        vertical-align: top;\n",
       "    }\n",
       "\n",
       "    .dataframe thead th {\n",
       "        text-align: right;\n",
       "    }\n",
       "</style>\n",
       "<table border=\"1\" class=\"dataframe\">\n",
       "  <thead>\n",
       "    <tr style=\"text-align: right;\">\n",
       "      <th></th>\n",
       "      <th>Date</th>\n",
       "      <th>Confirmed</th>\n",
       "      <th>Recovered</th>\n",
       "      <th>Deceased</th>\n",
       "      <th>Other</th>\n",
       "      <th>Tested</th>\n",
       "      <th>State</th>\n",
       "    </tr>\n",
       "  </thead>\n",
       "  <tbody>\n",
       "    <tr>\n",
       "      <th>0</th>\n",
       "      <td>2020-01-30</td>\n",
       "      <td>NaN</td>\n",
       "      <td>NaN</td>\n",
       "      <td>NaN</td>\n",
       "      <td>NaN</td>\n",
       "      <td>NaN</td>\n",
       "      <td>Kerala</td>\n",
       "    </tr>\n",
       "    <tr>\n",
       "      <th>1</th>\n",
       "      <td>2020-01-30</td>\n",
       "      <td>NaN</td>\n",
       "      <td>NaN</td>\n",
       "      <td>NaN</td>\n",
       "      <td>NaN</td>\n",
       "      <td>NaN</td>\n",
       "      <td>India</td>\n",
       "    </tr>\n",
       "    <tr>\n",
       "      <th>2</th>\n",
       "      <td>2020-02-02</td>\n",
       "      <td>1.0</td>\n",
       "      <td>0.0</td>\n",
       "      <td>0.0</td>\n",
       "      <td>0.0</td>\n",
       "      <td>NaN</td>\n",
       "      <td>Kerala</td>\n",
       "    </tr>\n",
       "    <tr>\n",
       "      <th>3</th>\n",
       "      <td>2020-02-02</td>\n",
       "      <td>1.0</td>\n",
       "      <td>0.0</td>\n",
       "      <td>0.0</td>\n",
       "      <td>0.0</td>\n",
       "      <td>NaN</td>\n",
       "      <td>India</td>\n",
       "    </tr>\n",
       "    <tr>\n",
       "      <th>4</th>\n",
       "      <td>2020-02-03</td>\n",
       "      <td>1.0</td>\n",
       "      <td>0.0</td>\n",
       "      <td>0.0</td>\n",
       "      <td>0.0</td>\n",
       "      <td>NaN</td>\n",
       "      <td>Kerala</td>\n",
       "    </tr>\n",
       "    <tr>\n",
       "      <th>...</th>\n",
       "      <td>...</td>\n",
       "      <td>...</td>\n",
       "      <td>...</td>\n",
       "      <td>...</td>\n",
       "      <td>...</td>\n",
       "      <td>...</td>\n",
       "      <td>...</td>\n",
       "    </tr>\n",
       "    <tr>\n",
       "      <th>18266</th>\n",
       "      <td>2021-07-31</td>\n",
       "      <td>0.0</td>\n",
       "      <td>0.0</td>\n",
       "      <td>0.0</td>\n",
       "      <td>0.0</td>\n",
       "      <td>0.0</td>\n",
       "      <td>Delhi</td>\n",
       "    </tr>\n",
       "    <tr>\n",
       "      <th>18267</th>\n",
       "      <td>2021-07-31</td>\n",
       "      <td>0.0</td>\n",
       "      <td>0.0</td>\n",
       "      <td>0.0</td>\n",
       "      <td>0.0</td>\n",
       "      <td>0.0</td>\n",
       "      <td>Jharkhand</td>\n",
       "    </tr>\n",
       "    <tr>\n",
       "      <th>18268</th>\n",
       "      <td>2021-07-31</td>\n",
       "      <td>686.0</td>\n",
       "      <td>499.0</td>\n",
       "      <td>12.0</td>\n",
       "      <td>0.0</td>\n",
       "      <td>0.0</td>\n",
       "      <td>Meghalaya</td>\n",
       "    </tr>\n",
       "    <tr>\n",
       "      <th>18269</th>\n",
       "      <td>2021-07-31</td>\n",
       "      <td>0.0</td>\n",
       "      <td>0.0</td>\n",
       "      <td>0.0</td>\n",
       "      <td>0.0</td>\n",
       "      <td>0.0</td>\n",
       "      <td>Assam</td>\n",
       "    </tr>\n",
       "    <tr>\n",
       "      <th>18270</th>\n",
       "      <td>2021-07-31</td>\n",
       "      <td>0.0</td>\n",
       "      <td>0.0</td>\n",
       "      <td>0.0</td>\n",
       "      <td>0.0</td>\n",
       "      <td>0.0</td>\n",
       "      <td>Lakshadweep</td>\n",
       "    </tr>\n",
       "  </tbody>\n",
       "</table>\n",
       "<p>18271 rows × 7 columns</p>\n",
       "</div>"
      ],
      "text/plain": [
       "             Date  Confirmed  Recovered  Deceased  Other  Tested        State\n",
       "0      2020-01-30        NaN        NaN       NaN    NaN     NaN       Kerala\n",
       "1      2020-01-30        NaN        NaN       NaN    NaN     NaN        India\n",
       "2      2020-02-02        1.0        0.0       0.0    0.0     NaN       Kerala\n",
       "3      2020-02-02        1.0        0.0       0.0    0.0     NaN        India\n",
       "4      2020-02-03        1.0        0.0       0.0    0.0     NaN       Kerala\n",
       "...           ...        ...        ...       ...    ...     ...          ...\n",
       "18266  2021-07-31        0.0        0.0       0.0    0.0     0.0        Delhi\n",
       "18267  2021-07-31        0.0        0.0       0.0    0.0     0.0    Jharkhand\n",
       "18268  2021-07-31      686.0      499.0      12.0    0.0     0.0    Meghalaya\n",
       "18269  2021-07-31        0.0        0.0       0.0    0.0     0.0        Assam\n",
       "18270  2021-07-31        0.0        0.0       0.0    0.0     0.0  Lakshadweep\n",
       "\n",
       "[18271 rows x 7 columns]"
      ]
     },
<<<<<<< HEAD
     "execution_count": 26,
=======
     "execution_count": 28,
>>>>>>> b16863ab3c0a4737f053e604f6f89d5ee197d7c1
     "metadata": {},
     "output_type": "execute_result"
    }
   ],
   "source": [
    "ndf"
   ]
  },
  {
   "cell_type": "code",
<<<<<<< HEAD
   "execution_count": 27,
=======
   "execution_count": 29,
>>>>>>> b16863ab3c0a4737f053e604f6f89d5ee197d7c1
   "metadata": {
    "scrolled": false
   },
   "outputs": [
    {
     "data": {
      "text/html": [
       "<div>\n",
       "<style scoped>\n",
       "    .dataframe tbody tr th:only-of-type {\n",
       "        vertical-align: middle;\n",
       "    }\n",
       "\n",
       "    .dataframe tbody tr th {\n",
       "        vertical-align: top;\n",
       "    }\n",
       "\n",
       "    .dataframe thead th {\n",
       "        text-align: right;\n",
       "    }\n",
       "</style>\n",
       "<table border=\"1\" class=\"dataframe\">\n",
       "  <thead>\n",
       "    <tr style=\"text-align: right;\">\n",
       "      <th></th>\n",
       "      <th>Date</th>\n",
       "      <th>Confirmed</th>\n",
       "      <th>Recovered</th>\n",
       "      <th>Deceased</th>\n",
       "      <th>Other</th>\n",
       "      <th>Tested</th>\n",
       "      <th>State</th>\n",
       "    </tr>\n",
       "  </thead>\n",
       "  <tbody>\n",
       "    <tr>\n",
       "      <th>12610</th>\n",
       "      <td>2021-03-01</td>\n",
       "      <td>86.0</td>\n",
       "      <td>76.0</td>\n",
       "      <td>0.0</td>\n",
       "      <td>0.0</td>\n",
       "      <td>20276.0</td>\n",
       "      <td>Odisha</td>\n",
       "    </tr>\n",
       "    <tr>\n",
       "      <th>12611</th>\n",
       "      <td>2021-03-01</td>\n",
       "      <td>0.0</td>\n",
       "      <td>1.0</td>\n",
       "      <td>0.0</td>\n",
       "      <td>0.0</td>\n",
       "      <td>15.0</td>\n",
       "      <td>Sikkim</td>\n",
       "    </tr>\n",
       "    <tr>\n",
       "      <th>12612</th>\n",
       "      <td>2021-03-01</td>\n",
       "      <td>6397.0</td>\n",
       "      <td>5754.0</td>\n",
       "      <td>30.0</td>\n",
       "      <td>3.0</td>\n",
       "      <td>61746.0</td>\n",
       "      <td>Maharashtra</td>\n",
       "    </tr>\n",
       "    <tr>\n",
       "      <th>12613</th>\n",
       "      <td>2021-03-01</td>\n",
       "      <td>27.0</td>\n",
       "      <td>26.0</td>\n",
       "      <td>0.0</td>\n",
       "      <td>5.0</td>\n",
       "      <td>10716.0</td>\n",
       "      <td>Uttarakhand</td>\n",
       "    </tr>\n",
       "    <tr>\n",
       "      <th>12614</th>\n",
       "      <td>2021-03-01</td>\n",
       "      <td>0.0</td>\n",
       "      <td>3.0</td>\n",
       "      <td>0.0</td>\n",
       "      <td>0.0</td>\n",
       "      <td>233.0</td>\n",
       "      <td>Mizoram</td>\n",
       "    </tr>\n",
       "    <tr>\n",
       "      <th>12615</th>\n",
       "      <td>2021-03-01</td>\n",
       "      <td>40.0</td>\n",
       "      <td>62.0</td>\n",
       "      <td>1.0</td>\n",
       "      <td>0.0</td>\n",
       "      <td>1168.0</td>\n",
       "      <td>Goa</td>\n",
       "    </tr>\n",
       "    <tr>\n",
       "      <th>12616</th>\n",
       "      <td>2021-03-01</td>\n",
       "      <td>0.0</td>\n",
       "      <td>0.0</td>\n",
       "      <td>0.0</td>\n",
       "      <td>0.0</td>\n",
       "      <td>0.0</td>\n",
       "      <td>Dadra and Nagar Haveli and Daman and Diu</td>\n",
       "    </tr>\n",
       "    <tr>\n",
       "      <th>12617</th>\n",
       "      <td>2021-03-01</td>\n",
       "      <td>0.0</td>\n",
       "      <td>0.0</td>\n",
       "      <td>0.0</td>\n",
       "      <td>1.0</td>\n",
       "      <td>171.0</td>\n",
       "      <td>Nagaland</td>\n",
       "    </tr>\n",
       "    <tr>\n",
       "      <th>12618</th>\n",
       "      <td>2021-03-01</td>\n",
       "      <td>175.0</td>\n",
       "      <td>105.0</td>\n",
       "      <td>1.0</td>\n",
       "      <td>0.0</td>\n",
       "      <td>39733.0</td>\n",
       "      <td>Delhi</td>\n",
       "    </tr>\n",
       "    <tr>\n",
       "      <th>12619</th>\n",
       "      <td>2021-03-01</td>\n",
       "      <td>116.0</td>\n",
       "      <td>165.0</td>\n",
       "      <td>0.0</td>\n",
       "      <td>0.0</td>\n",
       "      <td>20375.0</td>\n",
       "      <td>Telangana</td>\n",
       "    </tr>\n",
       "    <tr>\n",
       "      <th>12620</th>\n",
       "      <td>2021-03-01</td>\n",
       "      <td>119.0</td>\n",
       "      <td>123.0</td>\n",
       "      <td>0.0</td>\n",
       "      <td>0.0</td>\n",
       "      <td>6675.0</td>\n",
       "      <td>Rajasthan</td>\n",
       "    </tr>\n",
       "    <tr>\n",
       "      <th>12621</th>\n",
       "      <td>2021-03-01</td>\n",
       "      <td>0.0</td>\n",
       "      <td>0.0</td>\n",
       "      <td>0.0</td>\n",
       "      <td>0.0</td>\n",
       "      <td>1300.0</td>\n",
       "      <td>Andaman and Nicobar Islands</td>\n",
       "    </tr>\n",
       "    <tr>\n",
       "      <th>12622</th>\n",
       "      <td>2021-03-01</td>\n",
       "      <td>633.0</td>\n",
       "      <td>394.0</td>\n",
       "      <td>18.0</td>\n",
       "      <td>0.0</td>\n",
       "      <td>13727.0</td>\n",
       "      <td>Punjab</td>\n",
       "    </tr>\n",
       "    <tr>\n",
       "      <th>12623</th>\n",
       "      <td>2021-03-01</td>\n",
       "      <td>33.0</td>\n",
       "      <td>16.0</td>\n",
       "      <td>1.0</td>\n",
       "      <td>0.0</td>\n",
       "      <td>14733.0</td>\n",
       "      <td>Assam</td>\n",
       "    </tr>\n",
       "    <tr>\n",
       "      <th>12624</th>\n",
       "      <td>2021-03-01</td>\n",
       "      <td>132.0</td>\n",
       "      <td>15.0</td>\n",
       "      <td>1.0</td>\n",
       "      <td>0.0</td>\n",
       "      <td>5033.0</td>\n",
       "      <td>Himachal Pradesh</td>\n",
       "    </tr>\n",
       "    <tr>\n",
       "      <th>12625</th>\n",
       "      <td>2021-03-01</td>\n",
       "      <td>37.0</td>\n",
       "      <td>46.0</td>\n",
       "      <td>0.0</td>\n",
       "      <td>0.0</td>\n",
       "      <td>10085.0</td>\n",
       "      <td>Jharkhand</td>\n",
       "    </tr>\n",
       "    <tr>\n",
       "      <th>12626</th>\n",
       "      <td>2021-03-01</td>\n",
       "      <td>1.0</td>\n",
       "      <td>1.0</td>\n",
       "      <td>0.0</td>\n",
       "      <td>0.0</td>\n",
       "      <td>805.0</td>\n",
       "      <td>Meghalaya</td>\n",
       "    </tr>\n",
       "    <tr>\n",
       "      <th>12627</th>\n",
       "      <td>2021-03-01</td>\n",
       "      <td>22.0</td>\n",
       "      <td>51.0</td>\n",
       "      <td>0.0</td>\n",
       "      <td>0.0</td>\n",
       "      <td>22209.0</td>\n",
       "      <td>Bihar</td>\n",
       "    </tr>\n",
       "    <tr>\n",
       "      <th>12628</th>\n",
       "      <td>2021-03-01</td>\n",
       "      <td>1938.0</td>\n",
       "      <td>3475.0</td>\n",
       "      <td>13.0</td>\n",
       "      <td>2.0</td>\n",
       "      <td>45995.0</td>\n",
       "      <td>Kerala</td>\n",
       "    </tr>\n",
       "    <tr>\n",
       "      <th>12629</th>\n",
       "      <td>2021-03-01</td>\n",
       "      <td>1.0</td>\n",
       "      <td>8.0</td>\n",
       "      <td>0.0</td>\n",
       "      <td>0.0</td>\n",
       "      <td>0.0</td>\n",
       "      <td>Ladakh</td>\n",
       "    </tr>\n",
       "    <tr>\n",
       "      <th>12630</th>\n",
       "      <td>2021-03-01</td>\n",
       "      <td>166.0</td>\n",
       "      <td>151.0</td>\n",
       "      <td>2.0</td>\n",
       "      <td>0.0</td>\n",
       "      <td>8615.0</td>\n",
       "      <td>Haryana</td>\n",
       "    </tr>\n",
       "    <tr>\n",
       "      <th>12631</th>\n",
       "      <td>2021-03-01</td>\n",
       "      <td>15.0</td>\n",
       "      <td>7.0</td>\n",
       "      <td>0.0</td>\n",
       "      <td>0.0</td>\n",
       "      <td>1190.0</td>\n",
       "      <td>Lakshadweep</td>\n",
       "    </tr>\n",
       "    <tr>\n",
       "      <th>12632</th>\n",
       "      <td>2021-03-01</td>\n",
       "      <td>1.0</td>\n",
       "      <td>0.0</td>\n",
       "      <td>0.0</td>\n",
       "      <td>0.0</td>\n",
       "      <td>378.0</td>\n",
       "      <td>Arunachal Pradesh</td>\n",
       "    </tr>\n",
       "    <tr>\n",
       "      <th>12633</th>\n",
       "      <td>2021-03-01</td>\n",
       "      <td>1.0</td>\n",
       "      <td>4.0</td>\n",
       "      <td>0.0</td>\n",
       "      <td>0.0</td>\n",
       "      <td>586.0</td>\n",
       "      <td>Manipur</td>\n",
       "    </tr>\n",
       "    <tr>\n",
       "      <th>12634</th>\n",
       "      <td>2021-03-01</td>\n",
       "      <td>256.0</td>\n",
       "      <td>143.0</td>\n",
       "      <td>7.0</td>\n",
       "      <td>0.0</td>\n",
       "      <td>27085.0</td>\n",
       "      <td>Chhattisgarh</td>\n",
       "    </tr>\n",
       "    <tr>\n",
       "      <th>12635</th>\n",
       "      <td>2021-03-01</td>\n",
       "      <td>427.0</td>\n",
       "      <td>360.0</td>\n",
       "      <td>1.0</td>\n",
       "      <td>0.0</td>\n",
       "      <td>33110.0</td>\n",
       "      <td>Gujarat</td>\n",
       "    </tr>\n",
       "    <tr>\n",
       "      <th>12636</th>\n",
       "      <td>2021-03-01</td>\n",
       "      <td>10.0</td>\n",
       "      <td>3.0</td>\n",
       "      <td>0.0</td>\n",
       "      <td>0.0</td>\n",
       "      <td>1338.0</td>\n",
       "      <td>Tripura</td>\n",
       "    </tr>\n",
       "    <tr>\n",
       "      <th>12637</th>\n",
       "      <td>2021-03-01</td>\n",
       "      <td>474.0</td>\n",
       "      <td>482.0</td>\n",
       "      <td>5.0</td>\n",
       "      <td>0.0</td>\n",
       "      <td>50091.0</td>\n",
       "      <td>Tamil Nadu</td>\n",
       "    </tr>\n",
       "    <tr>\n",
       "      <th>12638</th>\n",
       "      <td>2021-03-01</td>\n",
       "      <td>63.0</td>\n",
       "      <td>56.0</td>\n",
       "      <td>1.0</td>\n",
       "      <td>0.0</td>\n",
       "      <td>24696.0</td>\n",
       "      <td>Jammu and Kashmir</td>\n",
       "    </tr>\n",
       "    <tr>\n",
       "      <th>12639</th>\n",
       "      <td>2021-03-01</td>\n",
       "      <td>12270.0</td>\n",
       "      <td>12472.0</td>\n",
       "      <td>92.0</td>\n",
       "      <td>11.0</td>\n",
       "      <td>759283.0</td>\n",
       "      <td>India</td>\n",
       "    </tr>\n",
       "    <tr>\n",
       "      <th>12640</th>\n",
       "      <td>2021-03-01</td>\n",
       "      <td>9.0</td>\n",
       "      <td>16.0</td>\n",
       "      <td>1.0</td>\n",
       "      <td>0.0</td>\n",
       "      <td>693.0</td>\n",
       "      <td>Puducherry</td>\n",
       "    </tr>\n",
       "    <tr>\n",
       "      <th>12641</th>\n",
       "      <td>2021-03-01</td>\n",
       "      <td>58.0</td>\n",
       "      <td>51.0</td>\n",
       "      <td>0.0</td>\n",
       "      <td>0.0</td>\n",
       "      <td>20269.0</td>\n",
       "      <td>Andhra Pradesh</td>\n",
       "    </tr>\n",
       "    <tr>\n",
       "      <th>12642</th>\n",
       "      <td>2021-03-01</td>\n",
       "      <td>69.0</td>\n",
       "      <td>19.0</td>\n",
       "      <td>1.0</td>\n",
       "      <td>0.0</td>\n",
       "      <td>1929.0</td>\n",
       "      <td>Chandigarh</td>\n",
       "    </tr>\n",
       "    <tr>\n",
       "      <th>12643</th>\n",
       "      <td>2021-03-01</td>\n",
       "      <td>198.0</td>\n",
       "      <td>212.0</td>\n",
       "      <td>0.0</td>\n",
       "      <td>0.0</td>\n",
       "      <td>16014.0</td>\n",
       "      <td>West Bengal</td>\n",
       "    </tr>\n",
       "    <tr>\n",
       "      <th>12644</th>\n",
       "      <td>2021-03-01</td>\n",
       "      <td>81.0</td>\n",
       "      <td>104.0</td>\n",
       "      <td>3.0</td>\n",
       "      <td>0.0</td>\n",
       "      <td>108665.0</td>\n",
       "      <td>Uttar Pradesh</td>\n",
       "    </tr>\n",
       "    <tr>\n",
       "      <th>12645</th>\n",
       "      <td>2021-03-01</td>\n",
       "      <td>336.0</td>\n",
       "      <td>219.0</td>\n",
       "      <td>1.0</td>\n",
       "      <td>0.0</td>\n",
       "      <td>12844.0</td>\n",
       "      <td>Madhya Pradesh</td>\n",
       "    </tr>\n",
       "    <tr>\n",
       "      <th>12646</th>\n",
       "      <td>2021-03-01</td>\n",
       "      <td>349.0</td>\n",
       "      <td>324.0</td>\n",
       "      <td>5.0</td>\n",
       "      <td>0.0</td>\n",
       "      <td>60127.0</td>\n",
       "      <td>Karnataka</td>\n",
       "    </tr>\n",
       "  </tbody>\n",
       "</table>\n",
       "</div>"
      ],
      "text/plain": [
       "             Date  Confirmed  Recovered  Deceased  Other    Tested  \\\n",
       "12610  2021-03-01       86.0       76.0       0.0    0.0   20276.0   \n",
       "12611  2021-03-01        0.0        1.0       0.0    0.0      15.0   \n",
       "12612  2021-03-01     6397.0     5754.0      30.0    3.0   61746.0   \n",
       "12613  2021-03-01       27.0       26.0       0.0    5.0   10716.0   \n",
       "12614  2021-03-01        0.0        3.0       0.0    0.0     233.0   \n",
       "12615  2021-03-01       40.0       62.0       1.0    0.0    1168.0   \n",
       "12616  2021-03-01        0.0        0.0       0.0    0.0       0.0   \n",
       "12617  2021-03-01        0.0        0.0       0.0    1.0     171.0   \n",
       "12618  2021-03-01      175.0      105.0       1.0    0.0   39733.0   \n",
       "12619  2021-03-01      116.0      165.0       0.0    0.0   20375.0   \n",
       "12620  2021-03-01      119.0      123.0       0.0    0.0    6675.0   \n",
       "12621  2021-03-01        0.0        0.0       0.0    0.0    1300.0   \n",
       "12622  2021-03-01      633.0      394.0      18.0    0.0   13727.0   \n",
       "12623  2021-03-01       33.0       16.0       1.0    0.0   14733.0   \n",
       "12624  2021-03-01      132.0       15.0       1.0    0.0    5033.0   \n",
       "12625  2021-03-01       37.0       46.0       0.0    0.0   10085.0   \n",
       "12626  2021-03-01        1.0        1.0       0.0    0.0     805.0   \n",
       "12627  2021-03-01       22.0       51.0       0.0    0.0   22209.0   \n",
       "12628  2021-03-01     1938.0     3475.0      13.0    2.0   45995.0   \n",
       "12629  2021-03-01        1.0        8.0       0.0    0.0       0.0   \n",
       "12630  2021-03-01      166.0      151.0       2.0    0.0    8615.0   \n",
       "12631  2021-03-01       15.0        7.0       0.0    0.0    1190.0   \n",
       "12632  2021-03-01        1.0        0.0       0.0    0.0     378.0   \n",
       "12633  2021-03-01        1.0        4.0       0.0    0.0     586.0   \n",
       "12634  2021-03-01      256.0      143.0       7.0    0.0   27085.0   \n",
       "12635  2021-03-01      427.0      360.0       1.0    0.0   33110.0   \n",
       "12636  2021-03-01       10.0        3.0       0.0    0.0    1338.0   \n",
       "12637  2021-03-01      474.0      482.0       5.0    0.0   50091.0   \n",
       "12638  2021-03-01       63.0       56.0       1.0    0.0   24696.0   \n",
       "12639  2021-03-01    12270.0    12472.0      92.0   11.0  759283.0   \n",
       "12640  2021-03-01        9.0       16.0       1.0    0.0     693.0   \n",
       "12641  2021-03-01       58.0       51.0       0.0    0.0   20269.0   \n",
       "12642  2021-03-01       69.0       19.0       1.0    0.0    1929.0   \n",
       "12643  2021-03-01      198.0      212.0       0.0    0.0   16014.0   \n",
       "12644  2021-03-01       81.0      104.0       3.0    0.0  108665.0   \n",
       "12645  2021-03-01      336.0      219.0       1.0    0.0   12844.0   \n",
       "12646  2021-03-01      349.0      324.0       5.0    0.0   60127.0   \n",
       "\n",
       "                                          State  \n",
       "12610                                    Odisha  \n",
       "12611                                    Sikkim  \n",
       "12612                               Maharashtra  \n",
       "12613                               Uttarakhand  \n",
       "12614                                   Mizoram  \n",
       "12615                                       Goa  \n",
       "12616  Dadra and Nagar Haveli and Daman and Diu  \n",
       "12617                                  Nagaland  \n",
       "12618                                     Delhi  \n",
       "12619                                 Telangana  \n",
       "12620                                 Rajasthan  \n",
       "12621               Andaman and Nicobar Islands  \n",
       "12622                                    Punjab  \n",
       "12623                                     Assam  \n",
       "12624                          Himachal Pradesh  \n",
       "12625                                 Jharkhand  \n",
       "12626                                 Meghalaya  \n",
       "12627                                     Bihar  \n",
       "12628                                    Kerala  \n",
       "12629                                    Ladakh  \n",
       "12630                                   Haryana  \n",
       "12631                               Lakshadweep  \n",
       "12632                         Arunachal Pradesh  \n",
       "12633                                   Manipur  \n",
       "12634                              Chhattisgarh  \n",
       "12635                                   Gujarat  \n",
       "12636                                   Tripura  \n",
       "12637                                Tamil Nadu  \n",
       "12638                         Jammu and Kashmir  \n",
       "12639                                     India  \n",
       "12640                                Puducherry  \n",
       "12641                            Andhra Pradesh  \n",
       "12642                                Chandigarh  \n",
       "12643                               West Bengal  \n",
       "12644                             Uttar Pradesh  \n",
       "12645                            Madhya Pradesh  \n",
       "12646                                 Karnataka  "
      ]
     },
<<<<<<< HEAD
     "execution_count": 27,
=======
     "execution_count": 29,
>>>>>>> b16863ab3c0a4737f053e604f6f89d5ee197d7c1
     "metadata": {},
     "output_type": "execute_result"
    }
   ],
   "source": [
    "ndf.loc[ndf['Date']=='2021-03-01']"
   ]
  },
  {
   "cell_type": "code",
<<<<<<< HEAD
   "execution_count": 28,
=======
   "execution_count": 30,
>>>>>>> b16863ab3c0a4737f053e604f6f89d5ee197d7c1
   "metadata": {},
   "outputs": [],
   "source": [
    "#slicing out the data of covid 19 second wave from the above dataset\n",
    "swave=ndf.loc[12610:,[\"Date\",'State','Confirmed','Recovered','Deceased','Other','Tested']]"
   ]
  },
  {
   "cell_type": "code",
<<<<<<< HEAD
   "execution_count": 29,
=======
   "execution_count": 31,
>>>>>>> b16863ab3c0a4737f053e604f6f89d5ee197d7c1
   "metadata": {},
   "outputs": [
    {
     "data": {
      "text/html": [
       "<div>\n",
       "<style scoped>\n",
       "    .dataframe tbody tr th:only-of-type {\n",
       "        vertical-align: middle;\n",
       "    }\n",
       "\n",
       "    .dataframe tbody tr th {\n",
       "        vertical-align: top;\n",
       "    }\n",
       "\n",
       "    .dataframe thead th {\n",
       "        text-align: right;\n",
       "    }\n",
       "</style>\n",
       "<table border=\"1\" class=\"dataframe\">\n",
       "  <thead>\n",
       "    <tr style=\"text-align: right;\">\n",
       "      <th></th>\n",
       "      <th>Date</th>\n",
       "      <th>State</th>\n",
       "      <th>Confirmed</th>\n",
       "      <th>Recovered</th>\n",
       "      <th>Deceased</th>\n",
       "      <th>Other</th>\n",
       "      <th>Tested</th>\n",
       "    </tr>\n",
       "  </thead>\n",
       "  <tbody>\n",
       "    <tr>\n",
       "      <th>12610</th>\n",
       "      <td>2021-03-01</td>\n",
       "      <td>Odisha</td>\n",
       "      <td>86.0</td>\n",
       "      <td>76.0</td>\n",
       "      <td>0.0</td>\n",
       "      <td>0.0</td>\n",
       "      <td>20276.0</td>\n",
       "    </tr>\n",
       "    <tr>\n",
       "      <th>12611</th>\n",
       "      <td>2021-03-01</td>\n",
       "      <td>Sikkim</td>\n",
       "      <td>0.0</td>\n",
       "      <td>1.0</td>\n",
       "      <td>0.0</td>\n",
       "      <td>0.0</td>\n",
       "      <td>15.0</td>\n",
       "    </tr>\n",
       "    <tr>\n",
       "      <th>12612</th>\n",
       "      <td>2021-03-01</td>\n",
       "      <td>Maharashtra</td>\n",
       "      <td>6397.0</td>\n",
       "      <td>5754.0</td>\n",
       "      <td>30.0</td>\n",
       "      <td>3.0</td>\n",
       "      <td>61746.0</td>\n",
       "    </tr>\n",
       "    <tr>\n",
       "      <th>12613</th>\n",
       "      <td>2021-03-01</td>\n",
       "      <td>Uttarakhand</td>\n",
       "      <td>27.0</td>\n",
       "      <td>26.0</td>\n",
       "      <td>0.0</td>\n",
       "      <td>5.0</td>\n",
       "      <td>10716.0</td>\n",
       "    </tr>\n",
       "    <tr>\n",
       "      <th>12614</th>\n",
       "      <td>2021-03-01</td>\n",
       "      <td>Mizoram</td>\n",
       "      <td>0.0</td>\n",
       "      <td>3.0</td>\n",
       "      <td>0.0</td>\n",
       "      <td>0.0</td>\n",
       "      <td>233.0</td>\n",
       "    </tr>\n",
       "  </tbody>\n",
       "</table>\n",
       "</div>"
      ],
      "text/plain": [
       "             Date        State  Confirmed  Recovered  Deceased  Other   Tested\n",
       "12610  2021-03-01       Odisha       86.0       76.0       0.0    0.0  20276.0\n",
       "12611  2021-03-01       Sikkim        0.0        1.0       0.0    0.0     15.0\n",
       "12612  2021-03-01  Maharashtra     6397.0     5754.0      30.0    3.0  61746.0\n",
       "12613  2021-03-01  Uttarakhand       27.0       26.0       0.0    5.0  10716.0\n",
       "12614  2021-03-01      Mizoram        0.0        3.0       0.0    0.0    233.0"
      ]
     },
<<<<<<< HEAD
     "execution_count": 29,
=======
     "execution_count": 31,
>>>>>>> b16863ab3c0a4737f053e604f6f89d5ee197d7c1
     "metadata": {},
     "output_type": "execute_result"
    }
   ],
   "source": [
    "swave.head()"
   ]
  },
  {
   "cell_type": "markdown",
   "metadata": {},
   "source": [
    "#### Some of the following plotting attempts may not be a great visualisation of the data but these are the initial steps that I am going to do to see how to develop line olots that compare the progress among 2 states"
   ]
  },
  {
   "cell_type": "code",
<<<<<<< HEAD
   "execution_count": 30,
=======
   "execution_count": 32,
>>>>>>> b16863ab3c0a4737f053e604f6f89d5ee197d7c1
   "metadata": {},
   "outputs": [
    {
     "data": {
      "image/png": "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\n",
      "text/plain": [
       "<Figure size 720x612 with 1 Axes>"
      ]
     },
     "metadata": {
      "needs_background": "light"
     },
     "output_type": "display_data"
    },
    {
     "data": {
      "image/png": "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\n",
      "text/plain": [
       "<Figure size 720x612 with 1 Axes>"
      ]
     },
     "metadata": {
      "needs_background": "light"
     },
     "output_type": "display_data"
    }
   ],
   "source": [
    "swave.groupby('State').get_group(\"Kerala\").plot(x='Date',y=['Confirmed','Tested'],figsize=(10,8.5),label=['Kerala_Confirmed',\"tested\"])\n",
    "plt.legend()\n",
    "swave.groupby('State').get_group(\"Uttar Pradesh\").plot(x='Date',y=['Confirmed','Tested'],figsize=(10,8.5),label=['UPConfirmed','Tested'])\n",
    "plt.xticks(rotation=60)\n",
    "plt.legend()\n",
    "plt.title('Two or more lines on same plot with suitable legends ')\n",
    "plt.show()"
   ]
  },
  {
   "cell_type": "code",
<<<<<<< HEAD
   "execution_count": 31,
=======
   "execution_count": 35,
>>>>>>> b16863ab3c0a4737f053e604f6f89d5ee197d7c1
   "metadata": {},
   "outputs": [],
   "source": [
    "kerala=swave.groupby('State').get_group(\"Kerala\")\n",
    "ktest=kerala['Tested']\n",
    "#ktest\n",
    "kconf=kerala['Confirmed']\n",
    "up=swave.groupby('State').get_group(\"Uttar Pradesh\")\n",
    "utest=up[\"Tested\"]\n",
    "uconf=up['Confirmed']\n",
    "date=up['Date']\n"
   ]
  },
  {
   "cell_type": "code",
<<<<<<< HEAD
   "execution_count": 32,
=======
   "execution_count": 34,
>>>>>>> b16863ab3c0a4737f053e604f6f89d5ee197d7c1
   "metadata": {},
   "outputs": [
    {
     "data": {
      "text/plain": [
<<<<<<< HEAD
       "<matplotlib.legend.Legend at 0x7f26e009d9d0>"
      ]
     },
     "execution_count": 32,
=======
       "<matplotlib.legend.Legend at 0x19f1dad57f0>"
      ]
     },
     "execution_count": 34,
>>>>>>> b16863ab3c0a4737f053e604f6f89d5ee197d7c1
     "metadata": {},
     "output_type": "execute_result"
    },
    {
     "data": {
      "image/png": "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\n",
      "text/plain": [
       "<Figure size 864x504 with 1 Axes>"
      ]
     },
     "metadata": {
      "needs_background": "light"
     },
     "output_type": "display_data"
    }
   ],
   "source": [
    "fig, ax = plt.subplots(figsize=(12, 7))\n",
    "plt.plot(date, ktest, label = \"kerala tested\")\n",
    "plt.plot(date, kconf, label = \"kerala confirmed\")\n",
    "plt.plot(date,utest,label='up tested')\n",
    "plt.plot(date,uconf,label='up confirmed')\n",
    "plt.legend()\n",
    "\n"
   ]
  },
  {
   "cell_type": "code",
<<<<<<< HEAD
   "execution_count": 33,
   "metadata": {},
   "outputs": [
    {
     "data": {
      "text/html": [
       "<div>\n",
       "<style scoped>\n",
       "    .dataframe tbody tr th:only-of-type {\n",
       "        vertical-align: middle;\n",
       "    }\n",
       "\n",
       "    .dataframe tbody tr th {\n",
       "        vertical-align: top;\n",
       "    }\n",
       "\n",
       "    .dataframe thead th {\n",
       "        text-align: right;\n",
       "    }\n",
       "</style>\n",
       "<table border=\"1\" class=\"dataframe\">\n",
       "  <thead>\n",
       "    <tr style=\"text-align: right;\">\n",
       "      <th></th>\n",
       "      <th>Date</th>\n",
       "      <th>State</th>\n",
       "      <th>Confirmed</th>\n",
       "      <th>Recovered</th>\n",
       "      <th>Deceased</th>\n",
       "      <th>Other</th>\n",
       "      <th>Tested</th>\n",
       "    </tr>\n",
       "  </thead>\n",
       "  <tbody>\n",
       "    <tr>\n",
       "      <th>12610</th>\n",
       "      <td>2021-03-01</td>\n",
       "      <td>Odisha</td>\n",
       "      <td>86.0</td>\n",
       "      <td>76.0</td>\n",
       "      <td>0.0</td>\n",
       "      <td>0.0</td>\n",
       "      <td>20276.0</td>\n",
       "    </tr>\n",
       "    <tr>\n",
       "      <th>12611</th>\n",
       "      <td>2021-03-01</td>\n",
       "      <td>Sikkim</td>\n",
       "      <td>0.0</td>\n",
       "      <td>1.0</td>\n",
       "      <td>0.0</td>\n",
       "      <td>0.0</td>\n",
       "      <td>15.0</td>\n",
       "    </tr>\n",
       "    <tr>\n",
       "      <th>12612</th>\n",
       "      <td>2021-03-01</td>\n",
       "      <td>Maharashtra</td>\n",
       "      <td>6397.0</td>\n",
       "      <td>5754.0</td>\n",
       "      <td>30.0</td>\n",
       "      <td>3.0</td>\n",
       "      <td>61746.0</td>\n",
       "    </tr>\n",
       "    <tr>\n",
       "      <th>12613</th>\n",
       "      <td>2021-03-01</td>\n",
       "      <td>Uttarakhand</td>\n",
       "      <td>27.0</td>\n",
       "      <td>26.0</td>\n",
       "      <td>0.0</td>\n",
       "      <td>5.0</td>\n",
       "      <td>10716.0</td>\n",
       "    </tr>\n",
       "    <tr>\n",
       "      <th>12614</th>\n",
       "      <td>2021-03-01</td>\n",
       "      <td>Mizoram</td>\n",
       "      <td>0.0</td>\n",
       "      <td>3.0</td>\n",
       "      <td>0.0</td>\n",
       "      <td>0.0</td>\n",
       "      <td>233.0</td>\n",
       "    </tr>\n",
       "  </tbody>\n",
       "</table>\n",
       "</div>"
      ],
      "text/plain": [
       "             Date        State  Confirmed  Recovered  Deceased  Other   Tested\n",
       "12610  2021-03-01       Odisha       86.0       76.0       0.0    0.0  20276.0\n",
       "12611  2021-03-01       Sikkim        0.0        1.0       0.0    0.0     15.0\n",
       "12612  2021-03-01  Maharashtra     6397.0     5754.0      30.0    3.0  61746.0\n",
       "12613  2021-03-01  Uttarakhand       27.0       26.0       0.0    5.0  10716.0\n",
       "12614  2021-03-01      Mizoram        0.0        3.0       0.0    0.0    233.0"
      ]
     },
     "execution_count": 33,
     "metadata": {},
     "output_type": "execute_result"
    }
   ],
=======
   "execution_count": null,
   "metadata": {},
   "outputs": [],
>>>>>>> b16863ab3c0a4737f053e604f6f89d5ee197d7c1
   "source": [
    "swave.head()"
   ]
  },
  {
   "cell_type": "code",
<<<<<<< HEAD
   "execution_count": 34,
=======
   "execution_count": 36,
>>>>>>> b16863ab3c0a4737f053e604f6f89d5ee197d7c1
   "metadata": {},
   "outputs": [],
   "source": [
    "li=['Kerala','Uttar Pradesh']\n",
    "klup=swave[swave.State.isin(li)]"
   ]
  },
  {
   "cell_type": "code",
<<<<<<< HEAD
   "execution_count": 35,
=======
   "execution_count": 37,
>>>>>>> b16863ab3c0a4737f053e604f6f89d5ee197d7c1
   "metadata": {},
   "outputs": [
    {
     "data": {
      "text/plain": [
       "<function matplotlib.pyplot.show(close=None, block=None)>"
      ]
     },
<<<<<<< HEAD
     "execution_count": 35,
=======
     "execution_count": 37,
>>>>>>> b16863ab3c0a4737f053e604f6f89d5ee197d7c1
     "metadata": {},
     "output_type": "execute_result"
    },
    {
     "data": {
      "image/png": "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\n",
      "text/plain": [
       "<Figure size 864x504 with 1 Axes>"
      ]
     },
     "metadata": {
      "needs_background": "light"
     },
     "output_type": "display_data"
    }
   ],
   "source": [
    "x = np.random.randint(low=0, high=5, size=150)\n",
    "\n",
    "fig, ax = plt.subplots(figsize=(12, 7))\n",
    "sns.lineplot(data=klup, x=\"Date\", y='Confirmed', hue=\"State\",linewidth = 2)\n",
    "plt.legend( bbox_to_anchor=(1.02, 1),loc='upper left', borderaxespad=0, title='feature')\n",
    "plt.title('covid comparrisson')\n",
    "plt.xticks(np.arange(0, len(x)+15, 20))\n",
    "#ax.set_xticks(np.arange(0, len(x)+1, 5))\n",
    "plt.show"
   ]
  },
  {
   "cell_type": "markdown",
   "metadata": {},
   "source": [
    "#### The twoStates function that below will help to compare the covid pandemic statistics of the states of India using a          line plot "
   ]
  },
  {
   "cell_type": "code",
<<<<<<< HEAD
   "execution_count": 36,
=======
   "execution_count": 54,
>>>>>>> b16863ab3c0a4737f053e604f6f89d5ee197d7c1
   "metadata": {},
   "outputs": [],
   "source": [
    "def twoStates(slist,feature):\n",
    "    df=swave[swave.State.isin(slist)]\n",
    "    x = np.random.randint(low=0, high=5, size=150)\n",
    "\n",
    "    fig, ax = plt.subplots(figsize=(12, 7))\n",
    "    sns.lineplot(data=df, x=\"Date\", y=feature, hue=\"State\",linewidth = 2)\n",
    "    plt.legend( bbox_to_anchor=(1.02, 1),loc='upper left', borderaxespad=0, title='states')\n",
    "    #plt.title('Comparison of '+ feature +' on '+ slist[0] +' and '+ slist[1])\n",
    "    fig.suptitle('Comparison of '+ feature +' on '+ slist[0] +' and '+ slist[1], fontsize=18)\n",
    "    plt.xticks(np.arange(0, len(x)+15, 20))\n",
    "    #ax.set_xticks(np.arange(0, len(x)+1, 5))\n",
    "    plt.show\n",
    "    \n",
    "    "
   ]
  },
  {
   "cell_type": "code",
<<<<<<< HEAD
   "execution_count": 37,
=======
   "execution_count": 55,
>>>>>>> b16863ab3c0a4737f053e604f6f89d5ee197d7c1
   "metadata": {},
   "outputs": [
    {
     "data": {
<<<<<<< HEAD
      "image/png": "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\n",
=======
      "image/png": "iVBORw0KGgoAAAANSUhEUgAAA0oAAAHcCAYAAADoelqaAAAAOXRFWHRTb2Z0d2FyZQBNYXRwbG90bGliIHZlcnNpb24zLjMuMiwgaHR0cHM6Ly9tYXRwbG90bGliLm9yZy8vihELAAAACXBIWXMAAAsTAAALEwEAmpwYAADFP0lEQVR4nOzdd3xj1Zn/8c+Re29je3rvM8zQew0pkAYsm4RUSFnS2PTsJpv8Uggpu5slWTYBUjaBlA2QBoQACb0llBmYGYYZpvfmMu7d0vn9ce6VZFmy5SLL5ft+vfySfHV1daxmPXqe8xxjrUVEREREREQiAukegIiIiIiIyHijQElERERERCSGAiUREREREZEYCpRERERERERiKFASERERERGJoUBJREREREQkhgIlkQEYY+YbY6wx5mvpHstoM8ZcZIx51hjT4v2N16R7TFOFMeZr3n0+P91jmYi8++62dI9jpCbz+8tEYoy5cCzeA40xe40xj6fyNkRkdClQkjBjTL4x5lPGmKeMMceNMT3GmGPGmPuNMdcYYzLTPUYZHcaYMuAPQAHwWeC9wJMD7O9/sPd/uo0xtV6g9T1jzJoxGrqkmDHmNu8xnhaz3Rhjvu9d9gdjTE66xjgVRb0GL0xwuf9h/2tR2+Z71zsxzv4JLxsLxpjHY95Teowxh4wxvzHGrErHmEREYumDrwBgjFkM/BlYCjwMfBuoA6qA1wI/B1YC/5KuMabJPiAP6E33QEbZaUAp8EFr7R+GcL2vAHuADKAMOBH4IPBJY8yNwOetVrGedIwxGcBPgWuA24APWWuD6RyTJGU+8FVgL7BhCJeNlS7gQ975POAM4GrgTcaY06y129I0LhERQIGSAMaYPOA+YCFwZZwPzv9ujDkN9+F6SjDGFFlrW7wP/Z3pHk8KTPdOjw/xeg9Ya9dFbzDGfAb4LS4zVQv8+8iHJ+OFlzn6DXAF8D3gs6MVDPuvs9E4lowvST62vdbaX0X9/hNjzFbgu8AngI8nOHYGkGOtbR+d0YqIxKfSOwH3jd4y4L8SZRestS9Ya2+O3maMudwY84wxptX7ecYYc1nsdf26bGPMWmPMw96+NcaY7xpjMo0xud75Q8aYTmPMk8aYFTHHuMYrz3itVy6yzxjTZYzZZIy5Ks5tvt4Yc6cxZrcxpsMY02iM+asx5oI4+z7ujXGhMeZ3xpjjQLN3Wdw5BMaY9xljnveO2+bdzq+NMZUx+51vjHnIGNPkjeNFY8wHBxjDTK/0pME77l+MMUvjPSbxGGPWGGP+aIyp9+7LLcaYf/E+WIQfD+B279fH/NKXZG8jlrX2OPA23H32RWNMQcyYlhhjfmmMOWJcyd5eY8x/xu7n7TvdGHOTd392ec+Th4wxrxvOMY0xy40xNxtjXjFuLla7MWa9Meaf4tx2uXFlhLu8+67e2/fzcfZ9hzHm6ahjPmeM+cc4+wWMMV80xuzxjvmyMebdSd+5keMM9bW23BjzZ298Td7zenq8Yw9yuwW4L1GuAL5qrf1MbJBkjDnVe87VeY/ZNmPMl0xMqe4gr7OAd50njTFHvcd0vzHmFmNMRZJjfYcx5l7vel3eeO42QygLNcZ8zLj3iUPeGI4YY35l4swl8143txljzjLGPOG9XuuMMT81xhTG2f9c73HrMK6k+QdAv/1Gi3HzbR7zfv25iZS4PT7QZd51k348TNR7pPcYrDfGdAD/M8yh/8U7Xez/HSby3v//jDG7cF9evd27POn3em//y4wxL3mvxwPGmOuBrAT75hhj/s24949O79h/MsacFLOfMa5sfZP3mmv2Xgf/a4zpd+zRen2KSOopoyQA/ge8Hyd7BWPMx4AfAq8CNwAWV5ZztzHmw9ba2GPNBh4C7gR+B7wel4EIAqtwZRffAaYBn/OOs8JaG4o5zr/j5tXc4t3m+4HfGGNyrbW3Re13DVAO/AI4CMzCBYSPGGMustY+FXPcQuAJ4BngS7iSw0R/+3twgcZTuFK0DmAucKl3vVpvv7cAfwSOAv8FtABXAT81xiy01n4p5tAFuHlCzwL/BiwAPgncY4xZPVipkzHmVO9v6ME9NkeBt3j32VrA/4D+KW+s1wLfArYOdNxkWGuPG2P+iCubORfvw44x5hTgUaAR+BFwyBvLJ4BzjDEXWGt7vH3n4+7/atzjtg53n5yJK/98aKjHBC4Ezsd92N/jHe9twI+NMdOstd+O+jN+6+37I2AjkA8s947xn/5OxpgbcM+RB4H/B4RwgcRvjTHXWWt/GHXMG3GP4ZO4bEwV7rHZnex9O4zX2izgcdxz7/PeffNhoBj3uktWGfAnXDlU7N/lj+2N3u3sxD3HjwNnAdfjyjLfFnOVRK+zbG+svwfuAdpwGewPAucaY06x1nYPMt7rvNv/Me65vwj3HH/GGHOytXZHEn/z53Cvv5u8Y63GvW+8xhhzgrW2Pmb/E3HPrZ8D/4d7rnwQ95y41t/JGHMGrqS5Bfd6bMS9F/wiiTEN15O41/e/4e4T/z3vGLBrgMtgeI/H5bjX4C3ArXhB8DAs8U7rYrZ/FxfQ/MQ7tl+Wdw1JvtcbY67w/qa9uOdoL+5/yJtjB+EFOA8CZwO/BH4AlAD/hHtOnR+VXf+yd7w/4f72IO79+61ADu492Tdar08RGQvWWv1M8R+gHmgewv5lQCvuw1Fx1PZi3D/gFqA0avte3Ie7t8UcZz3uA8U9gIna/glv/zdEbbvG27YPKInaXuJtOw7kRW0viDPuatw/3/tjtj/uHfuGONeZ7132tahtf8D9o84c4D7K8MbVCMyM2p6N+5AYBJbEGcO/xBzn87H3xQC3+QzuH/+aqG0GuMs7xsVx7s8Lk3zMv+btf+oA+3zG2+efo7ZtxH3AL4rZ9wpv32uitt2f6G8FAsM8ZrznQcC7v5uArKjnkQVuHuR+ONnb71txLrvbe14Ueb8v857fjwAZMccIeceZn6LX2ttjjvNDb/vyJB7r27x9d+E+4L07wX65uIDkydjXAvDp2OcXA7/ODFGv36jtH0zw91jgtpht8R7rFbh5MAM+roMc42Livzat9zieGbP9z979Vhi17W9AN7A0als28Dwx7y9JvAbjvmZxQVrse5W/7ZoB9o93WdKPB5H3yB5gRTL3c9TzoRX35dg0YA7uS7sDRL0PEHmv2gbkJ/mY9Xuvx70n7/e2T4va7v8PiX3v+DRx3o9wr739wONR214EtiTxN+9N8HxO+vWpH/3oZ2x/VHon4N74h/Lt3+tw38zfZK0NX887/z+4b41fG3OdQ9ba38Zsexr3D/l/rLU2arv/DeAS+rvFWtsUdZtNuG/wynD/+P3tbf55Y0yhVy4SBJ7DfUMez3cTbI/VhMs2vMkYYxLscwouy/Qza+3hqHF147ITAeCymOuEcN9kR3vUO413X4QZY6pw33zea63dFHV7FvfNMbhAIpX850KxN6YTgDW4b9pzjDHT/B/cY9+G9w2qMaYcuAR40Fr7l9gDWy+zOJRjeteLfh7kes+DcuCv3jiXexd34D5QnxGvzCrKu3EfaG6Pvm3v9u8FinAZFXCPrwFutFHZQGvti3jZsSQM57V22Fp7V8w2/3m0OMnbBZiBK3HaM8DYqnHZlNKY++J+b59435D3e51ZpwPc/BNjTKl3HH/ciV6z0cdo865vjDHF3vVrcR+wB71+zDECxpgS7xgbca/5eMf4u7X22Zhtj+KqNeZ7x6rCPSfusdZuj7qtblyWcdwZ5uPxZ2vtULPTBbjHqBYXfPwWd99dE+d94BYbZ07SEN7rT8EFYz+31tZFXd//HxLrPbgvZNbHPLezca/fc42b3wvu+THLGHNuEn/zaL0+RWQMqPROwPsWfAj7L/BOX4lz2WbvdGHM9ngfthoSXOZvjzc3Id4/4i2xt2mMWQR8E3gDrrtbNEt/tdbaxjjb4/kWrkTrbqDeGPME8ABwp41MXh7OfXTYWhvbOMIv9RlsnsZAt7cFF4TF3t5oK/ZO/Q/0/jyzr3s/8VR7p4txQcVLg9zGUI6JcXNFvoabzzAnzr5l4D60GmM+Bfw3sMcYswX34eVua+0jMbdvcB+gEvFv37+/4+27heTKbIbzPIpX1pfs8yjaP+IC0geNMZdaa5+Judx/LH42wDGqY35P+DozxrwdV457Ev3njJQNNlhv3sg3cF+YxM5/SxTsxR7jNbhy2jNwGbPBxpDMfT3Y82C0xXt/G7JhPB7b42wbTCeuPBhcNvwYsM32L7lOePwhvNcP9XFYgSsJr413u55puAzYv+H+HzxljDmMy5b9Gfid7V+iOFqvTxEZAwqUBNwHrvO9eTPJzJ1IlEUZyEDzaxJdFu924n0I6LOf9+H4SdyHpe8DL+NKlELAF4HXxDlG0t2TrLU7jDErcSU5FwMX4Ormv+7Vre9KMPbBDHQfDXa84dzeaPMnzftzB/wx/Reu1j+ehph9B/uQN5Rjgvug/2bcPIwncSWavcAbcaU14ay6tfZWY8w9wJtwj+k/AtcZY+601voNQ4w3xktJ/Hi9ErVvor8p2cdrrJ9H0Z7HBXN/JRIsPR3nWJ8ncXvpwzG/x32dGWP+ATd/8XncnK4DuA/RGbjHecDqB2PMXNzj24wLlrbhsosW9x4waNME4zp7/hVX5vgFXHDV4R3jjgRjSOa+Ho3nAd5YwGWz4ymI2W/Yhvl4DKcDXdBa+3CS+/Y7/hDf64f6OBjveJ8ZYEy1ANbav3sB2xuAi7yfdwFfNsaca13DG99ovT5FZAwoUBJwk1vPx02A/bck9t/lna7Czb+IttI7TXqy+hCtxJU4RfO/2fZv82JgJvABa+3Po3f0JuKPmLW2C1dedL933DfivkH8DK6lbfR9FCsV95F/rHi3txz3wSZVj4lfOncFrgTF/zDtT55P5sPQDtwHmJOS2C+pYxpjSnFB0i+ttR+JuSy2XA0Aa+0R3HpBPzWuU+AvgXcaY/7LWvuCd/uXAPuTKDPynwMr6H/fryA56XytYa193riOg38FHjDGvNFGJsf7j0XbED7sJvJe3Afxi6LLq4wxyxNfpY8rcMHQW621j0Vf4JVidSVxjHfhAoFLrbXhDJRxnf8GzWgNIPp5ECvZ5wFEsmIriJQ2xjtW9PNhoC8eBrpspI/HWBnKe/1QH4cdQCXwaIIMVx/W2lbc/9Lfe7fvN2H5IFHNYERkYtEcJQH3wXAb8DkTp+UwuE5j3hs/uPrsNuCfjTFFUfsUAf+Mm6Cb7ByMofqoMaYk6jZLgI/gmiY84W32v7GLzTS9niTnKgzEq1OP9aJ3Wh71+37g/Saq7avXSclv0HDPSMfis9bW4CaMv8UYszrq9gzum1VwXZZGnRck/RZXevfNqA9WL+GylR8xxvQr+zOuNXy5N/7juPLFS+MFMVFzwZI+JomfBzOILHLpb8s3xvT5pt6bV+TP9/KP+Uvv9FsmquV61HGiuyXei3ucP2P6tmc/mf7zihJJ52sNcEsD4OYj9eKCpfO9i/4C1ABfiLrPw4wxedFjHkQQd1+F/yd5j/mXh3B96P9Y/xORNcOGdQzcl0fD/l/pvTafBS4zUa3+jTHZuKxmsvznwj8ZY4qjL/B+/5B3eXRA3eqd9nt8BrlspI/HWBnKe/16XFe890e/h3v33Ufo7xe4507cjJIxJrrEN5n/CSIyASmjJFhr240xb8ZlRO42xvwV90+5HveN2kW4koL/8PZvNMb8C+7bsueMMbd5h7oGN9fkw9ENF0ZZnXebP8P9c3w/rmnCh6I+oD+N15LbuIn5B3FtfN+LK6U4YYRj+KsxpglX8nEAVxd/De6DxS/Bfcg2xlyHC05eMMb8GFcS8g5cu+tv2eTaFQ/FJ3HB4lPGGL89+Jtxj93/xcy1Ga5LvW+VA7hv2U/CfZtfBPyntTb8zam11hpj3oub67PJe8xewZUOLQb+ARfE3eZd5TpcsPeAMeZ23AebPNwHnr3Avw7lmNbaFu+5/B7j1nV5AZiHa8W7h77zAZYCTxjX4nwzrnxvBfBRb9+nvL/pBWPMV3HzozYYY36LKy+bgZss/kbcZG+sta96j8N1wKPGmN/j2mFfh2sQMFj2LN2vtehxrPMC2IeA+40xb7bWPm6MeR9ubsY277HYiXs9LMc9Flfg5msM5nfAlbj76Re4OTGXk7jMLNYDuNKsXxq3PlEDcA7u8dhFcv/r/ogLXO73Xq/duABxDf1bVQ/VZ3D3wzPec6IR1x486f/B1toGY8xnce23X/ZeIwdwc++u9k4/Yq2NLj3dgnvf+Zgxpt273Rpr7aODXDbSx2OsJP1e770nfxrXBfR5Y8xPcMH/B3D/6+bGHPu/cY//fxo3d+1RXGnnXFwmqxP3vxFgqzHmWVwDCf/94Frcc+iOUf2LRWRsjVb7PP1M/B/cP8FP4/75NODavR7DBVDvJarFsbf/FbgPtm3ez9+Ay+Mcdy9RrVSjtn+NOC2Sid+S+xpv22txH1L348ppNgPvinPsNbha+gbch4HHgfPwWh/H7Ps4sDfBfRJvLP+E+8B4FPeP8AiuFOaiONe/wNu3GfeP9SVcUBe7X9wxxLv9QR7DtbgPrse9+2cr8C9xHjv//rwwyeP6j5X/04378Pg8rnPXmgGuOw/XVWqvd716XBD0bWBOzL6zvH33e/sew5V9XTycY+ImW/8U9+GlE/fh6Z9i/35c0PQ93FybRtw8j524eQ8z4vxNb8JlVPz7+QDuw/pHY/YL4NYL2kfk+fpuEjz3B7gPR/pau5AEraDj7Hubt++0OJed7P3NbXjPd9xaQ7/CrWflP2Z/w60xVZ7M6yzqdbXFe5yO4OaVlRO/FXi8befj3rtavMfwz97YBrzdmGNc7j2P2nDP7ztwH4z73a/xxjDQa8sb39+8v68GF/yuZgivb+84r8O939ThPujXeb+/NsH+b8RlNzq923o8ycuSejwY4ntUzPOhNYn94t6fUZcn/V7v7f8PuNe5/7r9hnef9nt94ALZT+C+ZPFfezuAXwOvj9rvC7gvzmqijvtb4OTRfn3qRz/6GdsfY+1gc6dF0s+4leR/jvtw9nh6RyMiIiIik53mKImIiIiIiMRQoCQiIiIiIhJDgZKIiIiIiEgMzVESERERERGJoYySiIiIiIhIDAVKIiIiIiIiMRQoiYiIiIiIxFCgJCIiIiIiEkOBkoiIiIiISAwFSiIiIiIiIjEUKImIiIiIiMRQoCQiIiIiIhJDgZKIiIiIiEgMBUoiIiIiIiIxFCiJiIiIiIjEUKAkIiIiIiISQ4GSiIiIiIhIDAVKIiIiIiIiMRQoiYiIiIiIxFCgJCIiIiIiEkOBkoiIiIiISAwFSiIiIiIiIjEUKImIiIiIiMRQoCQiIiIiIhJDgZKIiIiIiEgMBUoiIiIiIiIxFCiJiIiIiIjEUKAkIiIiIiISQ4GSiIiIiIhIDAVKIiIiIiIiMRQoiYiIiIiIxFCgJCIiIiIiEkOBkoiIiIiISAwFSiIiIiIiIjEUKImIiIiIiMTITPcARmLatGl2/vz56R6GiIiIiExy69evr7PWVg7xOlWZmZk/BVajBMV4EwI29/b2fuiUU06pibfDhA6U5s+fz7p169I9DBERERGZ5Iwx+4Z6nczMzJ9Onz59RWVlZUMgELCpGJcMTygUMrW1tSuPHj36U+Ct8fZRZCsiIiIikhqrKysrmxUkjT+BQMBWVlY24bJ98fcZw/GIiIiIiEwlAQVJ45f32CSMhxQoiYiIiIiIxFCgJCIiIiIyxV1//fVVLS0tg8YGye43GUyJP1JERERERBL70Y9+VN3a2jpobJDsfpPBlPgjRURERETEaW5uDlx44YWLly1btnLJkiWrPvvZz86oqanJuuCCC5aeccYZSwHe/e53z129evWKxYsXr/r0pz89E+CGG26oit3vD3/4Q/GJJ564fOXKlSsuvfTShU1NTQGAj33sY7MWLVq0aunSpSuvvfba2en7a4dvQrcHFxERERGRofnDH/5QPH369J7HH398J0B9fX3GHXfcMe2JJ57YPmPGjF6AG2+88VB1dXWwt7eXs88+e9lzzz2X9+Uvf7nmlltuqfb3O3LkSOa3vvWtGU8++eT24uLi0Je+9KXp3/jGN6o///nP19x///1lu3fv3hwIBKirq8tI7188PMooiYiIiIhMISeffHLHU089VfzRj3501oMPPlhYUVERjN3n9ttvL1+5cuWKlStXrtyxY0fuxo0bc2P3efzxxwt27dqVe/rppy9fvnz5yjvuuKNi//792eXl5cGcnJzQVVddNe/2228vLSwsDI3NXza6lFESEREREZlC1qxZ0/Xiiy9u+f3vf1/ypS99adbDDz/cHH35q6++mv2DH/ygev369VsrKyuDV1555fzOzs5+CRZrLeeee27zn/70pz2xl23YsGHrvffeW3zHHXeU3XLLLVXPPvvs9lT+TamgjJKIiIiIyBSyd+/erKKiotDHPvax45/61KeObdiwIb+goCDozy9qaGjIyMvLC5WXlwcPHDiQ+fjjj5f4143e78ILL2xbt25d4ebNm3MAWlpaAps2bcppamoKHD9+POMd73hH06233npg69at+en5S0dGGSURERERkSlk/fr1eV/84hdnBwIBMjMz7c0337zvqaeeKrz00kuXVFVV9Tz33HPbV69e3b5kyZJVc+fO7TrllFNa/eteffXVddH7/ehHP9p71VVXLezu7jYAX/3qVw+VlJSE3vzmNy/u6uoyADfccMOBdP2tI2GsnbiLBZ966ql23bp16R6GiIiIiExyxpj11tpTh3KdjRs37l27dm1dqsYkI7dx48Zpa9eunR/vMpXeiYiIiIiIxFCgJCIiIiIiEkOBkohIqhzZCPufS/coREREZBjUzEFEJBVCQbj9rRDshn/dC5k56R6RiIiIDIEySiIiqVC3AzoboacdOpvSPRoREREZIgVKIiKpcGRj5Hxnc+L9REREZFxSoCQikgrRgVKXMkoiIpIe+fn5J/nn77zzzpJ58+at3rFjR/ZIj3vllVfO//nPf1420uOMZwqURERSoU+g1JK+cYiIiAD33HNP0ec+97k5999//44lS5Z0J3Od3t7eVA9rXFOgJCIy2kIhOLop8rtK70REJI0efPDBwo9//OPz77333p2rVq3qArj55pvLTzjhhBXLly9f+a53vWueHxTl5+ef9KlPfWrmmjVrlj/yyCOFn/vc52asXr16xZIlS1a9853vnBcKhfodP5l9JiJ1vRMRGW0Ne6ArKjjqUqAkIjLVff53G+dsP9qSP5rHXDq9qP0//3HtgYH26e7uNu94xzsW//Wvf9120kkndQK8+OKLub/73e/K161b92pOTo59z3veM/fWW2+tuO666+o7OjoCq1ev7vj+979/GODEE0/s+O53v3sE4PLLL19wxx13lLzrXe/qU1P++c9/vmawfSYiBUoiIqMtuuwOVHonIiJpk5WVZU8++eTWW2+9ddoZZ5xxAODBBx8s2rx5c/7atWtXAHR2dgaqqqp6ATIyMrjmmmsa/Os/8MADRTfeeOP0zs7OQGNjY+bKlSs7gD5BUDL7TEQKlERERtuRDe40kAWhHpXeiYgIg2V+UsUYw7333rv7/PPPX/qFL3xh+ne+852j1lrztre9rf6HP/zhodj9s7OzQ5mZLkRob283n/3sZ+c999xzWxYvXtzzmc98ZmZnZ2efqTvJ7DNRTYo/QkRkXPEzSrNOcacqvRMRkTQqKioKPfjggzt+97vfVXzve9+bdskllzTfd999ZYcOHcoEOHbsWMb27dv7dcJrb28PAEyfPr23qakp8Kc//alfl7tk9pmolFESERlN1kYCpfnnwoFnFSiJiEjaVVdXBx988MHtF1xwwfLKysoDX/7ylw9dfPHFS0OhEFlZWfamm27av3Tp0j7d8KZNmxZ897vfXbty5cpVs2fP7l67dm1b7HGT2WeiMtbadI9h2E499VS7bt26dA9DRCSicT98/wTIr4BL/wN+/0FYeTm8/fZ0j0xEREbAGLPeWnvqUK6zcePGvWvXrq1L1Zhk5DZu3Dht7dq18+NdptI7EZHR5GeTZqyF3BJ3XhklERGRCUeBkojIaIoOlHKK3Xl1vRMREZlwFCiJiIymPoFSkTuvrnciIiITjpo5iIiMpuhAKcNrIKTSOxERkQlHgZKIyGhpOQqtxyCnBMoWREruVHonIiIy4aSs9M4Yk2uMed4Ys9EY84ox5uve9q8ZYw4ZYzZ4P2+Mus4XjTE7jTHbjDFvSNXYRERGrG4H3PcZ99PhLWAeziatAWMguxAw0N0KoWDahioiIiJDl8o5Sl3Aa6y1a4ETgUuMMWd6l33PWnui93M/gDFmJXAVsAq4BLjZGJORwvGJiAzdwXVwx7vhB6fBuv91PzefDbse61t2BxAIROYpqfxORETG2LZt27KXLFmyKnrbZz7zmZlf+cpXqgFuuummir1792b5l11//fVVLS0tI4oPPvOZz8ysqqpas3z58pVLlixZ9etf/7pkJMebNWvWCUeOHBlyFdzpp5++7Mknn8wfyW2nLFCyTqv3a5b3M9CiTZcBd1hru6y1e4CdwOmpGp+IyJD94cPw04vh1fvc/KOTr4bZp0HLYfjl5fDcrW4/P1ACdb4TEZFx61e/+tW0/fv3hwOlH/3oR9Wtra1Dig96e3v7bfvIRz5y7NVXX91y55137rruuuvmB4N9qyp6enqGO+QxldKud8aYDGPMBqAGeMha+5x30XXGmE3GmJ8ZY8q8bbOAA1FXP+htExFJv1AIXr7LnT/30/Cpl+GtN8H7H4SLvgyBTGivd5f3CZTU+U5ERMafn//852WbN2/Of9/73rdw+fLlK7/xjW9U1dTUZF1wwQVLzzjjjKUA7373u+euXr16xeLFi1d9+tOfnulfd9asWSd87nOfm3HKKacs+9nPflaW6DZOPvnkzoyMDI4ePZp5+umnL7vuuutmnXbaactuuOGG6v/7v/8rWbNmzfIVK1asPPvss5ceOHAgE+Do0aMZ55xzzpIVK1asfNe73jXP2kie5eabby4/4YQTVixfvnzlu971rnm9vb309vZy5ZVXzl+yZMmqpUuXrvz6179e5e//m9/8puyEE05YMX/+/NUPPvhg4VDvo5Q2c7DWBoETjTGlwB+NMauBW4Bv4LJL3wD+C/gAYOIdInaDMeZa4FqAuXPnpmbgIiKxulvBhiCrAF77tcj2jEy44POw+GK45+OQkQUViyOX5/oZJQVKIiJT2t0fn0PNlhGVgvVTtbKdy394YPAd+3v/+9/fcMstt1R997vfPXD++ee3A9x6663VTzzxxPYZM2b0Atx4442Hqqurg729vZx99tnLnnvuubwzzjijAyA3Nze0fv36bQPdxqOPPloQCASsf7zGxsaMF154YRtAbW1txlVXXfVqIBDgxhtvnHb99ddP/8lPfnLwC1/4wsyzzjqr9bvf/e6RO+64o+Q3v/nNNIAXX3wx93e/+135unXrXs3JybHvec975t56660Va9eu7Thy5EjWjh07XgGoq6sLT93p7e01L7/88tY777yz5Prrr595ySWXbB/KfTQmXe+stY3GmMeBS6y13/W3G2N+Atzn/XoQmBN1tdnA4TjH+jHwY4BTTz11oFI+EZHR09noTvNK418+62T46N/ceRP1vY9K70REJE2MiZeHSLw91u23315+2223Tevt7TW1tbVZGzduzPUDpfe9730Nia536623Vt91110VBQUFwV/84he7AwFXxPbOd77zuL/Pnj17si+//PLZtbW1Wd3d3YE5c+Z0ATz77LNFf/jDH3YCXHXVVU0f/vCHgwAPPvhg0ebNm/PXrl27AqCzszNQVVXV+453vKPxwIEDOVdfffWct7zlLU1XXHFF+JvJt73tbQ0AZ599dtvnP//57KT+6CgpC5SMMZVAjxck5QGvBf7dGDPDWnvE2+0KYLN3/l7g/4wxNwIzgSXA86kan4jIkHQ0utPc0sT7xPvHo9I7EREBhpv5GYnq6urepqamPs3Rjh8/nrFgwYKuwa776quvZv/gBz+oXr9+/dbKysrglVdeOb+zszM8baeoqCiU6Lof+chHjl1//fXHYrdHX+e6666b+8lPfvLou9/97qb77ruv6Prrrw+X9vmBVTRrrXnb295W/8Mf/vBQ7GWbN2/e8sc//rH45ptvrrrzzjvLf/vb3+4FyM3NtQCZmZkEg8HkosMoqZyjNAN4zBizCXgBN0fpPuA/jDEve9svAj4NYK19BbgL2AI8CHzcK90TEUm/ziZ3miijlEi49K5pVIcjIiIymJKSklBVVVXPPffcUwRw7NixjMcff7zkNa95TStAYWFhMDqQKigoCDY1NQUAGhoaMvLy8kLl5eXBAwcOZD7++OMj6l4Xq6WlJWPu3Lk9ALfddluFv/3MM89s+dnPflYBcNdddxU3NzdnAFxyySXN9913X9mhQ4cy/b9l+/bt2UeOHMkMBoNcc801jTfccMOhl19+edTKG1OWUbLWbgJOirP9vQNc55vAN1M1JhGRYfNL73KH+H9CpXciIpJGt99++56Pfexjc//1X/91DsC//uu/Hl61alUXwPve9766f/7nf573+c9/PrRu3bqtV199dd2ll166pKqqque5557bvnr16vYlS5asmjt3btcpp5zSOvAtDc2XvvSlw+985zsXVVdXd5966qlt+/fvzwH4zne+c/jKK69cuHLlyhVnnXVW64wZM7oBTjnllM4vf/nLhy6++OKloVCIrKwse9NNN+3Pz88PffCDH5wfCoUMwPXXX39wtMZoojtJTDSnnnqqXbduXbqHISJTwYu/hHuvg7XvgituSf56T/wnPHYDnPsZeO1XUzc+ERFJKWPMemvtqUO5zsaNG/euXbu2LlVjkpHbuHHjtLVr186Pd1lK24OLiEwaIy690xwlERGRiUSBkohIMlR6JyIiMqUoUBIRSUYyXe/iUdc7EZGpLOTPnZHxx3tsEnbvU6AkIpIMld6JiMjQba6trS1RsDT+hEIhU1tbW0JkqaJ+xmTBWRGRCW/EpXcKlEREppre3t4PHT169KdHjx5djRIU400I2Nzb2/uhRDsoUBIRSYZK70REZIhOOeWUGuCt6R6HDI8iWxGRZAy79M7LQCmjJCIiMqEoUBIRScawS++8jFJXC0zgdetERESmGgVKIiLJGG7pXWYOZORAqBd6OkZ7VCIiIpIiCpREZOroaIS2YSyQ3tMJwS7IyIasvKFfX53vREREJhwFSiIydfz0YvjhGdDbPbTrRZfdmWF0eNWisyIiIhOOAiURmRq6WqB+J7TXwfHdQ7vucMvufOp8JyIiMuEoUBKRqaHpUOR83fahXXe4He984dK7puFdX0RERMacAiURmRqaDkbO1+8Y2nWH2/HOp9I7ERGRCUeBkohMDU0HIufrdg7tuiMuvfMCJZXeiYiITBgKlERkaojOKKWt9G6EgdKG/4MXfjqyY4iIiEhSMtM9ABGRMdEcNUepfodb/DXZDnbjofSupxPu/WcIBWHNVZBTOPxjiYiIyKCUURKRqSE6o9TZNLT1lMZD17v6HW7RWiy01Q7/OCIiIpIUBUoiMjX4c5TyytzpUMrvxkPXu5qtkfMKlERERFJOgZKITH6hUKQ9+ILz3elQOt+FS+9Kh3f7o1F6d+yVyHkFSiIiIimnQElEJr+2Wgj1QF45TF/jttUNIVAKl96NcI7SSErvojNKrTXDP46IiIgkRYGSiEx+/vykktkwbak7P5RAaTx0vetTejeE+VUiIiIyLAqURGTy8+cnlcyBaUvc+YlUetfZDE37I7+3KaMkIiKSagqURGTyC2eUZkH5QjABaNgHvV3JXX/EpXcj7HpXu63v75qjJCIiknIKlERk8vPXUCqZDZk5UDoPbBCO7xn8usFe6G4BTCQzNFQjLb2r2eJOC6vdaasCJRERkVRToCQik1+49G62Ox1K+Z0f3OSWQGCYb5nZhYCBnnYXeA2VPz/J79injJKIiEjKKVASkckvXHo3x51WeIFSMg0dOhrc6XDL7gBMVDZqOFklP6O04AJ3qkBJREQk5RQoicjk5wdKxbPc6bTF7jSZQMlv5DDcjne+kZTf+Rml+ee4+VUdxyHYM7LxiIiIyIAUKInI5NbT6TIwJgOKprttfovwZErv/Nbgw+145xtu57u2OtflLrsQSudDfoXb3l4/svGIiIjIgBQoicjk5jdyKJ4FgQx3Prr0ztqBrz/Sjne+4Xa+87NJlcvdHKmCSvd7vEVnn/8JPHPT8McoIiIiYZnpHoCISEpFLzbrK6xyGZ7ORpexKaxMfP10l975gVLVCnfqB0qx85SCPfDAv7pufie/F/LKhj9WERERUUZJRCa5eIGSMcl3vkt36Z3fyKFqpTtNFCg1HXBBEkD97uGNUURERMIUKInI5BZeQ2lW3+3Jdr4brdI7P6PkB17JSjaj1Lg/cv74rvjHuufj8NtrBi83FBEREQVKIjLJxa6h5At3vts+8PVHq/TOn6M0lNI7a6MCJS+jVJhgjlKfQClORqmzCV76FbzyR2g/nvwYREREpigFSiIyucWuoeTzM0r1Owe+fjpL75oPQ1cT5JW7eVUQlVGq67tvw77I+fo4GaXozJkfPIqIiEhCCpREZHKLN0cJIi3Cky69Kx3ZOPzSvaF0vYvOJhnjzhd4AdNQS+9qt0XO+/eJiIiIJKRASUQmL2uhKao9eLTyhW7x1oa90NOR+BjpLL0LN3JYEdkWzijFlt5FZZTild5Flxj687ZEREQkoZQFSsaYXGPM88aYjcaYV4wxX/e2lxtjHjLG7PBOy6Ku80VjzE5jzDZjzBtSNTYRmSI6GqCnDbKL+jdjyMqF6lWuU9yB5xIfI52ld7GNHCAyRym29C46o9TR0H8eUnSgpNI7ERGRQaUyo9QFvMZauxY4EbjEGHMm8AXgEWvtEuAR73eMMSuBq4BVwCXAzcaYjBSOT0Qmu+iyO790LdrCC93prscSH8MvvRutdZSGVHoX0xoc+na987vX9XZByxEwGZF9Y7NKKr0TEREZkpQFStZp9X7N8n4scBlwu7f9duBy7/xlwB3W2i5r7R5gJ3B6qsYnIlNAovlJvoUXudPdCQIla6MySiNsDz7U0rtQMBLcVC2PbM/KcxmyYHdkbI1+Z79ZkfWhogOl3i5o2BP5XYGSiIjIoFI6R8kYk2GM2QDUAA9Za58Dqq21RwC8U29mMrOA6HqQg942EZHhSbSGkm/e2ZCRA0c2QVt9/8u7W11pXlYBZGSNbCzh0rskA6X6XdDb4br15ZX1vaxgmjv1Gzr485NK50H5osj1o49lQ5CV735v0hwlERGRwaQ0ULLWBq21JwKzgdONMasH2D1OXQz9VkU0xlxrjFlnjFlXW1sb5yoiIp5Eayj5svJg7pmAhT2P9798tMruYOhd745ucqfTT+h/WWFM57voQKnCC5SiO9/585PmnQ0YV6YX7El66CIiIlPRmHS9s9Y2Ao/j5h4dM8bMAPBO/dZNB4HohU5mA4fjHOvH1tpTrbWnVlZWpnLYIjLRJVpDKdoir/wu3jwlv+PdSMvuoG/pXXf74PsffdmdxguUCmIWnfUbOZTOdd38oG/pnR8oVa2EohmAdWs0iYiISEKp7HpXaYwp9c7nAa8FXgXuBa72drsauMc7fy9wlTEmxxizAFgCPJ+q8YnIFDDYHCWImqf0eKQ5gm+0Ot6BK90rm+9K4H58ARx+aeD9kwmUwhklL1AqS1B65891qlwWuS80T0lERGRAqcwozQAeM8ZsAl7AzVG6D/gO8DpjzA7gdd7vWGtfAe4CtgAPAh+31gZTOD4RmewSraEUbfoayCt3ZXqxneJGs/QO4B2/gmnLXIbnp6+FJ/4Tgr3x9/UDpeo4FcuxgVKDX3o315XlZRe6bJjfIrzOC5SmLY0ESlpLSUREZECp7Hq3yVp7krV2jbV2tbX2em97vbX2YmvtEu/0eNR1vmmtXWStXWatfSBVYxORKaC3G1oOu0VlBwqUAgFYeIE7v+vRvpeNZukduOzQh5+AMz4KoV547Ab4zTv6Z7JajrkFZXOK3byjWP3mKEWV3hkD5Qvc78d3QygEdTvd79OWRhpbaC0lERGRAY3JHCURkTHXsNeVuZXMgczsgfeNLr+LNpqld76sPLj0O/DeuyGnBHY+HFlY1ncsKpsUiPM2Hd31rqfDBVWBLG/+EX3L75oOuO55hdUuM+bP11LpnYiIyIAUKInI5OR3ffO7wA3Eb+iw58m+pXCjXXoXe5vL3+jOx67jNND8JIhq5lAbySaVzIaAt0Z3dOc7v5HDtKWR/UCBkoiIyCAUKInI5OQ3M/C7wA2kdK7LwnQ1922yMNqld7EWXuhOYzvuDRooRZXeRTdy8EV3vquNmp8EUYGS5iiJiIgMRIGSiExOfmOG8iQyShDJKkVnd1JRehfND5T2PQO9XZHtgwZKUaV3DXvd+dK5kcujS+/qojreARQroyQiIpIMBUoiMjkNpfQO4md3Ull6B1A03a1t1NMOB19w27rboG4HBDKhcnn86+WVucu7mt2+0DdQii69q40pvcsvh8w86GpKfvFbERGRKUiBkohMTvVDzCjNPw9MBuz/OzzyDQj2pL70DiKNJPwArWYrYF0b8azc+NcxJjJP6dB6d1o6P3J5QaXXIrwJjmx02/yMkjFqES4iIpIEBUoiMvn0drlubybQN9MykLxSuPgr7vxT33XrHPnzf1JVegf9S/6ObnKn0+OsnxTND5T8/aP/TmMi85R6OyC7KNIRD9TQQUREJAkKlERk8mnYC1gXPAzWGjzauZ+C998PJXPhyAZoOeK2p6r0DmDe2a619+GXoKNh8PlJPj9QCna707KY9ZaiSw6nLXHBk09rKYmIiAxKgZKITD7hjndJlt1Fm3c2fPQZWPsu93tGtpsTlCrZBTDnDLfm056nkg+U/EVnATJyIp3wfNHd/vyyO5/WUhIRERlUZroHICIy6o4PoTV4PLnFcMUtsPYdEAq6RWJTadGFsO9p2PUIHNvitlUPllGaFjlfOqf/wrTRQaLfyMGnFuEiIiKDUkZJRCYfvzV4sh3vEll4ISy+eMTDGfx2XuNOX/4d9LRB8SwoqBj4OtEZpNJ5/S+vSCZQUkZJREQkEQVKIjL5jKT0Lh1mnug663W3ut8HK7uDyBwliN+wYqDSu/BaSpqjJCIikogCJRGZfEYrozRWAhmw4PzI78kESoVRgVJsIwdwgVTVKihb4H6i+c0cmg9DKJT4Nv78Wbj744OPRUREZBJSoCQik0tPpyspMxnJtwYfD/z1lACqB2kNDoNnlIyBDz0EH3kaMmKmo2blQf40CPVAW03843c0wgs/hQ2/iiy8KyIiMoUoUBKRySW6NXhGVrpHk7xFUYHSkEvv4mSUwHXUyymMf9lg85RqX42cbz02+HhEREQmGQVKIjK5+B3vJkrZna98Iay8DJa8vn+pXDz50V3vEgRKAykZZJ5SzZbI+ZajQz++iIjIBKf24CIyudSPsDV4Or39F8nvm5kNJ70Hulr6tgpP1mAZpZqtkfPKKImIyBSkQElEJhe/kcNE6Xg3Epf9cPjXHWwtpehASRklERGZglR6JyKTy0QtvRtrA5XeWQvHXon8roySiIhMQQqURGRyqfczShOw9G4slcxxp/FK79pqoeN45HdllEREZApSoCQik0dPBzRPwNbg6VDsraUUL1DyGzkEvOpsZZRERGQKUqAkIpNHw153WjZvYrUGT4fCasjIgfY6aD/e9zJ/ftLs09ypMkoiIjIFKVASkckj3PFO85MGFQjAnNPd+T1P9r3Mzyj5i+AqoyQiIlOQAiURmTzUyGFoFl7oTnc/1ne7n1Gad5bLOnU1Q3f7mA5NREQk3RQoicjkcVyNHIZkkZcx2hUVKFkbCZSqVroSPYBWld+JiMjUokBJRCYPld4NzYwTIbcUGvfB8T1uW9MB6G6Fgiq3kG2RFyi1qPxORESmFgVKIjJxWesaOGy8A/70KTi03m2vUEYpKYEMWHC+O++X34WzSSvcqTJKIiIyRWWmewAiIsP263+EnQ/33VaxGErUGjxpiy6Crfe68rtTPxBZaLZqpTstmu5OlVESEZEpRoGSiExM9btckJSRDYsuhrlnup+ZJ0GG3tqS5ne22/MkhIJxMkpeoKSMkoiITDH6NCEiE5OfSVr+JnjbbWkdyoRWvgDK5rsSxsMb+jZyAM1REhGRKUtzlERkYtrxkDtd/Lr0jmMy8LNKOx+Gum3ufOUyd6qMkoiITFEKlERk4unpgL1PufOLX5vesUwGfpvwF2+HYLeb45Vb7LYpoyQiIlOUAiURmXj2Pg29nTBjbeSDvAzf/PMAA82H3O/+/CRQRklERKYsBUoiMvH4ZXdLXp/ecUwW+eWuCYYvOlAqmAYmAO310Ns99mMTERFJEwVKIjLx7NT8pFHnl99BpJEDuLWWCqrc+baasR2TiIhIGilQEpGJpX4XHN8NuaUw+9R0j2byWBgdKK3oe5nmKYmIyBSkQElEJpZwt7uLXbZDRsec0yG/wgWg05b2vUzzlEREZApKWaBkjJljjHnMGLPVGPOKMeaT3vavGWMOGWM2eD9vjLrOF40xO40x24wxb0jV2ERkAlPZXWpk5sAH/goffAiycvteFs4oKVASEZGpI5ULzvYCn7XWvmiMKQLWG2O8Tzh8z1r73eidjTErgauAVcBM4GFjzFJrbTCFYxSRiaS7HfaoLXjKTFscf3s4o6TSOxERmTpSllGy1h6x1r7onW8BtgKzBrjKZcAd1toua+0eYCdweqrGJyIT0N6nIdjlOrQVVqZ7NFOHMkoiIjIFjckcJWPMfOAk4Dlv03XGmE3GmJ8ZY8q8bbOAA1FXO8jAgZWITDUqu0sPZZRERGQKSnmgZIwpBH4PfMpa2wzcAiwCTgSOAP/l7xrn6jbO8a41xqwzxqyrra1NzaBFZHza+bA71fpJY6vIC5SUURIRkSkkpYGSMSYLFyT92lr7BwBr7TFrbdBaGwJ+QqS87iAwJ+rqs4HDsce01v7YWnuqtfbUykqV3ohMGcEe1xbcBPoujiqpV+iV3imjJCIiU0gqu94Z4H+BrdbaG6O2z4ja7Qpgs3f+XuAqY0yOMWYBsAR4PlXjE5EJxv+QXlAFGansQyP9hAOlGgipv46IiEwNqfy0cQ7wXuBlY8wGb9u/Ae80xpyIK6vbC3wYwFr7ijHmLmALrmPex9XxTkTC/MVO/TIwGTuZ2ZBXDh3Hob0eCqvSPSIREZGUS1mgZK19mvjzju4f4DrfBL6ZqjGJyATWcsSdKlBKj6LpLlBqOapASUREpoQx6XonIjJiCpTSS/OURERkilGgJCITg/8BvVCBUlqo852IiEwxCpREZGJQRim9whklBUoiIjI1KFASkYkh3MxhxsD7SWqEM0oqvRMRkalBgZKITAx+yVdRdXrHMVUpoyQiIlOMAiURmRjCpXfKKKWFMkoiIjLFKFASkfEv2APtdWACUFCZ7tFMTcooiYjIFKNASUTGP7/jXUEVBDLSO5apKjqjZG16xyIiIjIGFCiJyPin+Unpl10AWQUQ7ILu1nSPRkREJOUUKInI+BcOlDQ/Ka3ySt1pR2M6RyEiIjImFCiJyPinNZTGh9xSd9rRkNZhiIiIjAUFSiIy/vlzlAoVKKWVn1HqbExu/+bD0HQoVaMRERFJqcx0D0BEZFDKKI0P4YxS4+D79nTCjy8CY+DTr6gJh4iITDgKlERk/AvPUVKglFZ5Ze40mYzSrkcircS7WiLZKBERkQlCpXciMv75i5wqUEqvoTRz2HJP5HxXSypGIyIiklIKlERk/AuX3qnrXVol28yhtwu2PRD5fZIGSn995Sh/fUUL8IqITFYqvROR8S3YA+11YAJQUJnu0UxtyTZz2PUodDVHfp+EgVJTRw8f/fWLAKz/8mspzc9O84hERGS0KaMkIuOb3/GuoEoNAdIt2WYO0WV3MCkDpfX7jhMMWYIhy9921ad7OCIikgIKlERkfAs3cqhO7zgkuWYOvV3w6v3ufPVqdxqdXZoknt8TKT98emddGkciIiKpokBJRMa3cKCk+UlpF27mMMAcpd1PQFeTC5Jmnui2TcKM0gt7j4fPP71DgZKIyGSkQElExo/7PgN3vgdCwcg2raE0fiRTerflbne68jLIKXbnJ1lGqbMnyKaDjRgDRTmZ7D/ezv769nQPS0RERpkCJREZH7rbYN3/wtY/wZGNke3+HKVCBUppN1gzh95uePU+d37l5VGB0uTKKG040EhP0LKsuohzl0wD4KmdtWkelYiIjDYFSiIyPtRtj5zf/VjkvDJK44efUepsglCo/+V7nnSXVa2EyqWQU+S2T7JA6fk9ruzujAXl4UBJ5XciIpOPAiURGR9qXo2c3/145Hx4jpICpbTLyITsIrAh6I4T/Gz5oztdeZk7DQdKk6v0zp+fdNqCcs5b7FrW/21XPcGQTeewRERklClQEpHxoTYqUNr/LHR7cz5avNI7BUrjQ6KGDtZGut31C5QmT0apNxjixX3ubz99fjlzK/KZU55HU0cPmw81pXl0IiIymhQoicj4EA6UDAS7Yf/f3K/h0jt1vRsXEjV06GqBjuOQVQBVK9y2SThHacuRZtq6g8yryKeqOBeAc72sktqEi4hMLgqURGR88AOlZW90p7sec80B2uvABKCgMn1jk4hEDR1aa9xpYVVk2yTMKPnzk06bXx7edp7f0GGHGjqIiEwmCpREJP2626FhHwQy4bQPuG27H4c278N3QRUEMtI2PIkSLr1r7Ls93J0wamHgSRgo+fOTTo8KlM5eVIExsH5fA+3dvekamoiIjDIFSiKSfnXbAQvli2D+eZCZB8c2w9GX3eVF1QNeXcZQuPNdY9/t4UBp4mSUHttWw2Ov1iS9v7WWF/Z685MWRAKl0vxsTphVQk/Q8tye44muLiIiE4wCJRFJv9pt7rRqOWTmwLyz3e8b73Cnmp80fiRq5jBQ6V3n+Ot619rVy7W/WMdHfrWenmCcVudx7Kpt5XhbN5VFOcyryO9z2bmL1SZcRGSyUaAkIunnz0+qXO5OF13kTrd5XdQKlVEaNxI1cxio9K67Jf66S2m00Vs0tqs3RFNHT1LXeX5PpNudMabPZf56Ss+ooYOIyKShQElE0i82UFroBUrBbneqjNL4kaiZQ1ucjFIgA7IL3fnu1lSPbEjW74tkxBrbkwuUwusnzS/rd9kp88owBl492qL1lEREJgkFSiKSfrGBUtXKvl3utIbS+JHnBQn9Mkp+oBST/Run85SiA6Wmju6krhPueBc1P8mXk5lBfpZrONKmhg4iIpNC5kAXGmM+M9Dl1tobR3c4IjLl9HRAw14wGVCxyG0LBGDhhfDyb93vCpTGj3DpXewcpTjNHMAFSi1HxlWgFApZXtwfGX9D2+AZpe7eEIcaO8gIGJZPL467T0FOJm3dQdq7ghTnZo3aeEVEJD0GyygVeT+nAh8FZnk/HwFWpnZoIjIl1O0AG3JBUmZOZLtffgcKlMaTQddRGv8ZpZ21rbR0RrI+jUnMUWrpdPsU5WaSETBx9ynMcd89tnalJqMUCllCKusTERkzA2aUrLVfBzDG/BU42Vrb4v3+NeC3KR+diEx+fse7ymV9ty+KCpQKFSiNG/GaOYRCkUApdmHgcKA0fjrfRZfdATS2D1565wdWRbmJ/23m53ildykIlKy1XHHL38gMGH7/0bNH/fgiItLfgIFSlLlA9H+SbmD+qI9GRKae2PlJvuKZcPLV0NmkjNJ44s9Ris4odRwHG3SXRWcFYVxmlPxAqaIgm/q27qSaOYQDpZzEJXUF2e5fairmKNW3dbPxQCPgMlZ+9kpERFIn2XfaXwLPG2P+CFjgCuAXKRuViEwdiQIlgLfeNLZjkcHllrjTzmYIBV1nu3itwX053nyecZRRetELlC5cVsXvXzxIYxLNHFq6IqV3ifjBS1tXcBRG2dfBho7w+dqWLgVKIiJjIKmud9babwLvBxqARuD91tpvDXQdY8wcY8xjxpitxphXjDGf9LaXG2MeMsbs8E7Loq7zRWPMTmPMNmPMG4b9V4nIxDFQoCTjTyADckoA67J9kLiRA4y7jNLxtm5217WRmxXgrEUVQHLtwSOld4kzSvnhQGn0M0qHogKlmubOUT++iIj0N5T24PlAs7X2v4GDxpgFg+zfC3zWWrsCOBP4uDFmJfAF4BFr7RLgEe93vMuuAlYBlwA3G2MyhvTXiMjE0tsFx3eDCUDF4nSPRpKV52eVGt1pokYOEJVRGh+Bkp9NWju7lGmF2cBQA6WBMkqpaw9+sKE9fL62tWvUjy8iIv0lFSgZY74K/CvwRW9TFvCrga5jrT1irX3RO98CbMV1zLsMuN3b7Xbgcu/8ZcAd1toua+0eYCdwetJ/iYhMPH7Hu/KFkJWb7tFIsmIbOgxYeje+Mkrrvbbgp8wroyzfC5SSKb3rHLz0LjxHKRUZpca+pXciIpJ6yWaUrgDeCrQBWGsP49qGJ8UYMx84CXgOqLbWHvGOcwTwazVmAQeirnbQ2yYik5XK7iam2Bbh4YzSQKV342OOkp9ROmVeGaX5roxutDJK+eH24KM/R6lP6Z0CJRGRMZFsoNRtrbW4Rg4YYwqSvQFjTCHwe+BT1tqB/lPGW5ii34IRxphrjTHrjDHramtrkx2GiIxHiVqDy/jmd75LY0bJWsuvn9vHb9cdGHxnT08wxMaDjQCcNLeM0ryhlN75GaXEc5T80rv2FGSUYps5iIhI6iXbNucuY8yPgFJjzD8BHwB+MtiVjDFZuCDp19baP3ibjxljZlhrjxhjZgDeV5EcBOZEXX02cDj2mNbaHwM/Bjj11FO18p7IRFa71Z1WrkjvOGRowqV33npEfqAUu4YSpGSOUihk+cq9m/nVs/sBOHNhBXPK8we93tYjzXT2hFhYWUB5QTahkCVgXLvtnmCIrIzE3x0mk1EqyElNe3BrbZ/SO2WURETGRrJd774L/A4X9CwDvmKt/Z+BrmOMMcD/AluttTdGXXQvcLV3/mrgnqjtVxljcrxGEUuA55P9Q0Rkggj2wuEN8OytsP9Zt00ZpYklYendwBmlmx7ZwU2P7BjRTfcEQ3zqzg3hIAng3o39vlOLy18/6eS5LiMWCBhK8lyGqKlj4KxSMl3v/DlKo11619TRQ2tUlkoZJRGRsZFURskrtXvUWvuQMWYZsMwYk2WtHeg/yznAe4GXjTEbvG3/BnwHl6H6ILAfeBuAtfYVY8xdwBZcx7yPW2tHv9BbRNLnoa/CCz+F7tbIttwSmLY0fWOSoRtGM4e2lgZufGg7AO84bQ7VxUNv3tHRHeRjv17PY9tqKcjO4L1nzefWJ3bxx5cO8bELF+G+n0tsfdT8JF9pfjYN7T00tnczrTAn0VVpTqaZg5dRGu3SO7/srjQ/i8b2Hmpb1B5cRGQsJFt69yRwnrfm0cPAOuAdwLsTXcFa+zTx5x0BXJzgOt8EvpnkmERkItn9ODzzfXe+bAHMPdP9LH6dOt5NNP4cpc5G6O12JXgmA/LL++/rBUrtzQ3hTS/ua+DSE2YM6SattVz7y3U8taOOsvwsbv/A6ayYUcxd6w6ws6aVVw43s3pWyYDHeDFuoJRcQwc/o1M8YKCU0Wffwf6e/3fPZqyFb15xwoD7+oHS2tmlPLmjlvq2bnqDITIHKBUUEZGRS/Zd1lhr24F/AP7HWnsFsDJ1wxKRSSUUctkkgNd8GT65Aa64FU65BkrU3HLC8UvvOhqgzWuqU1DpFqON5QVKOcG28CY/s9PPXe+DX1wGPR39Ltp2rIWndtRRnJvJXR8+izWzS8nKCPDmNS7gumfDoQGHfLSpk8NNnRTlZLK4sjC8vTQvuUDJL70rzBm89C6ZOUrNnb386tn9/Pq5/RwbZAFZf37SvIp8KgqysRbq2wZvaS4iIiOTdKBkjDkLl0H6s7ct2WyUiEx1W+6GIxugcDqc+bF0j0ZGKrr0Llx2F6c1ONCT6ZqkFtLBpatcaZ6/llEfnc2w5R6Xefzrl/tdfP+mIwC8ac0MllRHVqe4/CQXaN+z4TDBUOL+PhsOeAvNziklEIgUO/hrKTW0Dxx4JLWOUrj0bvCq8SNNkWBw08GmAff1F5udXZYXLg/UPCURkdRLNlD6JG6x2T96c4kWAo+lblgiMmkEe+DRb7jzF34BspNeXUDGq+hmDgM1cgDuePEo7TaHgLF8880LMQY2H2qisycmmGg6GDn/wk9h2wPhX621/PllFyi9MaZk76Q5pcyryKempYu/76pPOOSXDjQCcOKc0j7bS/KH2swhcaBUGF5HafCM0pHGSBbpZa9leSL+GkqzSvOp8uZ21WiekohIyiXb9e5Ja+1brbX/7v2+21r7idQOTUQmhRdvh+O7oWIxnPTedI9GRkM4o9Q0YCOHtq5e/vvhHbSSB0B5RhdLq4roCVo2H4rJojR56yFlevPV7vk4tBwFYEdNK7tq2yjLz+LMhRV9rmaM4fITXVbp7gHK7zbsbwT6B0rJrKXUGwzR3h3EmEh5XTz53hyltiQCpcPRGaXY+yKGP0dpVlkelcooiYiMmaQCJWNMpTHmP40x9xtjHvV/Uj04EZngulrh8X935y/+CmSoYndSiG7mEM4o9S+9+9nTe6hr7QqX39HVwsleI4V+85T8QOmEf4SFF0J7PfzxIxAK8Wev7O71K6fHXevIL797cPNROrr7l70FQ5aXvWDkxLmlfS4rK3AZpYFK7/wMUWFOZp+yvVh+ENXeEyQ0QBkg9M0obTrYhFvTPT5/jtLssjyqihUoiYiMlWRL734NvAosAL4O7AVeSNGYRGSyePYWaKuBWafAiremezQyWnKKAQNdzdDsZXFiMkod3UF+/ORuAEpKvW54XS3hjnP9AqVGL1AqnQ9X/AjyK2D3Y/Dszdzvl92tid8pb8G0AtbOKaW1q5eHtx7rd/n2Yy20dweZU57XrwW4v45S4wCld37ZXfEAaygBZAQMeVkZWAsdsaWFMaIzSsfbuvssKNv3tnto6ughNytARUF2OKOkRWdFRFIv2UCpwlr7v0CPtfYJa+0HgDNTOC4RmeishWdvdudf+3UYZI0bmUACAbf+FUCdt4BsTEbpoa3HaOnqZe3sEgqLvQxUV3M4UHpxf0PfLIqfUSqdA0XT4bIfAhB69Ab21DRSmp/F2Yv6lt1Fu+LEmQDc/VL/8rsN4flJZf0uK/WaOTQNUHqXzBpKPr9F+GCd7/yMUl6W2//lBA0d/ABqVmkexhhllERExlCygZL/H+SIMeZNxpiTgNkpGpOITAbNh6DjOORPgwXnpXs0Mtr8hg5129xpTEbpHi9gueKkWV4GCuhqZn5FPuUF2dS1drP/eHvkCn4zhxLvX8uyS6F4NoHeDmaael6/sjpu2Z3vzWtnkhEwPLG9luMxrbMTzU8CKMtPovQuiUYOPr/zXdsgne+Oei3BL1haCcDGRIFSeH5SPoAySiIiYyjZQOkGY0wJ8Fngc8BPgU+nbFQiMvHVbHWnVSvSOw5JDb+hg7+OUlSgVN/axRPba8kIGN68dmZ4LSW6WjDGcPLcSFYpzC+9K5kT2VY2H4A5pmbQBWqnFeZw3pJp9IYsf950uM9lGxJ0vIPkmjlEOt4NXHoHUWspDdDQwVrLYS9T9IbV7n57+VBj3H39Rg6zy1xDjMoiZZRERMZKsl3v7rPWNllrN1trL7LWnmKtvTfVgxORCaxmizut0trUk1JeTBlbVOndn18+Qm/Icv6SaW5OUFSgBPSfpxTsgZYjYAJQPDN8nOY8d35pdj3nLJo26JCu8Jo6/DGq/K6ls4ftNS1kZRhWzSzudx2/PXjjABmlli4XRPntvwdSkETnu4b2Hrp6QxTlZnK293dtOtgUtwFEdOkd0Kc9+EANIEREZOSS7Xq31BjziDFms/f7GmNM/xUBRUR8yihNbn7pHUBmXiQYIjJPyO9GlzhQanTbmw8BFopmQEYka7Ol3e137rQ2sjMH/3f1upXV5Gdn8OL+RvbXu7K+lw82YS2smFFMrjcfKFpxbiYZAUNbd5Du3lDc4yazhpIvXHo3wBwlP5s0sySP6uJcqopyaOnsZV90KaInerFZgILsDPKyMujsCSW1XpOIiAxfsqV3P8EtONsDYK3dBFyVqkGJyCSgjNLk5pfeARRWhpt17Ktv48X9jeRnZ/C6lV45XtQcJYA1s0vIDBi2HW2mpbOn//wkz5N1rq346vyYDnkJ5Gdn8oZV04HImkqJFpr1GWPCne8SLTo7pNK78KKziecoHWly85NmlLrs0JrZbmyb4iw8eyim9C66oYPmKYmIpFaygVK+tfb5mG36KktE4gsFodab5F+1PL1jkdSIzihFzU+6+yU3P+iSVdPJ9xdnjcko5WZlsGpWCSELGw80xZ2f1NbVy3MN7nqVvUeTHpafxbr7pUNYawecn+QrHaT8bkhd77Jd1qp9gGzPEa81+IwSF/ysme06CG6K09AhMkcpP7xNi86KiIyNZAOlOmPMIsACGGP+ETiSslGJyMTWsBd6O6F4dqSNtEwufTJKLlCy1oYzOZf5ZXcQlVFqCW86ZW7UPKXo1uCevfVtHLBu3lOgcV/SwzpnUQXTCnPYXdfGpoNNyQVKg6ylFFlHKfnSu4HK4g57rcFnlvgZJfcaiW0R3tEdpL6tm+yMQDg4AtQiXERkjCQbKH0c+BGw3BhzCPgU8NFUDUpEJrhjr7hTzU+avKKbOXiNHDYdbGJPXRvTCnM4J3rNo5iMEkTNU9ofFShFld7trWunlhK6TTa01/e57kAyMwK8Za3rkHfz4zupbemiJC+LBdMKEl7HX0spUee7oZTeFSbRHjycUfIaNJwwywVKmw83EYxq6HCo0c1PmlmaSyAQWYdMLcJFRMZGsl3vdltrXwtUAsuttedaa/emdGQiMnGpkcPkF6f0zu8299a1M8mMXvPID5Q6m8ObTp7nrv/SvgZsuPRubvjyvfVtWAI053htwRuSzyr53e/+8soxANbOKcUMsOBx6SBrKbUOofTOLzdsH6CZw5GYjFJFYQ6zSvNo7w6yq7Y1vN/B8BpKeX2u73e+U0ZJRCS1ku169y1jTKm1ts1a22KMKTPG3JDqwYnIBKVGDpNfn9K7Kqy13LfJVWRfEV12B3EzSjNK8phWmENLVy+9Dfvdxj4ZpTZ3lSKvHG8I5XcnzCphYWUkgxQuu2s/7n5i+GspNY1KRsnNURqw9C4mowSwdk7/eUrhQKm0b6AUySh1DjoeEREZvmRL7y611jb6v1hrG4A3pmREIjLxKaM0+cVklBrbe6hr7aIwJ5PVs2LWK4oTKAEsrS4ELIFmb92j6ECp3gVKgbIFbsMQMkrGGK44MRKsnTSnFEIhuPU8uOUcdz5KuJlDR/yM0rDagycIlEIhy7Fmr+udl1ECOGFWKdC3852/hlJ0IweASs1REhEZE8kGShnGmPBMUmNMHpAzwP4iMlX1dkH9TsBA5bJ0j0ZSpc8cpeqo7mx5/cvcYtqD+5ZUFVJOCxnBTtf0IzcSYO2pc/Nz8qsXug0Ne4c0vMuiAqW1c0qhYQ80H4SWw9DdN2ArC5feJcooJb/grF9619Ydf45SXWsXPUFLeUF2n3Wd1noNHTYeaAwvJHtokIySAiURkdQa/F3f+RXwiDHm57jOdx8Abk/ZqERk4qrbATYI5YsgK2/w/WViiim9O3DABTZzyvP77xudUbI2vObS4uoiZpk6d1nU/KSWTpedyskMUDR9kds4hNI7gLkV+XzjslUAlBdkw75XIhe2H+/TjbEkP7nSu+IhNXOIn1E63NQ/mwSwenYJAQMbDzbxD7f8jY9esIgDMYvN+tT1TkRkbCQVKFlr/8MYswl4LWCAb1hr/5LSkYnIxKSyu6khpwiy8iHYAwVVHGxw5XOxH+oByMyGzFzXMr6nA7JdMLW0qpCZ4UApUna3r94FCPMq8gmUe5mhIZTe+d571vzIL8eiAqWOBmBB+NdIe/D+pXehkKXVa8xQmFTpncsSJQqUjjT2XUPJV5ybxbf/4QS+/cCrvLS/kWt/uT58WWwzh4qCHAIG6tu66QmGyMpItjhERESGItmMEsBWoNda+7AxJt8YU2StTa5fq4hMHWrkMDUYA//4MxcoZeVy4LgLAOaUxckogQusejtdVskLlJZUFzHbC5RsyWz8gj1/ftK8igIom+c2Nu7rk40asmObI+c7GvpcVOZllBra+meUWrt7sdYtJJsRGPy2w3OUEpTeJcooAbzjtLm8Ze1M7nj+AD99ajeHmzopyslkenHffTMChorCHGpbuqhv7WZ6nGOJiMjIJRUoGWP+CbgWKAcWAbOAW4GLUzc0EZmQlFGaOpZdGj57MEGZWFhOEbTVukCpyLUTLy/IZlF2A1hozp2BXwznd7xbMK3Am7tUCp2N7vremk1D1i+jFOE3c2iKs+DsUDreweDNHMIZpdL4wU1+diYfOHcB7z1rHo9sraGyKKdvq3VPpRco1bR0KlASEUmRoSw4ew7QDGCt3QEM87+ViExqyihNSZFmDgNklKBfQ4fFOS5oORiKLFC71yu9m1/htfgum+9Oh1F+526z1TVz8CUIlBrjrKPUOoSOdwCFXjOHRO3BjzT5aygNPH8vKyPAJaunhxfmjaV5SiIiqZdsoNRlrQ3/BzHGZOKaOojIVPb09+C+T0Ov9/bQ1epKpAJZULEovWOTMWOtjQRK5YkySvE7380y9QDs7IoEBH5GaX6FF3T55XdD7HwX5mc5fTGBUmFOJhkBQ1t3kO7evq3DW4aw2CxAvjdHqb07GO5eFy28htIIs0DqfCciknrJBkpPGGP+DcgzxrwO+C3wp9QNS0TGvVAIHv0mrPsZ/OmTbv5I7TZ32bSlkJFcqZJMfPVt3XT0BCnJy0rcGS7BWkoVvTUAbGopDG/z5yjNn+ZllEr9eUp7hzfAmlf6/h6z6KwxJmFDh6GW3mVlBMjODBAMWbpigi6AI41eRql0ZB0h/YxSjRcodfUG+fSdG/jKPZsHupqIiAxBsoHSF4Ba4GXgw8D9wJdTNSgRmQDa6yDkzenY+H/w5Hejyu40P2kqOXB8kPlJED9Q6m4jt6eBLpvJS8ddQwXXGrybnMxApIlBuPRu7/AG6M9PqvSelzEZJYiapxTTIrzZX0MpyYwSRFqEx5bf9QZD1LR0YgxUF49eRslay7/8bhN/fOkQv/j7Pmq8BW1FRGRkkm0PHjLG3A3cba2tTe2QRGRCaHbtoMkpceVUj90AVW7dGgVKU4tfdpew4x3ED5Sa3HPoiK1gR0071tq+rcH9LnPh0rthzlHyA6X550Lt1gSBUjbQ1m/R2cgaSskHSvnZGRxvg/auIEQSZRxr6SJkobIoh+zMkbX0rixygVZNSyffe3gH92w4HL7sxf0NXLJ6xoiOLyIig2SUjPM1Y0wd8CqwzRhTa4z5ytgMT0TGreYj7nTuGXDJt915v8RJjRymlEgjh2QySlFzlJr2A1ATqKSlq5ejzZ3sCc9PKojsV+ateTTERWcBVxLqtwZfcJ477Tjeb7dw6V37yErvIHFGye94N3MUutT5pXfP7Kznpkd2EDBw5sJyANbv6x8IiojI0A32ldancN3uTrPWVlhry4EzgHOMMZ9O9eBEZBzzM0pFM+CMj8Dp10YuU0ZpSjngtQafUz5QRslv5hCVUWo8AEBb3kwAdhxr7dsa3FcyGzDQdNCt2zQUzYegswnyK6ByuduWMKMEjR2xGSWvmUNO8hmlyFpKfQOlyBpKI5ufBJHSOz8Y+9pbV/HRCxcDCpREREbLYO/87wNeZ62t8zdYa3cbY94D/BX4XioHJyLjWIuXUSqe5RYBfcO3IdQLvV2ROSUyJQwtoxRdencQgFDxLGiAHTWt7IlebNaXmQPFM13Q03QQyhckP7hjUVnOPJdxGWiOUuKM0tBK76D/WkqDraE0FH5GCeAD5yzgfWfNp6mjB2Ng86FmOnuC5GZljPh2RESmssHe+bOigySftbbWGKOWViJTWbM3J6LYmwuRkQlv1ncnU1FksdkhZpSaXEYpd9p82Ac7jrWE5yjNnxZzrLL5LlBq3DfEQMkru6teDXleC/KOBte1MRApqoiU3vXNKPkZm+GU3rV1BftsT3YNpWTkZ2fyz69ZTGdPkC9c6jK4JXlZLK0qYtuxFl453MQp88pHfDsiIlPZYKV3/VffS+4yEZnswoHSzPSOQ9IqFLJDyyh1Rs9Rchml0uku8NlRk6D0DiItwofa+c7PKFWvcsF8TjHYUL/1nEoLBim9G0JGKVHp3ZGm0csoAXz29cv40ptWkuE3vQBO9haoVfmdiMjIDRYorTXGNMf5aQFOGIsBisg45QdKRQqUprK61i66e0OUF2SHA4S44pXeeXOUps9bCsArh5uob3OtwauLYoKJ4Xa+iw6UAPJK3WlMQ4dEzRyah9HMoSBR6d0ozlFK5BQFSiIio2bAQMlam2GtLY7zU2StVemdyFRlrTJKAkQaOQyYTYL+gdIzN7mudxk5lM+YT2l+Fp09boHW+RUFkdbgPn/e21A63/V2Qd0OMIFII4cE85TK/GYOCdqDDyujFBMoHQ4vNjs6GaV4IoFSI9balN2OyFD95ZWj/G1nv9kcIuPayBZyEJGpqasZetogKx9yS9I9GkmjpNZQgqhAqQke/jo89P/c75d8G5OVx5KqyIJD/eYnQd/Su7Y6ePXP8NBXYMP/Jb7N2m1gg1C+CLK9Y0bPU4o+fH78OUojK72LzFHq7AlS19pFZsBQFZstG0XzK/IpL8imrrWLA8c7UnY7IkNR09LJR3+1ng//aj2hkAJ4mTiSf+cXEfH5aygVz3Qd72TKSmp+EkSaOTTuh6dvBJMBV9wKa94OwOKqIl7Y64KXPmso+fzSu0Mvwn8uirrAwJLXQ8G0/teJLbuDSKDU3jdQKhnFdZTild7599Ossrw+c4pGmzGGk+eW8fDWY6zff5y5FYMEsCJjYNOBJkLWvZ4ONLT37WopMo6lLKNkjPmZMabGGLM5atvXjDGHjDEbvJ83Rl32RWPMTmPMNmPMG1I1LhEZBdFrKMmUduC4V3o30BpKEMkoAWTmwlW/DgdJAEurozNKcT5EFU735sNZyMyD+ed55XgW9j4d/zajO9758hOU3sVp5mCtjep6N/SMUvSCs/uPuyYVcwe7n0aB5inJeLPpUFP4/LajLQPsKTK+pLL07jbgkjjbv2etPdH7uR/AGLMSuApY5V3nZmOMFoAQGa+i11CSKS3pjFJWriufyy6C9/well3a5+IlVZFAKm5GKRCAf3oUrn0cvngArrkPTnyPu2zvU/Fvc6CMUkygVJCdQUF2Bu3dQY41u7lE7d1BgiFLblaArIzk/1367cHbo9qD769PYlHeURI9T0lkPNh0sDF8fvsxBUoycaQsULLWPgkcH3RH5zLgDmttl7V2D7ATOD1VYxOREYpdQ0mmLH8NpTmDBUoAH34SPrUJ5p/b76K+GaUEwUTxDJh5EmR4ZXALznOne+IEStZGZZRWRraHA6W+/56MMeHW2i/sdZcNp+wOID9Oe/B9XuZt3hgESmtml5AZMGw72hyeYyWSLtZaXj4YlVE61prG0YgMTTqaOVxnjNnkleZ5/7GYBRyI2uegt01ExqNwoKSX6VQWDFkONfoZpSQCgLzSSOlbjMqiHE6bX8aJc0r7twZPZObJrqFI3TZorel72dGXoa0W8qdBydyoMcQvvQM4fb677IU9LlBq7Rp6IweAwpwM7/qRQMkvURyL0rvcrAxWzSwmZGHjgabBrzAKeoMh3vPT5/jQ7evUbU/6ONTYQX1bZO7fdpXeyQQy1oHSLcAi4ETgCPBf3vZ4M1vjvtMaY641xqwzxqyrra1NySBFZBDhNZSUUZrKalo66QlaphXmkJs1smppYwy//cjZ3P3xc/q3Bk8kMxvmnOHOx5bfbbnHna54iyvb8yUovQM4bYELlJ73mkoMZw0liMxRii692+eV3o1Vc4WxXnj23o2HeXpnHQ9vPca2SVpa1RMMEVTHtiHzs0mnzS/DGNhV20p3byjNoxJJzpgGStbaY9baoLU2BPyESHndQWBO1K6zgcMJjvFja+2p1tpTKysrUztgEYmvRWsoCeH204POT0qleOV31sKWu935VZf33T/c9a5/ZfiJc0rJyjC8erSZpo6ecOld8RAzSgXZfZs5WGvZf3zs5ihB1Dyl/akPlEIhy82P7wr//tArx1J+m2OttqWL1974BG+66SmaVc44JBu9QOmMBRXMLc+nN2TZW9+W5lGJJGdMAyVjTPTXz1cAfke8e4GrjDE5xpgFwBLg+bEcm4gMgRabFaLmJ43Rh/+45p/vTqM73x17Bep3Qn4FzIuZD5Wg6x24krU1s0uxFtbvOz6sNZQgeh0lFyjVtnTR1RuiLD+L4iFmp4bLD5ReGoNA6a9bjrGzppVMLxP48NbxESjVtHRS39o14uOEQpbP/XYj++rbefVoC1+5e/PgV5Kwlw81Am7u3NJq17RFne9kokhle/DfAH8HlhljDhpjPgj8hzHmZWPMJuAi4NMA1tpXgLuALcCDwMettcEEhxaRdOrphPZ6CGRCgbK6U1nSHe9SaeaJkFUA9Tsi63v5ZXfL3wwZMUHOAKV3AKf75Xd7GsIZJb+LXbIKvDlKfumd38hh7hiuHTO9OJfszAAtnb10dKfu36m1lh8+thOAz71hGblZATYebAp3DkyXrt4gb7rpad7yP0/T2TOyv/+2v+3lie21lORlkZeVwd0bDvPHlw6O0kgnN2stm7yM0prZpSzzAiV1vpOJIpVd795prZ1hrc2y1s621v6vtfa91toTrLVrrLVvtdYeidr/m9baRdbaZdbaB1I1LhEZIb81eOF0CKiL/1TmNyiYk0wjh1TJyIJ5Z7nze58euOwOILfUnXY2Qqj/PIlwQ4e90RmloWWBsjMCZAYM3cEQ3b2hcGvwsWjk4DPGUJbvxt0Qs4juaHpqRx0vH2piWmE215w9n3MXuy9P0p1V2n60ldqWLg43dfLQluGPZeuRZr7zwKsA/PuVa/jqW1wHxf939yvhx1US21vfTktnL1VFOUwvyWXpdGWUZGJJR9c7EZnIwmsoqexuqhsXGSVwi88C7H0SarZC3XbX3c7fHi0jE3JKwIagq39HuJPnuQnnmw42UtfqAoyhlt4ZYyLld129Y9oaPFpZvreIbnvq5tT42aQPnLuA3KwMXreyCmBEwcloeDlqgdM7XzgwwJ6JdfYE+cRvXqI7GOKdp8/lktXTecdpc7h09XRau3r51J0v0RtUU4KB+OsnrZldAqCMkkw4CpREZGi0hpJ4DnhzlMZPoPR0VNndmyLrLcXKK3WnccrvSvKyWD69mJ6g5akddcDQM0oQKddr6+4d09bg0Ury3LgbU5RRWrf3OM/tOU5RbibvPXMeAK9ZXo0x8Led9X3ao6fCY9tqeGZnXdzLNh+OBEpP76wLPwZD8a37t7KjppVFlQX8vzevAFwQ/O1/OIEZJbm8uL+Rmx7dObzBTxHRZXcAC6YVkBkw7DventKSUJHRokBJRIZGaygJ0NTRw+HGDjIChpmlaQ6UZqyF7CI4vhtevN1ti1d25wt3vkswT2m+u3zrkWZg6BklgPxsV5ba1hVkn9fha6ybXvgZpYYUZZT8bNI1Z88PB5OVRTmcNKeU7mCIp7anbgmP9u5ePvyL9Xzw9hfifuB+xcsozfPasd+1bmhZpbauXn717D4yAob/vuok8rMjz4HS/GxufPuJGAO3Pr4rZYHoZOC3Bj/ByyhlZwZYWFmAtbCzRgvPyvinQElEhkZrKAnw+LYaQtatjTLSNZRGLCMT5p3tzrcccYHQggsS7z9A5zuIrKfkG2p7cIh0vmvt6mW/10Z93hitoeQrK/AySh2j/0G+syfIY9tqyQwYrjl7fp/LXrdyOpDa8rvDjZ10B0N09oTYcKCxz2U9wRBbvTkwX3qjywT9dt3BIZXJHWnqJGRhTlkeq2eV9Lv8rEUVnLNoGt3BEPe/fHT4f8gkFgzZcGZvTdR9GO58p/I7mQAUKInI0GgNJSHyIdj/UJx2C6LmIw1UdgeDd76b3zdQGknpXV1rF3WtXWRnBKguzh3ycUaiJC91c5RqW1zb7aqiHCoKc/pc9rqV1QA8uq0mZXN4jjR1hM+/sLfvmlg7a9yCpvMq8nndymrmV+RztLmTJ3ckn+E62uS69g30mF1+ksuq373h0FCGPmXsqm2lvTvIrNK8Ps8RzVOSiUSBkogMjdZQmvK6e0M8sc196Hzdiuo0j8YzP2q9pJWXD7xvOFDqv+gsQFVxLvOjsj8jKb179Yj7MDi7PI8Mb52hsRLuetc2+hmlWm99omlFOf0uW1RZwIJpBTS297BuX2rWcTrSGGk/HhsobfbK7lbPLMEYwztOmwvAHc8nX3531GtvPqMkcaD0hlXV5GYFeH7P8fCaYhLhz09aO6dvRk6d72QiUaAkIkPTrK53U91ze+pp6eplWXURc8e4nCyh6WugYgmULxy47A5cRzxImFECOC0qqzTUdZSir7PliPuwONaNHCCq611H6jJKlYX9AyVjTDirlKryu8NRGaUX9zX0yVy9ctjNLVs1qxiAK0+ZRWbA8MirNdS0JLe+01Hv+NUDBEpFuVm81vui4J4Nh4f2B0wBfse7E2aV9tmujJJMJAqURCR5oWCkPbjmKE1ZkbK7cZJNArem14efhI88DZnZA+87SOkduLlXN2X9DzdnfZ+iYQRK+d6is1u9jFI6AqWS/NR1vavzM0pxAiUgHECkaj2l6IxSW3eQLV7jDeibUQKoKsrl4hVVBEOW369PrkzuiFd6N2OQcskr/PK7lw5hrU3+D5gCIh3v+maU5pTnk5sV4EhTJ00pCOJFRpMCJRFJXlst2CDkT4PM+B+QZHKz1vLweAyUALLzIbtg8P3CXe/il94BnDkd3prxd96Y8TzFrbuGPBS/mcP+NLUGh9R2vQtnlOKU3gGcMq+MotxM9tW3c6ixI+4+I+FnlKq8239+j3ssgyEbDppWzSwO73+VV3732/XJld8d80rvpg+QUQI4f2klZflZ7Khp7ROsTXU9wVD4/ohthpERMCypclmlHcoqyTinQElEktfsfRurNZSmrFcON3O4qZOqohxOiNMNbEIYpOsdwJzQwfD5nP1PDfkmCrP7ZqHSEyiNRUYpfvYuI2A4dZ4LSF/YkzggHS4/4/OWta4E2A+U9tS10d4dZGZJbp8GAuctmYYxsLu2LakGE/7xp5cM3Po+KyMQHsPdL6mpg6+hrZvu3hDTCrPD63lFU+c7mSgUKIlI8sLzk7SG0lTll929dmU1gTFuTjBqkii9M3U7Ir/sfmzIN5EfU643ryKJTNcoi5TepTKjlDjjcvqCCgCeG+VAyVrLES9LddmJLkhZt68Bay2veO2oV8UE8ZkZAYq97oXNnYMvhBvOKCXRqdDvfnfPhsMEQ5O3/K6utSvpUrnmTrdfcZwgCWDZ9EIAtquhg4xzCpREJHlaQ2nKG5fzk4ZqkK53ANRHBUp7n4bg0IKNwpy+a0vNKR/7RXlL8yLNHEZ7/kxdq8tSJcooAZy+wMso7R3dQKm5s5e27iD52RmcMKuEqqIcjrd1s6u2td/8pGjJZti6eoPUtXaTETAJSwujnTSnlHkV+dS0dPH3XfXD+IvGv4a2bl7/vSd5+61/T2r/pg4XjBYnaK2vjJJMFAqURCR54TWUlFGaig41drDlSDP52RmctbAi3cMZviS63lG3M3K+uxUOvjCkmyiIyihNK8whP3voDSFGKjszQGFOJsGQpaVr8CzKUNQN0B7cd8KsUnIyA+ysaeX4KLYo99dQmlGSizEmvEDw83sa2HzInxdT3O96JUnO2appjnT0S6aluzGGy04c+zWVth9rYU9d25jc1h0vHOB4WzfbjrXQmsRzafCMUqRFuJpgyHimQElEkhdeQ0kZpanIb+JwwdJKcrMyBtl7HMv1sg0djRBKMF+lbrs7ne8tZLtraOV3BVGB0bw0tlD354c0to1u+d1gzRzABWonzikFRjer5He8m1nqsnT+AsHP76lns1d6F9tAAKDUuy+aOgYO2o4m2cgh2uVeCeBfNh8dk/K7zp4gV97yN97+o7+nbFFfX28wxC//vjf8+6GGwZtzNHslesUJ1iCbXpzLuYunccnq6XSnePwiI6FASUSSp8Vmp7RJUXYHkJEJOSWAhc7G/pf3dkPDXsDAaR9023Y/PqSbiM4opaORg6+swFt0dhQbOrR19dLeHSQ7MzBo6/TTvWzPaDZ0OByVUYLImld/3XKMls5ephXmhLvhRYsswDtw0Hi0afDFZmMtrCxkZkkuLV297K5tTfp6iVhruf/lIzyzsy7u5UeaOmnp7KW2pYuN3npFqfLQlmMcboq0Yz9wfPDFdf15YIkySsYYfvWhM/j2P6whJ3MCf+kik54CJRFJXniOkgKlqaa1q5fn9tQTMHDRsqp0D2fk8gdo6NCw17XBL50Li18LgUw4tB46m5I+fEHUHKV0BkrR85RGi192V1mYgzEDl6b5QUwqMkozvI50y6YXUZSbSXt3EHBld/HGVZrkArx+oFSdRCOHaGtmlwKR9YOGy1rLtx94lY/9+kU++qv1cUvTapojgctTO+IHU6Pl53/bC0CRlx062JBEoBTOKMUPlEQmCgVKIpKcIxuhYY/70FgyO92jkTH2/J56eoKWtXNKKSsYZEHXiSDc0KGx/2V+2d20JZBTBLNPc4HTnuTbhEeX3qU1UEpBi/Bk5if5Tp5XRkbAsPlwM22jNE/KzyjNLHWBTHQrcojfyAEiZYhNg9wXfundUDJKACd4C6u+fGj4gVIwZPnC71/mx0/uBlxmprmj//12zCt9BBJmnUbDK4ebeH7PcQpzMrn6rPkAHEym9C48R2ns5+aJjCYFSiIyuFAQ7vs02BCcfi3kFKZ7RDLG/G+tz108Lc0jGSUDdb7zO95NW+pOF17kTofQJrxP6V0a5yiFF50dxWYK4flJhYMHSoU5mayaWUwwZHlpf+Oo3H5sRgkIN3SA+I0cIKr0bpBmDkebhj5HCWCtl1EabilcV2+Q6/7vRe5cd4DcrEB4fs/RqOyRLzqj9NL+xqQaLAzHbc/sBeBtp84ON2A4kFRGyY2nSBklmeAUKInI4Nbf5kqPimbARf+W7tFIGjw96QKlATrf+R3vKha700VeoDSEhg6FUYHSvPGQURrF0rtarzV4ZVFymcXTopotjIYjMRkliDR0AFiVIKOUdOndENZQiuYvwLzlcDM9Q2xQYK3l479+kQc2H6UoN5NffvCMcEOKuIFSVEapN2R5NgVtyetbu7hn42GMgavPms8c73k8pIxSgmYOIhOFAiURGVhrDTzydXf+km+7UiSZUo42dbKjppX87AxOmls2+BUmAj+j1B4noxRdegcw82TIKYbju6Bxf1KHz80KMKc8jznleUmtxZMq4eBgFBedrfM+pE9LIqMEUYHSKMxTstZypKl/RumE2SXMLstjWXURs8vir1mVbBnicDNKJflZzK/Ip6s3xPYhrg90uKmTh7fWkJ+dwR3Xnslp88vDgdqxpv6Bkr8grr8+19MpKL+744UDdPeGeM2yKuZPKwjfr8kESi2DNHMQmSgUKInIwP76/9wk9sWvhZWXp3s0kgb+h7AzF1aQnTlJ/m3kDdDMIbb0LiMz0iY8ye53xhju/8R5PPDJ8wdteJBKkXKzUSy9ax28NXi00+a7+/ql/Y10946sFfTxtm66ekMU52b2KW/MyczgwU+dzx8/fnbC+zuZoDEUsuEgZKjNHABO8MrvXh5iQ4dtR936TyfOKQ1nxKq9QC1+6Z17DK44yc0XfWpH7ZDHOpBgyPLLv+8D4Jpz5gNQUZBNXlYGTR094YxRImrmIJPFJPmPJyIpsedJ2HQHZObCG/8T0viBT9LHnyw+acruAPITlN611btt2UVQGNUGfRjld0W5WX1K8NIhkkVJX0apojCHxVWFdPWGRtToAIibTfIV5mQOuLCvv45S4wDrKNW1ddEbspTlZw1rrbA1XrncxiEGSluPuAzU8umR+VXhjFKcQOlYi9v2hlXVFGRnsKu2LVySOBo2HWzkaHMnc8rzwq97Y0wkq3R84NvyA6kSNXOQCU6Bkogk9uAX3el5n4Xyhekdi6SFtTacUTp3ySQKlBI1cwiX3S3u+8WA39BhzxOJF6kdhyJZlPRllGD02oQfbvTWUCoderanLImM0rEm97dNjxOIJWNNuPNd45Cu9+pRL1CaESltrh4gUPIzSrNL8zlzYQUQmUc4GvwvR85fUtknQxcpvxu4oYPfzEEZJZnoFCiJSHwN++DYZrcw5zmfTPdoJE22HWuhtqWL6uIcllRNom6HiUrvYsvufBWLXDOT9nqo35n68Y2ScNe70cwotQ4towRw+gJ3fz/2ag3r9x0P/zQNscnEQBmlwRTlZmKMmz/Tm6DZgp+VmV48vHllq2aVYAxsO9pCZ08w6eu9esSV3q2IyihVe2OILb1r6+qltauXnMwAxXmZ4S8wRnOekt/l8ryYL0f8hg4HBpmnFGkPrkBJJjblREUkvr1Pu9P550Bm+iajS3r531Kfs3haWufajLpEXe/qvECpYknf7cbAnNNhyz1w4DmojAmkxqlwudkoZZSstZH24MPIKD235zhX3vL38PZ5Ffk88fmLkj5OeA2lITZaAAgEDCV5WTS299DU0UNFnEDPz94MN6NUmJPJ4spCdtS08urRFk6cUzrodTp7guyuayNgYEl15MsIv5nE0aauPvv7He+qit2Cv34w88zOOkIhSyAwstdpW1cvL+5vIGDgrIV9A6VkMkqdPUG6e0NkZwTImSxzGmXK0jNYROLb6y2u6U9ilynJ/5Y69pvlCS9R1zs/UJq2uP915pzhTg88l7pxjbLivCyMcQuXJsqiDEVbd5DOnhC5WQEKspOfwzO7LJ+PXLCIk+eWhn8CBvbVtw8p8xJeQ6l0eIFM2SAtwv2M1VBbg0cLLzyb5HpKO2taCYYsC6YV9JkXVVmYQ8BAfVtXn3bj/hpK1UVujIsqC5lenEtda3e4hG8knt9znJ6g5YTZpZTk980IzS7zMkoDzFGKXmx2Un25IlOSAiUR6c9a2OMFSgsUKE1VXb1BntvtAolzJlMjBxi89C42owRRgdLzqRvXKMvwsijAoGVu6/Ye5/k9A88hqovKJg31Q/AXLl3OHz52TvjHz0gNpSPfkRFklIDwfZEow+aXuc0Y5vEheuHZ5Bo6ROYn9V0oNzMjwLTCHKztu27SsaiMErgmC/7r8+mdI+9+Fy67i/Oan1Pmr6WUOKOk+UkymShQEpH+GvZA80H3YbJqVbpHI2ny4r5GOnqCLKsuoqpo+B8cx6W8UghkQWcj1LzqtgV7oGEvYNycpFjT10BGDtRti7/+0jgV6faWOFDq7Anynv99jrf/6O988Q+baOvqjbtf7TDmJyXiZ3eOtyUfKB0eYUZpsC6A/hpK1SMIlCIZpSQDJW9+0vLq/mvURcrvIvOU/IxS9GvyvPA8pZEvPPvMAM1b/NK7Qw0dWGvjXt/PKBVpfpJMAgqURKQ/f37SvHMgoLeJqcr/dnpSdbvzBTLgpPe483/+rMuiHt8DoV4onQNZcT6IZ2bDrJPd+YPrxm6sI5RM57udNa109rjyrt88f4A33fQUL+7vv8bUUFuDDySZLnTRglFrHA034zPYbY5GRmnljGIyA4YdNS20d8cPOKNtOxY/owSRznc1UQ0d/OxS9DpPfkZp3d7jCQOYZNQ0d7LtWAt5WRmcNLe03+Wl+a7lfUtXb8IMZWQNJU2Dl4lPn4BEpL9w2d356R2HpJXfyGFSBkoAF38F8qfBvqdh4x0Dl9355pzuTifQPKXworNtiQOS7d6H9ZPmlrJ8ehF769t5261/56dP7e6z33BagydSXjC0jFJdq1vjqLwge1hrHEGk9C5euZ+1NpJRGsEcpdysDJZWFxGy8Mrh5kH3j6yhFCejVNx/0dlj4YxS5DGoLMqhJC+L9u4gda3Db9zhz0k8Y2E5OZn97+M+aykl6HzX3OmV3imjJJOAAiUR6ctaNXIQGtq62XSoiawMwxkLytM9nNTIL4fX3+DO//XLkblHsa3Bo03Ahg6lgzQwgEhW48KlVdxz3Tl8+PyFBEOWb92/NVxKBaObUfLL4JKdoxReQ2kE2R7/NuNlQ5o7e2nvDpKfnTHibIi/ntKmQcrvalu6qGvtojAnMxyARIvXItxfQyk2mJsbbt098BpHAwl/OTLAnMTBOt9FMkoKlGTiU6AkIn3V74KWI5BfAVUr0j0aSZMnd9RiLZyxoIL87ElcQrP2Kph3LrTXwd/+x22L1/HON9vLKB1aD8HBy6rGg8i8nMQByXavocCy6YXkZGbwxTeu4KS5pYQsrN8XKcFLRUYpUabrP//yKv/x4KvhUrKRrKHkG6j0LtwavDh3xN3a1ngNHTYN0vlu29FINinebYYXnY2ao3Ssxcsoxaz1NKfc3S8Hjg8vUIpeXPq8JZUJ9xus81101zuRiU6Bkoj0Fc4mnevWjpEp6fFtbn7ShcsSf2CaFIyBN/0XBDLBem2qByq9K6yE8oXQ0+4WZJ4AIovODhAoHWsFYGlUQ4HTvbWPXojqhFfb4o5RWZg94nGVDjCu5s4efvjYLm5+fBe/em4/EMkozSwdeUYp3m2GW4OPIGPlSzaj9OpRr5HDjP5ld9FjiZtRimmwMiccwAwvUNp+rJWali4qi3JYWp14cenBM0rqeieThwIlEelLZXdTXihkeWL7FAmUAKqWw9mfiPw+UOkdTLg24YN1emvp7OFQYwfZmQHmVRSEt5/ulVy+sDcSKNWNakbJjSveHKW6qHbYN9y3hR3HWkYlozRQq/Rjo7CGkm9pdRGFOZnsqWtjV21rwv0i85P6N3KIHssxLzhq6+qltauX7MxAv4zNnPLB1zgaiJ9NOneQxaVnh1uED5ZRUqAkE58CJRGJ6LN+kho5TFWbDjVxvK2b2WV5LKpM/M3ypHL+52H6CTDrFCiaPvC+E6yhQ+kgnd78bNKSqkIyApEPyKfOK8cY2HigKbwobG0Kut7Fy+5ENyTo6g3xiTs2sK++DRhZRmmg2xzNjFJ2ZoBLV7vn0T0vHUq4n59RWpEgo1Qd1R7cWhvV8a7/OlZ+oLR/mBmlp3d4XS4HWTMtXOI36Bwlld7JxKdASUQi6rZDWw0UVA3+rbpMWo9vqwFcNmmkczUmjOx8uPYJ+NAjg5ecTrCMUtkgTRP8jnfLYtbxKcnPYll1Ed3BEBsPNGKtDWeUUh8ouds5d/E05lfks/VIMw9vdc/LkWSUBsqu+eVtoxEoAVx+0iwA7t5wOG7L7t5giB01/UseoxXlZJKfnUFHT5CWrt5wm/DYsjuAOWUDBzCJHG/r5nsPbeeZXW4NpsG6XEZnlOL9XeGudyq9k0lAgZLIVNbdDo0HXCYJND9JAHjMm5900bKqNI9kjAUyknveVy6HnGJo2g/NR1I/rhEqzRs4o+Q3FFgapz31afMj5XctXb109YbIz86gIGfk2YKBmjn4gdLcinz++6qTyIzKdI2o6513XzTFC5SaXCnZaJTeAZy5sILq4hz2H2/nxf2N/S7fW99Gd2+I2WV5FCUIKowxkfK7pk6OeRml2EYOALPK8jDGZcZ6gqFBx3eosYOv3fsKZ3/nEf77kR1094b4h5NnDdoavSQvi+LcTNq7g3HLJsMZJTVzkElAgZLIVPbzS+D7q+G/lsFd74P1t7vtCzQ/aaqqb+1i08FGsjMCnLWoIt3DGZ8CGa5ED+Dg+M8qDdb1zg+UYjNKAKd585Se39swqq3BAcoKBsgoRd3W2jmlfOb1LsNtzMjWOCrKzSRgoKWrt18wcdSbBzRaGaWMgOGyE72sUpzyu8HmJ/mqo9ZSqgmvodR/jDmZGUwvziUYshxp7Ox3ebTu3hBvuukpbvvbXjp7Qly0rJI7rz2T/3rb2sH/MAaep9TSqfbgMnmkLFAyxvzMGFNjjNkcta3cGPOQMWaHd1oWddkXjTE7jTHbjDFvSNW4RMTT0wFHNrrzrcdgyz1wdJP7fb7mJ01V4bbgC8snd1vwkZpA5XeRgCTRHKXEGSW/892L+xrCpWmj0cgBoCA7g6wMQ3t3MDwHylfb2re73ofPX8QHzlnAZ1+3lOzM4X90CQRMwoYO4YzSKAVKAJedOBOA+zYd7heYDTY/yRdeS6mpMzxHKV5GCaI63w1SfnesuZPG9h5K87N48FPn8fP3n84ZCyuSLrUdaNFZLTgrk0kqM0q3AZfEbPsC8Ii1dgnwiPc7xpiVwFXAKu86Nxtjhrfstogkp/mwOy2dC9etg7f+AE56D1z0JahYlN6xSdpE2oJPsbK7oZpADR0KsjPIDBg6evoHJHWtXdS3dVOYk8nMOAHC9JJc5pbn09rVG16MdNootAYHV1aWaJ5S7FyojIDhK29ZyXWvGaB1e5LiraXU0R2kob2HzIBhWsHoBIIAK2cUs7S6kIb2Hp70Okn6Xk02o1Tid77rDK/1FG+OEkR3vhs4UPLXw5pbnj/o7Q94O3ECMi04K5NJygIla+2TwPGYzZcBXm0PtwOXR22/w1rbZa3dA+wETk/V2EQEaDrgTkvmwLQlcPJ74bIfwgX/ovlJU1QwZMMf5qZEW/CRmH0qYODwBugZuMwp3Ywx4c53sVkUf6HZpdWFCbMJ/jyl+19287FGK6MEiecphQOlUbwtX0mcUsTdda6pwtyKfAKB0Xv/M8aEmzr8Mar8zlrL1iMDr6Hkm96n9M7vepcoUHKZnsE63/ndCyuHWUaZaC2lzp4gXb0hsjIMuVma3SET31g/i6uttUcAvFP/K8tZwIGo/Q5620QkVZq8f9ols9M7Dhk3Nh5spKG9hznleSycVjD4Faay3BLX1CHUA0dfTvdoBpVoodVtfse7OGV3vtMXuCr5vfXuQ/FozVEaaFx+oFRRMDrZqz63mde/891Or/vc4hS0w3/rWld+99CWY7R09lDX2sU//WI9h5s6KcrJZH7FwK+16LWUjrV4c5QGLb0beC2lcKA0zEB0ToI5Si1RHe+mTMdMmdTGS7gf79XUv+ckYIy51hizzhizrra2Nt4uIpKMpoPuVIGSeB6P6nanDzlJmO01dDi0Lr3jSEJZgrbY4flJCdpTQySj5BvNQMnPKMV2T6trcb+nIqMULr2Lyq7tqnVrNC2uGv1AaXZZPqcvKKerN8QN923lDd97koe3HqMoN5Pvvn1tn7Wr4okuvQtnlBKU3s2tSK70bqQLB8/211KKuR0tNiuTzVgHSseMMTMAvNMab/tBYE7UfrOBw/EOYK39sbX2VGvtqZWVKg0RGbZw6Z0CpYnoUGMH335gKzc+tJ3eJFoBJyN6/SRJwqxT3enB8R8oRRadjckoDdDxzrdgWkGfeUmjWXpXFmdcbV29dPQEyc4MUDQKbchjxSu92+VnlFIQKAFc4ZXf3bnuAPVt3Zy1sIK/fOp83rBqkMWNiWSU9tS10drVS3ZmIGHr7XBGKdnSu+EGSlEZpVAo8r22FpuVyWasA6V7gau981cD90Rtv8oYk2OMWQAsAcZ/KyGRiczPKBUrUJpIth1t4TN3buCC/3iMHz2xm5se2cHHfv1iv0n6zZ093HDfFr7zwKtxF4WMtbOmhU0Hm8jNCnDWwoEXnBTPbC9QmgAZJb/cLLrznbWW7ce8BU8HKL0zxvTJKo1mRskPlI5HzVEKZzsKc1KS2Yy3rpRfercoBaV3AG9cPYOSvCyyMwN8+U0r+PWHzmBmaXIL51YW5WBMpKytujjx/VJVlEN2ZoD6tm7aunoTHnOkc5QKczKpKMimqzcUbgwB6ngnk0/KQn5jzG+AC4FpxpiDwFeB7wB3GWM+COwH3gZgrX3FGHMXsAXoBT5urQ3GPbCIjI5mzVGaaL7+p1f4+TN7AQgYeOMJ03l6Rx1/3XKMD9z2Aj9+36kU5mTy3O56PnPXRg41uvkDS6oKufKUgR/n2/+2D4B/OHk2edlqOpqUyhWQlQ8Ne6GtDgrGb4DptwiPDg4ON3XS2tVLRUH2oMHP6QvKeWDzUcB9GB/tcUXPUYp0vBv9+UnuNr2MUoe7zd5giD11rvRuUYoySiX5WTzwyfPIDBiqhrgOVFZGgGmFOeHgJlHZHbj257PL8thd28aBhvaEHe1qR1h6B67zXX1bN/uPt4ebS6jjnUw2KQuUrLXvTHDRxQn2/ybwzVSNR0SiWKs5ShPM0aZOfv7MXjIDhnedMZd/Om8hc8rz2Xqkmff97Hn+tqued//kWc5YWMFPntqNtTCzJJfDTZ186/6tXLyiKlx+Faupo4ffv+ieD9ecPX8M/6oJLiMTZp4E+56BQ+th6fhdAjDeorORjncDd10DUpZRKi/o38yh1p+fNIq3E60kJrt2sKGD7mCIGSW5FKag1M+XbAYpnuriSKCUqJGDb05ZvguUjnckDpRGWHoHrrX4hgON7KtvDz8/InOUVHonk8N4aeYgImOpowF62iGnBHKHvoaGjL2nd7o1bM5bMo3rL1sdXsdkxYxifveRs5hTnsfGg038+MndGOC6ixbz2Ocv5PQF5dS3dfMff9mW8Ni/XXeA9u4g5yyuSOpDs0SZ5TV0SDRPKYmyx7Hgl5tFByTJdLzzrZhRzOpZxZy+oHxUM46l+f2bOcSuoTTawq3SvUBpZ4rnJ42G6VFZqKoBMkoQaRGeaJ6StTYcKI3kPp7nNY6IbkXe3BHpeicyGSjkF5mKwo0c1IV/onjGC5TOXdK/0cK8igJ+95GzufYX62jt6uXfr1zDqd43vDdcvpo3/vdT/Ob5/bztlNmcNLesz3WDIcvtf98LwDVnL0jtHzEZ+fOUDr7Qd3uwF/73dVC33e0z9yyYcwbMPROyhp9ZGK54Xe+GklHKCBj+dN25oz5nqDzOgrP1rX7HuxSV3uX3Lb3bWZva+UmjIXrdpMEySnPL+wcw0Vq6eunqDVGQnUHBCDJo/pc1++vbwtvU9U4mGwVKIlORyu4mFGttn4xSPNXFudz98XMA+nyYXVpdxIfOW8itT+ziS3/czL3XnUNmRqSY4NFXazhwvIM55Xm8ZnlVv+PKIPzOd4dehFAIAt59u+sROPyiO7/7cfcDMP0E+NCjkJmaICCRSNe7SKAUySglFyCkorGC38yhIU4zh5RllPL63ma4kcMEySgNNEcJotc4ih8ojUbZHcC8OAGZut7JZKPSO5GpSIvNTijbjrVQ29JFdXEOSwb4MGeMifth9hMXL2ZWaR5bjjRz+9/39bnstr/tAeDqs+YPup6LxFEyC4pmQFcT1O+MbH/xF+703E/D226HMz8GBVVucdqt9475MKMXdt1d28oXfr+JrUeaAViSxnLLsjhzlFIdKPntwZu8D/W7alO32Oxo8ddSgiTmKJX7LcLjLzo7WoHS3Hild+p6J5OMAiWRqcgvvStW6d1E8PQOl006Z/G0YX2rn5+dydffugqAG/68hQ//ch0v7W9g+7EWntlZT352Bm87dc4gR5GEZsUsPNtyDLY9AIFMOOOjsOpyuOTbcNG/ucufu3XMh+hnbnbXtXHxjU9wxwsHsMB7z5yX1vkkhTmZZGUY2ruD4Rb3qQ6UinMzyQgYWrt66QmGJtwcpepBuubNicr0xFsaYLQCpeqiXLIzA9S1RlqRq+udTDYKlESmonDpnT4cTwRPeYHSuYuH3376tSurue6ixWQFAvzllWNccfPfeOePnwXgypNnhzuByTCE5yl5gdLG/wMbhKWXQFF1ZL81b4fcUjef6eD6MR1iaX4Wxrg5aVmBAFedNoeHP3MB37h89ZiOI5Yxpl9ZYJ03R6kyRXOUjDHh5/uOY620dPZSkpeVsnbko2F6SfKldyV5WRTnZtLRE6S+rbvf5SNdQ8kXCBjmlHmNI7wyP3W9k8lGgZLIVKQ5ShNGV2+Q5/ccB0YWKAF87g3LePpfL+IjFyyiKCcz/CHq6rPnjXicU1p4ntI61+XOL7s7+eq++2UXwMnvc+fHOKuUm5XBV968kk+8ZjFP/etFfOfKNeOmeUF5TOe7ulHoyDYYfwHedfvca2tRZUFK5mCNlukluQQMFGRnJBWExCuL89WOYsbObxyxr94LlLyMUpEySjJJKOQXmcz2Pg2dzbD8jX23a7HZCePFfY109ARZVl005IUq46kqzuULly7nYxct4g/rD1JWkM3iKrUEH5GZJ4EJwLFXYOcjcHw3FM2ExXGWDTztQ/D3H8Arf4TXfwOKpo/ZMN9/zvjsahheALa9m86eIC1dvWQGTEqznP6crXV7G4DxXXYHrpTt369cQ1FuZlIB3ZyyfDYfaubA8XZOjul0OVqldxAJlPxW5OE5SgqUZJJQRklksupug1+/He58NzQfjmwP9kDLEcBA8cy0DU+S8/TOWgDOTdDtbriKc7O45pwFXHai5qmNWE4hVK6AUC88+AW37aT3QCDOekNl82DZGyHUA+t+PrbjHKf8+VPH27vD85MqCrNTmuHxy/3W75sYgRLA206dwyWrZyS1rz9P6WBD/4YOoxooVRQAkYxSi0rvZJJRoCQyWe34K/S0gQ3Bvr9FtrcccduKpkOGvvUb7/xGDqMdKMkom+01dKjfARgXKCVy5kfd6bqfQW9Xyoc23pUV+O26u8Pzk1JZdgeR0rtDjS6QmAiB0lBE1jiKU3qXgozS/uPtdPUG6ewJkRkw5GWN3qLEIumkQElksnrl7sj5/X+PnNf8pAmjqb2HTYeayMownLGgPN3DkYH485QAFl7oMkeJzDsHqldDW03f1+kUFVl0tmdM5idBJKPkW1w5ucpPY5ssRPPnKI1GoDQvai5US1Rr8PE830tkKBQoiUxG3e0uo+TbFx0oaX7SRPG3XXVYCyfPLSM/W6Us49rsqEDJb9iQiDFwxofd+eduSd2YJgh/vtDxtu6UtwaPvU2A7MwAs7zAYrIIr6UUEygFQ5Z6v7yxYOT3cfTito3eWlhabFYmEwVKIpPRjr9CTztMPwEysqFmC3S4WnytoTRxPLXTld2dp7K78a9yOZQvgvKFsPxNg+9/wtsgrwwOvwSHN6R8eONZuV96FzVHaVqKWoP7ogOlhdMKJt1iy7PL8sgIGA41dNDRHQxvP97WTchCWX4W2Zkj/wiYl51BZVEOPUHL9mNuPSotNiuTiQIlkcloyz3udM07vMUwLex/zm3TGkoTgrU2an5SZZpHI4MKZMBHnoYPPwWZSXxTn5UHa65y5/124lNUeI5Se09kDaUxLL2bbPOTAHIyM1hcWUjIwrZjLeHtozk/yTfPy169fKgJUMc7mVwUKIlMNj0dsP0v7vyKt8Lcs9z5/V5DB81RmhB21bay/3g7pflZnDCrJN3DkWRk57sOeMk6+b3u9OXfunLZKcrvetfQ1j2qa/wMpDQq6zEZAyWAlTOLAdhyuDm8bTTnJ/n8hg6b/UBJHe9kElGgJDLZ7HjIdbubebKbUD7vbLfdn6cUXkNJpXfj2UNbagB4zfKqSVcWJJ7qVa4JRFdzJAs8BUUvODtWzRzKojJK42Xh3dG2coYXKB1pCm/z79/RzNjNiQ2UlFGSSUSBkshk43/gWnW5O51zOmDcXIju9sgcJZXejWsPbTkKwOtXVqd5JJJSfuOHKVx+5y84S3sdna3HgbGdo6SM0sj4ne8a2v01lBQoyeShQElkMunpgO0PuvMrL3OnuSUwfbVb4HL349DZBJm5kF+RtmHKwGpbunjpQCPZmQHO0/ykyW31P0BWgSuNrduR7tGkRWFOJoWBbn5v/oXvN38WsGPW9S5gYMG0gpTeVrqs8DJKrx5tIRSyQGrmKPmldz51vZPJRIGSyGSy8xHoboUZJ0LZ/Mj2uV753ct3udOS2a5FsYxLj756DGvhnEUVFOToQ8ekllPkgiWYslklYwxvzNvMdNPAAnOECtPSpzQuFYpys7juosX8yyXLyZ2ki6OWF2QzvTiX9u4g+467OXApCZQqYgIlZZRkElGgJDKZbLnbnfpld755XkOHbQ+4U7UGH9ce2nIMgNetnJ7mkciYOPlqd7rxN9Dbnfz1Dq13JbWTwBsDz4XPr8xvGpN5eZ97wzI+csGilN9OOsWW34UDpcLcUbuNysIccrMiHyc1R0kmEwVKIpPF3mfglbvd+RVv7XuZn1Hq7XSnmp80bnV0B3nKawt+8YqqNI9GxsTsU6FyBbTVRkpnB9PdDre9BW57M3S3pXZ8qdbTwZm9L4R/XZbTkMbBTC6xDR1SMUfJGNOn/E5d72QyUaAkMhnU7YQ73+3mIZ3xUaiI+Za0qNothulTa/Bx66kdtXT1hlg7p5Tq4tH71lfGMWMiTR2eu9XNIxzM0Zddd8vu1khHy4lq58Pk2s7wr4uy6tI4mMklUUZpWuHoljbOLY/M81JGSSYTBUoiE11bPfz6H6GjAZZeCm/4Zvz9/PI7UKA0jvlld+p2N8WseQdk5cO+Z+B7q+Ghr0LL0cT7H34xcn73Y6kfXyp5mfCDdhoAs40CpdESySg109UbpKmjh4yAGfU5YH0zSgqUZPJQoCQykfV0wh3vgoY9MH0NXPlTCCSYmOyX34HWUBoHgiHL9x/ezg33baG5sye87dFX3fpJr12hQGlKKaiA994N889z6yo98334/gnw1H/F3z96btKuCRwoRXXq/HnvJQBMtzXpHNGkMrc8n4LsDI41d7HtaAvgskmBUZ4DNrc8L3xeGSWZTBQoiUxkf/4sHHjWNWd4112QM8B6IH0ySpqjlE7dvSE+8ZuX+P7DO/jp03u49PtP8dzuel7a30B9Wzdzy/NZWj0513aRAcw9A665Dz70CCx/MwR74JHrobW2/77RgVLNK9BybPDjP/INeOzbozfe0bDrUehupa5oBX8LrQKgoudImgc1eQQCJtwm/Mnt7nk0mvOTfPMqokrvNEdJJhEFSiITVXe765JlAvCuO6F4xsD7ly2AGWuheDaUzh2bMUo/7d29fOgX6/jzy0coyslk5YxiDjV2cNVPnuWLf3gZgNetrMaoffvUNftUuOrXsPAC9/vep/pe3tns1lzKyHYZKIA9Twx8zMYD8NR34YnvQPPh0R/zcHlld0dmvYGD1q0ZVtx5BKxN46Aml0ig5EoaK1OwRtUcr/QuI2DIm6Tt1mVqUqAkMlEd2ww26LplTT9h8P2Ngfc/AB9/FjJTu5ijxNfU3sN7//d5ntxeS0VBNr+59kzuue4c/vk1izHAjppWQGV34vGDoL1P991+ZCNgoXo1LH2D2zZY+d3+qIYPux8frRGOTE9neMmC1kVvpoV8Gm0BmaFO1wFQRoXf0GH9ftdNMBUZpbnl+cwqzWPt7BJ9ySOTivKjIhPVIW8y98yTkr9O9uRcgX686A2GCBgTt/4/FLJc/fPn2XCgkZklufzqQ2ewsNKV13329cu4cFkV//aHl8nLzuC0+WVjPXQZjxac705jM0qHo177Cy9y53c/5rIwiT6k7vtb5Pyux+DEd43uWIdj92PQ3QLT15A3fQlQwwFbSalpg8b9UKj2+KPBb+gQDLksXSoCpezMAI9+7gICCpJkklFGSWSi8ucozDwxrcMQp6Gtmzfd9DQX3/gEHd3Bfpc/vbOODQcaqSzK4XcfPTscJPlOmVfGXz59Pn/82NlkZuitWXCBUFYB1G3v2wEv/No/CapWQkEltByB2m2JjxWbURoPpW3+um8rL6Ms3zUA8MvvaNyXnjFNQsumFxH93U0qSu8AcjIzyNJ7l0wyekaLTFT+t8qzTk7vOISu3iDX/nId2461sKeujbvWHei3z21/2wvANWfPZ2ZpXr/LfSpbkbCMLJh7pjsfXX7nB0qzToZAABZe6H5P1Ca8/TjUvgqZuVBYDW01cOyVlA07KaFguOyOVVdQVuDaVYcDpQYFSqMlNyuDRVFfzFQWaX02kWQpUBKZiPzJ3IEsN09B0sZay7/8bhMv7G0gP9tNYv7RE7vo7g2F99lT18ajr9aQnRngnaerkYYMwQK/WcOT7rT9ODTshcw8mLbMbQuX3z0e/xh+Nmn2abDoNd6+aW4p3l4PXU2QVw4ViyjOzeJdZ8xlzsLl7vLG/ekd3yTjz1OC1JTeiUxWCpREJqKjm3CTuVepMUOafe/hHdyz4TD52Rnc9eGzWFxVyOGmTu7ecCi8z+1eNunyE2dSXjC6Cz3KJDc/Zp6Sn02asRYyvGnGi7xAae/TrqV4LH9+0tyzBg+qxkqr1868MNK45FtXnMAl55zhflGgNKr8eUqgQElkKBQoiUxEw2nkIKPqaFMnP3piFzc9soOAgR+86yRWzyrhYxcuAuDWx3cRDFlaOnv43fqDAFxz9oJ0DlkmohlrIbsIju+GpkN9Gzn4ime67FJ3Kxx8of8x/EBp3lmRMr29z0Bv18jGduB59zMcrd6isoWVfbf7SxdojtKoWqFASWRY1PVOZCKKnqMgY+aJ7bX88cWDrNvXwMGGjvD2r711Fa9Z7r4Zf+vamdz40HZ217Xx4Oaj1LZ00trVyxkLyvuUv4gkJSPTBTg7/uoyRoc3uO2xX5IsugjqtrmOdvPOjmzvanXtxE0GzD7dLUpdtcotUnvguUhnvaFqq4Pb3gyhHnjz9+GUq4d4fa/9d2FMK/xwoHQAQiE3B0tGbNXMYoyBwpxMCrK1zpFIsvQOJDIRxftWWVKqqaOHa3+xjrs3HOZgQweFOZmcv7SS//jHNbzvrPnh/TIzAnzkApdV+sFjO7n97+6b8fefMz/OUUWSEF5P6cnEX5Ikauhw8AW33tqMNS5Iit53sLWXBvLKHyHYBTYEf/oEPPPfQ7u+X3pXENMCPKcQ8ivcsdtqhj8+6aOiMIfvv+NEvv+OE9UwRmQIlFESmWjCk7lz3WKzMiYe3HyErt4Qa2eX8O1/WMOy6UVkxFkvCeAfT5nNfz+yg61HmgGYVZqnRWRl+PyGDq/eDx3HXSle+aK++8w/FzKyXWB04AWYc5rb7jdymBuVZVp0ETz7Qy+o+urwxrTpTne69FLY/gA89BXoaICLv5p4Lado4dK7OGsllc51zR4a9kHR9OGNT/q57MRZ6R6CyISjjJLIRHNkgzudviYymVtS7v+3d9/xUVZ538c/JxUSQggtlEBC772jCOqi2BZsqKsuNtTdtd+79/rs+jxbvVd3XVe9ZQXsuq7i2tvK2hCVGnqRFgidUBJCEhKSzJznjzOTTHolk5Dv+/Wa11xztTlzmMzF7zrn/M57aw4AcP24RAZ2aV1hkAQuHe/sScXjkW6ckKi5kaT2Og2FyFgXJIGbO610l7TIGBj/U7f80f3gKXTLgeOT/BInuqDqwFp346WmjqW4gCw8Gq56Hi6f77r2ffs3+M9D1TtHpYFSontWQgcRCbKgXLmNManGmA3GmLXGmGTfurbGmM+MMdt9z5qaXqQ8+zV/UkM7cDyXZbuOEREWwrQh1bvDff24RDrERNK6RRjXjO52mksoZ7SQ0JLjjirqcjv5vyG2O6RtgBXzoTAf9iW7bd0DAqWIaOg2DrDFacdrYsNb7nnAZe5cw66Ba19zwdLSOZCfU/U5cqpoUQIldBCRoAvmLc5zrbXDrbWjfa8fBL6w1vYBvvC9FpHS/GMUND6pwXyw7gDWwtQB8bRuEV6tY6Ijw/j47rP59L5ziibTFKk1f/c7qPhvPyIaLv6zW/7qYdj6CRTmuox40e1L7lvVJLUVsba4293QmcXr+10EHfoDFg5vqfo8/hal0mOUQIGSiDQajakvyHTgZd/yy8CM4BVFpBFToNTg3lvj5kSaPrxLjY7r2LoFXdq0PB1FkuYmKSBQqqw1ud9F0O8Slyr8/Z+5dYHd7vz8cy+t+Qc82qP48eYsKMgtu7/f/tWQnuKy1fWYXHJb/CD3nLax6s9TWde7uCT3rK53IhJkwQqULPAfY8wqY8ztvnXx1tqDAL7ncn49RZq5rDQ4sR8iWkG7PsEuTZPj8VoKPd5Kt3u8tsS67w+eYMuhLNpEhTOln36WJEjiB0PXUa7LnH8MT0UuehTCo1ywBCUTOfh1Hu7ShHsL3dgn/2Pze/DeT1xq7vL4W5MGX1l2jGRRoLSp8vJ5Cl2yBgxEtS+7vahFSYGSiARXsEaCn2WtPWCM6Qh8ZoypRju94wusbgfo3r376SqfSOPkT+TQebjmF6mGvAIPyakZrExNZ9XuDFbvycDjtQzr1oYxSXGMTmxLWKghOTWD5N3prNlznLbREbx081h6d3SplN9b61qTLhnSmYgw1bkESUgIzP6yevu26QZTHnSZ6KD8FqWQULjzG8g9XrwuIxVeneFSf8f1gB+UyojnKYCNb7vlwG53fvGD3XNVgdLJo4B1QVJ5CWlifWP6ju8Fr8eVVUQkCIISKFlrD/ieDxtj3gXGAmnGmM7W2oPGmM5AuRMoWGvnA/MBRo8ebcvbR+SMVZTIQd3uqpKb72HGnO/YmpZVZtuKXems2JUOpJTZdjI/l5nzlvLyzWMZ1KU17/uy3V0+Qql1pQkZ/1PYs8yNW2pTwU3FkFCIblf8OrodXP0SvHY1fPu46wIXOJHszkUuyGnf192sKS1+oHtO2+jGMlWUJryo210FKfMjotzYpZzDkHUIYvW3JyLB0eCBkjEmGgix1mb5li8Afg98AMwCHvE9v9/QZRNp9DQ+qdqe/mo7W9Oy6BzbgouHdGZMUhwjE+MICwlh1W7XgrQqNYNCr2VUYhxjkuIY1CWW//v+RhZtPcJ1zy5j9qSeHDqRR0JcS0YlKhGnNCGh4XDd6zU/rvf5cOnj8OG9Ls04QGyCe14x3z0PnVl+EBTTGVrGufmUsg5C6wrG9BUFSh0qLkeb7i5QOr5bgZKIBE0wWpTigXd9M0OHAf+01n5qjFkJvGmMuRXYA1wdhLKJNF6F+W7uElCgVIUdh7OYv3gnAE//aGSZIGfqwHimDiz/bvb8G0fzwJtr+Wj9Qf72+TYAZgzvqtnspfkYdROk74LvnoAP7ym7fUgFl2djXPe71G9c97uKAqWcKlqUAOISYX+yG6eUWM4YKxGRBtDggZK1dicwrJz1x4DzG7o8Ik3G5vfcYOuOA934ASmXtZaH3ttIgcdy3dhuNW4JiggL4clrRxDbMpzXlrvB5DNG1CzbnUiTd/5vXLc9/4S1fj3OKc5KV574Qb5AaSP0mVr+PkWpwatoUQIldBCRoApWMgcRqanlc93zuDsq7vsvvLd2P8t2ptM2OoJfTutfq3OEhhj+OGMwfeNj8FpL744x9VxKkUYuJMRNYFtT1cl8V1lqcD9/oJShuZREJHgUKIk0BfuSYf8qaNEGhpSTbUoAyDxZwB8/+h6AX108gDZRtZ/o1RjDrIlJ9VQykWaiOoFSdbre+VOga9JZEQki5boVaQr8rUmjZrmMUFKuPy/cwrGcfMb2aMuVIzUAXKTBdRgAGDi6DQpPlb9Pdpp7rrTrnT9QUtc7EQkeBUoiwbTqZXj/Lvd8ZKtLqVvaiYNuXhMTAmNmN3wZm4jUozm8vmIPYb5uc0q+IBIEEVHQrpebyPbotvL3yT7initrUYpNcL95mfugIK/+yykiUg3qeicSLMf3wkf3gfXCmlfdupZtoe80uOAPEO2bsX7Vi+4/HQN+6CaSlHLNW5yC18KVI7vSN15jikSCJn4QHNsBaZuh05Cy2/0tSpWNUQpvAe36wNGtcOR7ZfoUkaBQi5JIsKx8zgVJCWNh4Axo1clltVv3T/j7BNi20HVdSX7B7T/uzqAWtzE7lJnHW6v2YQz8ZEqvYBdHpHnr6B+ntLHsNk+B+50zIRDVruz2QP4g69CG+i2fiEg1qUVJJBjyT8Lql93ytD9BwmjX7e7oNvjoAdj9LfxzJnQbBzlHIH6I5hKpxPzFOynwWC4Z2pmeHVoFuzgizVtlCR1yjrrnqPYQElr5eToNgY1vwaFyAi4RkQagFiWRYNjwLzd7fddRLkgCl/K7Qz+Y9QFM/QOERsDe5W6bUoJX6Fj2KV5f4QZ8/1StSSLBV1mgVJ1ud36dBrtntSiJSJAoUBJpaNbC8nluubzudCGhcNY9MPsrF0h1GQlDrmrYMjYhLy1JJbfAw3n9OzKoS2ywiyMibRIhohVkHypuQfLL8SdyqE6gNNQ9H9oAXm/9llFEpBoUKIk0tNRv4fAml/Fp4IyK9+s0GGZ/Cbd/BeEtG6x4TUlWXgEvLUkF4GfnqjVJpFEICYGOA91y6ValotTg1QiUWnV0v5P5WZpPSUSCQoGSSEPzz4k0+hYIq/2EqAKvLttNVl4h43q0ZVRi22AXR0T8Kup+l+2fbLYagRIooYOIBJUCJZH6dOIApO+seHvGbtj6CYSEw6ibG65cZ6BVu9N55qsUAO46r3eQSyMiJfgDpcOlAqWadL0DBUoiElQKlETqi7Xw4sUwb7JL1FAef0rwwVdATCWTLQoAWw6dYGnKMWypiXi/3naE659bTtapQi4Z0pmze7cPUglFpFzxvkQMdel6BwqURCSolB5cpL4c2QIZu9zynuXQb1rJ7V4vrH3NLY+9o2HL1gSt3pPBdfOXcarQS/9OMdwxuSeXDu3Cwk2HuH/BWgo8lqtGJfDIFUMwyggo0rjE+8cobYaCPDeBLNSi611AQgcRkQamFiWR+rLrm+Ll3d+V3Z62EU4eg9hu0HVkw5WrAX297QgfrT9Q4favth7m2cU7WbU7nVOFngr325t+ktkvJ3Oq0EuL8BC2HMri/gXrmPToV9z9+hoKPJZbz+7Bn68cSliofsZEGp0Wsa41yHOq5O9hTQOltj0hrCWc2Acn0+u/nCIilVCLkkh9SV1cvLxnaTnbfYFU0qQmMyfSR+sPsC8jl5mju9E2uvLEE9vSsrj1pZUUei1hISFMG9ypxPZVuzO47eVkPF7XjS4iLIRhCbGc06cD149PLDp/5skCbnpxBcdy8pnUpz3zbhzFR+sOMndxCjuP5ADw8wv68rNze6slSaQx6z3VtQRt/wx6n+/W5fgDpWp2PQ4JdeOd9ie7m009zjk9ZRURKYcCJZH64PVCasBd0wNrIP8kREQVr0v91j33mNSwZaulJTuOcvfra7AWnvh8G9eM7sZtk3rSrW1UmX2ttTz03kYKfUHQg++sZ3i3NnSKdd1tsvIKuG/BGjxey9ikthzPzWdbWjYrUzNYmZrBnEU7uHZMd2ZNTOJX72wg5UgO/eJjmHP9SKIiwpg5phtXjUrg621HwMC5/ap5N1pEgqfPVPj2cdjxGfAIFOa78ZsmFFrWIEtlpyEuUDq0QYGSiDQoBUoi9eHwZshNh9ZdIaodHFrvLuz+i7rXUxxIJZ0dvHJWU0ZOPve/uRZroU/HVmw/nM3LS3fzj+V7uGpkAr+bPogW4aFF+7+9ej8rdqXTLjqCfp1iWJJyjAfeXMs/bh1HSIjh/72/ib3puQzu2pp/3DaOiLAQjp/MZ2VqBv9cvpuvth7hpSWpRXMidYiJ5IWbx9C6RXjRe4SEGM7trwBJpMlIGAuRsXBsh8sGGhrp1kd3cHMtVZcSOohIkKhzv0h9COxWlzjRLe8O6H53aD2cynQz1rfp3vDlqwFrLb98ez1pJ04xKjGOf987iU/vm8TlI7oCsCB5Lze/uJLsU4UAHD+Zz/988j0Av7p4AE9eO4J20REsSTnG/G928t6a/by7Zj8tw0N58toRRIS5n502URFMHRjPizeP5d/3TmLG8C6EhhiiIkJ5YdYYurbRJLsiTVpoGPQ61y1v/zyg212Hmp1HCR1EJEgUKInUB38ihx6ToPsEtxw4gDlweyP3+oq9/GdzGjGRYTxxzXDCQkPo36k1f7tmOB/edTYdYiJZuvMY1z+7jPScfB79dAvpOfmM69GWK0Z2pUNMJI9dPQyAxxZu5dfvuv/c/OaygfTq0Krc9xzQuTVPXDuCpQ+ex5f/NYUhCbEN9nlF5DTqc4F73vFZcSKH6qYG94sfCBiXWbTwVL0WT0SkMgqUROrK6y0OipLOLm5R2rcSPAVuuajFqfr96zNzC5j9SjIz5y0lIye/TkX0eC0frz/IVc8s4dL//YY3VuwpN+vcjsPZ/P4jN+/JHy8fXGY80sAurXnrzgl0a9uSdfsymT7nW15fsZfwUMPDlw8uSq5wbv+O3DQxiUKvJSffw7RBnbhmTLcqy9mxdYuicU0icgbo/QP3vGsxHN/jlqubyMEvIhra9QZvoQuWREQaiMYoidRV2gbIOw6x3SEuya1r19v1yz+4HjoPK+6GV83xSUeyTjHrhRVsPngCgDv+sYpXbx1LZFhoFUeWlFfg4e3V+3h28U5Sj50sWv/gOxv462fbuOWsHoxKjGP1ngySUzNYsesYeQVerhjRlenDu5Z7zsR20bx150RufH4529KyAZg9qSe9O8aU2O/Bi/qzLS2LzNwCHrlScx2JNEsx8a7r3KH1sPEdt66mXe8AOg2GY9td97vOw+q3jCIiFVCgJFJX5XWr6z7BBUp7lrjX+VluPpDY8oOPQPsyTnLj8yvYdTSHHu2jOZlfyIpd6Tz49gYenzms2gGHx2u5dv4y1u497orUNorZ5/QkJjKMuV+nsOVQFo9+Wvbu7LBubfjd9EGVnju+dQvevGMCD7y5jpP5hdx9Xp8y+7QID+W128ZhrUvEICLNVJ8LXKDk/z2saYsSuIQOm96FQxvrt2wiIpVQoCRSV4GJHPwSJ8KaV11Lkrew7PYK7DicxY3Pr+BgZh4DO7fm5VvGknYij5nzlvLumv0ktovivh/0rVaxFm46xNq9x+kQE8n/u3QgFw3uVDQ56/ThXfh62xGe/3YXR7JOMaJ7HGOS4hid2JZubVtWKxhrExXBCzeNqXQfY0xTmTJKRE6XPlPhm8eKX9d0jBKcnoQOOcdc9r2WcfV3ThE5oyhQknq1L+MkeQWeMt2wzlheD+z23SUN7FbnT+iwZykU5rrlSub/2HE4m/mLU3h3zX4KPJYxSXE8f5NLj90hJpL/vW4Es19J5onPt9O+VSRXjUookZ67NGstc77aAcA95/fhsmFdSmw3xjClX0emaD4iETnduo6GFm1cF2WAVrUJlHwpwvcnw57l0H1c3cp0KhuemQDhLeGuZAgNr/oYEWl2FCjVUerRHHYdzWFoQiztWkVWuf/mAyfYdCCzxLqk9tGMSare5Hs7j2Rz6EQe43u0a1TdmdbtPc7cr1P4dNMhrIWxSW35yZReTOnXoVGPTdlxOJs96TkM7xZH2+iIqg84luIyN3UfD8bAwXVw6oQbm9QmIFlBXBLEdIasg7BzkVtXzvik1XsymLsohc++T8Nad8orRnTl4cuH0DKiOBA6f0A8v7lsEL/5YBMPvbeR33+4maEJsYxKimPaoE6M6F7yjuiibUfYdOAEHWIiuXpUQs0rRkSkvoSGQa/zYJN/jFItAqWYTjBkJmx4E16dAde8Wpwooja2fAzZaW455Svoe0HtzyUiZywFSrXk8Vrmfp3CE59vo8BjAejZPppRiXGMSWrLqKQ4eraPxhiDtZbvdhxj7tcpfLvjaLnnu2JkV377w0ElJtgs7ettR7jz1VXkFnjoG9+KO87pxQ+HdyE8tPbJC9ftPc7x3AIm9y1/cO36fcc5cDyX8wfEl3kfay3fbD/K3K9TWJJyDICI0BAiw0JYkZrOipfS6d8phjsm9+TSoXUr5+mw6UAmM+cuJSffZX/r1SGa0YltuXBwPOf1L6cPffZhePY8d1c0fgicdS9k+rI4le5WZ4zrfrfxbbBeaNfHXehx9bZo2xHmLkph+a50ACLCQrhyZAK3n9OTHu2jyy3vrIlJeLyWN5P3sjUti+TdGSTvzuDZxTt5btboEmX+u681afakHpW2PImINIg+U4sDpdp0vQOY8Yxr+Vn7GvzzWrjyWRh0ecX7p34LYS0hYVTZbesXlFxWoCQi5TDW2mCXodZGjx5tk5OTG/x996af5P4Fa0nenQHAsIRYtqVlk1tQMt1yu+gIRibGcSgzjw37XStSdEQo5w2IJ8IXNHi8Xv698RCnCr10bdOSx2cOY1zPdmXe8+P1B7lvwRoKPJboiNCi/9x3iW3B9eMTmdCrHYO7xBZN5un1WrYfziZ5dzphIYZLh3YhOrI4Ls4r8PCXhVt5/ttdANxzXm/un9q3ROvPh+sO8MCbaynwWLq2acmtZ/fg2rHdiAgN4ZONh5j3dQqbDrisbK0iw7h+fHduOasHURGhvL5iD89/u4u0E27Oi65tWnLbpB5cM6YbURH1E58Xerx8uukQWw5mlVjfNa4l04d3qfR9DmXmMWPOdxw6kUdiuyjSTuSRV+At2v7A1L7cfV7vkq1h79wO6xfgJYQQvCVPeMWzMHRmyXUrnoVPfu6WR99C4UV/5aP1B4sSKQDERIZxw4REbj4riY4x1U+LnZlbwOo9GXy8/iBvrdpHVEQo/7pzAoO6xLJ85zGumb+M2JbhfPfgebSK1P0QEQmy7MPw1/6uq9uDe93YoNrweuE/D8GyOWBC4NInYNSssvt9/yEsuBHCWsB960u2YmUfhr/2c8d7C10w9YvtENlMuoxLrRljVllrRwe7HNJwFCjVgLWWf63ax+8+2EROvoeOMZH85ephTO7bgQKPl+8PnmBlagardqezMjWDI1nFE+O1bxXBzWf14IZxicRGlWw12nE4m/sXrGXD/kyMgevHdef8/vGM7B5HbFQ4r6/Yw6/f3YDXwi1n9eCXF/Xjg7UHmLd4JzsOZxedJzIshGEJbYiKDGX17gxO5BUWbWsTFc6PJyRx08QkDmXmcd+CNWxLyybU133P47XMmpDIby4bREiI4Z/L9/Dr9zZgLXSMieSw77O0iQqnVWQY+zJyfZ8rklvOTuL6cYnEtiz5uU4Venh/zQHmLU4h5UgOAHFR4cwc3Y3xvdq5z9ey5v3Cc/M9vJm8l2e/2VlUjtLifJ931sSkMl3qck4VcvXcpWw+eIIxSXH847ZxGAybD57gyy2HefrL7UV1/dAlAwgJMWRv+ZJWb1xOng3nkvz/4ZwWKdzd4t+0zd0NJhTu3witS44DIm0TPOPmVFo05FF+vb0v+4+78naMieTWs3vwo3HdiamkFbEq1loeeHMd767ZT3zrSN772Vn88u0NLN52hHvP78P9U6uX+EFE5LTbttC1CPU6r27nsdYlh/jyj+71D34HZ99XvH3/KnjxkuLxoWffDz/4bfH2Zc/Apw9Cv4sh97jLxnf5PBh2be3L5Cl0LV2tOkK/i2p/HmnUFCg1PwqUauBY9immPLaIrLxCLh7SiYdnDCGugnEt1lr2pueyMjWd0BDDtMGdKu0CVeDx8tQX25nz1Q68Af8kPdtHs/OoCzL+a2pf7gpo5fB6LV9uOcwXW9JYmZpRImgC19o0Kqkt+zNOsnrPcQBahIfg8VoKPJYe7aP52zXDOXwij7teX0N+oZcZw7vQJz6GvyzcCsAvLuzHTyb34vPv05j7dUrReZLaRXH7Ob24YmTXKrt2eb2Wz3zHr/EdD653Wr/4GCb1ac+siUkkxEVVfBIgIyefV5ft5qUlqaT7JmDt0T6ay4Z2LurW57Xw1dbDRSmxW4aHMn14F8b3bMfopDg6x7Zk9ivJfLnlMD3aR/POTyaW+Tf8ZMNB7n3Dtd5dOTKBK4a2J2HBVBLtfp7wzuTzDj9m4/4TGLxcEL6Rif278INLZtK1TcuS5c3OI/ypwYTnH2di3lMcI5aeHaK545yezBjRtcZzIlXkVKGHG59fwYpd6XRvG8We9JNERYTy3S/Pq/D7KSLS5AW22p91nwuGMvfCs+dDzmGXQGfXYoiIcTezWrZx+86fAgfWwNUvuUDpo/tc8Hbju7Urx7EUePcON8m4CYV7VhfPqSdnFAVKzY8CpRr6eP1B8go8XDGy62lJUrBxfyYfrT9Icmo66/dlku9xXbx+P30QP56QVOmxGTn5rNqdQW6Bh5GJcUX/cbfWsjI1g7lfp/DllsMA3DC+O7+6eEBR97QlKUeZ/XJyUZc+Y+D30wdz4/jEovNba1m79zjZpwqZ2Kt9UWtUdVlrSd6dweffp5GcmsGGgM8XGmK4bGhn7pjciwGdW5c4bv/xXJ77ZicLVu7lpK98wxJiuXNyLy4Y1KlMOay1LN+VztyvU1i09UiJba1bhHEir5C4qHDe+elZbjyQtXB0O+xd5rIphUWwquOV3PCh6075s9D3+EX4m+wLTSB/9mJ6xLctc/6wEMMPh3Xhjsm9iI4M5blvdrFg5V66FO4hilOEJox05R0Yf1qScBw/mc8Vf19SFFTffk5PfnXxgHp/HxGRRmX9v+C9O10XuhE3wr5kOPI99JgMN7wN/7jCBUvnPgSTfwFHtsGcMRDZGn6+DQpy4bG+YD3wwBY3QW51WQurX4ZPfwUFOcXrR98Klz5e/59Vgk6BUvOjQKkRyyvwsHF/JhFhIQxNaFMv59xxOJuT+YXlnm/t3uPc9OIKsvMK+evMYUwfXvXkqHWRV+Bh3d7jvL5iDx+uP4jH15TWv1NMQAuRZeuhLAp9287p24E7J/dkQs921QpUtx7K4ostLjBbtTuDzNwCIkJDeG32OMYkxsGiP8HK5+DksTLHZiacyx/3DeMPdg4tTAGFN7xPWO8pJfbZfOAE8xan8FFA+UNDTNHylH4duHNyL8b1aHvas/+lHs3himeWcKrAw1c/n0LH1tUf8yQi0mRtWwhv/hgK89zr9v3g1v+4FqSdX8MrP4SWbV2r0rd/g8V/geE3wIw5bv83roctH8GFf4IJP3Xr8k/Cwl+5lqeKFJyEo9vc8uArYezt8MKFEBrpxkX5EvjImUOBUvOjQElKyMjJJye/sMpucPVtb/pJnv/WtcKUTooRYuDSoV24Y3JPBnWJrfV7eL2WHUeyaREWSvd2UbDuDdddAtxM8d3HQ7fxkLELVr9a3L8dXFraK5+ttPzPfbOTBcl7KfDYClvHTrcjWafI93jLdAMUETmjpX4Hr18L4VFw68Lirm/WwnM/cPMvXfg/sHweHN8NP/4Aek52+2x+3wVanYfDHV+77nj/vMb1MqhKZKxrPRpylXu94AaXSGLi3XDBH0/DB60HXi9sX+i6LrbtARc/hmYGrx4FSs2PAqXG5oN7XH/nH73RLDPwZOYWsPtYTol1nVq3qP/WkfSdMHcS5Gf7sibdVPJCkXMUVsx3j9BIuPObas39kZVXgMdraROlsUEiIg0q74T7HS997dz67+IgquAkxHRxrUshvnGiBXmu+92pTLjpY/j3g5C2AVp3helzoEUlN+ja9Sq5/cAaNwYqPNq9R1T15khsEIX5sPEt+O4p1z3R78rniwM9qZQCpeZHgVJjkvKVm0gPYMJdcOHDQS3OGctTAC9Mc3cYB06Hq1+u+G5aYb7rux6uFhoRkSbJ64W5Z8PhTe71xHvggj+U3Of9u2DNqy4Zg/VAu95w43slJxKvrlevgJQvYMr/gSkP1rn4FfIUumCvwuvXKdi/GvYshb3LYc8yNw8guGAx6SzY8C/Xo+KulZUHhAIoUGqOGtcMoM2Z1wuf/7b49bJn4NDGoBWn0TiVBSfTy1+/5Gl4fBA8kujqLiuteudc9IgLklonwGVPVt7lICxCQZKISFMWEgKTHih+XXrOO4Ch17hn64FOQ+HmT2sXJAFM+i/3vOwZd63yy8t0wU19yNwPT49y80F9+zd3br+coy51+mN94cVp8MXvYNunLkjq0B+m/x3uXQeXz4eEsZCdVpxqvTK5GS75hUgzohalxmLj2/DWLdCqk5shfPUr7gfsloW1n5gvGHIz3F2s2g5iPZkOKV/67n4tdXMRWa+7u9dtvBtHlJEKK58teWEA10Vu+I/cgNqOA8oPgHYugldmuOWbPnZ31ERE5Mzm9bhxSJGtYcbfy14fvF5440du+Yp5dWtdsdb1Wti7DIZdB6ERrjXn6FaI7gjTn4a+F5Y9Lvuwm2eqZVzl5z+V5c6fFnAzNbI1jL7ZJaFY82pxYosO/SFxInSfAN3GQZvuJT/7oY0w7xzAwuwvocuI4m2Z+1wyDH+L1NFtENvNpVFv36fm9ZJz1H2+JtxypRal5keBUk1t/8z9iCXU499JYT7MGeuSCFz6BAy+Ap4e4+7yXPZU+bOO15eco27eiY4DISyy9udJ3wVLn4Y1/3CBzXkPue6DITWYK2jTe24+i9yM4nUhYRASXjKxgl+38W6Swah28N2TLmuRX1R7F1R1H+9mZvd3O8jc67ZP+jmc/39r8UFFRESqsP0zeK3UuB8T4q6PAKNudt3rI6JdsPLdE7DxHZep7/q3oOvI8s/rKXTjrXZ85m4gnv8bN5Y29ZuS+/Wd5uaWSpxQdVkX/tpdv7uMgNu+cDcov3sSNr3rWthKi2rvUq93GV71uf12fOESXYSGwyWPN9kxUQqUmp9GFygZY6YBTwKhwHPW2kcq2rfBAyVPATw1EjL3QNIk9yPU+/y6Z4vxT5rXrjf8dDmEhsGGt+DtW6FFG7h7FUS3d3eKDqxxwUO3sVW/b/5JOLDaBRql9y89/0NoJHQd5QKLDv3cD7qfPzAsfZcr/6TrwrbqJd8Pqrfk9sSz4fJn3B2syuRlwif/DevfcK8TxrpWtW7jXZlCw+HQehfo7Fnm7s6Nne3KGujIVljyvy5VbM7h8t8rMhYGTXc/1KHhlZdLRESkNqx16cWP73EtOd0nQKchLqj58g/gyYe2vVzWuR2flzw2ohVc9wb0mFT2nB//FyQ/724Q3vY5tO3ptu1b5aa6CA2HcXdC/MDql/VUtrtZe2K/u2l6eLNbHxIGfS4obpFq19v1fEn5wrVgXfdG9XplbHoX3p4N3oLidYOvhEv+WnXrWSOjQKn5aVSBkjEmFNgGTAX2ASuB66y1m8vbv8EDpVPZbv6F5Bfg1Am3Ln4IjLvdBU5xSWUzp+1d7gKKhNFlt/vP+dRwyDkCM19xyQXA/SC+OsN1Fevq+5s8uK74h6bTEBeoDZzhAiuA7CO+SVN9j4Nr3SR8pffPzYAP74Gtn7htsd2KW1oq02GAC04iosuePyQMhlztBslm7oP3f+aClcjWbl2LCtJkewpg+Vz3/mEt3QDbMbfVLfi01mW183ffK8yHbmPcD32HAU2rK6OIiJxZDm2Ed24vTi4RHgUjZ7n/S3z5sMtMFxoJV78E/S92+xzf625uLv6L2zbrg7I3C+ti8wfw5o2+8kS7nizjf1p2nFZhPrx7uwt+wlrAOT9313m/mE7uJqd/4t5VL7ueItbrzte+r2vBKshxCSUufwZ6Tqm/z3GaKVBqfhpboDQB+K219kLf6/8DYK39U3n7B22MUl4mJL8Iy/7uusf5teoE3cdBRIwLWI7tKHmcf3uH/sUtNmkb3ZwLXUe5Ju/AAOHoDnhmgrvzBO6YjoNcAOJ/3zaJLgDYn1z2/UwIxA9y/Z4D9y846QKzyFh3R2fo1W5s0N4VLrA4sb/keTL3wf5VxeUoff6e57pxQYE/qDlH4cN7S3aHq0yXEXDFs7Xr9ywiItKUFOS57m7GuG54/jTiXq/rYZL8vMvA13eauykZeF2+6gXXIlOfrHVzTBXmuqCtsrTmXg98/IDrTVKRuB6ud8q2T93rcx9yQZUxbgqUd++AfSvdTdZ71tY+cUYDU6DU/DS2QOkqYJq19jbf6xuBcdbau8rbP+jJHApPwfoFsPVTF2DklsrOFtbStSRFtHKtG6W3B5r1UdlmdnD9nPevdudJGONaZgryXDe1756C9JTifcOj3H7+QZuB+697HZY85VpawLWAXT4XYhOq/1kPrPW10OS5c/vPXxFr3V2nPUsrP3e73jD6FnWFExERsdZlofvmseJ1LWJdS83w62DQ5cErm5+1bkzyofUl1x3bDvuS3RyFfhc/5rrLB/IUumx91nN6U6jXMwVKzU9jC5SuBi4sFSiNtdbeHbDP7cDtAN27dx+1e/fuoJS1DGtdi86epS59ZsJol2LU/59/a+HodtfSlLmv5LHt+9ZuYKPX4+7WZO73vd+QyoMNr8dNvJefDUNmqguaiIhIY7X5fdfbo/t4aN+v6VyzPYWut8y+lW4MVe/zg12ieqNAqflpbIFS0+h6JyIiIiLNigKl5qex3Z5YCfQxxvQwxkQA1wIfBLlMIiIiIiLSzIQFuwCBrLWFxpi7gIW49OAvWGs3BblYIiIiIiLSzDSqQAnAWvsJ8EmwyyEiIiIiIs1XY+t6JyIiIiIiEnQKlEREREREREpRoCQiIiIiIlKKAiUREREREZFSFCiJiIiIiIiUokBJRERERESkFAVKIiIiIiIipShQEhERERERKUWBkoiIiIiISCkKlEREREREREpRoCQiIiIiIlKKAiUREREREZFSjLU22GWoNWPMEWB3EN66PXA0CO97plD91Y3qr25Uf3Wj+qsb1V/dqP7qRvVXN/2stTHBLoQ0nLBgF6AurLUdgvG+xphka+3oYLz3mUD1Vzeqv7pR/dWN6q9uVH91o/qrG9Vf3RhjkoNdBmlY6nonIiIiIiJSigIlERERERGRUhQo1c78YBegiVP91Y3qr25Uf3Wj+qsb1V/dqP7qRvVXN6q/ZqZJJ3MQERERERE5HdSiJCIiIiIiUsoZESgZY7oZY74yxnxvjNlkjLnXt76tMeYzY8x233Ocb/1UY8wqY8wG3/N5Aed62Biz1xiTXcV7jvIdv8MY85QxxvjW3+lbv9YY860xZmAFx0caYxb4jl9ujEkK2PapMea4MeajeqieKjXR+nvAGLPZGLPeGPOFMSYxYFuzrb+A7VcZY6wxptzsRsaYc4wxq40xhcaYq0ptm+Ur83ZjzKza1kt1NdH6q/B72pzrzxhzkzHmiK9e1hpjbqvg+Mr+fptt/fm2zfTVzSZjzD8rOL6y68ejxpiNvsc1dayeKjXR+qvs+9ds688Y87eAv91txpjjFRxf2fWjQetP5LSz1jb5B9AZGOlbjgG2AQOBPwMP+tY/CDzqWx4BdPEtDwb2B5xrvO982VW85wpgAmCAfwMX+da3Dtjnh8CnFRz/U2Cub/laYEHAtvOBy4CPVH8V1t+5QJRv+SeqP1d/AWVYDCwDRldwfBIwFHgFuCpgfVtgp+85zrccp/orc3y539PmXn/ATcDT1ShzuX+/qj/6AGv8nxnoWMHx5V4/gEuAz3BTf0QDyYHfVdVfld+/Zl1/pfa5G3ihguOTKP/60eD1p4cep/sR9AKclg8F7wNTga1AZ9+6zsDWcvY1wDEgstT6Cn9ofOfaEvD6OmBeOftdB/y7gnMsBCb4lsNwE8CZgO1TaKD/6DfF+iu13wjgu1Lrmm39AU8AlwKLqOA/+gH7vlTqQlf6XPOA61R/lZa36Hva3OuPagZKpc5X9Per+uPPwG3VKGO51w/gF8BDAfs9D8xU/VX7+9es66/UfkuAqVWU9SVKXj+CXn966FHfjzOi610gXxeEEcByIN5aexDA99yxnEOuBNZYa0/V4G26AvsCXu/zrfOX4WfGmBTcj/Y9lZxjr69shUAm0K4GZTgtmlD9BboVd1cs6IJdf8aYEUA3a21tux0WfS9Ln7shNKX6q+B72qzrz39OX5emt4wx3apxvsC/3+Zef32BvsaY74wxy4wx0yo5R3nXj3XARcaYKGNMe1zLSXX+DepFE6q/QIHfv+Zef/5yJAI9gC9rcF4Icv2JnA5hwS5AfTLGtALeBu6z1p4wJYcdlLf/IOBR4IKavlU562zRgrVzgDnGmB8BDwGzanqOYGhi9ecvww3AaGByDctQ74Jdf8aYEOBvuLv6tRW072VTq78KvqfNtv58zx8Cr1trTxlj7gReBs4rZ39/GUr//Tb3+gvDdR+bAiQA3xhjBltrj1fnHNba/xhjxuBaA44AS4HCGpavVppY/fnLUOL7p/orci3wlrXWU5MTB7P+RE6XM6ZFyRgTjvuRec1a+45vdZoxprNve2fgcMD+CcC7wI+ttSlVnDs0YIDj73F3YBICdkkADpRz6BvADN85Hvafw7dtH747LcaYMCAWSK/+J65fTbD+MMb8APg18MMa3lGrd42k/mJwfdYXGWNScf3VPzDGjC6v/ipQ9L0sde7TqonXX9H3lOZdf1hrjwX8LT4LjPKdo7p/v826/nzb3rfWFlhrd+G6X/WpyfXDWvuwtXa4tXYq7j/F22tRJTXSBOuvwutHM68/v2uB1wPOUd3rR1DqT+S0Cnbfv/p44P4YXwGeKLX+L5QcDPln33IbXBPxlZWcs6rBkCtx/5HyD4a82Le+T8A+lwHJFRz/M0oOxn2z1PYpNFwygqZYfyOAlMD9VX9l9llEzccotQV24QbSx/mW26r+ymwr93va3OsP35gK3/LlwLIKji/371f1xzTgZd9ye1z3unblHF/u9QMI9e+PG2y/EQhT/VX7+9es68+3rR+QSsCY6UrO8xIlrx8NXn966HG6H0EvQL18CDgb13S8Hljre1yM67P9Be6Oxhf4Lri4bjI5AfuuxZcdBzfeYB/g9T3/toL3HO37EUgBnvb/qABPApt85/wKGFTB8S2AfwE7cBloegZs+wbXbJ3rK8OFqr8yx38OpAW8/weqvzL7LKLi/+iP8Z0/BzcYeFPAtlt838sdwM3N6e+3BvVX4fe0Odcf8Cdfvazz1Uv/Wvz9Nuf6M8DjwGZgA3BtBceXe/3wrd/seywDhqv+qv/9a+7159v2W+CRKspc7vUjGPWnhx6n++H/cRERERERERGfM2aMkoiIiIiISH1RoCQiIiIiIlKKAiUREREREZFSFCiJiIiIiIiUokBJRERERESkFAVKIiJnAGOMxzcp5CZjzDpjzAPGmEp/440xScaYHzVUGUVERJoSBUoiImeGXGvtcGvtIGAqbi6W31RxTBKgQElERKQcmkdJROQMYIzJtta2CnjdE1gJtAcSgVeBaN/mu6y1S4wxy4ABwC7gZeAp4BFgChAJzLHWzmuwDyEiItKIKFASETkDlA6UfOsygP5AFuC11uYZY/oAr1trRxtjpgA/t9Ze6tv/dqCjtfaPxphI4Dvgamvtrob8LCIiIo1BWLALICIip43xPYcDTxtjhgMeoG8F+18ADDXGXOV7HQv0wbU4iYiINCsKlEREzkC+rnce4DBurFIaMAw3NjWvosOAu621CxukkCIiIo2YkjmIiJxhjDEdgLnA09b1r44FDlprvcCNQKhv1ywgJuDQhcBPjDHhvvP0NcZEIyIi0gypRUlE5MzQ0hizFtfNrhCXvOFx37a/A28bY64GvgJyfOvXA4XGmHXAS8CTuEx4q40xBjgCzGiY4ouIiDQuSuYgIiIiIiJSirreiYiIiIiIlKJASUREREREpBQFSiIiIiIiIqUoUBIRERERESlFgZKIiIiIiEgpCpRERERERERKUaAkIiIiIiJSigIlERERERGRUv4/6KvOv9EZ1qYAAAAASUVORK5CYII=\n",
>>>>>>> b16863ab3c0a4737f053e604f6f89d5ee197d7c1
      "text/plain": [
       "<Figure size 864x504 with 1 Axes>"
      ]
     },
     "metadata": {
      "needs_background": "light"
     },
     "output_type": "display_data"
    }
   ],
   "source": [
    "#calling the function\n",
    "twoStates(['Kerala','Uttar Pradesh'],'Deceased')"
   ]
  },
  {
   "cell_type": "code",
<<<<<<< HEAD
   "execution_count": 38,
=======
   "execution_count": 53,
>>>>>>> b16863ab3c0a4737f053e604f6f89d5ee197d7c1
   "metadata": {},
   "outputs": [
    {
     "data": {
<<<<<<< HEAD
      "image/png": "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\n",
=======
      "image/png": "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\n",
>>>>>>> b16863ab3c0a4737f053e604f6f89d5ee197d7c1
      "text/plain": [
       "<Figure size 864x504 with 1 Axes>"
      ]
     },
     "metadata": {
      "needs_background": "light"
     },
     "output_type": "display_data"
    }
   ],
   "source": [
    "twoStates(['Kerala','Tamil Nadu'],'Tested')"
   ]
  },
  {
   "cell_type": "code",
<<<<<<< HEAD
   "execution_count": 40,
   "metadata": {},
=======
   "execution_count": null,
   "metadata": {
    "scrolled": true
   },
>>>>>>> b16863ab3c0a4737f053e604f6f89d5ee197d7c1
   "outputs": [],
   "source": [
    "# The url for dataset of covid state-wise covid vaccination progress of the ststes of the nation\n",
    "url2='http://api.covid19india.org/csv/latest/vaccine_doses_statewise_v2.csv'"
   ]
  },
  {
   "cell_type": "code",
<<<<<<< HEAD
   "execution_count": 41,
   "metadata": {},
   "outputs": [
    {
     "data": {
      "text/html": [
       "<div>\n",
       "<style scoped>\n",
       "    .dataframe tbody tr th:only-of-type {\n",
       "        vertical-align: middle;\n",
       "    }\n",
       "\n",
       "    .dataframe tbody tr th {\n",
       "        vertical-align: top;\n",
       "    }\n",
       "\n",
       "    .dataframe thead th {\n",
       "        text-align: right;\n",
       "    }\n",
       "</style>\n",
       "<table border=\"1\" class=\"dataframe\">\n",
       "  <thead>\n",
       "    <tr style=\"text-align: right;\">\n",
       "      <th></th>\n",
       "      <th>Vaccinated As of</th>\n",
       "      <th>State</th>\n",
       "      <th>First Dose Administered</th>\n",
       "      <th>Second Dose Administered</th>\n",
       "      <th>Total Doses Administered</th>\n",
       "    </tr>\n",
       "  </thead>\n",
       "  <tbody>\n",
       "    <tr>\n",
       "      <th>0</th>\n",
       "      <td>16/01/2021</td>\n",
       "      <td>Andaman and Nicobar Islands</td>\n",
       "      <td>225</td>\n",
       "      <td>0</td>\n",
       "      <td>225</td>\n",
       "    </tr>\n",
       "    <tr>\n",
       "      <th>1</th>\n",
       "      <td>16/01/2021</td>\n",
       "      <td>Andhra Pradesh</td>\n",
       "      <td>18412</td>\n",
       "      <td>0</td>\n",
       "      <td>18412</td>\n",
       "    </tr>\n",
       "    <tr>\n",
       "      <th>2</th>\n",
       "      <td>16/01/2021</td>\n",
       "      <td>Arunachal Pradesh</td>\n",
       "      <td>829</td>\n",
       "      <td>0</td>\n",
       "      <td>829</td>\n",
       "    </tr>\n",
       "    <tr>\n",
       "      <th>3</th>\n",
       "      <td>16/01/2021</td>\n",
       "      <td>Assam</td>\n",
       "      <td>3528</td>\n",
       "      <td>0</td>\n",
       "      <td>3528</td>\n",
       "    </tr>\n",
       "    <tr>\n",
       "      <th>4</th>\n",
       "      <td>16/01/2021</td>\n",
       "      <td>Bihar</td>\n",
       "      <td>18169</td>\n",
       "      <td>0</td>\n",
       "      <td>18169</td>\n",
       "    </tr>\n",
       "  </tbody>\n",
       "</table>\n",
       "</div>"
      ],
      "text/plain": [
       "  Vaccinated As of                        State  First Dose Administered  \\\n",
       "0       16/01/2021  Andaman and Nicobar Islands                      225   \n",
       "1       16/01/2021               Andhra Pradesh                    18412   \n",
       "2       16/01/2021            Arunachal Pradesh                      829   \n",
       "3       16/01/2021                        Assam                     3528   \n",
       "4       16/01/2021                        Bihar                    18169   \n",
       "\n",
       "   Second Dose Administered  Total Doses Administered  \n",
       "0                         0                       225  \n",
       "1                         0                     18412  \n",
       "2                         0                       829  \n",
       "3                         0                      3528  \n",
       "4                         0                     18169  "
      ]
     },
     "execution_count": 41,
     "metadata": {},
     "output_type": "execute_result"
    }
   ],
=======
   "execution_count": null,
   "metadata": {},
   "outputs": [],
>>>>>>> b16863ab3c0a4737f053e604f6f89d5ee197d7c1
   "source": [
    "vac=pd.read_csv(url2)\n",
    "vac.head()"
   ]
  },
  {
   "cell_type": "code",
<<<<<<< HEAD
   "execution_count": 42,
   "metadata": {},
   "outputs": [
    {
     "data": {
      "text/plain": [
       "38"
      ]
     },
     "execution_count": 42,
     "metadata": {},
     "output_type": "execute_result"
    }
   ],
=======
   "execution_count": null,
   "metadata": {},
   "outputs": [],
>>>>>>> b16863ab3c0a4737f053e604f6f89d5ee197d7c1
   "source": [
    "len(vac['State'].unique())"
   ]
  },
  {
   "cell_type": "code",
<<<<<<< HEAD
   "execution_count": 43,
=======
   "execution_count": null,
>>>>>>> b16863ab3c0a4737f053e604f6f89d5ee197d7c1
   "metadata": {},
   "outputs": [],
   "source": [
    "vac['Vaccinated As of']=pd.to_datetime(vac['Vaccinated As of'])"
   ]
  },
  {
   "cell_type": "code",
<<<<<<< HEAD
   "execution_count": 44,
   "metadata": {},
   "outputs": [
    {
     "data": {
      "text/plain": [
       "0   2021-01-16\n",
       "Name: Vaccinated As of, dtype: datetime64[ns]"
      ]
     },
     "execution_count": 44,
     "metadata": {},
     "output_type": "execute_result"
    }
   ],
=======
   "execution_count": null,
   "metadata": {},
   "outputs": [],
>>>>>>> b16863ab3c0a4737f053e604f6f89d5ee197d7c1
   "source": [
    "vac.loc[:0,\"Vaccinated As of\"]"
   ]
  },
  {
   "cell_type": "code",
<<<<<<< HEAD
   "execution_count": 45,
=======
   "execution_count": null,
>>>>>>> b16863ab3c0a4737f053e604f6f89d5ee197d7c1
   "metadata": {},
   "outputs": [],
   "source": [
    "swave['Date']=pd.to_datetime(df['Date'])"
   ]
  },
  {
   "cell_type": "code",
<<<<<<< HEAD
   "execution_count": 46,
   "metadata": {
    "scrolled": true
   },
   "outputs": [
    {
     "data": {
      "text/html": [
       "<div>\n",
       "<style scoped>\n",
       "    .dataframe tbody tr th:only-of-type {\n",
       "        vertical-align: middle;\n",
       "    }\n",
       "\n",
       "    .dataframe tbody tr th {\n",
       "        vertical-align: top;\n",
       "    }\n",
       "\n",
       "    .dataframe thead th {\n",
       "        text-align: right;\n",
       "    }\n",
       "</style>\n",
       "<table border=\"1\" class=\"dataframe\">\n",
       "  <thead>\n",
       "    <tr style=\"text-align: right;\">\n",
       "      <th></th>\n",
       "      <th>Date</th>\n",
       "      <th>State</th>\n",
       "      <th>First Dose Administered</th>\n",
       "      <th>Second Dose Administered</th>\n",
       "      <th>Total Doses Administered</th>\n",
       "    </tr>\n",
       "  </thead>\n",
       "  <tbody>\n",
       "    <tr>\n",
       "      <th>0</th>\n",
       "      <td>2021-01-16</td>\n",
       "      <td>Andaman and Nicobar Islands</td>\n",
       "      <td>225</td>\n",
       "      <td>0</td>\n",
       "      <td>225</td>\n",
       "    </tr>\n",
       "    <tr>\n",
       "      <th>1</th>\n",
       "      <td>2021-01-16</td>\n",
       "      <td>Andhra Pradesh</td>\n",
       "      <td>18412</td>\n",
       "      <td>0</td>\n",
       "      <td>18412</td>\n",
       "    </tr>\n",
       "  </tbody>\n",
       "</table>\n",
       "</div>"
      ],
      "text/plain": [
       "        Date                        State  First Dose Administered  \\\n",
       "0 2021-01-16  Andaman and Nicobar Islands                      225   \n",
       "1 2021-01-16               Andhra Pradesh                    18412   \n",
       "\n",
       "   Second Dose Administered  Total Doses Administered  \n",
       "0                         0                       225  \n",
       "1                         0                     18412  "
      ]
     },
     "execution_count": 46,
     "metadata": {},
     "output_type": "execute_result"
    }
   ],
=======
   "execution_count": null,
   "metadata": {
    "scrolled": true
   },
   "outputs": [],
>>>>>>> b16863ab3c0a4737f053e604f6f89d5ee197d7c1
   "source": [
    "vac.rename(columns={'Vaccinated As of':'Date'},inplace=True)\n",
    "vac.head(3)"
   ]
  },
  {
   "cell_type": "code",
<<<<<<< HEAD
   "execution_count": 47,
=======
   "execution_count": null,
>>>>>>> b16863ab3c0a4737f053e604f6f89d5ee197d7c1
   "metadata": {},
   "outputs": [],
   "source": [
    "#df3=vac.set_index(['Date'])\n",
    "#df4=df.set_index(['Date'])\n",
    "#df4.head()"
   ]
  },
  {
   "cell_type": "code",
<<<<<<< HEAD
   "execution_count": 48,
   "metadata": {},
   "outputs": [],
   "source": [
    "sl=vac['State'].unique()"
=======
   "execution_count": null,
   "metadata": {},
   "outputs": [],
   "source": [
    "sl=vac['State'].unique()"
   ]
  },
  {
   "cell_type": "code",
   "execution_count": null,
   "metadata": {},
   "outputs": [],
   "source": [
    "vac['First Dose Administered']=vac['First Dose Administered'].astype(float)\n",
    "vac['Second Dose Administered']=vac['Second Dose Administered'].astype(float)\n",
    "vac['Total Doses Administered']=vac['Total Doses Administered'].astype(float)\n",
    "vac.dtypes"
   ]
  },
  {
   "cell_type": "code",
   "execution_count": null,
   "metadata": {},
   "outputs": [],
   "source": [
    "cc=['Date','First Dose Administered','Second Dose Administered','Total Doses Administered','State']\n",
    "vac2 = pd.DataFrame(columns=cc)\n",
    "type(vac2)"
>>>>>>> b16863ab3c0a4737f053e604f6f89d5ee197d7c1
   ]
  },
  {
   "cell_type": "code",
<<<<<<< HEAD
   "execution_count": 75,
=======
   "execution_count": null,
>>>>>>> b16863ab3c0a4737f053e604f6f89d5ee197d7c1
   "metadata": {
    "scrolled": false
   },
   "outputs": [],
   "source": [
<<<<<<< HEAD
    "#The vaccine data above is not cumulative it is better if it became cumulative so\n",
    "# so bellow I tried to make it cumulative but for sum reason it is not working\n",
    "\n",
    "sl=vac[\"State\"].unique()\n",
    "\n",
    "\n",
    "cc=['Date','First Dose Administered','Second Dose Administered','Total Doses Administered','State']\n",
    "vac2 = pd.DataFrame(columns=cc)\n",
    "type(vac2)\n",
    "\n",
=======
>>>>>>> b16863ab3c0a4737f053e604f6f89d5ee197d7c1
    "#vac2=pd.DataFrame()\n",
    "for state in sl:\n",
    "    dftest=vac.groupby('State').get_group(state)\n",
    "    \n",
    "    dftest=dftest.set_index(['Date'])\n",
    "    \n",
    "    dftest.drop('State',axis=1,inplace=True)\n",
    "    \n",
    "    dftest=dftest.cumsum(axis = 0 )\n",
    "    \n",
    "    dftest['State']=state\n",
    "    \n",
    "    \n",
    "    \n",
    "    dftest.reset_index(inplace=True)\n",
    "   \n",
    "    vac2=vac2.append(dftest)\n",
    "\n",
    "   \n",
    "   "
   ]
  },
  {
   "cell_type": "code",
<<<<<<< HEAD
   "execution_count": 76,
   "metadata": {},
   "outputs": [
    {
     "data": {
      "text/plain": [
       "Date                        datetime64[ns]\n",
       "First Dose Administered            float64\n",
       "Second Dose Administered           float64\n",
       "Total Doses Administered           float64\n",
       "State                               object\n",
       "dtype: object"
      ]
     },
     "execution_count": 76,
     "metadata": {},
     "output_type": "execute_result"
    }
   ],
   "source": [
    "#Changing the data types of columns\n",
    "vac2['First Dose Administered']=vac2['First Dose Administered'].astype(float)\n",
    "vac2['Second Dose Administered']=vac2['Second Dose Administered'].astype(float)\n",
    "vac2['Total Doses Administered']=vac2['Total Doses Administered'].astype(float)\n",
    "vac2.dtypes"
=======
   "execution_count": null,
   "metadata": {},
   "outputs": [],
   "source": [
    "vac.loc[vac['State']=='Goa']['Total Doses Administered']#Took a look at orginal data"
   ]
  },
  {
   "cell_type": "code",
   "execution_count": null,
   "metadata": {},
   "outputs": [],
   "source": [
    "vac2.loc[vac2['State']=='Goa']['Total Doses Administered']#Took a look at modified data"
   ]
  },
  {
   "cell_type": "code",
   "execution_count": null,
   "metadata": {},
   "outputs": [],
   "source": [
    "vac2.loc[vac2['State']=='Goa']['Total Doses Administered'].plot()#Tried to plot it some sort of problem"
>>>>>>> b16863ab3c0a4737f053e604f6f89d5ee197d7c1
   ]
  },
  {
   "cell_type": "markdown",
   "metadata": {},
   "source": [
    "#### Below is the code for merging the 2 data sets (ie, vaccine and covid cases)"
   ]
  },
  {
   "cell_type": "code",
<<<<<<< HEAD
   "execution_count": 77,
=======
   "execution_count": null,
>>>>>>> b16863ab3c0a4737f053e604f6f89d5ee197d7c1
   "metadata": {},
   "outputs": [],
   "source": [
    "final=pd.merge(swave,vac2, how ='inner', on =['State','Date'])"
   ]
  },
  {
   "cell_type": "code",
<<<<<<< HEAD
   "execution_count": 78,
   "metadata": {},
   "outputs": [
    {
     "data": {
      "text/html": [
       "<div>\n",
       "<style scoped>\n",
       "    .dataframe tbody tr th:only-of-type {\n",
       "        vertical-align: middle;\n",
       "    }\n",
       "\n",
       "    .dataframe tbody tr th {\n",
       "        vertical-align: top;\n",
       "    }\n",
       "\n",
       "    .dataframe thead th {\n",
       "        text-align: right;\n",
       "    }\n",
       "</style>\n",
       "<table border=\"1\" class=\"dataframe\">\n",
       "  <thead>\n",
       "    <tr style=\"text-align: right;\">\n",
       "      <th></th>\n",
       "      <th>Date</th>\n",
       "      <th>State</th>\n",
       "      <th>Confirmed</th>\n",
       "      <th>Recovered</th>\n",
       "      <th>Deceased</th>\n",
       "      <th>Other</th>\n",
       "      <th>Tested</th>\n",
       "      <th>First Dose Administered</th>\n",
       "      <th>Second Dose Administered</th>\n",
       "      <th>Total Doses Administered</th>\n",
       "    </tr>\n",
       "  </thead>\n",
       "  <tbody>\n",
       "    <tr>\n",
       "      <th>0</th>\n",
       "      <td>2021-03-02</td>\n",
       "      <td>Manipur</td>\n",
       "      <td>8.0</td>\n",
       "      <td>5.0</td>\n",
       "      <td>0.0</td>\n",
       "      <td>0.0</td>\n",
       "      <td>1083.0</td>\n",
       "      <td>48180.0</td>\n",
       "      <td>0.0</td>\n",
       "      <td>48180.0</td>\n",
       "    </tr>\n",
       "    <tr>\n",
       "      <th>1</th>\n",
       "      <td>2021-03-02</td>\n",
       "      <td>Telangana</td>\n",
       "      <td>163.0</td>\n",
       "      <td>157.0</td>\n",
       "      <td>1.0</td>\n",
       "      <td>0.0</td>\n",
       "      <td>40181.0</td>\n",
       "      <td>2148901.0</td>\n",
       "      <td>0.0</td>\n",
       "      <td>2148901.0</td>\n",
       "    </tr>\n",
       "    <tr>\n",
       "      <th>2</th>\n",
       "      <td>2021-03-02</td>\n",
       "      <td>Mizoram</td>\n",
       "      <td>3.0</td>\n",
       "      <td>1.0</td>\n",
       "      <td>0.0</td>\n",
       "      <td>0.0</td>\n",
       "      <td>1011.0</td>\n",
       "      <td>97241.0</td>\n",
       "      <td>0.0</td>\n",
       "      <td>97241.0</td>\n",
       "    </tr>\n",
       "    <tr>\n",
       "      <th>3</th>\n",
       "      <td>2021-03-02</td>\n",
       "      <td>West Bengal</td>\n",
       "      <td>171.0</td>\n",
       "      <td>209.0</td>\n",
       "      <td>2.0</td>\n",
       "      <td>0.0</td>\n",
       "      <td>18965.0</td>\n",
       "      <td>2590831.0</td>\n",
       "      <td>0.0</td>\n",
       "      <td>2590831.0</td>\n",
       "    </tr>\n",
       "    <tr>\n",
       "      <th>4</th>\n",
       "      <td>2021-03-02</td>\n",
       "      <td>Lakshadweep</td>\n",
       "      <td>10.0</td>\n",
       "      <td>1.0</td>\n",
       "      <td>0.0</td>\n",
       "      <td>1.0</td>\n",
       "      <td>452.0</td>\n",
       "      <td>10772.0</td>\n",
       "      <td>0.0</td>\n",
       "      <td>10772.0</td>\n",
       "    </tr>\n",
       "  </tbody>\n",
       "</table>\n",
       "</div>"
      ],
      "text/plain": [
       "        Date        State  Confirmed  Recovered  Deceased  Other   Tested  \\\n",
       "0 2021-03-02      Manipur        8.0        5.0       0.0    0.0   1083.0   \n",
       "1 2021-03-02    Telangana      163.0      157.0       1.0    0.0  40181.0   \n",
       "2 2021-03-02      Mizoram        3.0        1.0       0.0    0.0   1011.0   \n",
       "3 2021-03-02  West Bengal      171.0      209.0       2.0    0.0  18965.0   \n",
       "4 2021-03-02  Lakshadweep       10.0        1.0       0.0    1.0    452.0   \n",
       "\n",
       "   First Dose Administered  Second Dose Administered  Total Doses Administered  \n",
       "0                  48180.0                       0.0                   48180.0  \n",
       "1                2148901.0                       0.0                 2148901.0  \n",
       "2                  97241.0                       0.0                   97241.0  \n",
       "3                2590831.0                       0.0                 2590831.0  \n",
       "4                  10772.0                       0.0                   10772.0  "
      ]
     },
     "execution_count": 78,
     "metadata": {},
     "output_type": "execute_result"
    }
   ],
=======
   "execution_count": null,
   "metadata": {},
   "outputs": [],
>>>>>>> b16863ab3c0a4737f053e604f6f89d5ee197d7c1
   "source": [
    "final.head()#Why does Bihar comes 3 times"
   ]
  },
  {
   "cell_type": "code",
<<<<<<< HEAD
   "execution_count": 79,
   "metadata": {},
   "outputs": [
    {
     "data": {
      "text/plain": [
       "Index(['Date', 'State', 'Confirmed', 'Recovered', 'Deceased', 'Other',\n",
       "       'Tested', 'First Dose Administered', 'Second Dose Administered',\n",
       "       'Total Doses Administered'],\n",
       "      dtype='object')"
      ]
     },
     "execution_count": 79,
     "metadata": {},
     "output_type": "execute_result"
    }
   ],
=======
   "execution_count": null,
   "metadata": {},
   "outputs": [],
>>>>>>> b16863ab3c0a4737f053e604f6f89d5ee197d7c1
   "source": [
    "final.columns"
   ]
  },
  {
   "cell_type": "code",
<<<<<<< HEAD
   "execution_count": 80,
   "metadata": {},
   "outputs": [
    {
     "data": {
      "text/html": [
       "<div>\n",
       "<style scoped>\n",
       "    .dataframe tbody tr th:only-of-type {\n",
       "        vertical-align: middle;\n",
       "    }\n",
       "\n",
       "    .dataframe tbody tr th {\n",
       "        vertical-align: top;\n",
       "    }\n",
       "\n",
       "    .dataframe thead th {\n",
       "        text-align: right;\n",
       "    }\n",
       "</style>\n",
       "<table border=\"1\" class=\"dataframe\">\n",
       "  <thead>\n",
       "    <tr style=\"text-align: right;\">\n",
       "      <th></th>\n",
       "      <th>Date</th>\n",
       "      <th>State</th>\n",
       "      <th>Confirmed</th>\n",
       "      <th>Recovered</th>\n",
       "      <th>Deceased</th>\n",
       "      <th>Other</th>\n",
       "      <th>Tested</th>\n",
       "      <th>First Dose Administered</th>\n",
       "      <th>Second Dose Administered</th>\n",
       "      <th>Total Doses Administered</th>\n",
       "    </tr>\n",
       "  </thead>\n",
       "  <tbody>\n",
       "    <tr>\n",
       "      <th>4387</th>\n",
       "      <td>2021-07-30</td>\n",
       "      <td>Mizoram</td>\n",
       "      <td>774.0</td>\n",
       "      <td>586.0</td>\n",
       "      <td>3.0</td>\n",
       "      <td>0.0</td>\n",
       "      <td>6795.0</td>\n",
       "      <td>4.145688e+07</td>\n",
       "      <td>7985709.0</td>\n",
       "      <td>4.944259e+07</td>\n",
       "    </tr>\n",
       "    <tr>\n",
       "      <th>4388</th>\n",
       "      <td>2021-07-30</td>\n",
       "      <td>Andhra Pradesh</td>\n",
       "      <td>2068.0</td>\n",
       "      <td>2127.0</td>\n",
       "      <td>22.0</td>\n",
       "      <td>0.0</td>\n",
       "      <td>80641.0</td>\n",
       "      <td>1.063221e+09</td>\n",
       "      <td>299658856.0</td>\n",
       "      <td>1.362880e+09</td>\n",
       "    </tr>\n",
       "    <tr>\n",
       "      <th>4389</th>\n",
       "      <td>2021-07-30</td>\n",
       "      <td>Dadra and Nagar Haveli and Daman and Diu</td>\n",
       "      <td>1.0</td>\n",
       "      <td>7.0</td>\n",
       "      <td>0.0</td>\n",
       "      <td>0.0</td>\n",
       "      <td>0.0</td>\n",
       "      <td>2.837307e+07</td>\n",
       "      <td>3862009.0</td>\n",
       "      <td>3.223508e+07</td>\n",
       "    </tr>\n",
       "    <tr>\n",
       "      <th>4390</th>\n",
       "      <td>2021-07-30</td>\n",
       "      <td>Andaman and Nicobar Islands</td>\n",
       "      <td>1.0</td>\n",
       "      <td>3.0</td>\n",
       "      <td>0.0</td>\n",
       "      <td>0.0</td>\n",
       "      <td>0.0</td>\n",
       "      <td>1.434127e+07</td>\n",
       "      <td>3208679.0</td>\n",
       "      <td>1.754995e+07</td>\n",
       "    </tr>\n",
       "    <tr>\n",
       "      <th>4391</th>\n",
       "      <td>2021-07-30</td>\n",
       "      <td>Punjab</td>\n",
       "      <td>48.0</td>\n",
       "      <td>55.0</td>\n",
       "      <td>2.0</td>\n",
       "      <td>0.0</td>\n",
       "      <td>36006.0</td>\n",
       "      <td>5.528078e+08</td>\n",
       "      <td>100057175.0</td>\n",
       "      <td>6.528650e+08</td>\n",
       "    </tr>\n",
       "  </tbody>\n",
       "</table>\n",
       "</div>"
      ],
      "text/plain": [
       "           Date                                     State  Confirmed  \\\n",
       "4387 2021-07-30                                   Mizoram      774.0   \n",
       "4388 2021-07-30                            Andhra Pradesh     2068.0   \n",
       "4389 2021-07-30  Dadra and Nagar Haveli and Daman and Diu        1.0   \n",
       "4390 2021-07-30               Andaman and Nicobar Islands        1.0   \n",
       "4391 2021-07-30                                    Punjab       48.0   \n",
       "\n",
       "      Recovered  Deceased  Other   Tested  First Dose Administered  \\\n",
       "4387      586.0       3.0    0.0   6795.0             4.145688e+07   \n",
       "4388     2127.0      22.0    0.0  80641.0             1.063221e+09   \n",
       "4389        7.0       0.0    0.0      0.0             2.837307e+07   \n",
       "4390        3.0       0.0    0.0      0.0             1.434127e+07   \n",
       "4391       55.0       2.0    0.0  36006.0             5.528078e+08   \n",
       "\n",
       "      Second Dose Administered  Total Doses Administered  \n",
       "4387                 7985709.0              4.944259e+07  \n",
       "4388               299658856.0              1.362880e+09  \n",
       "4389                 3862009.0              3.223508e+07  \n",
       "4390                 3208679.0              1.754995e+07  \n",
       "4391               100057175.0              6.528650e+08  "
      ]
     },
     "execution_count": 80,
     "metadata": {},
     "output_type": "execute_result"
    }
   ],
=======
   "execution_count": null,
   "metadata": {},
   "outputs": [],
>>>>>>> b16863ab3c0a4737f053e604f6f89d5ee197d7c1
   "source": [
    "final.tail()"
   ]
  },
  {
   "cell_type": "markdown",
   "metadata": {},
   "source": [
    "### Below is another function which is updated to compare the vaccination progress also of to selected states on the go"
   ]
  },
  {
   "cell_type": "code",
<<<<<<< HEAD
   "execution_count": 81,
=======
   "execution_count": null,
>>>>>>> b16863ab3c0a4737f053e604f6f89d5ee197d7c1
   "metadata": {},
   "outputs": [],
   "source": [
    "fet=final.columns"
   ]
  },
  {
   "cell_type": "code",
<<<<<<< HEAD
   "execution_count": 94,
=======
   "execution_count": null,
>>>>>>> b16863ab3c0a4737f053e604f6f89d5ee197d7c1
   "metadata": {},
   "outputs": [],
   "source": [
    "def twoStates2(sl,fet):\n",
    "    dfs=final[final.State.isin(sl)]\n",
    "    #x = np.random.randint(low=0, high=100, size=100)\n",
    "\n",
    "    fig, ax = plt.subplots(figsize=(12, 7))\n",
    "    sns.lineplot(data=dfs, x=\"Date\", y=fet, hue=\"State\",linewidth = 2)\n",
    "    plt.legend( bbox_to_anchor=(1.02, 1),loc='upper left', borderaxespad=0, title='states')\n",
    "    plt.title(fet+' -Comparrison')\n",
    "    #plt.xticks(np.arange(0, len(x)+100, 1))\n",
    "    #ax.set_xticks(np.arange(0, len(x)+1, 5))\n",
    "    plt.show"
   ]
  },
  {
   "cell_type": "code",
<<<<<<< HEAD
   "execution_count": 95,
   "metadata": {},
   "outputs": [
    {
     "data": {
      "image/png": "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\n",
      "text/plain": [
       "<Figure size 864x504 with 1 Axes>"
      ]
     },
     "metadata": {
      "needs_background": "light"
     },
     "output_type": "display_data"
    }
   ],
=======
   "execution_count": null,
   "metadata": {},
   "outputs": [],
>>>>>>> b16863ab3c0a4737f053e604f6f89d5ee197d7c1
   "source": [
    "twoStates2(['Kerala','Uttar Pradesh'],'Total Doses Administered')"
   ]
  },
  {
   "cell_type": "code",
<<<<<<< HEAD
   "execution_count": 58,
   "metadata": {},
   "outputs": [
    {
     "data": {
      "text/plain": [
       "Date                        datetime64[ns]\n",
       "State                               object\n",
       "Confirmed                          float64\n",
       "Recovered                          float64\n",
       "Deceased                           float64\n",
       "Other                              float64\n",
       "Tested                             float64\n",
       "First Dose Administered            float64\n",
       "Second Dose Administered           float64\n",
       "Total Doses Administered           float64\n",
       "dtype: object"
      ]
     },
     "execution_count": 58,
     "metadata": {},
     "output_type": "execute_result"
    }
   ],
=======
   "execution_count": null,
   "metadata": {},
   "outputs": [],
>>>>>>> b16863ab3c0a4737f053e604f6f89d5ee197d7c1
   "source": [
    "final.dtypes"
   ]
  },
  {
   "cell_type": "code",
<<<<<<< HEAD
   "execution_count": 59,
   "metadata": {},
   "outputs": [
    {
     "data": {
      "text/html": [
       "<div>\n",
       "<style scoped>\n",
       "    .dataframe tbody tr th:only-of-type {\n",
       "        vertical-align: middle;\n",
       "    }\n",
       "\n",
       "    .dataframe tbody tr th {\n",
       "        vertical-align: top;\n",
       "    }\n",
       "\n",
       "    .dataframe thead th {\n",
       "        text-align: right;\n",
       "    }\n",
       "</style>\n",
       "<table border=\"1\" class=\"dataframe\">\n",
       "  <thead>\n",
       "    <tr style=\"text-align: right;\">\n",
       "      <th></th>\n",
       "      <th>Date</th>\n",
       "      <th>First Dose Administered</th>\n",
       "      <th>Second Dose Administered</th>\n",
       "      <th>Total Doses Administered</th>\n",
       "      <th>State</th>\n",
       "    </tr>\n",
       "  </thead>\n",
       "  <tbody>\n",
       "    <tr>\n",
       "      <th>190</th>\n",
       "      <td>2021-07-26</td>\n",
       "      <td>2.339479e+10</td>\n",
       "      <td>5.455891e+09</td>\n",
       "      <td>2.887709e+10</td>\n",
       "      <td>Total</td>\n",
       "    </tr>\n",
       "    <tr>\n",
       "      <th>191</th>\n",
       "      <td>2021-07-27</td>\n",
       "      <td>2.374412e+10</td>\n",
       "      <td>5.552723e+09</td>\n",
       "      <td>2.932324e+10</td>\n",
       "      <td>Total</td>\n",
       "    </tr>\n",
       "    <tr>\n",
       "      <th>192</th>\n",
       "      <td>2021-07-28</td>\n",
       "      <td>2.409666e+10</td>\n",
       "      <td>5.650884e+09</td>\n",
       "      <td>2.977395e+10</td>\n",
       "      <td>Total</td>\n",
       "    </tr>\n",
       "    <tr>\n",
       "      <th>193</th>\n",
       "      <td>2021-07-29</td>\n",
       "      <td>2.445280e+10</td>\n",
       "      <td>5.750777e+09</td>\n",
       "      <td>3.022998e+10</td>\n",
       "      <td>Total</td>\n",
       "    </tr>\n",
       "    <tr>\n",
       "      <th>194</th>\n",
       "      <td>2021-07-30</td>\n",
       "      <td>2.481262e+10</td>\n",
       "      <td>5.852475e+09</td>\n",
       "      <td>3.069150e+10</td>\n",
       "      <td>Total</td>\n",
       "    </tr>\n",
       "  </tbody>\n",
       "</table>\n",
       "</div>"
      ],
      "text/plain": [
       "          Date  First Dose Administered  Second Dose Administered  \\\n",
       "190 2021-07-26             2.339479e+10              5.455891e+09   \n",
       "191 2021-07-27             2.374412e+10              5.552723e+09   \n",
       "192 2021-07-28             2.409666e+10              5.650884e+09   \n",
       "193 2021-07-29             2.445280e+10              5.750777e+09   \n",
       "194 2021-07-30             2.481262e+10              5.852475e+09   \n",
       "\n",
       "     Total Doses Administered  State  \n",
       "190              2.887709e+10  Total  \n",
       "191              2.932324e+10  Total  \n",
       "192              2.977395e+10  Total  \n",
       "193              3.022998e+10  Total  \n",
       "194              3.069150e+10  Total  "
      ]
     },
     "execution_count": 59,
     "metadata": {},
     "output_type": "execute_result"
    }
   ],
=======
   "execution_count": null,
   "metadata": {},
   "outputs": [],
>>>>>>> b16863ab3c0a4737f053e604f6f89d5ee197d7c1
   "source": [
    "vac2.tail()"
   ]
  },
  {
   "cell_type": "code",
<<<<<<< HEAD
   "execution_count": 60,
   "metadata": {},
   "outputs": [],
   "source": [
    "k=final.groupby(\"State\").get_group(\"Kerala\")"
   ]
  },
  {
   "cell_type": "code",
   "execution_count": 61,
   "metadata": {},
   "outputs": [
    {
     "data": {
      "text/plain": [
       "<AxesSubplot:>"
      ]
     },
     "execution_count": 61,
     "metadata": {},
     "output_type": "execute_result"
    },
    {
     "data": {
      "image/png": "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\n",
      "text/plain": [
       "<Figure size 432x288 with 1 Axes>"
      ]
     },
     "metadata": {
      "needs_background": "light"
     },
     "output_type": "display_data"
    }
   ],
   "source": [
    "k['Total Doses Administered'].plot()"
   ]
  },
  {
   "cell_type": "code",
   "execution_count": null,
   "metadata": {},
   "outputs": [],
   "source": []
  },
  {
   "cell_type": "code",
   "execution_count": null,
   "metadata": {},
=======
   "execution_count": null,
   "metadata": {},
>>>>>>> b16863ab3c0a4737f053e604f6f89d5ee197d7c1
   "outputs": [],
   "source": []
  },
  {
   "cell_type": "code",
   "execution_count": null,
   "metadata": {},
   "outputs": [],
   "source": []
  }
 ],
 "metadata": {
  "kernelspec": {
   "display_name": "Python 3",
   "language": "python",
   "name": "python3"
  },
  "language_info": {
   "codemirror_mode": {
    "name": "ipython",
    "version": 3
   },
   "file_extension": ".py",
   "mimetype": "text/x-python",
   "name": "python",
   "nbconvert_exporter": "python",
   "pygments_lexer": "ipython3",
   "version": "3.7.3"
  }
 },
 "nbformat": 4,
 "nbformat_minor": 4
}
