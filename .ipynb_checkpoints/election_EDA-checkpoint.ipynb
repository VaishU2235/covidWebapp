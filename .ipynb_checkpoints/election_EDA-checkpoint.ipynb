{
 "cells": [
  {
   "cell_type": "code",
   "execution_count": 1,
   "metadata": {},
   "outputs": [],
   "source": [
    "import pandas as pd\n",
    "import numpy as np\n",
    "import matplotlib.pyplot as plt\n",
    "import seaborn as sns\n",
    "%matplotlib inline"
   ]
  },
  {
   "cell_type": "code",
   "execution_count": 2,
   "metadata": {
    "scrolled": true
   },
   "outputs": [
    {
     "data": {
      "text/html": [
       "<div>\n",
       "<style scoped>\n",
       "    .dataframe tbody tr th:only-of-type {\n",
       "        vertical-align: middle;\n",
       "    }\n",
       "\n",
       "    .dataframe tbody tr th {\n",
       "        vertical-align: top;\n",
       "    }\n",
       "\n",
       "    .dataframe thead th {\n",
       "        text-align: right;\n",
       "    }\n",
       "</style>\n",
       "<table border=\"1\" class=\"dataframe\">\n",
       "  <thead>\n",
       "    <tr style=\"text-align: right;\">\n",
       "      <th></th>\n",
       "      <th>PC_Name</th>\n",
       "      <th>No</th>\n",
       "      <th>Type</th>\n",
       "      <th>State</th>\n",
       "      <th>Winning_candidate</th>\n",
       "      <th>Party</th>\n",
       "      <th>Electors</th>\n",
       "      <th>Vote</th>\n",
       "      <th>Turnout</th>\n",
       "      <th>Margin</th>\n",
       "      <th>Margin_in_percentage</th>\n",
       "      <th>year</th>\n",
       "    </tr>\n",
       "  </thead>\n",
       "  <tbody>\n",
       "    <tr>\n",
       "      <th>0</th>\n",
       "      <td>Ambalapuzha</td>\n",
       "      <td>143</td>\n",
       "      <td>GEN</td>\n",
       "      <td>Kerala</td>\n",
       "      <td>P. K. Vasudevan Nair</td>\n",
       "      <td>Communist Party Of India</td>\n",
       "      <td>445802</td>\n",
       "      <td>334846</td>\n",
       "      <td>75.1</td>\n",
       "      <td>11233</td>\n",
       "      <td>3.4</td>\n",
       "      <td>1962</td>\n",
       "    </tr>\n",
       "    <tr>\n",
       "      <th>1</th>\n",
       "      <td>Badagara</td>\n",
       "      <td>133</td>\n",
       "      <td>GEN</td>\n",
       "      <td>Kerala</td>\n",
       "      <td>A. V. Raghavan</td>\n",
       "      <td>Independent</td>\n",
       "      <td>463498</td>\n",
       "      <td>343312</td>\n",
       "      <td>74.1</td>\n",
       "      <td>72907</td>\n",
       "      <td>21.2</td>\n",
       "      <td>1962</td>\n",
       "    </tr>\n",
       "    <tr>\n",
       "      <th>2</th>\n",
       "      <td>Chirayinkil</td>\n",
       "      <td>147</td>\n",
       "      <td>GEN</td>\n",
       "      <td>Kerala</td>\n",
       "      <td>M. K. Kumaran</td>\n",
       "      <td>Communist Party Of India</td>\n",
       "      <td>437189</td>\n",
       "      <td>311762</td>\n",
       "      <td>71.3</td>\n",
       "      <td>33219</td>\n",
       "      <td>10.7</td>\n",
       "      <td>1962</td>\n",
       "    </tr>\n",
       "    <tr>\n",
       "      <th>3</th>\n",
       "      <td>Ernakulam</td>\n",
       "      <td>140</td>\n",
       "      <td>GEN</td>\n",
       "      <td>Kerala</td>\n",
       "      <td>A. M. Thomas</td>\n",
       "      <td>Indian National Congress</td>\n",
       "      <td>455280</td>\n",
       "      <td>363493</td>\n",
       "      <td>79.8</td>\n",
       "      <td>23399</td>\n",
       "      <td>6.4</td>\n",
       "      <td>1962</td>\n",
       "    </tr>\n",
       "    <tr>\n",
       "      <th>4</th>\n",
       "      <td>Kasergod</td>\n",
       "      <td>131</td>\n",
       "      <td>GEN</td>\n",
       "      <td>Kerala</td>\n",
       "      <td>A. K. Gopalan</td>\n",
       "      <td>Communist Party Of India</td>\n",
       "      <td>460358</td>\n",
       "      <td>308449</td>\n",
       "      <td>67.0</td>\n",
       "      <td>83363</td>\n",
       "      <td>27.0</td>\n",
       "      <td>1962</td>\n",
       "    </tr>\n",
       "  </tbody>\n",
       "</table>\n",
       "</div>"
      ],
      "text/plain": [
       "       PC_Name   No Type   State     Winning_candidate  \\\n",
       "0  Ambalapuzha  143  GEN  Kerala  P. K. Vasudevan Nair   \n",
       "1     Badagara  133  GEN  Kerala        A. V. Raghavan   \n",
       "2  Chirayinkil  147  GEN  Kerala         M. K. Kumaran   \n",
       "3    Ernakulam  140  GEN  Kerala          A. M. Thomas   \n",
       "4     Kasergod  131  GEN  Kerala         A. K. Gopalan   \n",
       "\n",
       "                      Party  Electors    Vote  Turnout  Margin  \\\n",
       "0  Communist Party Of India    445802  334846     75.1   11233   \n",
       "1               Independent    463498  343312     74.1   72907   \n",
       "2  Communist Party Of India    437189  311762     71.3   33219   \n",
       "3  Indian National Congress    455280  363493     79.8   23399   \n",
       "4  Communist Party Of India    460358  308449     67.0   83363   \n",
       "\n",
       "   Margin_in_percentage  year  \n",
       "0                   3.4  1962  \n",
       "1                  21.2  1962  \n",
       "2                  10.7  1962  \n",
       "3                   6.4  1962  \n",
       "4                  27.0  1962  "
      ]
     },
     "execution_count": 2,
     "metadata": {},
     "output_type": "execute_result"
    }
   ],
   "source": [
    "df=pd.read_csv('Kerala_Loksabha_1962_2019(1).csv')\n",
    "df.head()"
   ]
  },
  {
   "cell_type": "code",
   "execution_count": 3,
   "metadata": {},
   "outputs": [
    {
     "name": "stdout",
     "output_type": "stream",
     "text": [
      "1 Ambalapuzha\n",
      "2 Badagara\n",
      "3 Chirayinkil\n",
      "4 Ernakulam\n",
      "5 Kasergod\n",
      "6 Kottayam\n",
      "7 Kozhikode\n",
      "8 Manjeri\n",
      "9 Mavilekara\n",
      "10 Mukundapuram\n",
      "11 Muvattupuzha\n",
      "12 Palghat\n",
      "13 Poonani\n",
      "14 Qullon\n",
      "15 Tellicherry\n",
      "16 Thiruvalla\n",
      "17 Trichur\n",
      "18 Trivanduram\n",
      "19 Adoor\n",
      "20 Kasargod\n",
      "21 Mavelikara\n",
      "22 Muvattu Puzha\n",
      "23 Peermade\n",
      "24 Ponnani\n",
      "25 Quilon\n",
      "26 Telli Cherry\n",
      "27 Trivandrum\n",
      "28 Muvattpuzha\n",
      "29 Alleppey\n",
      "30 Calicut\n",
      "31 Cannanore\n",
      "32 Idukki\n",
      "33 Kasaragod\n",
      "34 Ottapalam\n",
      "35 Alappuzha\n",
      "36 Alathur\n",
      "37 Attingal\n",
      "38 Chalakudy\n",
      "39 Kannur\n",
      "40 Kollam\n",
      "41 Malappuram\n",
      "42 Mavelikkara\n",
      "43 Palakkad\n",
      "44 Pathanamthitta\n",
      "45 Thiruvananthapuram\n",
      "46 Thrissur\n",
      "47 Vadakara\n",
      "48 Wayanad\n",
      "49 Thiruvananthap\n"
     ]
    }
   ],
   "source": [
    "j=df[\"PC_Name\"].unique()\n",
    "#print(len(j))\n",
    "for i in range (0,49):\n",
    "     print(str(i+1)+(' ')+j[i])\n",
    "     #print(\"****************\")"
   ]
  },
  {
   "cell_type": "code",
   "execution_count": 4,
   "metadata": {},
   "outputs": [],
   "source": [
    "#some constituencie names are mispelled correcting thrm using pandas replace\n",
    "\n",
    "df.replace('Badagara',value='Vadakara',inplace=True)\n",
    "\n",
    "df.replace('Kasergod',value='Kasaragod',inplace=True)\n",
    "df.replace('Kasargod',value='Kasaragod',inplace=True)\n",
    "\n",
    "df.replace('Calicut',value='Kozhikode',inplace=True)\n",
    "\n",
    "df.replace('Mavilekara',value='Mavelikkara',inplace=True)\n",
    "df.replace('Mavelikara',value='Mavelikkara',inplace=True)\n",
    "\n",
    "df.replace('Muvattu Puzha',value='Muvattupuzha',inplace=True)\n",
    "df.replace('Muvattpuzha',value='Muvattupuzha',inplace=True)\n",
    "\n",
    "df.replace('Palghat',value='Palakkad',inplace=True)\n",
    "\n",
    "df.replace('Poonani',value='Ponnani',inplace=True)\n",
    "\n",
    "df.replace('Qullon',value='Kollam',inplace=True)\n",
    "df.replace('Quilon',value='Kollam',inplace=True)\n",
    "\n",
    "df.replace('Telli Cherry',value='Tellicherry',inplace=True)\n",
    "\n",
    "df.replace('Thiruvananthap',value='Thiruvananthapuram',inplace=True)\n",
    "df.replace('Trivandrum',value='Thiruvananthapuram',inplace=True)\n",
    "df.replace('Trivanduram',value='Thiruvananthapuram',inplace=True)\n",
    "\n",
    "df.replace('Alleppey',value='Alappuzha',inplace=True)\n",
    "\n",
    "df.replace('Cannanore',value='Kannur',inplace=True)"
   ]
  },
  {
   "cell_type": "code",
   "execution_count": 7,
   "metadata": {},
   "outputs": [
    {
     "name": "stdout",
     "output_type": "stream",
     "text": [
      "['Ambalapuzha' 'Vadakara' 'Chirayinkil' 'Ernakulam' 'Kasaragod' 'Kottayam'\n",
      " 'Kozhikode' 'Manjeri' 'Mavelikkara' 'Mukundapuram' 'Muvattupuzha'\n",
      " 'Palakkad' 'Ponnani' 'Kollam' 'Tellicherry' 'Thiruvalla' 'Trichur'\n",
      " 'Thiruvananthapuram' 'Adoor' 'Peermade' 'Alappuzha' 'Kannur' 'Idukki'\n",
      " 'Ottapalam' 'Alathur' 'Attingal' 'Chalakudy' 'Malappuram'\n",
      " 'Pathanamthitta' 'Thrissur' 'Wayanad']\n"
     ]
    }
   ],
   "source": [
    "k=df[\"PC_Name\"].unique()\n",
    "len(k)\n",
    "print(k)"
   ]
  },
  {
   "cell_type": "markdown",
   "metadata": {},
   "source": [
    "df['year']=pd.to_datetime(df['year'],infer_datetime_format=True)"
   ]
  },
  {
   "cell_type": "code",
   "execution_count": 6,
   "metadata": {},
   "outputs": [
    {
     "data": {
      "text/plain": [
       "array([1962, 1967, 1971, 1977, 1980, 1984, 1989, 1991, 1996, 1998, 1999,\n",
       "       2004, 2009, 2014, 2019])"
      ]
     },
     "execution_count": 6,
     "metadata": {},
     "output_type": "execute_result"
    }
   ],
   "source": [
    "df['year'].unique()"
   ]
  },
  {
   "cell_type": "code",
   "execution_count": 10,
   "metadata": {},
   "outputs": [
    {
     "data": {
      "text/html": [
       "<div>\n",
       "<style scoped>\n",
       "    .dataframe tbody tr th:only-of-type {\n",
       "        vertical-align: middle;\n",
       "    }\n",
       "\n",
       "    .dataframe tbody tr th {\n",
       "        vertical-align: top;\n",
       "    }\n",
       "\n",
       "    .dataframe thead th {\n",
       "        text-align: right;\n",
       "    }\n",
       "</style>\n",
       "<table border=\"1\" class=\"dataframe\">\n",
       "  <thead>\n",
       "    <tr style=\"text-align: right;\">\n",
       "      <th></th>\n",
       "      <th>PC_Name</th>\n",
       "      <th>No</th>\n",
       "      <th>Type</th>\n",
       "      <th>State</th>\n",
       "      <th>Winning_candidate</th>\n",
       "      <th>Party</th>\n",
       "      <th>Electors</th>\n",
       "      <th>Vote</th>\n",
       "      <th>Turnout</th>\n",
       "      <th>Margin</th>\n",
       "      <th>Margin_in_percentage</th>\n",
       "      <th>year</th>\n",
       "    </tr>\n",
       "  </thead>\n",
       "  <tbody>\n",
       "    <tr>\n",
       "      <th>0</th>\n",
       "      <td>Ambalapuzha</td>\n",
       "      <td>143</td>\n",
       "      <td>GEN</td>\n",
       "      <td>Kerala</td>\n",
       "      <td>P. K. Vasudevan Nair</td>\n",
       "      <td>Communist Party Of India</td>\n",
       "      <td>445802</td>\n",
       "      <td>334846</td>\n",
       "      <td>75.1</td>\n",
       "      <td>11233</td>\n",
       "      <td>3.4</td>\n",
       "      <td>1962</td>\n",
       "    </tr>\n",
       "    <tr>\n",
       "      <th>1</th>\n",
       "      <td>Vadakara</td>\n",
       "      <td>133</td>\n",
       "      <td>GEN</td>\n",
       "      <td>Kerala</td>\n",
       "      <td>A. V. Raghavan</td>\n",
       "      <td>Independent</td>\n",
       "      <td>463498</td>\n",
       "      <td>343312</td>\n",
       "      <td>74.1</td>\n",
       "      <td>72907</td>\n",
       "      <td>21.2</td>\n",
       "      <td>1962</td>\n",
       "    </tr>\n",
       "    <tr>\n",
       "      <th>2</th>\n",
       "      <td>Chirayinkil</td>\n",
       "      <td>147</td>\n",
       "      <td>GEN</td>\n",
       "      <td>Kerala</td>\n",
       "      <td>M. K. Kumaran</td>\n",
       "      <td>Communist Party Of India</td>\n",
       "      <td>437189</td>\n",
       "      <td>311762</td>\n",
       "      <td>71.3</td>\n",
       "      <td>33219</td>\n",
       "      <td>10.7</td>\n",
       "      <td>1962</td>\n",
       "    </tr>\n",
       "    <tr>\n",
       "      <th>3</th>\n",
       "      <td>Ernakulam</td>\n",
       "      <td>140</td>\n",
       "      <td>GEN</td>\n",
       "      <td>Kerala</td>\n",
       "      <td>A. M. Thomas</td>\n",
       "      <td>Indian National Congress</td>\n",
       "      <td>455280</td>\n",
       "      <td>363493</td>\n",
       "      <td>79.8</td>\n",
       "      <td>23399</td>\n",
       "      <td>6.4</td>\n",
       "      <td>1962</td>\n",
       "    </tr>\n",
       "    <tr>\n",
       "      <th>4</th>\n",
       "      <td>Kasaragod</td>\n",
       "      <td>131</td>\n",
       "      <td>GEN</td>\n",
       "      <td>Kerala</td>\n",
       "      <td>A. K. Gopalan</td>\n",
       "      <td>Communist Party Of India</td>\n",
       "      <td>460358</td>\n",
       "      <td>308449</td>\n",
       "      <td>67.0</td>\n",
       "      <td>83363</td>\n",
       "      <td>27.0</td>\n",
       "      <td>1962</td>\n",
       "    </tr>\n",
       "  </tbody>\n",
       "</table>\n",
       "</div>"
      ],
      "text/plain": [
       "       PC_Name   No Type   State     Winning_candidate  \\\n",
       "0  Ambalapuzha  143  GEN  Kerala  P. K. Vasudevan Nair   \n",
       "1     Vadakara  133  GEN  Kerala        A. V. Raghavan   \n",
       "2  Chirayinkil  147  GEN  Kerala         M. K. Kumaran   \n",
       "3    Ernakulam  140  GEN  Kerala          A. M. Thomas   \n",
       "4    Kasaragod  131  GEN  Kerala         A. K. Gopalan   \n",
       "\n",
       "                      Party  Electors    Vote  Turnout  Margin  \\\n",
       "0  Communist Party Of India    445802  334846     75.1   11233   \n",
       "1               Independent    463498  343312     74.1   72907   \n",
       "2  Communist Party Of India    437189  311762     71.3   33219   \n",
       "3  Indian National Congress    455280  363493     79.8   23399   \n",
       "4  Communist Party Of India    460358  308449     67.0   83363   \n",
       "\n",
       "   Margin_in_percentage  year  \n",
       "0                   3.4  1962  \n",
       "1                  21.2  1962  \n",
       "2                  10.7  1962  \n",
       "3                   6.4  1962  \n",
       "4                  27.0  1962  "
      ]
     },
     "execution_count": 10,
     "metadata": {},
     "output_type": "execute_result"
    }
   ],
   "source": [
    "df1962=df[df['year']==1962]\n",
    "df1962.head()"
   ]
  },
  {
   "cell_type": "code",
   "execution_count": 14,
   "metadata": {
    "scrolled": true
   },
   "outputs": [
    {
     "name": "stdout",
     "output_type": "stream",
     "text": [
      "Collecting folium\n",
      "  Downloading folium-0.12.1-py2.py3-none-any.whl (94 kB)\n",
      "\u001b[K     |████████████████████████████████| 94 kB 165 kB/s eta 0:00:011\n",
      "\u001b[?25hRequirement already satisfied: numpy in /home/prabin/anaconda3/lib/python3.8/site-packages (from folium) (1.19.2)\n",
      "Requirement already satisfied: jinja2>=2.9 in /home/prabin/anaconda3/lib/python3.8/site-packages (from folium) (2.11.2)\n",
      "Collecting branca>=0.3.0\n",
      "  Downloading branca-0.4.2-py3-none-any.whl (24 kB)\n",
      "Requirement already satisfied: requests in /home/prabin/anaconda3/lib/python3.8/site-packages (from folium) (2.24.0)\n",
      "Requirement already satisfied: MarkupSafe>=0.23 in /home/prabin/anaconda3/lib/python3.8/site-packages (from jinja2>=2.9->folium) (1.1.1)\n",
      "Requirement already satisfied: certifi>=2017.4.17 in /home/prabin/anaconda3/lib/python3.8/site-packages (from requests->folium) (2020.6.20)\n",
      "Requirement already satisfied: idna<3,>=2.5 in /home/prabin/anaconda3/lib/python3.8/site-packages (from requests->folium) (2.10)\n",
      "Requirement already satisfied: urllib3!=1.25.0,!=1.25.1,<1.26,>=1.21.1 in /home/prabin/anaconda3/lib/python3.8/site-packages (from requests->folium) (1.25.11)\n",
      "Requirement already satisfied: chardet<4,>=3.0.2 in /home/prabin/anaconda3/lib/python3.8/site-packages (from requests->folium) (3.0.4)\n",
      "Installing collected packages: branca, folium\n",
      "Successfully installed branca-0.4.2 folium-0.12.1\n",
      "Note: you may need to restart the kernel to use updated packages.\n"
     ]
    }
   ],
   "source": [
    "pip install folium"
   ]
  },
  {
   "cell_type": "code",
   "execution_count": 21,
   "metadata": {},
   "outputs": [
    {
     "name": "stdout",
     "output_type": "stream",
     "text": [
      "Collecting geopy\n",
      "  Downloading geopy-2.1.0-py3-none-any.whl (112 kB)\n",
      "\u001b[K     |████████████████████████████████| 112 kB 1.1 MB/s eta 0:00:01\n",
      "\u001b[?25hCollecting geographiclib<2,>=1.49\n",
      "  Downloading geographiclib-1.50-py3-none-any.whl (38 kB)\n",
      "Installing collected packages: geographiclib, geopy\n",
      "Successfully installed geographiclib-1.50 geopy-2.1.0\n",
      "Note: you may need to restart the kernel to use updated packages.\n"
     ]
    }
   ],
   "source": [
    "pip install geopy"
   ]
  },
  {
   "cell_type": "code",
   "execution_count": 25,
   "metadata": {},
   "outputs": [],
   "source": [
    "pip install geopandas"
   ]
  },
  {
   "cell_type": "code",
   "execution_count": 26,
   "metadata": {},
   "outputs": [],
   "source": [
    "import math\n",
    "import folium\n",
    "from folium import Marker,Circle\n",
    "from folium.plugins import MarkerCluster\n",
    "\n",
    "import geopandas as gdp\n",
    "\n",
    "from geopandas.tools import geocode"
   ]
  },
  {
   "cell_type": "code",
   "execution_count": null,
   "metadata": {},
   "outputs": [],
   "source": [
    "df1962=df[df['year']==1962]\n",
    "df1962"
   ]
  },
  {
   "cell_type": "code",
   "execution_count": null,
   "metadata": {},
   "outputs": [],
   "source": [
    "def my_geocoder(row):\n",
    "    try:\n",
    "        point = geocode(row, provider='nominatim').geometry.iloc[0]\n",
    "        return pd.Series({'Latitude': point.y, 'Longitude': point.x, 'geometry': point})\n",
    "    except:\n",
    "        return None\n",
    "\n",
    "df1962[['Latitude', 'Longitude', 'geometry']] = df1962.apply(lambda x: my_geocoder(x['PC_Name']), axis=1)\n",
    "\n",
    "print(\"{}% of addresses were geocoded!\".format(\n",
    "    (1 - sum(np.isnan(df1962[\"Latitude\"])) / len(df1962)) * 100))\n",
    "\n",
    "# Drop df1962 that were not successfully geocoded\n",
    "df1962 = df1962.loc[~np.isnan(df1962[\"Latitude\"])]\n",
    "#df1962 = geopandas.GeoDataFrame(df1962, geometry=df1962.geometry)\n",
    "df1962.crs = {'init': 'epsg:4326'}\n",
    "df1962.head()"
   ]
  },
  {
   "cell_type": "code",
   "execution_count": null,
   "metadata": {},
   "outputs": [],
   "source": [
    "# Create a Bubble base map\n",
    "#Agenda = blue-good , yellow - average , red - bad\n",
    "m_bubble_focus = folium.Map(location=[10.8505,76.2711], tiles='cartodbpositron', zoom_start=7.4)\n",
    "\n",
    "def color_producer(val):\n",
    "    if val==\"Communist Party Of India\":\n",
    "        return 'red'\n",
    "    if val=='Indian National Congress':\n",
    "        return 'blue'\n",
    "    if val=='Muslim League':\n",
    "        return 'green'\n",
    "    else:\n",
    "        return 'yellow'\n",
    "\n",
    "# Add a bubble map to the base map\n",
    "for i in range(0,len(df1962)):\n",
    "    Circle(\n",
    "        location=[df1962.iloc[i]['Latitude'], df1962.iloc[i]['Longitude']],\n",
    "        radius=10000,\n",
    "        color=color_producer(df1962.iloc[i]['Party']),fill=True,fill_color='black').add_to(m_bubble_focus)\n",
    "\n",
    "# Display the map\n",
    "m_bubble_focus"
   ]
  },
  {
   "cell_type": "code",
   "execution_count": null,
   "metadata": {},
   "outputs": [],
   "source": []
  },
  {
   "cell_type": "code",
   "execution_count": null,
   "metadata": {},
   "outputs": [],
   "source": []
  },
  {
   "cell_type": "code",
   "execution_count": null,
   "metadata": {},
   "outputs": [],
   "source": []
  },
  {
   "cell_type": "code",
   "execution_count": null,
   "metadata": {},
   "outputs": [],
   "source": []
  },
  {
   "cell_type": "code",
   "execution_count": null,
   "metadata": {},
   "outputs": [],
   "source": []
  },
  {
   "cell_type": "code",
   "execution_count": null,
   "metadata": {},
   "outputs": [],
   "source": []
  },
  {
   "cell_type": "code",
   "execution_count": null,
   "metadata": {},
   "outputs": [],
   "source": []
  },
  {
   "cell_type": "code",
   "execution_count": null,
   "metadata": {},
   "outputs": [],
   "source": []
  },
  {
   "cell_type": "code",
   "execution_count": null,
   "metadata": {},
   "outputs": [],
   "source": []
  },
  {
   "cell_type": "code",
   "execution_count": null,
   "metadata": {},
   "outputs": [],
   "source": []
  },
  {
   "cell_type": "code",
   "execution_count": null,
   "metadata": {},
   "outputs": [],
   "source": []
  },
  {
   "cell_type": "code",
   "execution_count": null,
   "metadata": {},
   "outputs": [],
   "source": []
  },
  {
   "cell_type": "code",
   "execution_count": null,
   "metadata": {},
   "outputs": [],
   "source": []
  },
  {
   "cell_type": "code",
   "execution_count": null,
   "metadata": {},
   "outputs": [],
   "source": []
  }
 ],
 "metadata": {
  "kernelspec": {
   "display_name": "Python 3",
   "language": "python",
   "name": "python3"
  },
  "language_info": {
   "codemirror_mode": {
    "name": "ipython",
    "version": 3
   },
   "file_extension": ".py",
   "mimetype": "text/x-python",
   "name": "python",
   "nbconvert_exporter": "python",
   "pygments_lexer": "ipython3",
   "version": "3.8.5"
  }
 },
 "nbformat": 4,
 "nbformat_minor": 4
}
