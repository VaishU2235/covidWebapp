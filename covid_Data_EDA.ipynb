{
 "cells": [
  {
   "cell_type": "code",
   "execution_count": 1,
   "metadata": {},
   "outputs": [],
   "source": [
    "import pandas as pd\n",
    "import numpy as np\n",
    "import matplotlib.pyplot as plt\n",
    "import seaborn as sns"
   ]
  },
  {
   "cell_type": "code",
   "execution_count": 2,
   "metadata": {},
   "outputs": [],
   "source": [
    "#Api link to the dataset\n",
    "url='https://api.covid19india.org/csv/latest/states.csv'"
   ]
  },
  {
   "cell_type": "code",
   "execution_count": 3,
   "metadata": {},
   "outputs": [
    {
     "data": {
      "text/html": [
       "<div>\n",
       "<style scoped>\n",
       "    .dataframe tbody tr th:only-of-type {\n",
       "        vertical-align: middle;\n",
       "    }\n",
       "\n",
       "    .dataframe tbody tr th {\n",
       "        vertical-align: top;\n",
       "    }\n",
       "\n",
       "    .dataframe thead th {\n",
       "        text-align: right;\n",
       "    }\n",
       "</style>\n",
       "<table border=\"1\" class=\"dataframe\">\n",
       "  <thead>\n",
       "    <tr style=\"text-align: right;\">\n",
       "      <th></th>\n",
       "      <th>Date</th>\n",
       "      <th>State</th>\n",
       "      <th>Confirmed</th>\n",
       "      <th>Recovered</th>\n",
       "      <th>Deceased</th>\n",
       "      <th>Other</th>\n",
       "      <th>Tested</th>\n",
       "    </tr>\n",
       "  </thead>\n",
       "  <tbody>\n",
       "    <tr>\n",
       "      <th>0</th>\n",
       "      <td>2020-01-30</td>\n",
       "      <td>Kerala</td>\n",
       "      <td>1</td>\n",
       "      <td>0</td>\n",
       "      <td>0</td>\n",
       "      <td>0</td>\n",
       "      <td>NaN</td>\n",
       "    </tr>\n",
       "    <tr>\n",
       "      <th>1</th>\n",
       "      <td>2020-01-30</td>\n",
       "      <td>India</td>\n",
       "      <td>1</td>\n",
       "      <td>0</td>\n",
       "      <td>0</td>\n",
       "      <td>0</td>\n",
       "      <td>NaN</td>\n",
       "    </tr>\n",
       "    <tr>\n",
       "      <th>2</th>\n",
       "      <td>2020-02-02</td>\n",
       "      <td>Kerala</td>\n",
       "      <td>2</td>\n",
       "      <td>0</td>\n",
       "      <td>0</td>\n",
       "      <td>0</td>\n",
       "      <td>NaN</td>\n",
       "    </tr>\n",
       "    <tr>\n",
       "      <th>3</th>\n",
       "      <td>2020-02-02</td>\n",
       "      <td>India</td>\n",
       "      <td>2</td>\n",
       "      <td>0</td>\n",
       "      <td>0</td>\n",
       "      <td>0</td>\n",
       "      <td>NaN</td>\n",
       "    </tr>\n",
       "    <tr>\n",
       "      <th>4</th>\n",
       "      <td>2020-02-03</td>\n",
       "      <td>Kerala</td>\n",
       "      <td>3</td>\n",
       "      <td>0</td>\n",
       "      <td>0</td>\n",
       "      <td>0</td>\n",
       "      <td>NaN</td>\n",
       "    </tr>\n",
       "  </tbody>\n",
       "</table>\n",
       "</div>"
      ],
      "text/plain": [
       "         Date   State  Confirmed  Recovered  Deceased  Other  Tested\n",
       "0  2020-01-30  Kerala          1          0         0      0     NaN\n",
       "1  2020-01-30   India          1          0         0      0     NaN\n",
       "2  2020-02-02  Kerala          2          0         0      0     NaN\n",
       "3  2020-02-02   India          2          0         0      0     NaN\n",
       "4  2020-02-03  Kerala          3          0         0      0     NaN"
      ]
     },
     "execution_count": 3,
     "metadata": {},
     "output_type": "execute_result"
    }
   ],
   "source": [
    "df=pd.read_csv(url)\n",
    "df.head()"
   ]
  },
  {
   "cell_type": "code",
<<<<<<< HEAD
   "execution_count": 4,
=======
   "execution_count": 1,
>>>>>>> b16863ab3c0a4737f053e604f6f89d5ee197d7c1
   "metadata": {
    "scrolled": true
   },
   "outputs": [
    {
<<<<<<< HEAD
     "data": {
      "text/html": [
       "<div>\n",
       "<style scoped>\n",
       "    .dataframe tbody tr th:only-of-type {\n",
       "        vertical-align: middle;\n",
       "    }\n",
       "\n",
       "    .dataframe tbody tr th {\n",
       "        vertical-align: top;\n",
       "    }\n",
       "\n",
       "    .dataframe thead th {\n",
       "        text-align: right;\n",
       "    }\n",
       "</style>\n",
       "<table border=\"1\" class=\"dataframe\">\n",
       "  <thead>\n",
       "    <tr style=\"text-align: right;\">\n",
       "      <th></th>\n",
       "      <th>Date</th>\n",
       "      <th>State</th>\n",
       "      <th>Confirmed</th>\n",
       "      <th>Recovered</th>\n",
       "      <th>Deceased</th>\n",
       "      <th>Other</th>\n",
       "      <th>Tested</th>\n",
       "    </tr>\n",
       "  </thead>\n",
       "  <tbody>\n",
       "    <tr>\n",
       "      <th>18451</th>\n",
       "      <td>2021-08-05</td>\n",
       "      <td>Tripura</td>\n",
       "      <td>79529</td>\n",
       "      <td>75754</td>\n",
       "      <td>758</td>\n",
       "      <td>63</td>\n",
       "      <td>1598446.0</td>\n",
       "    </tr>\n",
       "    <tr>\n",
       "      <th>18452</th>\n",
       "      <td>2021-08-05</td>\n",
       "      <td>India</td>\n",
       "      <td>31855725</td>\n",
       "      <td>31007795</td>\n",
       "      <td>426782</td>\n",
       "      <td>12603</td>\n",
       "      <td>474893363.0</td>\n",
       "    </tr>\n",
       "    <tr>\n",
       "      <th>18453</th>\n",
       "      <td>2021-08-05</td>\n",
       "      <td>Uttar Pradesh</td>\n",
       "      <td>1708623</td>\n",
       "      <td>1685170</td>\n",
       "      <td>22767</td>\n",
       "      <td>0</td>\n",
       "      <td>66717749.0</td>\n",
       "    </tr>\n",
       "    <tr>\n",
       "      <th>18454</th>\n",
       "      <td>2021-08-05</td>\n",
       "      <td>Uttarakhand</td>\n",
       "      <td>342307</td>\n",
       "      <td>328371</td>\n",
       "      <td>7366</td>\n",
       "      <td>6037</td>\n",
       "      <td>6417333.0</td>\n",
       "    </tr>\n",
       "    <tr>\n",
       "      <th>18455</th>\n",
       "      <td>2021-08-05</td>\n",
       "      <td>West Bengal</td>\n",
       "      <td>1531662</td>\n",
       "      <td>1502748</td>\n",
       "      <td>18193</td>\n",
       "      <td>0</td>\n",
       "      <td>15952188.0</td>\n",
       "    </tr>\n",
       "  </tbody>\n",
       "</table>\n",
       "</div>"
      ],
      "text/plain": [
       "             Date          State  Confirmed  Recovered  Deceased  Other  \\\n",
       "18451  2021-08-05        Tripura      79529      75754       758     63   \n",
       "18452  2021-08-05          India   31855725   31007795    426782  12603   \n",
       "18453  2021-08-05  Uttar Pradesh    1708623    1685170     22767      0   \n",
       "18454  2021-08-05    Uttarakhand     342307     328371      7366   6037   \n",
       "18455  2021-08-05    West Bengal    1531662    1502748     18193      0   \n",
       "\n",
       "            Tested  \n",
       "18451    1598446.0  \n",
       "18452  474893363.0  \n",
       "18453   66717749.0  \n",
       "18454    6417333.0  \n",
       "18455   15952188.0  "
      ]
     },
     "execution_count": 4,
     "metadata": {},
     "output_type": "execute_result"
=======
     "ename": "NameError",
     "evalue": "name 'df' is not defined",
     "output_type": "error",
     "traceback": [
      "\u001b[0;31m---------------------------------------------------------------------------\u001b[0m",
      "\u001b[0;31mNameError\u001b[0m                                 Traceback (most recent call last)",
      "\u001b[0;32m<ipython-input-1-1c4e186d375b>\u001b[0m in \u001b[0;36m<module>\u001b[0;34m\u001b[0m\n\u001b[0;32m----> 1\u001b[0;31m \u001b[0mdf\u001b[0m\u001b[0;34m.\u001b[0m\u001b[0mtail\u001b[0m\u001b[0;34m(\u001b[0m\u001b[0;34m)\u001b[0m \u001b[0;31m#comment\u001b[0m\u001b[0;34m\u001b[0m\u001b[0;34m\u001b[0m\u001b[0m\n\u001b[0m",
      "\u001b[0;31mNameError\u001b[0m: name 'df' is not defined"
     ]
>>>>>>> b16863ab3c0a4737f053e604f6f89d5ee197d7c1
    }
   ],
   "source": [
    "df.tail() #comment"
   ]
  },
  {
   "cell_type": "code",
<<<<<<< HEAD
   "execution_count": 5,
=======
   "execution_count": 6,
>>>>>>> b16863ab3c0a4737f053e604f6f89d5ee197d7c1
   "metadata": {},
   "outputs": [
    {
     "data": {
      "text/plain": [
       "array(['Kerala', 'India', 'Delhi', 'Telangana', 'Rajasthan', 'Haryana',\n",
       "       'Uttar Pradesh', 'Ladakh', 'Tamil Nadu', 'Jammu and Kashmir',\n",
       "       'Karnataka', 'Maharashtra', 'Punjab', 'Andhra Pradesh',\n",
       "       'Himachal Pradesh', 'Uttarakhand', 'Odisha', 'Puducherry',\n",
       "       'West Bengal', 'Chandigarh', 'Chhattisgarh', 'Gujarat',\n",
       "       'Madhya Pradesh', 'Bihar', 'Manipur', 'Goa', 'Mizoram',\n",
       "       'Andaman and Nicobar Islands', 'Assam', 'Jharkhand',\n",
       "       'Arunachal Pradesh', 'Nagaland', 'Tripura',\n",
       "       'Dadra and Nagar Haveli and Daman and Diu', 'Meghalaya', 'Sikkim',\n",
       "       'State Unassigned', 'Lakshadweep'], dtype=object)"
      ]
     },
     "execution_count": 6,
     "metadata": {},
     "output_type": "execute_result"
    }
   ],
   "source": [
    "statelist=df['State'].unique()\n",
    "statelist\n"
   ]
  },
  {
   "cell_type": "markdown",
   "metadata": {},
   "source": [
    "### The above data set is in a cumulative form we have convert it to the usual form"
   ]
  },
  {
   "cell_type": "markdown",
   "metadata": {},
   "source": [
    "#### The codes that follows are part of me developing a strategy to see how to change the data from cumulative to usual form"
   ]
  },
  {
   "cell_type": "code",
<<<<<<< HEAD
   "execution_count": 6,
=======
   "execution_count": 8,
>>>>>>> b16863ab3c0a4737f053e604f6f89d5ee197d7c1
   "metadata": {},
   "outputs": [],
   "source": [
    "newdf=pd.DataFrame()#Empty dataframe"
   ]
  },
  {
   "cell_type": "code",
<<<<<<< HEAD
   "execution_count": 7,
=======
   "execution_count": 9,
>>>>>>> b16863ab3c0a4737f053e604f6f89d5ee197d7c1
   "metadata": {},
   "outputs": [],
   "source": [
    "test=df.groupby('State').get_group('India')"
   ]
  },
  {
   "cell_type": "code",
<<<<<<< HEAD
   "execution_count": 8,
=======
   "execution_count": 10,
>>>>>>> b16863ab3c0a4737f053e604f6f89d5ee197d7c1
   "metadata": {},
   "outputs": [
    {
     "data": {
      "text/html": [
       "<div>\n",
       "<style scoped>\n",
       "    .dataframe tbody tr th:only-of-type {\n",
       "        vertical-align: middle;\n",
       "    }\n",
       "\n",
       "    .dataframe tbody tr th {\n",
       "        vertical-align: top;\n",
       "    }\n",
       "\n",
       "    .dataframe thead th {\n",
       "        text-align: right;\n",
       "    }\n",
       "</style>\n",
       "<table border=\"1\" class=\"dataframe\">\n",
       "  <thead>\n",
       "    <tr style=\"text-align: right;\">\n",
       "      <th></th>\n",
       "      <th>Date</th>\n",
       "      <th>State</th>\n",
       "      <th>Confirmed</th>\n",
       "      <th>Recovered</th>\n",
       "      <th>Deceased</th>\n",
       "      <th>Other</th>\n",
       "      <th>Tested</th>\n",
       "    </tr>\n",
       "  </thead>\n",
       "  <tbody>\n",
       "    <tr>\n",
       "      <th>18304</th>\n",
       "      <td>2021-08-01</td>\n",
       "      <td>India</td>\n",
       "      <td>31695370</td>\n",
       "      <td>30849682</td>\n",
       "      <td>424807</td>\n",
       "      <td>12540</td>\n",
       "      <td>469645494.0</td>\n",
       "    </tr>\n",
       "    <tr>\n",
       "      <th>18341</th>\n",
       "      <td>2021-08-02</td>\n",
       "      <td>India</td>\n",
       "      <td>31725455</td>\n",
       "      <td>30888802</td>\n",
       "      <td>425227</td>\n",
       "      <td>12559</td>\n",
       "      <td>471294789.0</td>\n",
       "    </tr>\n",
       "    <tr>\n",
       "      <th>18378</th>\n",
       "      <td>2021-08-03</td>\n",
       "      <td>India</td>\n",
       "      <td>31767985</td>\n",
       "      <td>30925354</td>\n",
       "      <td>425788</td>\n",
       "      <td>12583</td>\n",
       "      <td>473142307.0</td>\n",
       "    </tr>\n",
       "    <tr>\n",
       "      <th>18415</th>\n",
       "      <td>2021-08-04</td>\n",
       "      <td>India</td>\n",
       "      <td>31810782</td>\n",
       "      <td>30967227</td>\n",
       "      <td>426320</td>\n",
       "      <td>12594</td>\n",
       "      <td>474893363.0</td>\n",
       "    </tr>\n",
       "    <tr>\n",
       "      <th>18452</th>\n",
       "      <td>2021-08-05</td>\n",
       "      <td>India</td>\n",
       "      <td>31855725</td>\n",
       "      <td>31007795</td>\n",
       "      <td>426782</td>\n",
       "      <td>12603</td>\n",
       "      <td>474893363.0</td>\n",
       "    </tr>\n",
       "  </tbody>\n",
       "</table>\n",
       "</div>"
      ],
      "text/plain": [
       "             Date  State  Confirmed  Recovered  Deceased  Other       Tested\n",
       "18304  2021-08-01  India   31695370   30849682    424807  12540  469645494.0\n",
       "18341  2021-08-02  India   31725455   30888802    425227  12559  471294789.0\n",
       "18378  2021-08-03  India   31767985   30925354    425788  12583  473142307.0\n",
       "18415  2021-08-04  India   31810782   30967227    426320  12594  474893363.0\n",
       "18452  2021-08-05  India   31855725   31007795    426782  12603  474893363.0"
      ]
     },
<<<<<<< HEAD
     "execution_count": 8,
=======
     "execution_count": 10,
>>>>>>> b16863ab3c0a4737f053e604f6f89d5ee197d7c1
     "metadata": {},
     "output_type": "execute_result"
    }
   ],
   "source": [
    "test.tail()"
   ]
  },
  {
   "cell_type": "code",
<<<<<<< HEAD
   "execution_count": 9,
=======
   "execution_count": 11,
>>>>>>> b16863ab3c0a4737f053e604f6f89d5ee197d7c1
   "metadata": {},
   "outputs": [
    {
     "data": {
      "text/html": [
       "<div>\n",
       "<style scoped>\n",
       "    .dataframe tbody tr th:only-of-type {\n",
       "        vertical-align: middle;\n",
       "    }\n",
       "\n",
       "    .dataframe tbody tr th {\n",
       "        vertical-align: top;\n",
       "    }\n",
       "\n",
       "    .dataframe thead th {\n",
       "        text-align: right;\n",
       "    }\n",
       "</style>\n",
       "<table border=\"1\" class=\"dataframe\">\n",
       "  <thead>\n",
       "    <tr style=\"text-align: right;\">\n",
       "      <th></th>\n",
       "      <th>State</th>\n",
       "      <th>Confirmed</th>\n",
       "      <th>Recovered</th>\n",
       "      <th>Deceased</th>\n",
       "      <th>Other</th>\n",
       "      <th>Tested</th>\n",
       "    </tr>\n",
       "    <tr>\n",
       "      <th>Date</th>\n",
       "      <th></th>\n",
       "      <th></th>\n",
       "      <th></th>\n",
       "      <th></th>\n",
       "      <th></th>\n",
       "      <th></th>\n",
       "    </tr>\n",
       "  </thead>\n",
       "  <tbody>\n",
       "    <tr>\n",
       "      <th>2020-01-30</th>\n",
       "      <td>India</td>\n",
       "      <td>1</td>\n",
       "      <td>0</td>\n",
       "      <td>0</td>\n",
       "      <td>0</td>\n",
       "      <td>NaN</td>\n",
       "    </tr>\n",
       "    <tr>\n",
       "      <th>2020-02-02</th>\n",
       "      <td>India</td>\n",
       "      <td>2</td>\n",
       "      <td>0</td>\n",
       "      <td>0</td>\n",
       "      <td>0</td>\n",
       "      <td>NaN</td>\n",
       "    </tr>\n",
       "  </tbody>\n",
       "</table>\n",
       "</div>"
      ],
      "text/plain": [
       "            State  Confirmed  Recovered  Deceased  Other  Tested\n",
       "Date                                                            \n",
       "2020-01-30  India          1          0         0      0     NaN\n",
       "2020-02-02  India          2          0         0      0     NaN"
      ]
     },
<<<<<<< HEAD
     "execution_count": 9,
=======
     "execution_count": 11,
>>>>>>> b16863ab3c0a4737f053e604f6f89d5ee197d7c1
     "metadata": {},
     "output_type": "execute_result"
    }
   ],
   "source": [
    "test=test.set_index(['Date'])\n",
    "test.head(2)"
   ]
  },
  {
   "cell_type": "code",
<<<<<<< HEAD
   "execution_count": 10,
=======
   "execution_count": 12,
>>>>>>> b16863ab3c0a4737f053e604f6f89d5ee197d7c1
   "metadata": {},
   "outputs": [
    {
     "data": {
      "text/html": [
       "<div>\n",
       "<style scoped>\n",
       "    .dataframe tbody tr th:only-of-type {\n",
       "        vertical-align: middle;\n",
       "    }\n",
       "\n",
       "    .dataframe tbody tr th {\n",
       "        vertical-align: top;\n",
       "    }\n",
       "\n",
       "    .dataframe thead th {\n",
       "        text-align: right;\n",
       "    }\n",
       "</style>\n",
       "<table border=\"1\" class=\"dataframe\">\n",
       "  <thead>\n",
       "    <tr style=\"text-align: right;\">\n",
       "      <th></th>\n",
       "      <th>Confirmed</th>\n",
       "      <th>Recovered</th>\n",
       "      <th>Deceased</th>\n",
       "      <th>Other</th>\n",
       "      <th>Tested</th>\n",
       "    </tr>\n",
       "    <tr>\n",
       "      <th>Date</th>\n",
       "      <th></th>\n",
       "      <th></th>\n",
       "      <th></th>\n",
       "      <th></th>\n",
       "      <th></th>\n",
       "    </tr>\n",
       "  </thead>\n",
       "  <tbody>\n",
       "    <tr>\n",
       "      <th>2021-08-01</th>\n",
       "      <td>31695370</td>\n",
       "      <td>30849682</td>\n",
       "      <td>424807</td>\n",
       "      <td>12540</td>\n",
       "      <td>469645494.0</td>\n",
       "    </tr>\n",
       "    <tr>\n",
       "      <th>2021-08-02</th>\n",
       "      <td>31725455</td>\n",
       "      <td>30888802</td>\n",
       "      <td>425227</td>\n",
       "      <td>12559</td>\n",
       "      <td>471294789.0</td>\n",
       "    </tr>\n",
       "    <tr>\n",
       "      <th>2021-08-03</th>\n",
       "      <td>31767985</td>\n",
       "      <td>30925354</td>\n",
       "      <td>425788</td>\n",
       "      <td>12583</td>\n",
       "      <td>473142307.0</td>\n",
       "    </tr>\n",
       "    <tr>\n",
       "      <th>2021-08-04</th>\n",
       "      <td>31810782</td>\n",
       "      <td>30967227</td>\n",
       "      <td>426320</td>\n",
       "      <td>12594</td>\n",
       "      <td>474893363.0</td>\n",
       "    </tr>\n",
       "    <tr>\n",
       "      <th>2021-08-05</th>\n",
       "      <td>31855725</td>\n",
       "      <td>31007795</td>\n",
       "      <td>426782</td>\n",
       "      <td>12603</td>\n",
       "      <td>474893363.0</td>\n",
       "    </tr>\n",
       "  </tbody>\n",
       "</table>\n",
       "</div>"
      ],
      "text/plain": [
       "            Confirmed  Recovered  Deceased  Other       Tested\n",
       "Date                                                          \n",
       "2021-08-01   31695370   30849682    424807  12540  469645494.0\n",
       "2021-08-02   31725455   30888802    425227  12559  471294789.0\n",
       "2021-08-03   31767985   30925354    425788  12583  473142307.0\n",
       "2021-08-04   31810782   30967227    426320  12594  474893363.0\n",
       "2021-08-05   31855725   31007795    426782  12603  474893363.0"
      ]
     },
<<<<<<< HEAD
     "execution_count": 10,
=======
     "execution_count": 12,
>>>>>>> b16863ab3c0a4737f053e604f6f89d5ee197d7c1
     "metadata": {},
     "output_type": "execute_result"
    }
   ],
   "source": [
    "test.drop('State',axis=1,inplace=True)\n",
    "test.tail()"
   ]
  },
  {
   "cell_type": "code",
<<<<<<< HEAD
   "execution_count": 11,
=======
   "execution_count": 13,
>>>>>>> b16863ab3c0a4737f053e604f6f89d5ee197d7c1
   "metadata": {},
   "outputs": [
    {
     "data": {
      "text/html": [
       "<div>\n",
       "<style scoped>\n",
       "    .dataframe tbody tr th:only-of-type {\n",
       "        vertical-align: middle;\n",
       "    }\n",
       "\n",
       "    .dataframe tbody tr th {\n",
       "        vertical-align: top;\n",
       "    }\n",
       "\n",
       "    .dataframe thead th {\n",
       "        text-align: right;\n",
       "    }\n",
       "</style>\n",
       "<table border=\"1\" class=\"dataframe\">\n",
       "  <thead>\n",
       "    <tr style=\"text-align: right;\">\n",
       "      <th></th>\n",
       "      <th>Confirmed</th>\n",
       "      <th>Recovered</th>\n",
       "      <th>Deceased</th>\n",
       "      <th>Other</th>\n",
       "      <th>Tested</th>\n",
       "    </tr>\n",
       "    <tr>\n",
       "      <th>Date</th>\n",
       "      <th></th>\n",
       "      <th></th>\n",
       "      <th></th>\n",
       "      <th></th>\n",
       "      <th></th>\n",
       "    </tr>\n",
       "  </thead>\n",
       "  <tbody>\n",
       "    <tr>\n",
       "      <th>2021-08-01</th>\n",
       "      <td>40629.0</td>\n",
       "      <td>36628.0</td>\n",
       "      <td>424.0</td>\n",
       "      <td>14.0</td>\n",
       "      <td>1428984.0</td>\n",
       "    </tr>\n",
       "    <tr>\n",
       "      <th>2021-08-02</th>\n",
       "      <td>30085.0</td>\n",
       "      <td>39120.0</td>\n",
       "      <td>420.0</td>\n",
       "      <td>19.0</td>\n",
       "      <td>1649295.0</td>\n",
       "    </tr>\n",
       "    <tr>\n",
       "      <th>2021-08-03</th>\n",
       "      <td>42530.0</td>\n",
       "      <td>36552.0</td>\n",
       "      <td>561.0</td>\n",
       "      <td>24.0</td>\n",
       "      <td>1847518.0</td>\n",
       "    </tr>\n",
       "    <tr>\n",
       "      <th>2021-08-04</th>\n",
       "      <td>42797.0</td>\n",
       "      <td>41873.0</td>\n",
       "      <td>532.0</td>\n",
       "      <td>11.0</td>\n",
       "      <td>1751056.0</td>\n",
       "    </tr>\n",
       "    <tr>\n",
       "      <th>2021-08-05</th>\n",
       "      <td>44943.0</td>\n",
       "      <td>40568.0</td>\n",
       "      <td>462.0</td>\n",
       "      <td>9.0</td>\n",
       "      <td>0.0</td>\n",
       "    </tr>\n",
       "  </tbody>\n",
       "</table>\n",
       "</div>"
      ],
      "text/plain": [
       "            Confirmed  Recovered  Deceased  Other     Tested\n",
       "Date                                                        \n",
       "2021-08-01    40629.0    36628.0     424.0   14.0  1428984.0\n",
       "2021-08-02    30085.0    39120.0     420.0   19.0  1649295.0\n",
       "2021-08-03    42530.0    36552.0     561.0   24.0  1847518.0\n",
       "2021-08-04    42797.0    41873.0     532.0   11.0  1751056.0\n",
       "2021-08-05    44943.0    40568.0     462.0    9.0        0.0"
      ]
     },
<<<<<<< HEAD
     "execution_count": 11,
=======
     "execution_count": 13,
>>>>>>> b16863ab3c0a4737f053e604f6f89d5ee197d7c1
     "metadata": {},
     "output_type": "execute_result"
    }
   ],
   "source": [
    "test=test.diff(axis=0,periods=1)\n",
    "test.tail()"
   ]
  },
  {
   "cell_type": "code",
<<<<<<< HEAD
   "execution_count": 12,
=======
   "execution_count": 14,
>>>>>>> b16863ab3c0a4737f053e604f6f89d5ee197d7c1
   "metadata": {},
   "outputs": [
    {
     "data": {
      "text/html": [
       "<div>\n",
       "<style scoped>\n",
       "    .dataframe tbody tr th:only-of-type {\n",
       "        vertical-align: middle;\n",
       "    }\n",
       "\n",
       "    .dataframe tbody tr th {\n",
       "        vertical-align: top;\n",
       "    }\n",
       "\n",
       "    .dataframe thead th {\n",
       "        text-align: right;\n",
       "    }\n",
       "</style>\n",
       "<table border=\"1\" class=\"dataframe\">\n",
       "  <thead>\n",
       "    <tr style=\"text-align: right;\">\n",
       "      <th></th>\n",
       "      <th>Confirmed</th>\n",
       "      <th>Recovered</th>\n",
       "      <th>Deceased</th>\n",
       "      <th>Other</th>\n",
       "      <th>Tested</th>\n",
       "      <th>State</th>\n",
       "    </tr>\n",
       "    <tr>\n",
       "      <th>Date</th>\n",
       "      <th></th>\n",
       "      <th></th>\n",
       "      <th></th>\n",
       "      <th></th>\n",
       "      <th></th>\n",
       "      <th></th>\n",
       "    </tr>\n",
       "  </thead>\n",
       "  <tbody>\n",
       "    <tr>\n",
       "      <th>2021-08-01</th>\n",
       "      <td>40629.0</td>\n",
       "      <td>36628.0</td>\n",
       "      <td>424.0</td>\n",
       "      <td>14.0</td>\n",
       "      <td>1428984.0</td>\n",
       "      <td>India</td>\n",
       "    </tr>\n",
       "    <tr>\n",
       "      <th>2021-08-02</th>\n",
       "      <td>30085.0</td>\n",
       "      <td>39120.0</td>\n",
       "      <td>420.0</td>\n",
       "      <td>19.0</td>\n",
       "      <td>1649295.0</td>\n",
       "      <td>India</td>\n",
       "    </tr>\n",
       "    <tr>\n",
       "      <th>2021-08-03</th>\n",
       "      <td>42530.0</td>\n",
       "      <td>36552.0</td>\n",
       "      <td>561.0</td>\n",
       "      <td>24.0</td>\n",
       "      <td>1847518.0</td>\n",
       "      <td>India</td>\n",
       "    </tr>\n",
       "    <tr>\n",
       "      <th>2021-08-04</th>\n",
       "      <td>42797.0</td>\n",
       "      <td>41873.0</td>\n",
       "      <td>532.0</td>\n",
       "      <td>11.0</td>\n",
       "      <td>1751056.0</td>\n",
       "      <td>India</td>\n",
       "    </tr>\n",
       "    <tr>\n",
       "      <th>2021-08-05</th>\n",
       "      <td>44943.0</td>\n",
       "      <td>40568.0</td>\n",
       "      <td>462.0</td>\n",
       "      <td>9.0</td>\n",
       "      <td>0.0</td>\n",
       "      <td>India</td>\n",
       "    </tr>\n",
       "  </tbody>\n",
       "</table>\n",
       "</div>"
      ],
      "text/plain": [
       "            Confirmed  Recovered  Deceased  Other     Tested  State\n",
       "Date                                                               \n",
       "2021-08-01    40629.0    36628.0     424.0   14.0  1428984.0  India\n",
       "2021-08-02    30085.0    39120.0     420.0   19.0  1649295.0  India\n",
       "2021-08-03    42530.0    36552.0     561.0   24.0  1847518.0  India\n",
       "2021-08-04    42797.0    41873.0     532.0   11.0  1751056.0  India\n",
       "2021-08-05    44943.0    40568.0     462.0    9.0        0.0  India"
      ]
     },
<<<<<<< HEAD
     "execution_count": 12,
=======
     "execution_count": 14,
>>>>>>> b16863ab3c0a4737f053e604f6f89d5ee197d7c1
     "metadata": {},
     "output_type": "execute_result"
    }
   ],
   "source": [
    "test['State']='India'\n",
    "test.tail()"
   ]
  },
  {
   "cell_type": "code",
<<<<<<< HEAD
   "execution_count": 13,
=======
   "execution_count": 15,
>>>>>>> b16863ab3c0a4737f053e604f6f89d5ee197d7c1
   "metadata": {},
   "outputs": [
    {
     "data": {
      "text/html": [
       "<div>\n",
       "<style scoped>\n",
       "    .dataframe tbody tr th:only-of-type {\n",
       "        vertical-align: middle;\n",
       "    }\n",
       "\n",
       "    .dataframe tbody tr th {\n",
       "        vertical-align: top;\n",
       "    }\n",
       "\n",
       "    .dataframe thead th {\n",
       "        text-align: right;\n",
       "    }\n",
       "</style>\n",
       "<table border=\"1\" class=\"dataframe\">\n",
       "  <thead>\n",
       "    <tr style=\"text-align: right;\">\n",
       "      <th></th>\n",
       "      <th>Date</th>\n",
       "      <th>Confirmed</th>\n",
       "      <th>Recovered</th>\n",
       "      <th>Deceased</th>\n",
       "      <th>Other</th>\n",
       "      <th>Tested</th>\n",
       "      <th>State</th>\n",
       "    </tr>\n",
       "  </thead>\n",
       "  <tbody>\n",
       "    <tr>\n",
       "      <th>0</th>\n",
       "      <td>2020-01-30</td>\n",
       "      <td>NaN</td>\n",
       "      <td>NaN</td>\n",
       "      <td>NaN</td>\n",
       "      <td>NaN</td>\n",
       "      <td>NaN</td>\n",
       "      <td>India</td>\n",
       "    </tr>\n",
       "    <tr>\n",
       "      <th>1</th>\n",
       "      <td>2020-02-02</td>\n",
       "      <td>1.0</td>\n",
       "      <td>0.0</td>\n",
       "      <td>0.0</td>\n",
       "      <td>0.0</td>\n",
       "      <td>NaN</td>\n",
       "      <td>India</td>\n",
       "    </tr>\n",
       "    <tr>\n",
       "      <th>2</th>\n",
       "      <td>2020-02-03</td>\n",
       "      <td>1.0</td>\n",
       "      <td>0.0</td>\n",
       "      <td>0.0</td>\n",
       "      <td>0.0</td>\n",
       "      <td>NaN</td>\n",
       "      <td>India</td>\n",
       "    </tr>\n",
       "    <tr>\n",
       "      <th>3</th>\n",
       "      <td>2020-02-14</td>\n",
       "      <td>0.0</td>\n",
       "      <td>3.0</td>\n",
       "      <td>0.0</td>\n",
       "      <td>0.0</td>\n",
       "      <td>NaN</td>\n",
       "      <td>India</td>\n",
       "    </tr>\n",
       "    <tr>\n",
       "      <th>4</th>\n",
       "      <td>2020-03-02</td>\n",
       "      <td>2.0</td>\n",
       "      <td>0.0</td>\n",
       "      <td>0.0</td>\n",
       "      <td>0.0</td>\n",
       "      <td>NaN</td>\n",
       "      <td>India</td>\n",
       "    </tr>\n",
       "    <tr>\n",
       "      <th>...</th>\n",
       "      <td>...</td>\n",
       "      <td>...</td>\n",
       "      <td>...</td>\n",
       "      <td>...</td>\n",
       "      <td>...</td>\n",
       "      <td>...</td>\n",
       "      <td>...</td>\n",
       "    </tr>\n",
       "    <tr>\n",
       "      <th>521</th>\n",
       "      <td>2021-08-01</td>\n",
       "      <td>40629.0</td>\n",
       "      <td>36628.0</td>\n",
       "      <td>424.0</td>\n",
       "      <td>14.0</td>\n",
       "      <td>1428984.0</td>\n",
       "      <td>India</td>\n",
       "    </tr>\n",
       "    <tr>\n",
       "      <th>522</th>\n",
       "      <td>2021-08-02</td>\n",
       "      <td>30085.0</td>\n",
       "      <td>39120.0</td>\n",
       "      <td>420.0</td>\n",
       "      <td>19.0</td>\n",
       "      <td>1649295.0</td>\n",
       "      <td>India</td>\n",
       "    </tr>\n",
       "    <tr>\n",
       "      <th>523</th>\n",
       "      <td>2021-08-03</td>\n",
       "      <td>42530.0</td>\n",
       "      <td>36552.0</td>\n",
       "      <td>561.0</td>\n",
       "      <td>24.0</td>\n",
       "      <td>1847518.0</td>\n",
       "      <td>India</td>\n",
       "    </tr>\n",
       "    <tr>\n",
       "      <th>524</th>\n",
       "      <td>2021-08-04</td>\n",
       "      <td>42797.0</td>\n",
       "      <td>41873.0</td>\n",
       "      <td>532.0</td>\n",
       "      <td>11.0</td>\n",
       "      <td>1751056.0</td>\n",
       "      <td>India</td>\n",
       "    </tr>\n",
       "    <tr>\n",
       "      <th>525</th>\n",
       "      <td>2021-08-05</td>\n",
       "      <td>44943.0</td>\n",
       "      <td>40568.0</td>\n",
       "      <td>462.0</td>\n",
       "      <td>9.0</td>\n",
       "      <td>0.0</td>\n",
       "      <td>India</td>\n",
       "    </tr>\n",
       "  </tbody>\n",
       "</table>\n",
       "<p>526 rows × 7 columns</p>\n",
       "</div>"
      ],
      "text/plain": [
       "           Date  Confirmed  Recovered  Deceased  Other     Tested  State\n",
       "0    2020-01-30        NaN        NaN       NaN    NaN        NaN  India\n",
       "1    2020-02-02        1.0        0.0       0.0    0.0        NaN  India\n",
       "2    2020-02-03        1.0        0.0       0.0    0.0        NaN  India\n",
       "3    2020-02-14        0.0        3.0       0.0    0.0        NaN  India\n",
       "4    2020-03-02        2.0        0.0       0.0    0.0        NaN  India\n",
       "..          ...        ...        ...       ...    ...        ...    ...\n",
       "521  2021-08-01    40629.0    36628.0     424.0   14.0  1428984.0  India\n",
       "522  2021-08-02    30085.0    39120.0     420.0   19.0  1649295.0  India\n",
       "523  2021-08-03    42530.0    36552.0     561.0   24.0  1847518.0  India\n",
       "524  2021-08-04    42797.0    41873.0     532.0   11.0  1751056.0  India\n",
       "525  2021-08-05    44943.0    40568.0     462.0    9.0        0.0  India\n",
       "\n",
       "[526 rows x 7 columns]"
      ]
     },
<<<<<<< HEAD
     "execution_count": 13,
=======
     "execution_count": 15,
>>>>>>> b16863ab3c0a4737f053e604f6f89d5ee197d7c1
     "metadata": {},
     "output_type": "execute_result"
    }
   ],
   "source": [
    "test.reset_index()"
   ]
  },
  {
   "cell_type": "code",
<<<<<<< HEAD
   "execution_count": 14,
=======
   "execution_count": 16,
>>>>>>> b16863ab3c0a4737f053e604f6f89d5ee197d7c1
   "metadata": {},
   "outputs": [
    {
     "data": {
      "text/html": [
       "<div>\n",
       "<style scoped>\n",
       "    .dataframe tbody tr th:only-of-type {\n",
       "        vertical-align: middle;\n",
       "    }\n",
       "\n",
       "    .dataframe tbody tr th {\n",
       "        vertical-align: top;\n",
       "    }\n",
       "\n",
       "    .dataframe thead th {\n",
       "        text-align: right;\n",
       "    }\n",
       "</style>\n",
       "<table border=\"1\" class=\"dataframe\">\n",
       "  <thead>\n",
       "    <tr style=\"text-align: right;\">\n",
       "      <th></th>\n",
       "      <th>Confirmed</th>\n",
       "      <th>Recovered</th>\n",
       "      <th>Deceased</th>\n",
       "      <th>Other</th>\n",
       "      <th>Tested</th>\n",
       "      <th>State</th>\n",
       "    </tr>\n",
       "  </thead>\n",
       "  <tbody>\n",
       "    <tr>\n",
       "      <th>0</th>\n",
       "      <td>NaN</td>\n",
       "      <td>NaN</td>\n",
       "      <td>NaN</td>\n",
       "      <td>NaN</td>\n",
       "      <td>NaN</td>\n",
       "      <td>India</td>\n",
       "    </tr>\n",
       "    <tr>\n",
       "      <th>1</th>\n",
       "      <td>1.0</td>\n",
       "      <td>0.0</td>\n",
       "      <td>0.0</td>\n",
       "      <td>0.0</td>\n",
       "      <td>NaN</td>\n",
       "      <td>India</td>\n",
       "    </tr>\n",
       "    <tr>\n",
       "      <th>2</th>\n",
       "      <td>1.0</td>\n",
       "      <td>0.0</td>\n",
       "      <td>0.0</td>\n",
       "      <td>0.0</td>\n",
       "      <td>NaN</td>\n",
       "      <td>India</td>\n",
       "    </tr>\n",
       "    <tr>\n",
       "      <th>3</th>\n",
       "      <td>0.0</td>\n",
       "      <td>3.0</td>\n",
       "      <td>0.0</td>\n",
       "      <td>0.0</td>\n",
       "      <td>NaN</td>\n",
       "      <td>India</td>\n",
       "    </tr>\n",
       "    <tr>\n",
       "      <th>4</th>\n",
       "      <td>2.0</td>\n",
       "      <td>0.0</td>\n",
       "      <td>0.0</td>\n",
       "      <td>0.0</td>\n",
       "      <td>NaN</td>\n",
       "      <td>India</td>\n",
       "    </tr>\n",
       "    <tr>\n",
       "      <th>...</th>\n",
       "      <td>...</td>\n",
       "      <td>...</td>\n",
       "      <td>...</td>\n",
       "      <td>...</td>\n",
       "      <td>...</td>\n",
       "      <td>...</td>\n",
       "    </tr>\n",
       "    <tr>\n",
       "      <th>521</th>\n",
       "      <td>40629.0</td>\n",
       "      <td>36628.0</td>\n",
       "      <td>424.0</td>\n",
       "      <td>14.0</td>\n",
       "      <td>1428984.0</td>\n",
       "      <td>India</td>\n",
       "    </tr>\n",
       "    <tr>\n",
       "      <th>522</th>\n",
       "      <td>30085.0</td>\n",
       "      <td>39120.0</td>\n",
       "      <td>420.0</td>\n",
       "      <td>19.0</td>\n",
       "      <td>1649295.0</td>\n",
       "      <td>India</td>\n",
       "    </tr>\n",
       "    <tr>\n",
       "      <th>523</th>\n",
       "      <td>42530.0</td>\n",
       "      <td>36552.0</td>\n",
       "      <td>561.0</td>\n",
       "      <td>24.0</td>\n",
       "      <td>1847518.0</td>\n",
       "      <td>India</td>\n",
       "    </tr>\n",
       "    <tr>\n",
       "      <th>524</th>\n",
       "      <td>42797.0</td>\n",
       "      <td>41873.0</td>\n",
       "      <td>532.0</td>\n",
       "      <td>11.0</td>\n",
       "      <td>1751056.0</td>\n",
       "      <td>India</td>\n",
       "    </tr>\n",
       "    <tr>\n",
       "      <th>525</th>\n",
       "      <td>44943.0</td>\n",
       "      <td>40568.0</td>\n",
       "      <td>462.0</td>\n",
       "      <td>9.0</td>\n",
       "      <td>0.0</td>\n",
       "      <td>India</td>\n",
       "    </tr>\n",
       "  </tbody>\n",
       "</table>\n",
       "<p>526 rows × 6 columns</p>\n",
       "</div>"
      ],
      "text/plain": [
       "     Confirmed  Recovered  Deceased  Other     Tested  State\n",
       "0          NaN        NaN       NaN    NaN        NaN  India\n",
       "1          1.0        0.0       0.0    0.0        NaN  India\n",
       "2          1.0        0.0       0.0    0.0        NaN  India\n",
       "3          0.0        3.0       0.0    0.0        NaN  India\n",
       "4          2.0        0.0       0.0    0.0        NaN  India\n",
       "..         ...        ...       ...    ...        ...    ...\n",
       "521    40629.0    36628.0     424.0   14.0  1428984.0  India\n",
       "522    30085.0    39120.0     420.0   19.0  1649295.0  India\n",
       "523    42530.0    36552.0     561.0   24.0  1847518.0  India\n",
       "524    42797.0    41873.0     532.0   11.0  1751056.0  India\n",
       "525    44943.0    40568.0     462.0    9.0        0.0  India\n",
       "\n",
       "[526 rows x 6 columns]"
      ]
     },
<<<<<<< HEAD
     "execution_count": 14,
=======
     "execution_count": 16,
>>>>>>> b16863ab3c0a4737f053e604f6f89d5ee197d7c1
     "metadata": {},
     "output_type": "execute_result"
    }
   ],
   "source": [
    "newdf.append(test, ignore_index = True)"
   ]
  },
  {
   "cell_type": "code",
<<<<<<< HEAD
   "execution_count": 15,
=======
   "execution_count": 17,
>>>>>>> b16863ab3c0a4737f053e604f6f89d5ee197d7c1
   "metadata": {},
   "outputs": [],
   "source": [
    "c=df.columns"
   ]
  },
  {
   "cell_type": "code",
<<<<<<< HEAD
   "execution_count": 16,
=======
   "execution_count": 18,
>>>>>>> b16863ab3c0a4737f053e604f6f89d5ee197d7c1
   "metadata": {},
   "outputs": [],
   "source": [
    "ndf = pd.DataFrame(columns=c)"
   ]
  },
  {
   "cell_type": "code",
<<<<<<< HEAD
   "execution_count": 17,
=======
   "execution_count": 19,
>>>>>>> b16863ab3c0a4737f053e604f6f89d5ee197d7c1
   "metadata": {},
   "outputs": [],
   "source": [
    "ndf=pd.DataFrame()"
   ]
  },
  {
   "cell_type": "markdown",
   "metadata": {},
   "source": [
    "#### from the above operations I have developed a strategy to convert the data from cumulative to usual form; The following for loop is used to do the above performed operations in one breath"
   ]
  },
  {
   "cell_type": "code",
<<<<<<< HEAD
   "execution_count": 18,
=======
   "execution_count": 20,
>>>>>>> b16863ab3c0a4737f053e604f6f89d5ee197d7c1
   "metadata": {},
   "outputs": [],
   "source": [
    "for state in statelist:\n",
    "    dftest=df.groupby('State').get_group(state)\n",
    "    \n",
    "    dftest=dftest.set_index(['Date'])\n",
    "    \n",
    "    dftest.drop('State',axis=1,inplace=True)\n",
    "    \n",
    "    dftest=dftest.diff(axis=0,periods=1)\n",
    "    \n",
    "    dftest['State']=state\n",
    "    \n",
    "    \n",
    "    \n",
    "    dftest.reset_index(inplace=True)\n",
    "    \n",
    "   # display(dftest.tail())\n",
    "    \n",
    "    #ndf.append(dftest,ignore_index = True)\n",
    "    ndf=pd.concat([ndf,dftest])\n",
    "    \n",
    "    "
   ]
  },
  {
   "cell_type": "code",
<<<<<<< HEAD
   "execution_count": 19,
=======
   "execution_count": 21,
>>>>>>> b16863ab3c0a4737f053e604f6f89d5ee197d7c1
   "metadata": {},
   "outputs": [
    {
     "data": {
      "text/html": [
       "<div>\n",
       "<style scoped>\n",
       "    .dataframe tbody tr th:only-of-type {\n",
       "        vertical-align: middle;\n",
       "    }\n",
       "\n",
       "    .dataframe tbody tr th {\n",
       "        vertical-align: top;\n",
       "    }\n",
       "\n",
       "    .dataframe thead th {\n",
       "        text-align: right;\n",
       "    }\n",
       "</style>\n",
       "<table border=\"1\" class=\"dataframe\">\n",
       "  <thead>\n",
       "    <tr style=\"text-align: right;\">\n",
       "      <th></th>\n",
       "      <th>Date</th>\n",
       "      <th>Confirmed</th>\n",
       "      <th>Recovered</th>\n",
       "      <th>Deceased</th>\n",
       "      <th>Other</th>\n",
       "      <th>Tested</th>\n",
       "      <th>State</th>\n",
       "    </tr>\n",
       "  </thead>\n",
       "  <tbody>\n",
       "    <tr>\n",
       "      <th>195</th>\n",
       "      <td>2021-08-01</td>\n",
       "      <td>6.0</td>\n",
       "      <td>15.0</td>\n",
       "      <td>0.0</td>\n",
       "      <td>0.0</td>\n",
       "      <td>464.0</td>\n",
       "      <td>Lakshadweep</td>\n",
       "    </tr>\n",
       "    <tr>\n",
       "      <th>196</th>\n",
       "      <td>2021-08-02</td>\n",
       "      <td>12.0</td>\n",
       "      <td>8.0</td>\n",
       "      <td>0.0</td>\n",
       "      <td>0.0</td>\n",
       "      <td>1151.0</td>\n",
       "      <td>Lakshadweep</td>\n",
       "    </tr>\n",
       "    <tr>\n",
       "      <th>197</th>\n",
       "      <td>2021-08-03</td>\n",
       "      <td>19.0</td>\n",
       "      <td>8.0</td>\n",
       "      <td>0.0</td>\n",
       "      <td>0.0</td>\n",
       "      <td>1426.0</td>\n",
       "      <td>Lakshadweep</td>\n",
       "    </tr>\n",
       "    <tr>\n",
       "      <th>198</th>\n",
       "      <td>2021-08-04</td>\n",
       "      <td>5.0</td>\n",
       "      <td>14.0</td>\n",
       "      <td>0.0</td>\n",
       "      <td>0.0</td>\n",
       "      <td>1313.0</td>\n",
       "      <td>Lakshadweep</td>\n",
       "    </tr>\n",
       "    <tr>\n",
       "      <th>199</th>\n",
       "      <td>2021-08-05</td>\n",
       "      <td>0.0</td>\n",
       "      <td>0.0</td>\n",
       "      <td>0.0</td>\n",
       "      <td>0.0</td>\n",
       "      <td>0.0</td>\n",
       "      <td>Lakshadweep</td>\n",
       "    </tr>\n",
       "  </tbody>\n",
       "</table>\n",
       "</div>"
      ],
      "text/plain": [
       "           Date  Confirmed  Recovered  Deceased  Other  Tested        State\n",
       "195  2021-08-01        6.0       15.0       0.0    0.0   464.0  Lakshadweep\n",
       "196  2021-08-02       12.0        8.0       0.0    0.0  1151.0  Lakshadweep\n",
       "197  2021-08-03       19.0        8.0       0.0    0.0  1426.0  Lakshadweep\n",
       "198  2021-08-04        5.0       14.0       0.0    0.0  1313.0  Lakshadweep\n",
       "199  2021-08-05        0.0        0.0       0.0    0.0     0.0  Lakshadweep"
      ]
     },
<<<<<<< HEAD
     "execution_count": 19,
=======
     "execution_count": 21,
>>>>>>> b16863ab3c0a4737f053e604f6f89d5ee197d7c1
     "metadata": {},
     "output_type": "execute_result"
    }
   ],
   "source": [
    "ndf.tail()"
   ]
  },
  {
   "cell_type": "code",
<<<<<<< HEAD
   "execution_count": 20,
=======
   "execution_count": 22,
>>>>>>> b16863ab3c0a4737f053e604f6f89d5ee197d7c1
   "metadata": {},
   "outputs": [
    {
     "data": {
      "text/plain": [
       "(18456, 7)"
      ]
     },
<<<<<<< HEAD
     "execution_count": 20,
=======
     "execution_count": 22,
>>>>>>> b16863ab3c0a4737f053e604f6f89d5ee197d7c1
     "metadata": {},
     "output_type": "execute_result"
    }
   ],
   "source": [
    "df.shape"
   ]
  },
  {
   "cell_type": "code",
<<<<<<< HEAD
   "execution_count": 21,
=======
   "execution_count": 23,
>>>>>>> b16863ab3c0a4737f053e604f6f89d5ee197d7c1
   "metadata": {},
   "outputs": [
    {
     "data": {
      "text/plain": [
       "(18456, 7)"
      ]
     },
<<<<<<< HEAD
     "execution_count": 21,
=======
     "execution_count": 23,
>>>>>>> b16863ab3c0a4737f053e604f6f89d5ee197d7c1
     "metadata": {},
     "output_type": "execute_result"
    }
   ],
   "source": [
    "ndf.shape"
   ]
  },
  {
   "cell_type": "code",
<<<<<<< HEAD
   "execution_count": 22,
=======
   "execution_count": 24,
>>>>>>> b16863ab3c0a4737f053e604f6f89d5ee197d7c1
   "metadata": {},
   "outputs": [],
   "source": [
    "ndf.sort_values(by=['Date'],ignore_index=True,inplace=True)"
   ]
  },
  {
   "cell_type": "code",
<<<<<<< HEAD
   "execution_count": 23,
=======
   "execution_count": 25,
>>>>>>> b16863ab3c0a4737f053e604f6f89d5ee197d7c1
   "metadata": {},
   "outputs": [
    {
     "data": {
      "text/html": [
       "<div>\n",
       "<style scoped>\n",
       "    .dataframe tbody tr th:only-of-type {\n",
       "        vertical-align: middle;\n",
       "    }\n",
       "\n",
       "    .dataframe tbody tr th {\n",
       "        vertical-align: top;\n",
       "    }\n",
       "\n",
       "    .dataframe thead th {\n",
       "        text-align: right;\n",
       "    }\n",
       "</style>\n",
       "<table border=\"1\" class=\"dataframe\">\n",
       "  <thead>\n",
       "    <tr style=\"text-align: right;\">\n",
       "      <th></th>\n",
       "      <th>Date</th>\n",
       "      <th>Confirmed</th>\n",
       "      <th>Recovered</th>\n",
       "      <th>Deceased</th>\n",
       "      <th>Other</th>\n",
       "      <th>Tested</th>\n",
       "      <th>State</th>\n",
       "    </tr>\n",
       "  </thead>\n",
       "  <tbody>\n",
       "    <tr>\n",
       "      <th>0</th>\n",
       "      <td>2020-01-30</td>\n",
       "      <td>NaN</td>\n",
       "      <td>NaN</td>\n",
       "      <td>NaN</td>\n",
       "      <td>NaN</td>\n",
       "      <td>NaN</td>\n",
       "      <td>Kerala</td>\n",
       "    </tr>\n",
       "    <tr>\n",
       "      <th>1</th>\n",
       "      <td>2020-01-30</td>\n",
       "      <td>NaN</td>\n",
       "      <td>NaN</td>\n",
       "      <td>NaN</td>\n",
       "      <td>NaN</td>\n",
       "      <td>NaN</td>\n",
       "      <td>India</td>\n",
       "    </tr>\n",
       "  </tbody>\n",
       "</table>\n",
       "</div>"
      ],
      "text/plain": [
       "         Date  Confirmed  Recovered  Deceased  Other  Tested   State\n",
       "0  2020-01-30        NaN        NaN       NaN    NaN     NaN  Kerala\n",
       "1  2020-01-30        NaN        NaN       NaN    NaN     NaN   India"
      ]
     },
     "metadata": {},
     "output_type": "display_data"
    },
    {
     "data": {
      "text/html": [
       "<div>\n",
       "<style scoped>\n",
       "    .dataframe tbody tr th:only-of-type {\n",
       "        vertical-align: middle;\n",
       "    }\n",
       "\n",
       "    .dataframe tbody tr th {\n",
       "        vertical-align: top;\n",
       "    }\n",
       "\n",
       "    .dataframe thead th {\n",
       "        text-align: right;\n",
       "    }\n",
       "</style>\n",
       "<table border=\"1\" class=\"dataframe\">\n",
       "  <thead>\n",
       "    <tr style=\"text-align: right;\">\n",
       "      <th></th>\n",
       "      <th>Date</th>\n",
       "      <th>Confirmed</th>\n",
       "      <th>Recovered</th>\n",
       "      <th>Deceased</th>\n",
       "      <th>Other</th>\n",
       "      <th>Tested</th>\n",
       "      <th>State</th>\n",
       "    </tr>\n",
       "  </thead>\n",
       "  <tbody>\n",
       "    <tr>\n",
       "      <th>18454</th>\n",
       "      <td>2021-08-05</td>\n",
       "      <td>1785.0</td>\n",
       "      <td>1651.0</td>\n",
       "      <td>25.0</td>\n",
       "      <td>0.0</td>\n",
       "      <td>161662.0</td>\n",
       "      <td>Karnataka</td>\n",
       "    </tr>\n",
       "    <tr>\n",
       "      <th>18455</th>\n",
       "      <td>2021-08-05</td>\n",
       "      <td>0.0</td>\n",
       "      <td>0.0</td>\n",
       "      <td>0.0</td>\n",
       "      <td>0.0</td>\n",
       "      <td>0.0</td>\n",
       "      <td>Lakshadweep</td>\n",
       "    </tr>\n",
       "  </tbody>\n",
       "</table>\n",
       "</div>"
      ],
      "text/plain": [
       "             Date  Confirmed  Recovered  Deceased  Other    Tested  \\\n",
       "18454  2021-08-05     1785.0     1651.0      25.0    0.0  161662.0   \n",
       "18455  2021-08-05        0.0        0.0       0.0    0.0       0.0   \n",
       "\n",
       "             State  \n",
       "18454    Karnataka  \n",
       "18455  Lakshadweep  "
      ]
     },
<<<<<<< HEAD
     "execution_count": 23,
=======
     "execution_count": 25,
>>>>>>> b16863ab3c0a4737f053e604f6f89d5ee197d7c1
     "metadata": {},
     "output_type": "execute_result"
    }
   ],
   "source": [
    "display(ndf.head(2))\n",
    "ndf.tail(2)\n"
   ]
  },
  {
   "cell_type": "code",
<<<<<<< HEAD
   "execution_count": 24,
=======
   "execution_count": 26,
>>>>>>> b16863ab3c0a4737f053e604f6f89d5ee197d7c1
   "metadata": {},
   "outputs": [
    {
     "data": {
      "text/plain": [
       "Date           0\n",
       "Confirmed     38\n",
       "Recovered     38\n",
       "Deceased      38\n",
       "Other         38\n",
       "Tested       791\n",
       "State          0\n",
       "dtype: int64"
      ]
     },
<<<<<<< HEAD
     "execution_count": 24,
=======
     "execution_count": 26,
>>>>>>> b16863ab3c0a4737f053e604f6f89d5ee197d7c1
     "metadata": {},
     "output_type": "execute_result"
    }
   ],
   "source": [
    "ndf.isnull().sum()"
   ]
  },
  {
   "cell_type": "code",
<<<<<<< HEAD
   "execution_count": 25,
=======
   "execution_count": 27,
>>>>>>> b16863ab3c0a4737f053e604f6f89d5ee197d7c1
   "metadata": {},
   "outputs": [
    {
     "data": {
      "text/plain": [
       "Date          object\n",
       "Confirmed    float64\n",
       "Recovered    float64\n",
       "Deceased     float64\n",
       "Other        float64\n",
       "Tested       float64\n",
       "State         object\n",
       "dtype: object"
      ]
     },
<<<<<<< HEAD
     "execution_count": 25,
=======
     "execution_count": 27,
>>>>>>> b16863ab3c0a4737f053e604f6f89d5ee197d7c1
     "metadata": {},
     "output_type": "execute_result"
    }
   ],
   "source": [
    "ndf.dtypes"
   ]
  },
  {
   "cell_type": "markdown",
   "metadata": {},
   "source": [
    "#### Aproximately splitting the data set into First wave and second wave by assuming that  the seceond wave started in march 2021 in india\n"
   ]
  },
  {
   "cell_type": "code",
<<<<<<< HEAD
   "execution_count": 26,
=======
   "execution_count": 28,
>>>>>>> b16863ab3c0a4737f053e604f6f89d5ee197d7c1
   "metadata": {},
   "outputs": [
    {
     "data": {
      "text/html": [
       "<div>\n",
       "<style scoped>\n",
       "    .dataframe tbody tr th:only-of-type {\n",
       "        vertical-align: middle;\n",
       "    }\n",
       "\n",
       "    .dataframe tbody tr th {\n",
       "        vertical-align: top;\n",
       "    }\n",
       "\n",
       "    .dataframe thead th {\n",
       "        text-align: right;\n",
       "    }\n",
       "</style>\n",
       "<table border=\"1\" class=\"dataframe\">\n",
       "  <thead>\n",
       "    <tr style=\"text-align: right;\">\n",
       "      <th></th>\n",
       "      <th>Date</th>\n",
       "      <th>Confirmed</th>\n",
       "      <th>Recovered</th>\n",
       "      <th>Deceased</th>\n",
       "      <th>Other</th>\n",
       "      <th>Tested</th>\n",
       "      <th>State</th>\n",
       "    </tr>\n",
       "  </thead>\n",
       "  <tbody>\n",
       "    <tr>\n",
       "      <th>0</th>\n",
       "      <td>2020-01-30</td>\n",
       "      <td>NaN</td>\n",
       "      <td>NaN</td>\n",
       "      <td>NaN</td>\n",
       "      <td>NaN</td>\n",
       "      <td>NaN</td>\n",
       "      <td>Kerala</td>\n",
       "    </tr>\n",
       "    <tr>\n",
       "      <th>1</th>\n",
       "      <td>2020-01-30</td>\n",
       "      <td>NaN</td>\n",
       "      <td>NaN</td>\n",
       "      <td>NaN</td>\n",
       "      <td>NaN</td>\n",
       "      <td>NaN</td>\n",
       "      <td>India</td>\n",
       "    </tr>\n",
       "    <tr>\n",
       "      <th>2</th>\n",
       "      <td>2020-02-02</td>\n",
       "      <td>1.0</td>\n",
       "      <td>0.0</td>\n",
       "      <td>0.0</td>\n",
       "      <td>0.0</td>\n",
       "      <td>NaN</td>\n",
       "      <td>Kerala</td>\n",
       "    </tr>\n",
       "    <tr>\n",
       "      <th>3</th>\n",
       "      <td>2020-02-02</td>\n",
       "      <td>1.0</td>\n",
       "      <td>0.0</td>\n",
       "      <td>0.0</td>\n",
       "      <td>0.0</td>\n",
       "      <td>NaN</td>\n",
       "      <td>India</td>\n",
       "    </tr>\n",
       "    <tr>\n",
       "      <th>4</th>\n",
       "      <td>2020-02-03</td>\n",
       "      <td>1.0</td>\n",
       "      <td>0.0</td>\n",
       "      <td>0.0</td>\n",
       "      <td>0.0</td>\n",
       "      <td>NaN</td>\n",
       "      <td>Kerala</td>\n",
       "    </tr>\n",
       "    <tr>\n",
       "      <th>...</th>\n",
       "      <td>...</td>\n",
       "      <td>...</td>\n",
       "      <td>...</td>\n",
       "      <td>...</td>\n",
       "      <td>...</td>\n",
       "      <td>...</td>\n",
       "      <td>...</td>\n",
       "    </tr>\n",
       "    <tr>\n",
       "      <th>18451</th>\n",
       "      <td>2021-08-05</td>\n",
       "      <td>1342.0</td>\n",
       "      <td>1652.0</td>\n",
       "      <td>68.0</td>\n",
       "      <td>0.0</td>\n",
       "      <td>66146.0</td>\n",
       "      <td>Odisha</td>\n",
       "    </tr>\n",
       "    <tr>\n",
       "      <th>18452</th>\n",
       "      <td>2021-08-05</td>\n",
       "      <td>81.0</td>\n",
       "      <td>100.0</td>\n",
       "      <td>0.0</td>\n",
       "      <td>0.0</td>\n",
       "      <td>0.0</td>\n",
       "      <td>Puducherry</td>\n",
       "    </tr>\n",
       "    <tr>\n",
       "      <th>18453</th>\n",
       "      <td>2021-08-05</td>\n",
       "      <td>812.0</td>\n",
       "      <td>823.0</td>\n",
       "      <td>13.0</td>\n",
       "      <td>0.0</td>\n",
       "      <td>48869.0</td>\n",
       "      <td>West Bengal</td>\n",
       "    </tr>\n",
       "    <tr>\n",
       "      <th>18454</th>\n",
       "      <td>2021-08-05</td>\n",
       "      <td>1785.0</td>\n",
       "      <td>1651.0</td>\n",
       "      <td>25.0</td>\n",
       "      <td>0.0</td>\n",
       "      <td>161662.0</td>\n",
       "      <td>Karnataka</td>\n",
       "    </tr>\n",
       "    <tr>\n",
       "      <th>18455</th>\n",
       "      <td>2021-08-05</td>\n",
       "      <td>0.0</td>\n",
       "      <td>0.0</td>\n",
       "      <td>0.0</td>\n",
       "      <td>0.0</td>\n",
       "      <td>0.0</td>\n",
       "      <td>Lakshadweep</td>\n",
       "    </tr>\n",
       "  </tbody>\n",
       "</table>\n",
       "<p>18456 rows × 7 columns</p>\n",
       "</div>"
      ],
      "text/plain": [
       "             Date  Confirmed  Recovered  Deceased  Other    Tested  \\\n",
       "0      2020-01-30        NaN        NaN       NaN    NaN       NaN   \n",
       "1      2020-01-30        NaN        NaN       NaN    NaN       NaN   \n",
       "2      2020-02-02        1.0        0.0       0.0    0.0       NaN   \n",
       "3      2020-02-02        1.0        0.0       0.0    0.0       NaN   \n",
       "4      2020-02-03        1.0        0.0       0.0    0.0       NaN   \n",
       "...           ...        ...        ...       ...    ...       ...   \n",
       "18451  2021-08-05     1342.0     1652.0      68.0    0.0   66146.0   \n",
       "18452  2021-08-05       81.0      100.0       0.0    0.0       0.0   \n",
       "18453  2021-08-05      812.0      823.0      13.0    0.0   48869.0   \n",
       "18454  2021-08-05     1785.0     1651.0      25.0    0.0  161662.0   \n",
       "18455  2021-08-05        0.0        0.0       0.0    0.0       0.0   \n",
       "\n",
       "             State  \n",
       "0           Kerala  \n",
       "1            India  \n",
       "2           Kerala  \n",
       "3            India  \n",
       "4           Kerala  \n",
       "...            ...  \n",
       "18451       Odisha  \n",
       "18452   Puducherry  \n",
       "18453  West Bengal  \n",
       "18454    Karnataka  \n",
       "18455  Lakshadweep  \n",
       "\n",
       "[18456 rows x 7 columns]"
      ]
     },
<<<<<<< HEAD
     "execution_count": 26,
=======
     "execution_count": 28,
>>>>>>> b16863ab3c0a4737f053e604f6f89d5ee197d7c1
     "metadata": {},
     "output_type": "execute_result"
    }
   ],
   "source": [
    "ndf"
   ]
  },
  {
   "cell_type": "code",
<<<<<<< HEAD
   "execution_count": 27,
=======
   "execution_count": 29,
>>>>>>> b16863ab3c0a4737f053e604f6f89d5ee197d7c1
   "metadata": {
    "scrolled": false
   },
   "outputs": [
    {
     "data": {
      "text/html": [
       "<div>\n",
       "<style scoped>\n",
       "    .dataframe tbody tr th:only-of-type {\n",
       "        vertical-align: middle;\n",
       "    }\n",
       "\n",
       "    .dataframe tbody tr th {\n",
       "        vertical-align: top;\n",
       "    }\n",
       "\n",
       "    .dataframe thead th {\n",
       "        text-align: right;\n",
       "    }\n",
       "</style>\n",
       "<table border=\"1\" class=\"dataframe\">\n",
       "  <thead>\n",
       "    <tr style=\"text-align: right;\">\n",
       "      <th></th>\n",
       "      <th>Date</th>\n",
       "      <th>Confirmed</th>\n",
       "      <th>Recovered</th>\n",
       "      <th>Deceased</th>\n",
       "      <th>Other</th>\n",
       "      <th>Tested</th>\n",
       "      <th>State</th>\n",
       "    </tr>\n",
       "  </thead>\n",
       "  <tbody>\n",
       "    <tr>\n",
       "      <th>12610</th>\n",
       "      <td>2021-03-01</td>\n",
       "      <td>427.0</td>\n",
       "      <td>360.0</td>\n",
       "      <td>1.0</td>\n",
       "      <td>0.0</td>\n",
       "      <td>33110.0</td>\n",
       "      <td>Gujarat</td>\n",
       "    </tr>\n",
       "    <tr>\n",
       "      <th>12611</th>\n",
       "      <td>2021-03-01</td>\n",
       "      <td>27.0</td>\n",
       "      <td>26.0</td>\n",
       "      <td>0.0</td>\n",
       "      <td>5.0</td>\n",
       "      <td>10716.0</td>\n",
       "      <td>Uttarakhand</td>\n",
       "    </tr>\n",
       "    <tr>\n",
       "      <th>12612</th>\n",
       "      <td>2021-03-01</td>\n",
       "      <td>0.0</td>\n",
       "      <td>3.0</td>\n",
       "      <td>0.0</td>\n",
       "      <td>0.0</td>\n",
       "      <td>233.0</td>\n",
       "      <td>Mizoram</td>\n",
       "    </tr>\n",
       "    <tr>\n",
       "      <th>12613</th>\n",
       "      <td>2021-03-01</td>\n",
       "      <td>12270.0</td>\n",
       "      <td>12472.0</td>\n",
       "      <td>92.0</td>\n",
       "      <td>11.0</td>\n",
       "      <td>759283.0</td>\n",
       "      <td>India</td>\n",
       "    </tr>\n",
       "    <tr>\n",
       "      <th>12614</th>\n",
       "      <td>2021-03-01</td>\n",
       "      <td>0.0</td>\n",
       "      <td>1.0</td>\n",
       "      <td>0.0</td>\n",
       "      <td>0.0</td>\n",
       "      <td>15.0</td>\n",
       "      <td>Sikkim</td>\n",
       "    </tr>\n",
       "    <tr>\n",
       "      <th>12615</th>\n",
       "      <td>2021-03-01</td>\n",
       "      <td>9.0</td>\n",
       "      <td>16.0</td>\n",
       "      <td>1.0</td>\n",
       "      <td>0.0</td>\n",
       "      <td>693.0</td>\n",
       "      <td>Puducherry</td>\n",
       "    </tr>\n",
       "    <tr>\n",
       "      <th>12616</th>\n",
       "      <td>2021-03-01</td>\n",
       "      <td>58.0</td>\n",
       "      <td>51.0</td>\n",
       "      <td>0.0</td>\n",
       "      <td>0.0</td>\n",
       "      <td>20269.0</td>\n",
       "      <td>Andhra Pradesh</td>\n",
       "    </tr>\n",
       "    <tr>\n",
       "      <th>12617</th>\n",
       "      <td>2021-03-01</td>\n",
       "      <td>1.0</td>\n",
       "      <td>0.0</td>\n",
       "      <td>0.0</td>\n",
       "      <td>0.0</td>\n",
       "      <td>378.0</td>\n",
       "      <td>Arunachal Pradesh</td>\n",
       "    </tr>\n",
       "    <tr>\n",
       "      <th>12618</th>\n",
       "      <td>2021-03-01</td>\n",
       "      <td>63.0</td>\n",
       "      <td>56.0</td>\n",
       "      <td>1.0</td>\n",
       "      <td>0.0</td>\n",
       "      <td>24696.0</td>\n",
       "      <td>Jammu and Kashmir</td>\n",
       "    </tr>\n",
       "    <tr>\n",
       "      <th>12619</th>\n",
       "      <td>2021-03-01</td>\n",
       "      <td>175.0</td>\n",
       "      <td>105.0</td>\n",
       "      <td>1.0</td>\n",
       "      <td>0.0</td>\n",
       "      <td>39733.0</td>\n",
       "      <td>Delhi</td>\n",
       "    </tr>\n",
       "    <tr>\n",
       "      <th>12620</th>\n",
       "      <td>2021-03-01</td>\n",
       "      <td>1.0</td>\n",
       "      <td>4.0</td>\n",
       "      <td>0.0</td>\n",
       "      <td>0.0</td>\n",
       "      <td>586.0</td>\n",
       "      <td>Manipur</td>\n",
       "    </tr>\n",
       "    <tr>\n",
       "      <th>12621</th>\n",
       "      <td>2021-03-01</td>\n",
       "      <td>37.0</td>\n",
       "      <td>46.0</td>\n",
       "      <td>0.0</td>\n",
       "      <td>0.0</td>\n",
       "      <td>10085.0</td>\n",
       "      <td>Jharkhand</td>\n",
       "    </tr>\n",
       "    <tr>\n",
       "      <th>12622</th>\n",
       "      <td>2021-03-01</td>\n",
       "      <td>132.0</td>\n",
       "      <td>15.0</td>\n",
       "      <td>1.0</td>\n",
       "      <td>0.0</td>\n",
       "      <td>5033.0</td>\n",
       "      <td>Himachal Pradesh</td>\n",
       "    </tr>\n",
       "    <tr>\n",
       "      <th>12623</th>\n",
       "      <td>2021-03-01</td>\n",
       "      <td>166.0</td>\n",
       "      <td>151.0</td>\n",
       "      <td>2.0</td>\n",
       "      <td>0.0</td>\n",
       "      <td>8615.0</td>\n",
       "      <td>Haryana</td>\n",
       "    </tr>\n",
       "    <tr>\n",
       "      <th>12624</th>\n",
       "      <td>2021-03-01</td>\n",
       "      <td>119.0</td>\n",
       "      <td>123.0</td>\n",
       "      <td>0.0</td>\n",
       "      <td>0.0</td>\n",
       "      <td>6675.0</td>\n",
       "      <td>Rajasthan</td>\n",
       "    </tr>\n",
       "    <tr>\n",
       "      <th>12625</th>\n",
       "      <td>2021-03-01</td>\n",
       "      <td>1.0</td>\n",
       "      <td>1.0</td>\n",
       "      <td>0.0</td>\n",
       "      <td>0.0</td>\n",
       "      <td>805.0</td>\n",
       "      <td>Meghalaya</td>\n",
       "    </tr>\n",
       "    <tr>\n",
       "      <th>12626</th>\n",
       "      <td>2021-03-01</td>\n",
       "      <td>336.0</td>\n",
       "      <td>219.0</td>\n",
       "      <td>1.0</td>\n",
       "      <td>0.0</td>\n",
       "      <td>12844.0</td>\n",
       "      <td>Madhya Pradesh</td>\n",
       "    </tr>\n",
       "    <tr>\n",
       "      <th>12627</th>\n",
       "      <td>2021-03-01</td>\n",
       "      <td>6397.0</td>\n",
       "      <td>5754.0</td>\n",
       "      <td>30.0</td>\n",
       "      <td>3.0</td>\n",
       "      <td>61746.0</td>\n",
       "      <td>Maharashtra</td>\n",
       "    </tr>\n",
       "    <tr>\n",
       "      <th>12628</th>\n",
       "      <td>2021-03-01</td>\n",
       "      <td>0.0</td>\n",
       "      <td>0.0</td>\n",
       "      <td>0.0</td>\n",
       "      <td>1.0</td>\n",
       "      <td>171.0</td>\n",
       "      <td>Nagaland</td>\n",
       "    </tr>\n",
       "    <tr>\n",
       "      <th>12629</th>\n",
       "      <td>2021-03-01</td>\n",
       "      <td>349.0</td>\n",
       "      <td>324.0</td>\n",
       "      <td>5.0</td>\n",
       "      <td>0.0</td>\n",
       "      <td>60127.0</td>\n",
       "      <td>Karnataka</td>\n",
       "    </tr>\n",
       "    <tr>\n",
       "      <th>12630</th>\n",
       "      <td>2021-03-01</td>\n",
       "      <td>198.0</td>\n",
       "      <td>212.0</td>\n",
       "      <td>0.0</td>\n",
       "      <td>0.0</td>\n",
       "      <td>16014.0</td>\n",
       "      <td>West Bengal</td>\n",
       "    </tr>\n",
       "    <tr>\n",
       "      <th>12631</th>\n",
       "      <td>2021-03-01</td>\n",
       "      <td>86.0</td>\n",
       "      <td>76.0</td>\n",
       "      <td>0.0</td>\n",
       "      <td>0.0</td>\n",
       "      <td>20276.0</td>\n",
       "      <td>Odisha</td>\n",
       "    </tr>\n",
       "    <tr>\n",
       "      <th>12632</th>\n",
       "      <td>2021-03-01</td>\n",
       "      <td>0.0</td>\n",
       "      <td>0.0</td>\n",
       "      <td>0.0</td>\n",
       "      <td>0.0</td>\n",
       "      <td>0.0</td>\n",
       "      <td>Dadra and Nagar Haveli and Daman and Diu</td>\n",
       "    </tr>\n",
       "    <tr>\n",
       "      <th>12633</th>\n",
       "      <td>2021-03-01</td>\n",
       "      <td>69.0</td>\n",
       "      <td>19.0</td>\n",
       "      <td>1.0</td>\n",
       "      <td>0.0</td>\n",
       "      <td>1929.0</td>\n",
       "      <td>Chandigarh</td>\n",
       "    </tr>\n",
       "    <tr>\n",
       "      <th>12634</th>\n",
       "      <td>2021-03-01</td>\n",
       "      <td>10.0</td>\n",
       "      <td>3.0</td>\n",
       "      <td>0.0</td>\n",
       "      <td>0.0</td>\n",
       "      <td>1338.0</td>\n",
       "      <td>Tripura</td>\n",
       "    </tr>\n",
       "    <tr>\n",
       "      <th>12635</th>\n",
       "      <td>2021-03-01</td>\n",
       "      <td>256.0</td>\n",
       "      <td>143.0</td>\n",
       "      <td>7.0</td>\n",
       "      <td>0.0</td>\n",
       "      <td>27085.0</td>\n",
       "      <td>Chhattisgarh</td>\n",
       "    </tr>\n",
       "    <tr>\n",
       "      <th>12636</th>\n",
       "      <td>2021-03-01</td>\n",
       "      <td>1.0</td>\n",
       "      <td>8.0</td>\n",
       "      <td>0.0</td>\n",
       "      <td>0.0</td>\n",
       "      <td>0.0</td>\n",
       "      <td>Ladakh</td>\n",
       "    </tr>\n",
       "    <tr>\n",
       "      <th>12637</th>\n",
       "      <td>2021-03-01</td>\n",
       "      <td>15.0</td>\n",
       "      <td>7.0</td>\n",
       "      <td>0.0</td>\n",
       "      <td>0.0</td>\n",
       "      <td>1190.0</td>\n",
       "      <td>Lakshadweep</td>\n",
       "    </tr>\n",
       "    <tr>\n",
       "      <th>12638</th>\n",
       "      <td>2021-03-01</td>\n",
       "      <td>1938.0</td>\n",
       "      <td>3475.0</td>\n",
       "      <td>13.0</td>\n",
       "      <td>2.0</td>\n",
       "      <td>45995.0</td>\n",
       "      <td>Kerala</td>\n",
       "    </tr>\n",
       "    <tr>\n",
       "      <th>12639</th>\n",
       "      <td>2021-03-01</td>\n",
       "      <td>40.0</td>\n",
       "      <td>62.0</td>\n",
       "      <td>1.0</td>\n",
       "      <td>0.0</td>\n",
       "      <td>1168.0</td>\n",
       "      <td>Goa</td>\n",
       "    </tr>\n",
       "    <tr>\n",
       "      <th>12640</th>\n",
       "      <td>2021-03-01</td>\n",
       "      <td>633.0</td>\n",
       "      <td>394.0</td>\n",
       "      <td>18.0</td>\n",
       "      <td>0.0</td>\n",
       "      <td>13727.0</td>\n",
       "      <td>Punjab</td>\n",
       "    </tr>\n",
       "    <tr>\n",
       "      <th>12641</th>\n",
       "      <td>2021-03-01</td>\n",
       "      <td>81.0</td>\n",
       "      <td>104.0</td>\n",
       "      <td>3.0</td>\n",
       "      <td>0.0</td>\n",
       "      <td>108665.0</td>\n",
       "      <td>Uttar Pradesh</td>\n",
       "    </tr>\n",
       "    <tr>\n",
       "      <th>12642</th>\n",
       "      <td>2021-03-01</td>\n",
       "      <td>474.0</td>\n",
       "      <td>482.0</td>\n",
       "      <td>5.0</td>\n",
       "      <td>0.0</td>\n",
       "      <td>50091.0</td>\n",
       "      <td>Tamil Nadu</td>\n",
       "    </tr>\n",
       "    <tr>\n",
       "      <th>12643</th>\n",
       "      <td>2021-03-01</td>\n",
       "      <td>22.0</td>\n",
       "      <td>51.0</td>\n",
       "      <td>0.0</td>\n",
       "      <td>0.0</td>\n",
       "      <td>22209.0</td>\n",
       "      <td>Bihar</td>\n",
       "    </tr>\n",
       "    <tr>\n",
       "      <th>12644</th>\n",
       "      <td>2021-03-01</td>\n",
       "      <td>116.0</td>\n",
       "      <td>165.0</td>\n",
       "      <td>0.0</td>\n",
       "      <td>0.0</td>\n",
       "      <td>20375.0</td>\n",
       "      <td>Telangana</td>\n",
       "    </tr>\n",
       "    <tr>\n",
       "      <th>12645</th>\n",
       "      <td>2021-03-01</td>\n",
       "      <td>0.0</td>\n",
       "      <td>0.0</td>\n",
       "      <td>0.0</td>\n",
       "      <td>0.0</td>\n",
       "      <td>1300.0</td>\n",
       "      <td>Andaman and Nicobar Islands</td>\n",
       "    </tr>\n",
       "    <tr>\n",
       "      <th>12646</th>\n",
       "      <td>2021-03-01</td>\n",
       "      <td>33.0</td>\n",
       "      <td>16.0</td>\n",
       "      <td>1.0</td>\n",
       "      <td>0.0</td>\n",
       "      <td>14733.0</td>\n",
       "      <td>Assam</td>\n",
       "    </tr>\n",
       "  </tbody>\n",
       "</table>\n",
       "</div>"
      ],
      "text/plain": [
       "             Date  Confirmed  Recovered  Deceased  Other    Tested  \\\n",
       "12610  2021-03-01      427.0      360.0       1.0    0.0   33110.0   \n",
       "12611  2021-03-01       27.0       26.0       0.0    5.0   10716.0   \n",
       "12612  2021-03-01        0.0        3.0       0.0    0.0     233.0   \n",
       "12613  2021-03-01    12270.0    12472.0      92.0   11.0  759283.0   \n",
       "12614  2021-03-01        0.0        1.0       0.0    0.0      15.0   \n",
       "12615  2021-03-01        9.0       16.0       1.0    0.0     693.0   \n",
       "12616  2021-03-01       58.0       51.0       0.0    0.0   20269.0   \n",
       "12617  2021-03-01        1.0        0.0       0.0    0.0     378.0   \n",
       "12618  2021-03-01       63.0       56.0       1.0    0.0   24696.0   \n",
       "12619  2021-03-01      175.0      105.0       1.0    0.0   39733.0   \n",
       "12620  2021-03-01        1.0        4.0       0.0    0.0     586.0   \n",
       "12621  2021-03-01       37.0       46.0       0.0    0.0   10085.0   \n",
       "12622  2021-03-01      132.0       15.0       1.0    0.0    5033.0   \n",
       "12623  2021-03-01      166.0      151.0       2.0    0.0    8615.0   \n",
       "12624  2021-03-01      119.0      123.0       0.0    0.0    6675.0   \n",
       "12625  2021-03-01        1.0        1.0       0.0    0.0     805.0   \n",
       "12626  2021-03-01      336.0      219.0       1.0    0.0   12844.0   \n",
       "12627  2021-03-01     6397.0     5754.0      30.0    3.0   61746.0   \n",
       "12628  2021-03-01        0.0        0.0       0.0    1.0     171.0   \n",
       "12629  2021-03-01      349.0      324.0       5.0    0.0   60127.0   \n",
       "12630  2021-03-01      198.0      212.0       0.0    0.0   16014.0   \n",
       "12631  2021-03-01       86.0       76.0       0.0    0.0   20276.0   \n",
       "12632  2021-03-01        0.0        0.0       0.0    0.0       0.0   \n",
       "12633  2021-03-01       69.0       19.0       1.0    0.0    1929.0   \n",
       "12634  2021-03-01       10.0        3.0       0.0    0.0    1338.0   \n",
       "12635  2021-03-01      256.0      143.0       7.0    0.0   27085.0   \n",
       "12636  2021-03-01        1.0        8.0       0.0    0.0       0.0   \n",
       "12637  2021-03-01       15.0        7.0       0.0    0.0    1190.0   \n",
       "12638  2021-03-01     1938.0     3475.0      13.0    2.0   45995.0   \n",
       "12639  2021-03-01       40.0       62.0       1.0    0.0    1168.0   \n",
       "12640  2021-03-01      633.0      394.0      18.0    0.0   13727.0   \n",
       "12641  2021-03-01       81.0      104.0       3.0    0.0  108665.0   \n",
       "12642  2021-03-01      474.0      482.0       5.0    0.0   50091.0   \n",
       "12643  2021-03-01       22.0       51.0       0.0    0.0   22209.0   \n",
       "12644  2021-03-01      116.0      165.0       0.0    0.0   20375.0   \n",
       "12645  2021-03-01        0.0        0.0       0.0    0.0    1300.0   \n",
       "12646  2021-03-01       33.0       16.0       1.0    0.0   14733.0   \n",
       "\n",
       "                                          State  \n",
       "12610                                   Gujarat  \n",
       "12611                               Uttarakhand  \n",
       "12612                                   Mizoram  \n",
       "12613                                     India  \n",
       "12614                                    Sikkim  \n",
       "12615                                Puducherry  \n",
       "12616                            Andhra Pradesh  \n",
       "12617                         Arunachal Pradesh  \n",
       "12618                         Jammu and Kashmir  \n",
       "12619                                     Delhi  \n",
       "12620                                   Manipur  \n",
       "12621                                 Jharkhand  \n",
       "12622                          Himachal Pradesh  \n",
       "12623                                   Haryana  \n",
       "12624                                 Rajasthan  \n",
       "12625                                 Meghalaya  \n",
       "12626                            Madhya Pradesh  \n",
       "12627                               Maharashtra  \n",
       "12628                                  Nagaland  \n",
       "12629                                 Karnataka  \n",
       "12630                               West Bengal  \n",
       "12631                                    Odisha  \n",
       "12632  Dadra and Nagar Haveli and Daman and Diu  \n",
       "12633                                Chandigarh  \n",
       "12634                                   Tripura  \n",
       "12635                              Chhattisgarh  \n",
       "12636                                    Ladakh  \n",
       "12637                               Lakshadweep  \n",
       "12638                                    Kerala  \n",
       "12639                                       Goa  \n",
       "12640                                    Punjab  \n",
       "12641                             Uttar Pradesh  \n",
       "12642                                Tamil Nadu  \n",
       "12643                                     Bihar  \n",
       "12644                                 Telangana  \n",
       "12645               Andaman and Nicobar Islands  \n",
       "12646                                     Assam  "
      ]
     },
<<<<<<< HEAD
     "execution_count": 27,
=======
     "execution_count": 29,
>>>>>>> b16863ab3c0a4737f053e604f6f89d5ee197d7c1
     "metadata": {},
     "output_type": "execute_result"
    }
   ],
   "source": [
    "ndf.loc[ndf['Date']=='2021-03-01']"
   ]
  },
  {
   "cell_type": "code",
<<<<<<< HEAD
   "execution_count": 28,
=======
   "execution_count": 30,
>>>>>>> b16863ab3c0a4737f053e604f6f89d5ee197d7c1
   "metadata": {},
   "outputs": [],
   "source": [
    "#slicing out the data of covid 19 second wave from the above dataset\n",
    "swave=ndf.loc[12610:,[\"Date\",'State','Confirmed','Recovered','Deceased','Other','Tested']]"
   ]
  },
  {
   "cell_type": "code",
<<<<<<< HEAD
   "execution_count": 29,
=======
   "execution_count": 31,
>>>>>>> b16863ab3c0a4737f053e604f6f89d5ee197d7c1
   "metadata": {},
   "outputs": [
    {
     "data": {
      "text/html": [
       "<div>\n",
       "<style scoped>\n",
       "    .dataframe tbody tr th:only-of-type {\n",
       "        vertical-align: middle;\n",
       "    }\n",
       "\n",
       "    .dataframe tbody tr th {\n",
       "        vertical-align: top;\n",
       "    }\n",
       "\n",
       "    .dataframe thead th {\n",
       "        text-align: right;\n",
       "    }\n",
       "</style>\n",
       "<table border=\"1\" class=\"dataframe\">\n",
       "  <thead>\n",
       "    <tr style=\"text-align: right;\">\n",
       "      <th></th>\n",
       "      <th>Date</th>\n",
       "      <th>State</th>\n",
       "      <th>Confirmed</th>\n",
       "      <th>Recovered</th>\n",
       "      <th>Deceased</th>\n",
       "      <th>Other</th>\n",
       "      <th>Tested</th>\n",
       "    </tr>\n",
       "  </thead>\n",
       "  <tbody>\n",
       "    <tr>\n",
       "      <th>12610</th>\n",
       "      <td>2021-03-01</td>\n",
       "      <td>Gujarat</td>\n",
       "      <td>427.0</td>\n",
       "      <td>360.0</td>\n",
       "      <td>1.0</td>\n",
       "      <td>0.0</td>\n",
       "      <td>33110.0</td>\n",
       "    </tr>\n",
       "    <tr>\n",
       "      <th>12611</th>\n",
       "      <td>2021-03-01</td>\n",
       "      <td>Uttarakhand</td>\n",
       "      <td>27.0</td>\n",
       "      <td>26.0</td>\n",
       "      <td>0.0</td>\n",
       "      <td>5.0</td>\n",
       "      <td>10716.0</td>\n",
       "    </tr>\n",
       "    <tr>\n",
       "      <th>12612</th>\n",
       "      <td>2021-03-01</td>\n",
       "      <td>Mizoram</td>\n",
       "      <td>0.0</td>\n",
       "      <td>3.0</td>\n",
       "      <td>0.0</td>\n",
       "      <td>0.0</td>\n",
       "      <td>233.0</td>\n",
       "    </tr>\n",
       "    <tr>\n",
       "      <th>12613</th>\n",
       "      <td>2021-03-01</td>\n",
       "      <td>India</td>\n",
       "      <td>12270.0</td>\n",
       "      <td>12472.0</td>\n",
       "      <td>92.0</td>\n",
       "      <td>11.0</td>\n",
       "      <td>759283.0</td>\n",
       "    </tr>\n",
       "    <tr>\n",
       "      <th>12614</th>\n",
       "      <td>2021-03-01</td>\n",
       "      <td>Sikkim</td>\n",
       "      <td>0.0</td>\n",
       "      <td>1.0</td>\n",
       "      <td>0.0</td>\n",
       "      <td>0.0</td>\n",
       "      <td>15.0</td>\n",
       "    </tr>\n",
       "  </tbody>\n",
       "</table>\n",
       "</div>"
      ],
      "text/plain": [
       "             Date        State  Confirmed  Recovered  Deceased  Other  \\\n",
       "12610  2021-03-01      Gujarat      427.0      360.0       1.0    0.0   \n",
       "12611  2021-03-01  Uttarakhand       27.0       26.0       0.0    5.0   \n",
       "12612  2021-03-01      Mizoram        0.0        3.0       0.0    0.0   \n",
       "12613  2021-03-01        India    12270.0    12472.0      92.0   11.0   \n",
       "12614  2021-03-01       Sikkim        0.0        1.0       0.0    0.0   \n",
       "\n",
       "         Tested  \n",
       "12610   33110.0  \n",
       "12611   10716.0  \n",
       "12612     233.0  \n",
       "12613  759283.0  \n",
       "12614      15.0  "
      ]
     },
<<<<<<< HEAD
     "execution_count": 29,
=======
     "execution_count": 31,
>>>>>>> b16863ab3c0a4737f053e604f6f89d5ee197d7c1
     "metadata": {},
     "output_type": "execute_result"
    }
   ],
   "source": [
    "swave.head()"
   ]
  },
  {
   "cell_type": "markdown",
   "metadata": {},
   "source": [
    "#### Some of the following plotting attempts may not be a great visualisation of the data but these are the initial steps that I am going to do to see how to develop line olots that compare the progress among 2 states"
   ]
  },
  {
   "cell_type": "code",
<<<<<<< HEAD
   "execution_count": 30,
=======
   "execution_count": 32,
>>>>>>> b16863ab3c0a4737f053e604f6f89d5ee197d7c1
   "metadata": {},
   "outputs": [
    {
     "data": {
      "image/png": "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\n",
      "text/plain": [
       "<Figure size 720x612 with 1 Axes>"
      ]
     },
     "metadata": {
      "needs_background": "light"
     },
     "output_type": "display_data"
    },
    {
     "data": {
      "image/png": "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\n",
      "text/plain": [
       "<Figure size 720x612 with 1 Axes>"
      ]
     },
     "metadata": {
      "needs_background": "light"
     },
     "output_type": "display_data"
    }
   ],
   "source": [
    "swave.groupby('State').get_group(\"Kerala\").plot(x='Date',y=['Confirmed','Tested'],figsize=(10,8.5),label=['Kerala_Confirmed',\"tested\"])\n",
    "plt.legend()\n",
    "swave.groupby('State').get_group(\"Uttar Pradesh\").plot(x='Date',y=['Confirmed','Tested'],figsize=(10,8.5),label=['UPConfirmed','Tested'])\n",
    "plt.xticks(rotation=60)\n",
    "plt.legend()\n",
    "plt.title('Two or more lines on same plot with suitable legends ')\n",
    "plt.show()"
   ]
  },
  {
   "cell_type": "code",
<<<<<<< HEAD
   "execution_count": 31,
=======
   "execution_count": 35,
>>>>>>> b16863ab3c0a4737f053e604f6f89d5ee197d7c1
   "metadata": {},
   "outputs": [],
   "source": [
    "kerala=swave.groupby('State').get_group(\"Kerala\")\n",
    "ktest=kerala['Tested']\n",
    "#ktest\n",
    "kconf=kerala['Confirmed']\n",
    "up=swave.groupby('State').get_group(\"Uttar Pradesh\")\n",
    "utest=up[\"Tested\"]\n",
    "uconf=up['Confirmed']\n",
    "date=up['Date']\n"
   ]
  },
  {
   "cell_type": "code",
<<<<<<< HEAD
   "execution_count": 32,
=======
   "execution_count": 34,
>>>>>>> b16863ab3c0a4737f053e604f6f89d5ee197d7c1
   "metadata": {},
   "outputs": [
    {
     "data": {
      "text/plain": [
<<<<<<< HEAD
       "<matplotlib.legend.Legend at 0x7f5e7a953760>"
      ]
     },
     "execution_count": 32,
=======
       "<matplotlib.legend.Legend at 0x19f1dad57f0>"
      ]
     },
     "execution_count": 34,
>>>>>>> b16863ab3c0a4737f053e604f6f89d5ee197d7c1
     "metadata": {},
     "output_type": "execute_result"
    },
    {
     "data": {
      "image/png": "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\n",
      "text/plain": [
       "<Figure size 864x504 with 1 Axes>"
      ]
     },
     "metadata": {
      "needs_background": "light"
     },
     "output_type": "display_data"
    }
   ],
   "source": [
    "fig, ax = plt.subplots(figsize=(12, 7))\n",
    "plt.plot(date, ktest, label = \"kerala tested\")\n",
    "plt.plot(date, kconf, label = \"kerala confirmed\")\n",
    "plt.plot(date,utest,label='up tested')\n",
    "plt.plot(date,uconf,label='up confirmed')\n",
    "plt.legend()\n",
    "\n"
   ]
  },
  {
   "cell_type": "code",
<<<<<<< HEAD
   "execution_count": 33,
   "metadata": {},
   "outputs": [
    {
     "data": {
      "text/html": [
       "<div>\n",
       "<style scoped>\n",
       "    .dataframe tbody tr th:only-of-type {\n",
       "        vertical-align: middle;\n",
       "    }\n",
       "\n",
       "    .dataframe tbody tr th {\n",
       "        vertical-align: top;\n",
       "    }\n",
       "\n",
       "    .dataframe thead th {\n",
       "        text-align: right;\n",
       "    }\n",
       "</style>\n",
       "<table border=\"1\" class=\"dataframe\">\n",
       "  <thead>\n",
       "    <tr style=\"text-align: right;\">\n",
       "      <th></th>\n",
       "      <th>Date</th>\n",
       "      <th>State</th>\n",
       "      <th>Confirmed</th>\n",
       "      <th>Recovered</th>\n",
       "      <th>Deceased</th>\n",
       "      <th>Other</th>\n",
       "      <th>Tested</th>\n",
       "    </tr>\n",
       "  </thead>\n",
       "  <tbody>\n",
       "    <tr>\n",
       "      <th>12610</th>\n",
       "      <td>2021-03-01</td>\n",
       "      <td>Gujarat</td>\n",
       "      <td>427.0</td>\n",
       "      <td>360.0</td>\n",
       "      <td>1.0</td>\n",
       "      <td>0.0</td>\n",
       "      <td>33110.0</td>\n",
       "    </tr>\n",
       "    <tr>\n",
       "      <th>12611</th>\n",
       "      <td>2021-03-01</td>\n",
       "      <td>Uttarakhand</td>\n",
       "      <td>27.0</td>\n",
       "      <td>26.0</td>\n",
       "      <td>0.0</td>\n",
       "      <td>5.0</td>\n",
       "      <td>10716.0</td>\n",
       "    </tr>\n",
       "    <tr>\n",
       "      <th>12612</th>\n",
       "      <td>2021-03-01</td>\n",
       "      <td>Mizoram</td>\n",
       "      <td>0.0</td>\n",
       "      <td>3.0</td>\n",
       "      <td>0.0</td>\n",
       "      <td>0.0</td>\n",
       "      <td>233.0</td>\n",
       "    </tr>\n",
       "    <tr>\n",
       "      <th>12613</th>\n",
       "      <td>2021-03-01</td>\n",
       "      <td>India</td>\n",
       "      <td>12270.0</td>\n",
       "      <td>12472.0</td>\n",
       "      <td>92.0</td>\n",
       "      <td>11.0</td>\n",
       "      <td>759283.0</td>\n",
       "    </tr>\n",
       "    <tr>\n",
       "      <th>12614</th>\n",
       "      <td>2021-03-01</td>\n",
       "      <td>Sikkim</td>\n",
       "      <td>0.0</td>\n",
       "      <td>1.0</td>\n",
       "      <td>0.0</td>\n",
       "      <td>0.0</td>\n",
       "      <td>15.0</td>\n",
       "    </tr>\n",
       "  </tbody>\n",
       "</table>\n",
       "</div>"
      ],
      "text/plain": [
       "             Date        State  Confirmed  Recovered  Deceased  Other  \\\n",
       "12610  2021-03-01      Gujarat      427.0      360.0       1.0    0.0   \n",
       "12611  2021-03-01  Uttarakhand       27.0       26.0       0.0    5.0   \n",
       "12612  2021-03-01      Mizoram        0.0        3.0       0.0    0.0   \n",
       "12613  2021-03-01        India    12270.0    12472.0      92.0   11.0   \n",
       "12614  2021-03-01       Sikkim        0.0        1.0       0.0    0.0   \n",
       "\n",
       "         Tested  \n",
       "12610   33110.0  \n",
       "12611   10716.0  \n",
       "12612     233.0  \n",
       "12613  759283.0  \n",
       "12614      15.0  "
      ]
     },
     "execution_count": 33,
     "metadata": {},
     "output_type": "execute_result"
    }
   ],
=======
   "execution_count": null,
   "metadata": {},
   "outputs": [],
>>>>>>> b16863ab3c0a4737f053e604f6f89d5ee197d7c1
   "source": [
    "swave.head()"
   ]
  },
  {
   "cell_type": "code",
<<<<<<< HEAD
   "execution_count": 34,
=======
   "execution_count": 36,
>>>>>>> b16863ab3c0a4737f053e604f6f89d5ee197d7c1
   "metadata": {},
   "outputs": [],
   "source": [
    "li=['Kerala','Uttar Pradesh']\n",
    "klup=swave[swave.State.isin(li)]"
   ]
  },
  {
   "cell_type": "code",
<<<<<<< HEAD
   "execution_count": 35,
=======
   "execution_count": 37,
>>>>>>> b16863ab3c0a4737f053e604f6f89d5ee197d7c1
   "metadata": {},
   "outputs": [
    {
     "data": {
      "text/plain": [
       "<function matplotlib.pyplot.show(close=None, block=None)>"
      ]
     },
<<<<<<< HEAD
     "execution_count": 35,
=======
     "execution_count": 37,
>>>>>>> b16863ab3c0a4737f053e604f6f89d5ee197d7c1
     "metadata": {},
     "output_type": "execute_result"
    },
    {
     "data": {
      "image/png": "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\n",
      "text/plain": [
       "<Figure size 864x504 with 1 Axes>"
      ]
     },
     "metadata": {
      "needs_background": "light"
     },
     "output_type": "display_data"
    }
   ],
   "source": [
    "x = np.random.randint(low=0, high=5, size=150)\n",
    "\n",
    "fig, ax = plt.subplots(figsize=(12, 7))\n",
    "sns.lineplot(data=klup, x=\"Date\", y='Confirmed', hue=\"State\",linewidth = 2)\n",
    "plt.legend( bbox_to_anchor=(1.02, 1),loc='upper left', borderaxespad=0, title='feature')\n",
    "plt.title('covid comparrisson')\n",
    "plt.xticks(np.arange(0, len(x)+15, 20))\n",
    "#ax.set_xticks(np.arange(0, len(x)+1, 5))\n",
    "plt.show"
   ]
  },
  {
   "cell_type": "markdown",
   "metadata": {},
   "source": [
    "#### The twoStates function that below will help to compare the covid pandemic statistics of the states of India using a          line plot "
   ]
  },
  {
   "cell_type": "code",
<<<<<<< HEAD
   "execution_count": 67,
=======
   "execution_count": 54,
>>>>>>> b16863ab3c0a4737f053e604f6f89d5ee197d7c1
   "metadata": {},
   "outputs": [],
   "source": [
    "def twoStates(slist,feature):\n",
    "    df=swave[swave.State.isin(slist)]\n",
    "    x = np.random.randint(low=0, high=5, size=150)\n",
    "\n",
    "    fig, ax = plt.subplots(figsize=(12, 7))\n",
    "    sns.lineplot(data=df, x=\"Date\", y=feature, hue=\"State\",linewidth = 2)\n",
    "    plt.legend( bbox_to_anchor=(1.02, 1),loc='upper left', borderaxespad=0, title='states')\n",
<<<<<<< HEAD
    "    plt.title(feature+' Comparrison')\n",
    "    #plt.xticks(np.arange(0, len(x)+15, 20))\n",
=======
    "    #plt.title('Comparison of '+ feature +' on '+ slist[0] +' and '+ slist[1])\n",
    "    fig.suptitle('Comparison of '+ feature +' on '+ slist[0] +' and '+ slist[1], fontsize=18)\n",
    "    plt.xticks(np.arange(0, len(x)+15, 20))\n",
>>>>>>> b16863ab3c0a4737f053e604f6f89d5ee197d7c1
    "    #ax.set_xticks(np.arange(0, len(x)+1, 5))\n",
    "    plt.show\n",
    "    \n",
    "    "
   ]
  },
  {
   "cell_type": "code",
<<<<<<< HEAD
   "execution_count": 68,
   "metadata": {},
   "outputs": [
    {
     "data": {
      "image/png": "iVBORw0KGgoAAAANSUhEUgAAA0oAAAG5CAYAAACwQ8RzAAAAOXRFWHRTb2Z0d2FyZQBNYXRwbG90bGliIHZlcnNpb24zLjMuMiwgaHR0cHM6Ly9tYXRwbG90bGliLm9yZy8vihELAAAACXBIWXMAAAsTAAALEwEAmpwYAADheklEQVR4nOzdd5hkZZn4/e9ToXPOPT0558zMwKAo6AoqGBBJKur+xICurmGV1d1FDC/usui6imAEwwoICAMiShCQNDAzTM55Oudc3ZWe948Tqrq7qru6u6qruvv+XBcX3afOOfVUTaq77/AorTVCCCGEEEIIIUIcyV6AEEIIIYQQQqQaCZSEEEIIIYQQYhAJlIQQQgghhBBiEAmUhBBCCCGEEGIQCZSEEEIIIYQQYhAJlIQQQgghhBBiEAmUhBBiElNKnVZKvS3Z65gISqnrlVJ/TfY6hBBCTA8SKAkhpjQzkPAopbqUUu1KqZeVUp9SSk2Lv/+UUpuUUk+Yr71VKfWaUupjyV7XWGitf6e1/odkr0MIIcT0MC0+KAghpr3Ltda5wBzgNuCrwC+Su6TEU0qdDzwLPA8sBIqBTwOXJXNdI1FKuWI5JoQQQiSSBEpCiGlDa92htd4GXA3coJRaCaCUSldK3a6UOquUalBK3aWUyrSuU0q9Rym1WynVqZQ6oZS61Dyer5T6hVKqTilVo5T6tlLKaT62QCn1rFKqRSnVrJT6nVKqIOyeXzWv6VJKHVFKXWIedyilvmY+T4tS6gGlVFHYdR9WSp0xH/v6CC/5v4B7tdbf01o3a8NOrfUHw+73CaXUcTPbtE0pNSPsMa2U+oxS6pi5zm+Zr+sV8714QCmVZp77FqVUtVLqX83Xe1opdX3Yvd6llHrDvO6cUuqWsMfmms/1j0qps8CzSqmPKqVeUkp9XynVCtxiHnvRvEaZjzUqpTqUUnvDfj3zlVK/Vko1me/VN6wMonUP89e7TSl1SimV0oGjEEKI5JBASQgx7WitXwOqgTeZh74HLAbWYmReqoB/B6N0Dfg18BWgAHgzcNq87l7Ab16zDvgH4P+Zjyng/wNmAMuAWcAt5j2XAJ8FzjMzXe8Iu+c/Ae8FLjKvbQN+bF63HPgJ8GHzsWJgZqTXqJTKAs4HHoz2PiilLjbX+EGgEjgD3DfotEuBDcAW4F+AnwLXm69nJXBt2LkVQAnG+3cD8FPztQL0AB/BeA/fBXxaKfXeQc91EcZ79Q7z+83ASaAM+M6gc/8B49disXnPq4EW87H/BfKB+eY9PwKElxtuBo6Ya/1P4BdKKYUQQggRRgIlIcR0VQsUmR+QPwH8s9a6VWvdBXwXuMY87x+BX2qtn9JaB7XWNVrrw0qpcowSti9orXu01o3A963rtNbHzWv6tdZNwB0YH9oBAkA6sFwp5dZan9ZanzAf+yTwda11tda6HyO4+oBZevYB4HGt9QvmY/8GBKO8vkKMv+PrhnkPrjdf2y7zfjcD5yul5oad8z2tdafW+gCwH/ir1vqk1roD+DNGgBju38zX/DzwJ4wgDK31c1rrfeZ7uBf4fdj7YbnFfC895ve1Wuv/1Vr7w45ZfEAusBRQWutDWus6M6N3NXCz1rpLa30a+G+M4NJyRmv9M611ACPYrQTKh3mfhBBCTEMSKAkhpqsqoBUoBbKAnebAg3bgSfM4GJmTExGunwO4gbqw6+7GyH6glCpTSt1nltd1Ar/FyGCgtT4OfAEjCGo0z5sRdt8/ht3zEEZgVY6RRTpnLUBr3UMoizJYG0YQVTnMezADI4tk3a/bvF9V2DkNYV97InyfE/6c5posZ8znQCm1WSn1N7McrgP4FOb7EebcCN/btNbPAj/CyLY1KKV+qpTKM++ZFv66zK/DX1N92H16zS/DX4cQQgghgZIQYvpRSp2H8cH5RaAZ4wP/Cq11gflfvtba+uB8DlgQ4TbngH6gJOy6PK31CvPx/w/QwGqtdR7wIYxyPAC01v+ntb4QIzDSGOV/1n0vC7tngdY6Q2tdg5EdmhX2OrIwyu+GMAOAV4Arh3kras3nt+6Xbd6vZphrhlNo3sMy23wOgP8DtgGztNb5wF2EvR/Wskf4fuCDWv9Qa70BWIFRgvcVjF9PH2Gvy1zHWF+TEEKIaUoCJSHEtKGUylNKvRujD+e3VikY8DPg+0opKxtUpZSy+mR+AXxMKXWJOWihSim1VGtdB/wV+G/zvg5z0IFVTpYLdAPtSqkqjA/x1jqWKKUuVkqlA30YgVrAfPgu4DtKqTnmuaVKqfeYjz0IvFspdaE5ROFWhv97/F+AjyqlvqKUKjbvt0YpZfUh/Z/52taaa/kusN0sVxurbyql0pRSbwLeDfzBPJ4LtGqt+8y+r+vG8Rwopc4zs1RujP6nPiBgltM9gPEe5prv4xcxMnpCCCFEzCRQEkJMB48ppbowsjVfx+gXCm/u/ypwHHjVLJN7GlgC9uCHj2H0H3VgjNq2shUfwSjzOohR6vYgoVK3bwLrzWv+BDwc9nzpGGPKmzHKwMqAfzUf+x+MzMtfzTW/ijF8ALNP6CaMAKfOfM7qaC9aa/0ycLH530lzetxPgSfMx5/B6HN6yLzfAkK9WWNRb66pFvgd8Cmt9WHzsc8At5qv6d8xgpnxyMMIcNswSutagNvNxz6HETydxMga/h/wy3E+nxBCiGlGaT1sZYMQQggxIqXUWzCydBGn8AkhhBCTjWSUhBBCCCGEEGIQCZSEEEIIIYQQYhApvRNCCCGEEEKIQSSjJIQQQgghhBCDuJK9gPEoKSnRc+fOTfYyhBBCCCHEFLdz585mrXXpyGcOuKbM5XL9HFiJJChSTRDY7/f7/9+GDRsaI50wqQOluXPnsmPHjmQvQwghhBBCTHFKqTOjvcblcv28oqJiWWlpaZvD4ZB+lxQSDAZVU1PT8vr6+p8DV0Q6RyJbIYQQQgghEmNlaWlppwRJqcfhcOjS0tIOjGxf5HMmcD1CCCGEEEJMJw4JklKX+WsTNR6SQEkIIYQQQgghBpFASQghhBBCiGnu1ltvLevq6hoxNoj1vKlgWrxIIYQQQgghRHR33313eXd394ixQaznTQXT4kUKIYQQQgghDJ2dnY63vOUtC5csWbJ80aJFK770pS9VNjY2ui+66KLFmzdvXgxw/fXXz165cuWyhQsXrvjnf/7nGQDf/va3ywaf9/DDD+etXbt26fLly5dddtll8zs6OhwAn/nMZ6oWLFiwYvHixctvvPHGmcl7tWM3qceDCyGEEEIIIUbn4YcfzquoqPA999xzxwFaWlqc9913X8nzzz9/tLKy0g9wxx131JSXlwf8fj8XXHDBku3bt2d+4xvfaPzJT35Sbp1XV1fn+u53v1v5wgsvHM3Lywt+/etfr/jWt75V/pWvfKXxiSeeKDx58uR+h8NBc3OzM7mveGwkoySEEEIIIcQ0sn79es/f//73vE9/+tNVTz75ZE5xcXFg8Dn33ntv0fLly5ctX758+bFjxzL27NmTMfic5557LvvEiRMZmzZtWrp06dLl9913X/HZs2fTioqKAunp6cFrrrlmzr333luQk5MTnJhXFl+SURJCCCGEEGIaWb16df+uXbsOPvTQQ/lf//rXq55++unO8McPHz6c9qMf/ah8586dh0pLSwNXXnnl3L6+viEJFq01F154Yedjjz12avBju3fvPrRt27a8++67r/AnP/lJ2auvvno0ka8pESSjJIQQQgghxDRy+vRpd25ubvAzn/lM6xe+8IWG3bt3Z2VnZwes/qK2tjZnZmZmsKioKHDu3DnXc889l29dG37eW97ylp4dO3bk7N+/Px2gq6vLsXfv3vSOjg5Ha2ur8+qrr+646667zh06dCgrOa90fCSjJIQQQgghxDSyc+fOzJtvvnmmw+HA5XLpO++888zf//73nMsuu2xRWVmZb/v27UdXrlzZu2jRohWzZ8/u37BhQ7d17Q033NAcft7dd999+pprrpnv9XoVwH/8x3/U5OfnB9/97ncv7O/vVwDf/va3zyXrtY6H0nrybha8ceNGvWPHjmQvQwghhBBCTHFKqZ1a642juWbPnj2n16xZ05yoNYnx27NnT8maNWvmRnpMSu+EEEIIIYQQYhAJlIQQQgghhBBiEAmUhBBijPoD/fzl9F/o8fUkeylCCCGEiDMJlIQQYoweOPIAX37+y/zu0O+SvRQhhBBCxJkESkIIMUZ7mvYA0NDTkOSVCCGEECLeJFASQogxOtx6GIBuX/cIZwohhBBispFASQghxqDH18OZzjP210IIIUQqysrKWmd9ff/99+fPmTNn5bFjx9LGe98rr7xy7q9+9avC8d4nlUmgJIQQY3Ck9Yj9dZe3K4krEUIIIUb26KOP5n75y1+e9cQTTxxbtGiRN5Zr/H5/opeV0iRQEkKIMTjUesj+WjJKQgghUtmTTz6Zc9NNN83dtm3b8RUrVvQD3HnnnUWrVq1atnTp0uXXXXfdHCsoysrKWveFL3xhxurVq5c+88wzOV/+8pcrV65cuWzRokUrrr322jnBYHDI/WM5ZzJyJXsBQggxGVn9SSA9SkIIIUb2lQf3zDpa35UVz3sursjt/a8PrDk33Dler1ddffXVC//6178eWbduXR/Arl27Mh588MGiHTt2HE5PT9cf+tCHZt91113Fn/3sZ1s8Ho9j5cqVnh/84Ae1AGvXrvXcfvvtdQDvfe97591333351113XceA1/aVrzSOdM5kJIGSEEKMgQRKQgghJgO3263Xr1/ffdddd5Vs3rz5HMCTTz6Zu3///qw1a9YsA+jr63OUlZX5AZxOJx/96EfbrOv//Oc/595xxx0VfX19jvb2dtfy5cs9wIAgKJZzJiMJlIQQYpR8AR/H24/b3/d4e9Bao5RK4qqEEEKkspEyP4milGLbtm0n3/zmNy/+2te+VnHbbbfVa63VVVdd1fLjH/+4ZvD5aWlpQZfLCBF6e3vVl770pTnbt28/uHDhQt8Xv/jFGX19fQNad2I5Z7KaEi9CCCEm0vH24/iDfubmzSXNkYZf++kL9CV7WUIIIUREubm5wSeffPLYgw8+WPz973+/5NJLL+18/PHHC2tqalwADQ0NzqNHjw6ZhNfb2+sAqKio8Hd0dDgee+yxIVPuYjlnspKMkhBCjJJVdre0aCmd3k5a+1rp8fWQ6cpM8sqEEEKIyMrLywNPPvnk0YsuumhpaWnpuW984xs1l1xyyeJgMIjb7dY//OEPzy5evHjANLySkpLA9ddf37R8+fIVM2fO9K5Zs2bI9KJYzpmslNY62WsYs40bN+odO3YkexlCiGnmu9u/y+8P/54vrP8CDx97mLNdZ3nsvY8xN39uspcmhBAiQZRSO7XWG0dzzZ49e06vWbOmOVFrEuO3Z8+ekjVr1syN9JiU3gkhxCiFZ5Sy3dmADHQQQgghphoJlIQQYhSCOmhvNru0aCk5aTmABEpCCCHEVCOBkhBCjMK5rnP0+nspyyyjOLOYHLcRKPV4p0xJthBCCCGQQEkIIUblUOshAJYWLwWwA6UuX1fS1iSEEEKI+JNASQghRuFwS6g/CbBL73p8klESQgghphIJlIQQIgJvwMsfjv6Bqx67iltfuZVeXy8QGuSwrGgZEMoodXulR0kIIYSYShIWKCmlMpRSryml9iilDiilvmkev0UpVaOU2m3+986wa25WSh1XSh1RSr0jUWsTQohoen293HvgXi576DJufeVWDrcetgOm/c37Q6V3ZkZJpt4JIYRIdefOnXNdfvnl82bOnLlqxYoVy9auXbv017/+dUGy15XqErnhbD9wsda6WynlBl5USv3ZfOz7Wuvbw09WSi0HrgFWADOAp5VSi7XWgQSuUQghbN6Al/c9+j5qe2oBWFy4mKuXXM39R+7naNtRPvTEhwjoALlpuVTlVAGQm5YLSKAkhBAiNQWDQS6//PKF1113Xctjjz12CuDo0aNpf/jDHwqSvLSUl7CMkjZYnxzc5n/D7W77HuA+rXW/1voUcBzYlKj1CSHEYA09DdT21JLrzuXHl/yYBy9/kA8u+SD/967/40PLjCAJjGySUgoIZZRk6p0QQohU9Nhjj+W63W79L//yL03WscWLF3u//vWvN/b29qoPfOADcxcvXrx82bJlyx977LFcgCNHjqRt2LBhyfLly5ctX7582VNPPZWdvFeQPInMKKGUcgI7gYXAj7XW25VSlwGfVUp9BNgBfElr3QZUAa+GXV5tHht8zxuBGwFmz56dyOULIaaZTl8nAFW5Vbx55pvt4+nOdL666atcWHUhd+6+k6uXXG0/JlPvhBBCxOSRm2bReDArrvcsW97Le398brhT9u3bl7l69ereSI9973vfKwM4evTowTfeeCPjne9856ITJ07snzFjhv/vf//70aysLL1v3770a6+9dv7+/fsPxXXtk0BCAyWzbG6tUqoA+KNSaiXwE+BbGNmlbwH/DXwcUJFuEeGePwV+CrBx48bhMlRCCDEqXV4j2LHK6QbbWrWVrVVbBxyTqXdCCCEmkw9/+MOzX3vttRy3260rKyu9n/vc5xoB1q1b1zdjxgzvvn37MhYuXOj9x3/8xzkHDx7MdDgcnDlzJj3Z606GhAZKFq11u1LqOeDS8N4kpdTPgMfNb6uBWWGXzQRqJ2J9QggB0NlvZJTy0vJivsaeeic9SkIIIYYzQuYnUVatWuV59NFHC63vf/Ob35ytq6tzbdy4cVlFRYU30jXf+c53ysvKynwPPfTQqWAwSGZm5oaJW3HqSOTUu1Izk4RSKhN4G3BYKVUZdtr7gP3m19uAa5RS6UqpecAi4LVErU8IIQYbKaMUiT31TsaDCyGESEGXX355V39/v/re975Xah3r7u52AFx44YXdv/3tb4sA9u7dm15XV5e2evXqvo6ODmdlZaXP6XRy5513FgcC03O2WiIzSpXAvWafkgN4QGv9uFLqN0qptRhldaeBTwJorQ8opR4ADgJ+4CaZeCeEmEhjCZRk6p0QQohU5nA4eOyxx07cdNNNs374wx9WFBUV+bOysgK33HJL9fXXX9/+4Q9/eM7ixYuXO51O7r777tOZmZn6C1/4QuOVV1654JFHHim88MILuzIzM4PJfh3JkLBASWu9F1gX4fiHh7nmO8B3ErUmIYQYTqd39KV3WW6jL7fH14PW2p6GJ4QQQqSKOXPm+B5//PGTkR576KGHTg8+tmrVqv6jR48etL7/8Y9/XJPA5aWshJXeCSHEZGMFSqPJKLkdbjKcGQR1EI/fk6ilCSGEEGKCSaAkhBAmq/RuNBklCE2+k/I7IYQQYuqQQEkIIUxj6VGCsMl3MtBBCCGEmDIkUBJCCNNYepQgbPKdZJSEEEKIKUMCJSGEMI05oySld0IIIcSUI4GSEEKYpPROCCGEEBYJlIQQwjTe0rseX0/c1ySEEEKM1ZEjR9IWLVq0IvzYF7/4xRn//u//Xg7wwx/+sPj06dNu67Fbb721rKura1zxwRe/+MUZZWVlq5cuXbp80aJFK373u9/lj+d+VVVVq+rq6ka9pdGmTZuWvPDCC1njeW4JlIQQAugP9NMf6MelXGS6Mkd1rWw6K4QQYjL67W9/W3L27Fk7ULr77rvLu7u7RxUf+P3+Icc+9alPNRw+fPjg/ffff+Kzn/3s3EAgMOBxn8831iVPKAmUhBCCgWV3o9001h7mIKV3QgghJolf/epXhfv378/6yEc+Mn/p0qXLv/Wtb5U1Nja6L7roosWbN29eDHD99dfPXrly5bKFCxeu+Od//ucZ1rVVVVWrvvzlL1du2LBhyS9/+cvCaM+xfv36PqfTSX19vWvTpk1LPvvZz1add955S7797W+X/9///V/+6tWrly5btmz5BRdcsPjcuXMugPr6eufWrVsXLVu2bPl11103R2tt3+/OO+8sWrVq1bKlS5cuv+666+b4/X78fj9XXnnl3EWLFq1YvHjx8m9+85tl1vm///3vC1etWrVs7ty5K5988smc0b5Ho05jCSFEKqvvqeeZs8/w/kXvH1VmyN5DKX10ZXcQ1qMkGSUhhBBR/NtL/zbreNvxcZWCDbawcGHvt7Z+69xYrv3Yxz7W9pOf/KTs9ttvP/fmN7+5F+Cuu+4qf/75549WVlb6Ae64446a8vLygN/v54ILLliyffv2zM2bN3sAMjIygjt37jwy3HM8++yz2Q6HQ1v3a29vd77++utHAJqampzXXHPNYYfDwR133FFy6623VvzsZz+r/trXvjbj/PPP77799tvr7rvvvvzf//73JQC7du3KePDBB4t27NhxOD09XX/oQx+afddddxWvWbPGU1dX5z527NgBgObmZqf1/H6/X+3bt+/Q/fffn3/rrbfOuPTSS4+O5j2SQEkIMaX8bO/PeODoA2Q4M7hy8ZUxX2f1J+W6RzfIAUJT76RHSQghRCqJViERa+XEvffeW3TPPfeU+P1+1dTU5N6zZ0+GFSh95CMfaYt23V133VX+wAMPFGdnZwd+/etfn3Q4jCK2a6+9ttU659SpU2nvfe97ZzY1Nbm9Xq9j1qxZ/QCvvvpq7sMPP3wc4Jprrun45Cc/GQB48sknc/fv35+1Zs2aZQB9fX2OsrIy/9VXX91+7ty59BtuuGHW5Zdf3vG+972v03qOq666qg3gggsu6PnKV76SFtOLDiOBkhBiSjnbdRaA4+3HR3XdWCfeQSijZN1DCCGEGGysmZ/xKC8v93d0dDjDj7W2tjrnzZvXP9K1hw8fTvvRj35UvnPnzkOlpaWBK6+8cm5fX5/dtpObmxuMdu2nPvWphltvvbVh8PHwaz772c/O/vznP19//fXXdzz++OO5t956q13aZwVW4bTW6qqrrmr58Y9/XDP4sf379x/84x//mHfnnXeW3X///UV/+MMfTgNkZGRoAJfLRSAQGF1dPdKjJISYYup76gE43Xl6VNeNp/ROpt4JIYRIRfn5+cGysjLfo48+mgvQ0NDgfO655/IvvvjiboCcnJxAeCCVnZ0d6OjocAC0tbU5MzMzg0VFRYFz5865nnvuuXFNrxusq6vLOXv2bB/APffcU2wd37JlS9cvf/nLYoAHHnggr7Oz0wlw6aWXdj7++OOFNTU1Luu1HD16NK2urs4VCAT46Ec/2v7tb3+7Zt++fXErb5SMkhBiytBa09Br/ADrdMfpUV3b2W+W3o0hoyRT74QQQqSqe++999RnPvOZ2V/96ldnAXz1q1+tXbFiRT/ARz7ykebPfe5zc77yla8Ed+zYceiGG25ovuyyyxaVlZX5tm/ffnTlypW9ixYtWjF79uz+DRs2xPUfua9//eu111577YLy8nLvxo0be86ePZsOcNttt9VeeeWV85cvX77s/PPP766srPQCbNiwoe8b3/hGzSWXXLI4GAzidrv1D3/4w7NZWVnBf/zHf5wbDAYVwK233lodrzWq8EkSk83GjRv1jh07kr0MIUSK6Ojv4ML7LgTAoRy8fv3rpDljK0n++b6f8z+7/oePrfwYX9zwxVE979G2o1y57UoW5C/gkfc+MtplCyGEmASUUju11htHc82ePXtOr1mzpjlRaxLjt2fPnpI1a9bMjfSYlN4JIaYMq+wOIKiDVHfF/kOlsW42C/GZeucP+rn+iev52t+/NuZ7CCGEECJ+JFASQkwZ4YESwKnOUzFfa5XejSlQisPUu5MdJ9nbtJenzzzNZM70CyGEEFOFBEpCiCljcKB0pvNMzNeOZ+pdtis0zCGoow4BGtaJ9hMA9Af66fX3jukeQgghUk7Q6p0Rqcf8tYn6D7cESkKIKaOupw6AkswSYHQDHcYTKDkdTrJcWWg0vb6xBTnh48xbPa3DnCmEEGIS2d/U1JQvwVLqCQaDqqmpKR/YH+0cmXonhJgy6nuNjNKWyi08fvLxMWWUxlJ6B0afUq+/l25ft12KNxpWRgmgpa+FWXmzxrQOIYQQqcPv9/+/+vr6n9fX169EEhSpJgjs9/v9/y/aCRIoCSGmDKv0bnPlZh4/+fio9lKyhjmMJaMEkJ2WDR7o9nZD9uivDw+UWvskoySEEFPBhg0bGoErkr0OMTYS2QohpgwrUFpduppMVyatfa12ADSS8ZTeAeS6x76XUn+gn7NdZ+3vJVASQgghkk8CJSHElBDUQXuz2crsSmbnzgbgTMfI5Xda63GX3mW7jTTSWAKl0x2nBwyBkEBJCCGESD4JlIQQU0JrXyv+oJ/89HwyXZnMzZ8LEFP5ncfvwa/9ZDgzYt6gdjCrL2ksgVL4IAeQQEkIIYRIBRIoCSGmBKvsriKrAoA5eXOA2AKl8fYnQWjT2R7v6PdSsvqTqnKqAJl6J4QQQqQCCZSEEFOCFShVZlcCMDdvLhDbXkrj7U+C8ZXeWRmlTRWbAMkoCSGEEKlAAiUhxJRgBUrl2eVAKFCKZS8lK6M01v4kiE/p3XkV5wHGeHAhhBBCJJcESkKIKcEuvcs2S+/yjdK7s11nBwxKiCQeGSWr9K7bO7pAyeP3UN1VjVM5WV++HpCMkhBCCJEKJFASQkwJ1mazVqCUl5ZHUUYRHr+Hxt7GYa+Na6A0yozSqY5TaDRz8uZQllUGQHt/O4FgYMi5nd5OtNZjXqMQQgghYieBkhBiShg8zAHCyu9GGOgQj9K77DSjR6nHN7phDtYghwUFC3A73OSn5xPUQTq8HQPOO9RyiDfd9yZ+sOsHY16jEEIIIWIngZIQYkoYXHoHhEaEj9CnFI+pd/aGs6MsvbP6kxYWLASgKKMIGDr5bk/THoI6yI6GHWNeoxBCCCFiJ4GSEGLS8wf9NHmaUCjKs8rt49aI8JEm3413s1kY+9S78IwShAVKg/qUartrATjXeS7ifXp8PbxQ/QK+oG9Uzy+EEEKIyCRQEkJMek29TQR1kOLMYtxOt3081r2U7EApfRxT78bYoxQ1ozQoUKrprgGgrb/NzoCF+8W+X3DTMzfxp5N/Gt3ChRBCCBGRBEpCiEnPHuQQ1p8EMC9vHhBD6V1/HDacTRv9hrO9vl5qumtwOVzMzpsNhAKlwSPC63rq7K/PdQ3NKh1sOQjAyfaTo1u4EEIIISKSQEkIMelF6k8CmJk7E4dyUNtTizfgjXp9ly9+U++se8XiVMcpwBg64XYYmbDijGIgekYJIgdK1r2s90IIIYQQ4yOBkhBi0osWKKU506jKqSKogxGDC0s8xoNnubNQKDx+T8TR3pFYZXdWfxJELr3r8/cN+H5wn5LH76G2x+hhsrJrQgghhBgfCZSEEJNetEAJYH7+fCBUmhZJPIY5OJTDHujQ44+t/G7wIAeAosyhU++sIMhytuvsgO/Dh1VIRkkIIYSIj4QFSkqpDKXUa0qpPUqpA0qpb5rHi5RSTymljpn/Lwy75mal1HGl1BGl1DsStTYhxNQyXKC0sXwjANvrtke93upRGk+gBGGT72IcET54kANEzihZE+/SHGkAnO0cGChZZXcAjb2NMWe0hBBCCBFdIjNK/cDFWus1wFrgUqXUFuBrwDNa60XAM+b3KKWWA9cAK4BLgTuVUs4Erk8IMUXYwxwiBEpbZmwBYHv9drTWQx4P6qA9qc7qMxqr0U6+i5hRGiZQWle2DhjaoxQ+rCKgAzR7mke5ciGEEEIMlrBASRusTwtu8z8NvAe41zx+L/Be8+v3APdprfu11qeA48CmRK1PCDF12BmlrKGB0uLCxRSmF1LfUz+kZA2MoEajyXHn4HSM72cz1uS7WDJK3d5uantqSXOkMTt3tn18uEBpffl6XA4XTZ4men299uPhGSWQPiUhhBAiHhLao6SUciqldgONwFNa6+1Auda6DsD8f5l5ehUQ/mPSavPY4HveqJTaoZTa0dTUlMjlCyEmAW/AS2tfKy7loiSzZMjjDuXgvIrzAHi19tUhj8djNLhlNBmlo21HASOb5HK47ON5aXm4lItuX7c9qc8KlGbmzmRmzkwAqrur7WtOdRqBUlmm8dep9CkJIYQQ45fQQElrHdBarwVmApuUUiuHOV1FukWEe/5Ua71Ra72xtLQ0TisVQkxWDT0NAJRmlUbNCIWX3w0Wj4l3FnuYg2/kYQ5H2o4AsKRoyYDjSqkhWSVrmMOM7Bn2fkvW5LugDtqld9brlEBJCCGEGL8JmXqntW4HnsPoPWpQSlUCmP9vNE+rBmaFXTYTGDjqSQghBhmuP8mypcIIIF6rf23IoIN4TLyz5KUb9/jjsT8O2QdpsCOtRqC0uHDxkMfsyXdWoGRmlKpyquwyPauMsL6nnr5AHyWZJSwqWGQfE0IIIcT4JHLqXalSqsD8OhN4G3AY2AbcYJ52A/Co+fU24BqlVLpSah6wCHgtUesTQkwNw/UnWWbmzmRG9gw6+js43HZ4wGOd3viV3n1g8QfIdefySt0rXLntSl6ufTnqucfajgGwpHDJkMfCM0regJcmTxNO5aQ0q5RZucbPk6xAyepPmpc/zw4WJVASQgghxi+RGaVK4G9Kqb3A6xg9So8DtwFvV0odA95ufo/W+gDwAHAQeBK4SWstM26FEMOq66kDhs8oKaXYXLkZGDomPJ6ldyuKV/DQFQ+xvmw9zZ5mPvnUJ7n99duHTNsLBAMcazcDpaLhA6Xw1+dyuIaU3lmB0ty8uRIoCSGEEHGUyKl3e7XW67TWq7XWK7XWt5rHW7TWl2itF5n/bw275jta6wVa6yVa6z8nam1CiKnDGpU9M3fmsOdtqTT7lAYFSlZGKR6ldwCVOZX88h2/5HPrPodTObn34L08X/38kDV7/B7Ks8rJT88fcg87UPK0UtNdA8CMnBkAsWWUZOqdEEIIMW4T0qMkhBCJYm2+amVaotlUaew2sKthlz1NDuLbo2RxOpzcuPpGPrH6EwC8VPPSgMejDXKwDMgodRsZpcrsSsAY6OBUTup76vEGvPbEu3n58yjJLMGhHLR4WvAFfHF7PUIIIcR0JIGSEGJSszJK4XsRRVKSWcLCgoX0BfrY07THPh7PHqXBLphxAQCv1g0cSz7cIAcIBUotfS12Rqkqx9gtwe10U5ldiUZT3V1tT7yblz8Pl8NFaWYpGk1Db0PcX48QQggxnUigJISYtHp9vTR5mnA73JRnlY94vlV+Fx64xLNHabCVJSvJcmVxuvO0PcYcQnsoRRrkAJF7lKyMEoSyZwdbDtLkaSLdmW4/Ln1KQgghRHxIoCSEmLSsbFJVTlXUPZTCRepTSkTpncXtcLOxYqPxnGF7OFmB0uKi4TNKrX2tA0aDW6w+pReqXwCMQQ4OZfx1Ln1KQgghRHxIoCSEmLSqu6qBkfuTLBvKN+BUTvY372d3424gsaV3AJsrBk7b6+jvoK6njnRnOnNy50S8JnwfpcHDHCBUZvhizYsAzM2faz9mjUmXjJIQQggxPhIoCSEmLWvy20j9SZactBwunn0xAR3go09+lJ/s+Qnt/e1AAgMlcyz5q7WvorW2s0kLCxZGzYIVphcC0OxppsnThEM5KM8OlRZagaGVDZuXP89+TErvhBBCiPhwJXsBQggxVlagZJWixeK2N91GVU4V9xy4hzt332kfjzSmOx4WFS6iKKOIRk8jpzpPhfqToky8A8hyZ5HpysTj9wBG8ON2uO3HB7/eeXlDA6XwnighhBBCjJ5klIQQk5a16WqspXcAac40vrTxS/z07T+lNLPUPp6ojJJDOQaU34008c5i9SmBMRI83MzcmSiU/X3EjJL0KAkhhBDjIoGSEGLSGm3pXbjzZ5zPQ1c8xHsXvperl1xNtjs73suzWeV32+u2jzjxzlKcUWx/Hd6fBJDuTB9QijcnL9TrJKV3QgghRHxI6Z0QYlLqD/RT31OPUzmpzKkc+YIICjMK+dbWb8V5ZUNtmWFM23ut/jV7s9toE+8sAzJKgwIlMILD+p56KrMryXJnDbjO7XDT3t+Ox+8h05UZj5cghBBCTDuSURJCTEo1XTVoNJXZlQP6d1JRVU4VM3Nm0uXtoj/QT2V25YjjyK3JdzC09A5CfUrhZXdglPpZe0pJVkkIIYQYOwmUhBCTkl12N4r+pGSyyu9g5LI7GDmjtKhwUdR7xVJ+91LNSzxx8okR1yGEEEJMV1J6J4SYlKzNZkcz8S6ZtszYwkPHHgJGLruDgYFS+Gazlg8s/gBuh5t3zH3HkMdGCpSCOsiXn/8yvf5eLpx5YUI22xVCCCEmOwmUhBCT0tnOsQ9ySIZNFZvsr0ebUbICn3DpznQ+uOSDEa8dafJdTXcN3b5uABp7GiVQEkIIISKQ0jshxKRkZZQmS+ldUUYRG8s3ku5MZ3Xp6pjOByjLLCPNmTaq56rIGn4vpRPtJ+yvm/uaR3VvIYQQYrqQjJIQYlIaz2jwZPnBW39Al7crYoZosAUFC3A5XKwqXTXq5xmp9O54+3H766beplHfXwghhJgOJFASQkw6vqCP2u5aFIqq3KH9O6kqPz2f/PT8mM4tyyrjqQ88RX5abOeHGylQCs8otXhaRn1/IYQQYjqQQEkIMenUddcR0AEqsytJd6YnezkJU5JZMqbrRupRCg+UmjySURJCCCEikR4lIcSkY5XdTZaJdxMtLy2PTFcmPb4eurxdAx4LBAOc7Dhpf9/skR4lIYQQIhIJlIQQk4418U4CpciUUlHL72q6a+gP9NvfS6AkhBBCRCaBkhBi0plsE++SwZp8V9NdM+C4NcihNLMUkEBJCCGEiEYCJSHEpGMHSpNo4t1EW168HIBdDbsGHLf6k7ZUbgGkR0kIIYSIRgIlIcSkIz1KI9tcuRmAV+teHXDcyihtKN+AS7no8nYNKMUTQgghhEECJSHEpBIIBqjuqgYkUBrOurJ1pDnSONx6mPa+dvu4lVFaWLiQokxjU1sZES6EEEIMJYGSEGJSaehtwBf0UZpZSpY7K9nLSVkZrgzWlq1Fo3mt/jXACDJPdZwCYEH+ArtPScrvhBBCiKEkUBJCTAr9gX521O/gngP3AJJNioXVh7S9bjtg9HZ5g14qsivIScux92mSgQ5CCCHEULLhrBAipfX4evjSc1/itfrX8AV99vFlxcuSuKrJYXPlZngj1Kdkld0tKFgAhDa0be6VQEkIIYQYTAIlIURKe/bss7xU+xIKxeLCxawvW8+G8g1cPPviZC8t5S0vXk6OO4ezXWep666zBzkszF8IhAVKfRIoCSGEEINJoCSESGkv1b4EwJc3fpmPrPhIklczubgcLjZWbOS5c8/xat2rQzJKdo9Sr/QoCSGEEINJj5IQImUFdZCXa14G4MKZFyZ5NZOT3adUv53jHWZGqWBgRkmm3gkhhBBDSUZJCJGyDrUeoq2/jRnZM5iXNy/Zy5mUrEDpldpX6PJ2AWE9SllGoCRT74QQQoihJFASQqSsl2qMsrsLqi5AKZXk1UxO8/PnU5pZagdDM7Jn2GPVZeqdEEIIEZ2U3gkhUpYVKF04Q8ruxkopxabKTfb3CwsX2l+Hl94FdXDC1yaEEEKkMgmUhBApqcvbxZ6mPbiUa8AHfTF6mys2219bZXcA6c50ctNy8Ws/Hf0dyViaEEIIkbIkUBJCpKTtddsJ6ACrS1eTm5ab7OVMalafEoQGOVisyXdSfieEEEIMJIGSECIlvVjzIgAXVknZ3XhV5lSyIN/IJC0tWjrgMav8TgY6CCGEEAPJMAchRMrRWtv7J22t2prk1UwNt190O2c6z7C4cPGA4zIiXAghhIgsYRklpdQspdTflFKHlFIHlFKfN4/fopSqUUrtNv97Z9g1Nyuljiuljiil3pGotQkhUtupjlPU99RTlFE0JAMixmZh4UIumXPJkOOSURJCCCEiS2RGyQ98SWu9SymVC+xUSj1lPvZ9rfXt4ScrpZYD1wArgBnA00qpxVrrQALXKIRIQVbZ3QUzLsChpEI4kaRHSQghhIgsYZ9AtNZ1Wutd5tddwCGgaphL3gPcp7Xu11qfAo4DMupKiGlIyu4mTnFmMQDNvRIoCSGEEOEm5Ee1Sqm5wDpgu3nos0qpvUqpXyqlCs1jVcC5sMuqiRBYKaVuVErtUErtaGqSUhEhppo+fx87G3YCcH7l+UlezdRXmmVmlPokUBJCCCHCJTxQUkrlAA8BX9BadwI/ARYAa4E64L+tUyNcrocc0PqnWuuNWuuNpaWliVm0ECJpqruq6Q/0Mzt3tp3tEIlTkmH2KPXKD56EEEKIcAkNlJRSbowg6Xda64cBtNYNWuuA1joI/IxQeV01MCvs8plAbSLXJ4RIPdZQgbKssiSvZHqQqXdCCCFEZImceqeAXwCHtNZ3hB2vDDvtfcB+8+ttwDVKqXSl1DxgEfBaotYnhEhN1lABa8iASKz89HxcDhddvi76/H3JXo4QQgiRMhI59W4r8GFgn1Jqt3nsX4FrlVJrMcrqTgOfBNBaH1BKPQAcxJiYd5NMvBNi+rEySiVZJUleyfSglKIks4T6nnqaPc3MzJ2Z7CUJIYQQKSFhgZLW+kUi9x09Mcw13wG+k6g1CSFSn9UrIxmliVOaWSqBkhBCCDGIbFAihEgpVumd1TsjEs8eES57KQkhhBA2CZSEECnFKr2zxlaLxJNNZ4UQQoihJFASQqQUGeYw8azsnRWkCiGEEEICJSFEirF6lKT0buLIiHAhhBBiKAmUhBApo9fXS6+/lzRHGnlpeclezrQhGSUhhBBiKAmUhBApI7w/ydiKTUwE6VESQgghhpJASQiRMqTsLjms97u5VwIlIYQQwiKBkhAiZcggh+QoyiwCoK2/Da11klcjhBBCpAYJlIQQKcMqvZOM0sRKd6aT5kjDF/TRF+hL9nKEEEKIlCCBkhAiZcgeSsmTl24Mz+js70zySoQQQojUIIGSECJlWD0yUno38awpg53ekQMlrTW7GnbR55fskxBCiKlLAiUhRMqQ0rvksQKlLm/XiOc+eOxBbnjyBn5z8DeJXpYQQgiRNBIoCSFShjXMoSyrLMkrmX7s0rsYMkqPn3gcgLNdZxO6JiGEECKZJFASQqQMySglT25aLjByoNTsaeaNxjcA6PH1JHxdQgghRLJIoCSESAnegJeO/g5cykVhRmGylzPt2D1KIwxzePbss2iMEeLd3u6Er2siaa256/kTPHu4IdlLEUIIkQIkUBJCpASr7K4oswiHkr+aJlqswxyeOvOU/fVUyyjtqe7gtj8f5ksP7CEYlP2khBBiupNPI0KIlGCPBpeJd0kRyzCH9r52Xq9/3f5+qgVKr59qBaCt18fBOhmTLoQQ050ESkKIlCCjwZMrlmEOz1U/R0AHmJs3F4Bu39QqvdtxptX++qXjzUlciRBCiFQggZIQIiXYgxyyZJBDMtjDHIbpUXr6zNMAvGfhe4CplVHSWrPjdJv9/UsnWpK4GiGEEKlAAiUhxIT7xovf4IpHrhjwQVtK75JrpB6lbm83L9e+jEJx+fzLASNQCurghK0xkU4199DS4yU33QUYZXhe/9R4bUIIIcZGAiUhxIQKBAM8efpJTnWc4tW6V+3j1jAHGQ2eHCMFSi9Uv4Av6GNd2TrKs8vJdGWi0Xj8nolcZsJY2aQLF5WwuDwHjy/AG2fbRrhKCCHEVCaBkhBiQtV219If6Adge912+3hTr2SUkik/PR+IHig9fdYou3vbnLcBkO3OBqZO+Z3Vn7RxbhFbFxrBuvQpCSHE9CaBkhBiQp3sOGl/HSmjVJolgVIyDDf1zuP38GLNiwC8bbYRKOW4c4CpM9DByihtnFPI1gVmoCR9SkIIMa1JoCSEmFDhgdKpjlM09Bibe9rDHKT0LikyXZm4lAuP34Mv4Bvw2K6GXXj8HlYUr6AypxIIyyh5J39Gqbm7n5PNPWS6nSyfkcfm+UU4HYrd59rp6vONfAMhhBBTkgRKQogJdaL9BAAKBcBr9a8RCAZo7WtFoSjOLE7m8qYtpZQ9+a7D2zHgsfqeegAWFS6yj02ljJKVTVo3uwC300FuhpvVM/MJBDWvnWod4WohhBBTlQRKQogJdarjFAAXzboIMMrvWvtaCeoghRmFuB3uZC5vWou2l1JLn1GCVpwRCmKnUo/SzrD+JMuFdp+SlN8JIcR0JYGSEGLCaK3t0rtrl14LGAMdpOwuNUTrU7L6x8KzfVMpUHrdzCidN7fQPnaB2af08gkZ6CCEENOVBEpCiAnT2NtIt6+b/PR8tlRuoSijiIbeBnbU7wBk4l2y2SPCB2062+IxsirhgawVKKVa6d3OM218+Q976On3x3S+xxtgf00HDgXrZocCpfVzCshwOzhc30VTV3+iliuEECKFSaAkhJgwVjZpQf4CHMrBpopNADx+8nFAMkrJFm0vJTujFFZ6l5Nm9CilWkbpv/96hAd3VvPXg/Uxnb/7XDv+oGZZZR455mazAOkuJ+eZpXiSVRJCiOlJAiUhxISxAqV5+fMA2Fy5GYBDrYcAGQ2ebNYwh8GBUmuf0cOT6hmlQFCz51w7AG09sU2r23HaeG3nhfUnWaz9lF6WPiUhhJiWJFASQkyYk+1GoDQ/fz4QCpQsklFKLnuYQ5TSu/AeJWvqXSqNBz/a0EWPNwBAuyfGQOmMuX9SWH+SZXWVsQnvqZbUeY1CCCEmjgRKQogJY5feFSwAYFbuLKpyquzHpUcpuSKV3vUH+unydeFyuOzHIWyYgz91gohdZ9vsrzt6vSOeHwxqdlmB0pyhGaWcDKMUr9cbW7+TEEKIqUUCJSHEhLECJSujBLClcov9tZTeJVekqXd2NimjGKWUfTwVN5x942y7/XUsGaWufj9d/X5y0l1U5GcMeTwrzQyU+gNxW6MQQojJwzXcg0qpLw73uNb6jvguRwgxVbX3tdPa10qWK4uK7Ar7+ObKzTx07CFASu+SLdI+SpFGg0NqbjgbnlFq7x05UOo2J+PlZkT+p9Aa7tCToIxSTbsHh4LK/MyE3F8IIcT4DBsoAbnm/5cA5wHbzO8vB15I1KKEEFNP+CCH8MyENflOoaT0LskiDXOINBocIDsttfZRau/1crIptJaYMkp9xjnh0+7CZaU7AehJQEYpENS850cvopRi+82X4HCokS8SQggxoYYNlLTW3wRQSv0VWK+17jK/vwX4Q8JXJ4SYMk50nABC/UmW4sxi/m3LvwGQ4Rpa/iQmTqR9lFr6QqV34VIto/SGOe2uJCeN5m5vTD1K3X3DZ5Sy3Gag5PWjtR4Q4I9XQ2cfzd3GGjs8Pgqz0+J2byGEEPERa4/SbCD8Xx0vMDfuqxFCTFnWxDtrNHi4Dy75IB9c8sGJXpIYJNIwh2ild3aPUopklN4whzJctLgMiDWjZARKORnuiI+7nA4y3A60Bo8vvlmlmnaP/XVTt2xoK4QQqSjWQOk3wGtKqVuUUv8BbAd+PdwFSqlZSqm/KaUOKaUOKKU+bx4vUko9pZQ6Zv6/MOyam5VSx5VSR5RS7xjrixJCpJ5IgxxEarF6lCINcxhSepdqgZKZUXrrUqN8s8PjIxjUw17TNUKPEkC2OdAh3uV3teGBUpcESkIIkYpiCpS01t8BPga0Ae3Ax7TW3x3hMj/wJa31MmALcJNSajnwNeAZrfUi4Bnze8zHrgFWAJcCdyqlnKN+RUKIlDR4NLhIPTnuHBSKbl83gaARGEQrvctwZuBUTvoD/fgCse1ZlCjBoGa3OfHuvLlF5Ka70DqUMYrG6lHKGyZQsvqU4j0ivLotFCg1S0ZJCCFS0mjGg2cBnVrr/wGqlVJD62fCaK3rtNa7zK+7gENAFfAe4F7ztHuB95pfvwe4T2vdr7U+BRwHNo1ifUKIFNXj66G+px63wz1g3ySRWhzKQU6a0XtkZZUibTYLoJRKmazSscZuuvr9VBVkUp6XQX6WUUrX7hm+T8nqUYo2zAFCGSVrQl681EhGSQghUl5MgZJZbvdV4GbzkBv4baxPopSaC6zDKNkr11rXgRFMAWXmaVXAubDLqs1jg+91o1Jqh1JqR1NTU6xLEEIk0amOUwDMzZ+LyzHSsE2RTIP7lOyM0qBACVJnoMMb5ljwdbMLAMjPNAKljhH6lLrsYQ6Re5QAstOtTWfj3KPUJoGSEEKkulgzSu8DrgB6ALTWtYRGhw9LKZUDPAR8QWvdOdypEY4NKTDXWv9Ua71Ra72xtFRGCQsxGUh/0uQxOFCyhzlkDA2UstxZQHwzSmdbenn/nS9x+1+OxHzNLjtQMlpeC6yM0gh7KVlZouEySllp1ojw+GaUpEdJCCFSX6yBkldrrTEDF6VUdiwXKaXcGEHS77TWD5uHG5RSlebjlUCjebwamBV2+UygNsb1CSFSmDXxTgKl1Be+6azH76HH14Pb4bYDqHBWRqnH1zPi4IRYHG/s4qq7X2bX2XbufuEEHTFsGgvwhtmftN7MKBVkGqO2R5p812n2KA03zMHedDaOwxy01jL1TgghJoFYA6UHlFJ3AwVKqU8ATwM/G+4CZWw48QvgkNb6jrCHtgE3mF/fADwadvwapVS62f+0CHgtxvUJIVKI1pqDLQf59YFf8/lnP8/9R+4HYH6BBEqpLjyjFN6fFGkPIWvT2T8fOMXSf3+Sl483j/l599d08MG7X6Whsx+lwBfQ/Hl/3YjXdXh8HGvsJs3pYPkMY+1Wj9JIeyl1jbCPEkCWNfUujsMc2nt9A0r5JKMkhBCpKaZmAa317UqptwOdwBLg37XWT41w2Vbgw8A+pdRu89i/ArdhBF7/CJwFrjKf44BS6gHgIMbEvJu01vHfDl0IkXA/3v1j7t5794Bjs3JncV75eUlakYhV+Kaz0SbeWayM0v27juP1r+SxvXVcsLAk4rnD2XmmjY/+6jW6+vxctLiUi5eW8R/bDrBtTy3XbJo97LV7zLHgK6vySHcZZXIFmTGW3sXQo5RjTb2LofTOHwjS0uOlPG/4jZOtbFJhlpu2Xp8ESkIIkaJiCpTMUrtntdZPKaWWAEuUUm6tddR/hbTWLxK57wjgkijXfAf4TixrEkKkptruWn65/5coFFcsuIIN5RvYUL6BWbmzImYlRGqJlFEavIeSxQqUPH6jR8kaqjBYR38HLX0tEUsve71+Pn7P63T1+bl0RQX/c+1a+nxBvvOnQ7xysoWGzr5hA4/B/UkQ1qM00jCHfuPxYXuUrNK7GIY5/PhvJ/jBM0e5/8bz2TSvKOp5VqC0siqfF48309rrxRcI4naOZhCtEEKIRIv1b+UXgHSlVBVG2d3HgHsStSghxOT1kz0/wRf08c757+TbF36b9y16H7PzZkuQNEmE9yjZgxwiTLwDcOh08wujXO5IQ5e9N1G4m/9+M+995L28UP3CkMeeO9JEh8fHyqo8fnTdOtJdTvIz3bx1aSlaw2N7hm9VtTJK1sQ7COtRijmjNNx48NiHOew404rW8LcjjcOeZ028m1OcRXF2GlpDa8/wZYJCCCEmXqyBktJa9wLvB/5Xa/0+YHniliWEmIxOtp9k24ltuJSLm9bclOzliDGwMkpd3q4RS+8O1Bgf7ueXuVhdlY/WsLe6Y8h5h1sPo9H8+0v/Tmtf64DH/ry/HoAr1szAFZZRuWKNsTvEcIGS1po95vOtmVlgH7d7lEbYR8nqUcoZLlCyhzmMHChZk+z21wx9D8JZGaWqgixKcoxgU8rvhBAi9cQcKCmlzgeuB/5kHpPNUIQQA/xo948I6iDvX/R+ZuXNGvkCkXIG9ChF2WwWjKBg79k+ANbOybBL33adGVh+5w14afIYe9619LVwy8u3YAxRhT5fgGcPNQBw2crKAdddsqyM7DQne6o7ONUcefx4dZuH1h4vxdlpzCzMtI/H2qPUZQY/ecPto5QWW+md1pq6DuP92FfTYb/GSKyMUlVhJqW5ZqAkk++EECLlxBoofR5js9k/mkMX5gN/S9yyhBCTzYGWAzx15inSnencuPrGZC9HjFFumrFF3uCpd4P98Jlj+P1GiVt6ms8ufXvDLIWzNPQagVBeWh457hz+du5v/PH4HwF48VgzPd4AK2bkMasoa8B1GW4n71hZAcC23ZGzSnuqjedaPTN/QGlnQdbI48H7/QG8/iAuhyLdFf2fwixrmMMIU++6+v32JLv2Xh/VYRvKDlbbYWWUMkKBkmSUhBAi5cQUKGmtX9BaX6G1/p75/Umt9T8ldmlCiMnkf3f9LwDXLb2O8uzyJK9GjNWAYQ5m6V1JxsBhDiebuvnDzmqUNoYsdPu6WW9mlN442zYgm1LfY5TWLShYwNe3fB2A2167jbOdZ+2yu8vMgGiwK9bMAODRPTURMzRWf9KaWQUDjsey4Wx4f9Jw/XNW6V33CPso1ZvZJMu+Ycrv7IxSQZYESkIIkcJiCpSUUqVKqf9SSj2hlHrW+i/RixNCTA47G3byUu1LZLuz+fjKjyd7OWIc7GEO/dGHOfxu+1kCQc3WeUYfUa+vl5mFmZTkpNPW6xtQKlfXY+yFVJFVwbvmvYtL516Kx+/h5r//K08dMgKlSweV3Vm2LiyhODuNk009HKjtHPL4nnNmf9KgQCk/M9SjFK0ELpb+JAiV3o00Hry2fWAGKVqg5PEGaOnx4nYqynLTKZUeJSGESFmxlt79DjgMzAO+CZwGXk/QmoQQk8zTZ54G4Jol11CQUZDcxYhxGWk8eCCo7QELly6fCxgZJaUU663yu7Pt9vlWRqkipwKlFN/Y8g1y03LZ27yHLn8jC8tyWFiWE3EtbqeDd602gqhtg4Y6+ANBOxgJH+QARtlehtuBL6AHbOwartsMfHLTo/cnAWRZU+9G6FGyMkpWNivaQAdrkENlfiYOh5IeJSGESGGxBkrFWutfAD6t9fNa648DWxK4LiHEJHK8/TgAa8vWJnchYtzCe5R6/b2kOdLs/ZIAtp9sobGrn9lFWaydaZRY9viMDNL6OeZAh7D9lKyMUmW2EfDkp+ezIH8BAA53W9SyO8t71hrld4/tqSUYDGWHjjV24/EFmFWUSVF22pDr7BHhUfqUOs0x5sONBofQHksjTb2zBjlcstR4T6INdLAyTzMKjLJFySgJIUTqijVQsv6lqVNKvUsptQ6YmaA1CSEmmRPtJwCjD0VMbi6Hi2x3tv19cWbxgB4eK7NzxZoZdlDV7esGYJ1ZArcrLKM0OFACmJFjlOwpdxuXjhAorZ9dSFVBJnUdfbx+OjRa3O5PGpRNsliZnY4ofUqx7KEEsQ9zqDMHNKybXUBxdlrUgQ7ho8EBO6PULIGSEEKknFgDpW8rpfKBLwFfBn4O/HPCViWEmDQ6+jto8jSR6cqkyvwALCY3KwCCgWV3/f4AT+wzAp/3rJ1hB1Q9XiOjtHpmAS6H4kh9p52Bqe82Su/CAyWHvwiAwrxullfmDbsWpRRXmFml8PI7a+Ld2kH9SRarT6k9yl5KXXagNHzpXY49zCG2jNKMggxWVuUDkfuUwkeDAzLMQQghUlisU+8e11p3aK33a63fqrXeoLXelujFCSFSn5VNmpc/D4eK9WcvIpVZfUowcLPZ54800dnnZ1llHovKc0OBkr8HrTWZaU6WVeYR1EYgo7UODXPIDmWO6lqNIKGiuHfYiXMWq/zuT/vq8PqDQPRBDpYRM0pm4GMFQtFkuJwoBX2+IIFg9L2RrB6lirxMVg0TKFmldzMLjPcgP9ON26no6vfT5xu+D0oIIcTEinXq3WKl1DNKqf3m96uVUt9I7NKEEJOB1Z+0sGBhklci4mVAoBQ28S687A6MMr0MZwZBHcTjD5WegTHQwepzynJlDbjn4XNGEJOW0R7TepZW5LG4PIf2Xh8vHm/C4w1wpKELp0OxYkbkjNRIPUpdMfYoORyKLPfI5XfhGaVVM41AKdJAh2q7R8kIlJRS0qckhBApKtYf//4MY8NZH4DWei9wTaIWJYSYPKQ/aeqJFCh19/t5+pCxeezla0JldHZWyRroELafkjXxrjK70s4c9Xr9NLQa/TkdvoaY1/SetUZZ57bdtRyo7SAQ1CwqyyErLXKgM9JeSl39sY0Hh9BeSj1R9lLq6vPR3e8nw+0gP9NtZ5T2Vg8d6DC49A6QyXdCCJGiYg2UsrTWrw06NnzBthBiWrACJckoTR3WXkoQKr176mA9fb4g580tZGZhlv14TpoxEc8a6GAFSrvOtlPbbWSgKnJCZXdnW3vRvgLQisbeRryByD1Eg1lZrL8ebOCVE8bY8mj9SQD5WfHpUYKwQClKRskqu6vMz0QpRWV+BsXZaXR4Bg508AeC1Hda52bYx6VPSQghUlOsgVKzUmoBoAGUUh8A6hK2KiHEpGGV3klGaeqINMzh0d0Dy+4sVkap19cLwKyiTIqz02jt8XKw6SwwcJDD6eZewEkaRWi0nXUayayiLNbPLqDXG+DnL54CovcnQaj0bsSpdyP0KEFoL6XeKBml2o6BwY9SKuJAh8aufgJBTWluOhlmOR9IoCSEEKkq1kDpJuBuYKlSqgb4AvDpRC1KCDE5tPe109LXQqYrc8CHYTG5DS69a+nu5+/HmnE6FO9cNfDX2dpjycooKaXsPqWDjUMDpbOtRolenrsMgOru6pjXZQVpHWbfUbTR4BBD6V2MPUoQyihFm3xXb44GrwjLEkUa6FAzqD/JIj1KQgiRmmKdendSa/02oBRYqrW+UGt9OqErE0KkPDublL9AJt5NIeGBUklmCa+daiUQ1Jw/v5hi80O9JcttlOFZgRLA4nIjI1XdaZbehU28O91iZJ7KM42gxyrPi8W7Vs/AYQ7Jy3A7WFyew+mO09zy8i3UdQ8scoh1PPhIU+8AstOGH+ZQ1zG0nC7SQAerP2nmoECpRHqUhBAiJcU69e67SqkCrXWP1rpLKVWolPp2ohcnhEhtMshhahrco3SuzQhuFpblDDnXyihZwxwAFpUbx5r7jGEN4RmlMy3GebPzjT3La7prYl5XaW46WxcapYArZ+Tjcjr43aHf8dCxh/jTqT8NONcOlEYYDx5Lj1LWiBklczR4figAijTQwd5stlAySkIIMRnE+iPgy7TW7dY3Wus24J0JWZEQYtKQ0eBTk5VRSnemk+3OtgcSzBz0AR9CPUrd3lBGaWGpkVHqDjQDgzJKzUbQtaR4DgA1XbEHSgDXbzauu3iZUbp3tO0oAG19bQPOs/dRijoe3AqURs4o5ZiT9Xq9w/cozQjLKIUPdLj/9XP4A8FQoDS49E56lIQQIiWN/C+EwamUStda9wMopTKB9BGuEUJMcSc6JKM0FVmBUklmCUqpUMlY2LQ7i5VR6vX32scWlGUDAQKOdhwoyrPKAej3B6jt8OB0KFaWzQOgpmd0gdKlKyt46WsXU5GXgdaaY+3HAOjoH7hnUUGWuY9SHHqUstKN0rueUfQoKaW4dGUFv9t+lq89vI8f/e041t66Q3qUJFASQoiUFGug9FvgGaXUrzAm330cuDdhqxJCTAoyGnxqml8wn+KMYrZUbgEYNqNkjwcPyyhlpbmoLPLSrTQF6SWkOY2g5VyrB61hRmEGc6zSu1FmlCCUkanvqafL2wVAh3dgoJSd5sTlUHh8Afp8gQFT5rTWdhldLD1KOSPso1QXNh483C1XrGDtrAJ+8twJTjaHShMHZ5RKzNK75u5+tNb2nlNCCCGSK6ZASWv9n0qpvcDbAAV8S2v9l4SuTAiR0lr7WmntayXbnT2gtEpMfnlpeTx91dO4HC601lSbPUqRAqUs19BhDgBVpf0cAXJdJfYxqz9pbnE2pZmluBwuWvpa6PP3keHKYLSOtR2zv+7s7xzwmFKKgiw3zd1eOj2+AYFSrzdAUEOm24nLOXIFepZdejc0o9Td76erz0+6y0Fh1sB+J7fTwVUbZ/H+9TP5y4F6fvrCSdKcjiG9XtnpLrLTnPR4A3T1+8mLoW9KCCFE4sWaUQI4BPi11k8rpbKUUrla665ELUwIkdrsQQ75C+Qn4FOQy2H889Dh8dHjDZCT7rIHJISzMkrhwxwACvN6oBtcusg+dsaceDenOAunw8mM7Bmc7TpLbXct8wvmj3qNVtkdDC29A2OgQ3O3lw6Pj7K8UCA2mv4kgGyr9C5CoGSV3VXmZ0T9c2CNVR88Wj1caW46PS29NHX1S6AkhBApItapd58AHsTYSwmgCngkQWsSQqSggy0HB3wYlo1mpwer7K6qIDNiIGAPcxiUUcrMNDI8/v58+1h4RglgRo4xInw0eymFC88oDS69g7A+pUEDHbr7je9zYg2U0qKX3tXZE+9GnxELJ31KQgiRekaz4exWoBNAa30MKEvUooQQqeVo21Gufvxqrv3TtXR6jQ/Ax9skUJoOhiu7g7BhDr7eAceVux2Arp5QmdlpO6NkBEpVOVXA6PZSCmcF62BklKwx3JaCKCPCO/tiHw0OYRmlCMMc6tqtiXeR359YDQ6UtNa8eKyZhs6+cd1XCCHE2MUaKPVrre1d+5RSLoyhDkKIacD6yf2pjlN85fmv4A/6ZTT4NDHcIAcIBUqDM0p9uhWA5rYsgkHjn4tQRsnoa5qZO/q9lCz+oJ+T7ScBcCkXvqAPj98z4Jz8LCtQGrjpbLcVKMUwyAHCe5QSl1EqGbSX0p3PneBDv9jOVx7cO677CiGEGLtYA6XnlVL/CmQqpd4O/AF4LHHLEkKkksbeRvvrl2tf5nuvfc8eDS6B0tRml95FCZSy3EbQM7hHydpstq8vl5p2D75A0L7XrCLjmhnZRundWAKls51n8Qa9VOVUUZRp9EFZ2U5LQaZRejd4L6XR9yhF33C2vjPUozQe9qaz3f08ub+O//rLEQBeP9WKPxAc172FEEKMTayB0teAJmAf8EngCeAbiVqUECK1WIHS2+e8HbfDzX1H7qOjv4Ncdy5lWVKFO5VZm6RG2kMJwjJK3oEZpbqeOgC0r4DjTd3UtnvwBzWV+Rn2BLqqXKP0biyB0tF2Y6PZhQULyU83+qCG7qUUufTO7lGKMaNkld5FmnpX225llOJTevfyiRb++f49APZ488P1MjdJCCGSIdbx4EGl1CPAI1rrpsQuSQiRaqxA6ZLZl3Dx7Iu5+e83A0Z/kky8m9pGKr2zhjmEZ5S6vd10ebtw4EYHsjnR2I3D/H0ypzgUcI2nR8kqB11UuMh+7qiBkmdg6V3XaHuUhhnmUG/voRSfYQ57zrUD8IENM/EHgjyyu5Y3zraxsip/mKuFEEIkwrAZJWW4RSnVDBwGjiilmpRS/z4xyxNCpAIrUCrLKuPd89/NJ1d/EoB1ZeuSuSwxAaxhDoM3SbVkujJxKAd9gT78QSMAqe+pByDfXQYojjV0c3bQxDuA4oxiMpwZtPe3DyndG4kdKBUssjNKg0vv8qMMc7ACpZin3lkbzkbIKNV1xKn0zgyUADbNLeK771vF+jmFALxxtn1c9xZCCDE2I5XefQFj2t15WutirXURsBnYqpT650QvTgiRGqxAqTyrHICb1t7EHy7/AzetuymZyxIJ1uHx0dXnJ9PtpCg7LeI5SqkhWSWr7K4iy9iI+HhT95CJd9a19ojwrtGNCA/PKEUvvRu+RykvxkApK80svRuUUerp99PZ5yfN5Yj6/sRqbkk22WlO5hZncdeHN5DmcrB+thEo7TrbNq57CyGEGJuRAqWPANdqrU9ZB7TWJ4EPmY8JIaa4oA7S6AlllMD4gLu0aCnpzvThLhWTXE3YIIfhSiyjBUpzCozSumMNXZxuHjjxzmIFSqMpv+v19VLdXY3L4WJu/lzy0vKAoXspRRsPPtoepXSXA5dD4Q0E8fpDgxXqwsruxluCmpfh5vl/eSt//vyb7aBraUUuGW4Hp1t6aemW/ZWEEGKijRQoubXWzYMPmn1KsnW4ENNAW18b/qCfvLQ8MlzjKy8Sk8tIeyhZBo8It0rv5hVUkZfhorPPzxtm7014RglCfUqjGehwot2YuDgvfx5uh3vkYQ7j7FFSSoWySmHld1Z/UkVefP5clOSkk2k+D4DL6WD1zAIAdpvvnxBCiIkzUqDkHeNjQogpIrw/SUwvoYl3wwdK4Rklb8DLzoadAFRmV7KoPBeA1h7jn4zZgzJKM3NGv5fSsfZQfxIQyigNDpTM8eDj7VGC8D6lUPldvPqThiPldyIVdPb57P3QhJhORgqU1iilOiP81wWsmogFCiGSSwKl6cveQ6kg8mhwi5VRavG08E9/+yd2Ne4i153L+TPOZ2Fpjn1eSU76kHI3q/TOCpT8QT/H244PO9whvD8JiDrMITfDhVJGYBS+F1FX/+j2UYKwQClsL6XQZrPjGw0+nHWzCwAZ6CCS5+UTzay+5a/c+8rpZC9FiAk37L8SWmvncI8LIaa+hl5j41AJlKafWEvvrIzSN1/5Ju397RSmF3L32++mIruChWW99nmD+5MgtJfS3qa9fPKpT7KnaQ89vh42VWziF+/4RcTnC594B0QtvXM4FPmZbtp7fXT2+e3en64+I8MU6zAHgGyzJC48UIr1/RkPK6O051w7gaDG6ZBx/GJiPXXQ+Dfgb0ea+NjWeUlejRATK9YNZ4UQ01STx9g6TQKl6We0pXft/e2UZZZxz6X3sKx4GQALy0MZpcH9SRAqvWvpa+Hl2pftTNLr9a8PyRBZ7NI7K6OUFjlQgvCBDqFq8W6r9C499lbbrAh7KZ1tNQKlWUXDZ9zGozQ3nVlFmfR4AxyRjWdFEuyrNv5cHWuQ339i+klYoKSU+qVSqlEptT/s2C1KqRql1G7zv3eGPXazUuq4UuqIUuodiVqXEGJ0Bo8GF9NHddjUu+EUZBQY5+VUcc9l9zC/YL79WHjpXaSMUn56Pl/f/HWuX3Y9/3XRf/HMVc+wrmwdGs2uhl1Dzm/2NNPa10qOO4fK7Er7HjB06h2ERoQ3dYWmxoWGOYylRymUUTrXarw/sxMYKAGsm2Xup3RO+pTExAoENQdqjR9Y1HX00dnnG+EKIaaWRGaU7gEujXD8+1rrteZ/TwAopZYD1wArzGvuVEpJ2Z8QKUBK76an7n4/7b0+0l0OSnOGHwN/3dLr+PSaT3PvpfcyK3fWgMeqCjLJdBt/nc8pGZpRArhm6TV8bdPXuHTupZRllbGxfCMAO+p3DDn3ePtxABYWLLRHckcrvQNYPsMY9GBNjfMHgnh8ARwqtD9SLLLTB0698/qD1HV4UCr6Zrzxst7sU9p1pj2hzyPEYCebuvH4QlnUYw3dSVyNEBMvYYGS1voFoDXG098D3Ke17jf3bDoObErU2oQQsZNhDtNTrHsoAVRkV/CZtZ+hPHto1tHhUKyaaQQyyypyY3puO1BqGBoo7WncA8DiwsX2sSxXFi7lwuP34A0MHMi6cY6RjXn9tJGN6e63yu5co9r7yCq96zZL72rbPQQ1VOZlkOZKbBX7utkTm1HyBYL87zPHeP10rP+Ei6lqX83AHz5I+Z2YbpLRo/RZpdReszSv0DxWBZwLO6faPDaEUupGpdQOpdSOpqamRK9ViGlPAqXpyRpUEI9syX9ftYbf/b/N9qjwkawtW4tLuTjUeohu78CfYD9z9hkA3jTzTfYxpRR56UbmaHBf03lziwDYeaaVYFCPeg8lS46VUTIDrXNtie9PsiyrzCPd5eBkU8+AXqtEeWDHOf77qaP8y4N7E/5cIrXtNfuTrD3JjkpGSUwzEx0o/QRYAKwF6oD/No9H+rFexIH9Wuufaq03aq03lpaWJmSRQghDn7+Pjv4OXA4XRRlFyV6OmEBWf9LMwvEHArOKsti6sCTm87PcWSwvWU5QB3mj8Q37+LmucxxqPUSWK4vzZ5w/4Jpo5XczCzMpz0unrdfHyebuMfUnQdgwB3MfJWuQQ6L7kwDSXA5Wm1m5RI8JDwQ1P33hJACnmns40TR1PhhrrfnPJw/zb4/sJyB7AsVkv5lRumKNMcb/WGNiM0o9/X4+/dudPLm/LqHPI0SsJjRQ0lo3aK0DWusg8DNC5XXVQHhh+0ygdiLXJoQYqqnXyNqWZpbiUDIkczqJdeJdoljld683vG4fe+aMkU26aOZFpDsH9k1Zk+8GZ5SUUmw0s0qvn24bUHo3GjmD9lGyBjlMREYJQuV3id549s/76zjTEhrp/syhhoQ+30T6w85q7nzuBL959Qx3PX8i2ctJeeGDHN63zijyOZrg0ru/H2viz/vr+dnfTyX0eYSI1YR+8lFKVYZ9+z7Amoi3DbhGKZWulJoHLAJem8i1CSGGkkEO09dE7BE0HCtQ2lm/0z721NmnAHjbnLcNOX+4gQ5Wn9KO0232HkqjzigNGuZwbgIzSgDLKo2yxVPN0TfiHS+tNT95zgggti4sBuDpQ40Je75Y1LR7+IfvP88fdpwb+eRhnG3p5ZvbDtjff/+po3a2RERmDXKoKshkzcwCMtwOGjr76fAkbvLdaTNIrzc3cxYi2RI5Hvz3wCvAEqVUtVLqH4H/VErtU0rtBd4K/DOA1voA8ABwEHgSuElrHYhyayHEBJE9lKavmrbkZpTWla3DqZwcaDlAr6+X+p569jbtJd2ZzoVVFw45f7hAyepT2nGmNZRRGmWPUvagYQ6hPZQm5v0pNMecJ/JD6ovHmzlQ20lJTjo/uHodLodi55m2CemLiubP++o42tDN7X89MuZyOX8gyBcf2E2PN8C7VlVyw/lz8Ac1n7/vDTxe+agRjdWftKoqH4dDsajMCNYTOdDhTIvxg4DGrj6CUh4pUkAip95dq7Wu1Fq7tdYztda/0Fp/WGu9Smu9Wmt9hda6Luz872itF2itl2it/5yodQkhYieDHKYvew+lgonJmAyWk5bDsqJlBHSA3Y27efbsswBsnbGVLPfQNeWlGcMcIgVKSytyyU5zcqallxNNxgex0WaUrH2UkjHMAUL7QbX3Ji5QsrJJH9s6l9LcdDbNKyIQ1Dx/NHmDk6zSr4bOfl44NrZ13PX8CXacaaM8L53vvG8lX7tsGQvLcjjR1MNtfz4Uz+VOKdbEO2tq5SJz8+hEDnSwyj59AU1rEgN0ISzSdCCEiEpK76anXq+flh4vbqeiLHf4PZQSaWNFaEz402efBiKX3QH21LtIm866nA7Wm+V3zx0xgv/cUfYoZZt7LvV4/XT2+Wjv9ZHhHnmPqXgpyDQyYO2exHx43HOunZdPtJCT7uJDW+YAcPFS4899osvvmrqil3MdqA39ej64o3rU995b3c4Pnj4GwO1XraEgK43MNCc/uHotLofi3lfO2L8nxEBWaeLKKiNQWmxOrUxkn1J4f5yU34lUIIGSECIqyShNT9aHlRkFmTgcse81FG/nVZwHwNNnn2Znw05cDhcXzboo4rnWMIdIGSWADWagZJUTjb5HyRrmELD7k2YVZo1qL6bxsMYzt/ckJqNkDTe4fvNs8s2g7G3LjH2xnjvSiC8QTMjz9vT7+YfvP8+Hfr59yGN9vgAnmnpwKHAo+OvBelp7RhcofudPh/AHNR/bOpc3LQpNyl1Zlc8/v93Yi+vrf5QpeIOFD3JYZQdKRkYpUZPv+nwBajs89vcNnRIoieSTQEkIEZUVKJVnDd1IVExdL5ilVutnF45wZmKtK1uHQzk41XGKoA6ypXKLXWI3mNWj1NnfGfFxq0/JMtZ9lHq8/gkf5ACQl+FGKejq98c9aGnr8fLkgXrcTsXHL5xnH59bks2C0my6+vwJ23z2TEsvbb0+9tV0UNvuGfDY4fouAkHNgtIc3ry4FF9A8+jumlHd/1ijUSb2qYsWDHnsUxctYGZhJjXtHl47JZvrhjsRNsihKNso+7R6lBJVelfd1osOi1frJVASKUACJSFEVJJRmp6eMUutLlmW3F/33LRclhQusb9/2+zIZXcQNswhQukdwNpZBTjDsmOjHQ9u7aPU2x8IG+QwcYGSw6HsTE9nnAc61LR70BoWlOZQnpcx4DErq/Rsgsrv6jtDwdGOMwNHnx80MxorZuRx1QZjB5H7Xz+H1rFlf/r9AVp7vDgdipIIJZJOh7L3B9q2Z3QB2FS3L2yQg6WqIJOsNCdNXf0JGfBxurl3wPcNUnonUoAESkKIiLTWEihNQ209XnacacXlULx5cfI39bbK7xzKwVtnvzXqeSOV3mWnu1gxI5SNGvUwh7TQPkoTvYeSJdSnFN9Aqbm7HyBiMHGJGSg9czgxgVJte+jD8I5BWSurP2nFjHzetryMgiw3h+u77JKwkTR2Gq+rNCd9QJAc7j1rjf2BnthXj9efmPLCyWjwIAfAnHyXuIEOp82Jdxlu46OpZJREKpBASQgRUVt/G76gj9y0XDJdyRkRLSbe80ebCGrYPL+IvFGWpyXC1hlbAdhSuYWijKKo5w03Htxi9SkB5IxxH6Uer9/OKE1k6R1Avj35Lr4/zW/uNu5XkpM25LH1swvIz3RzqrmHE03x/3Ac3rD/+umBGaUDYRmldJeT95pBTax7KlkftMvzM6Kes6Qil6UVuXR4fHbJqRg6yMGyyBzocCQBAx2sP1dWyW+9GegKkUwSKAkhIpL+pOnp6UPGpMNLlqbGr/sFVRfwo4t/xLe3fnvY80YqvQOjT8mV9wZpxc+Meuqd2+kgzeUgqOG42fcyUXsoWQqtgQ5xHhE+XEbJ5XTw1iVGZvEZ8/dGPNWFBUpH6jvpNDcEDgQ1h+uNQGm5mQn84Eaj/O6R3bX0+Ube/8gKwiryhp9MeLldflc7ytVPTZEGOVjsgQ4JCJSszWY3zzM2O26UjJJIARIoCSEikrK76ccXCNp75li9KangolkXUZo1fBlgjjsHhaLL20UgGPlD9IbZBWRUPEJ62VM09p8c9TqsvqYac+jArMIkld7FO1DqMgOlKKPg32qOCf/7sea4Pi9AnTnlzOVQBDW8cbYdgJNN3fT5glQVZNp7SC2fkceKGXl0eHw8dXDkoM2amlaRFz2jBNh9Sk8dbKDH3CdrOos0yMGyKIEjwq3NZjfPNzLHUnonUoEESkKIiCRQmn5eP9VKV5+fRWU5zC5OzkazY+V0OMlNMz7EdXkjf4hzuLtRTiMoONm9e9TPkWXupQRGmVr2KLNS42VvOjuBPUoQ+gn/G2fb4z5G28r6XLioBAj1KYWX3YV756pKAHadHVimF0lDDKV3YPSabZhTiMcXsDOq05m1PYC1wWw4ay+lY3HuUfIFglS3eVDKGLzidirae30xZQ6FSCQJlIQQEUmgNP1YG4tenORpd2M1Uvnd6c7T9tc7m14b9f2tgQ4AMyc4mwTYU+864tyj1NITvUcJoCI/g1lFmXT3++1yuHjQWtuld1ZW53U7UAoNcghnbYDcEUNWzepxGSmjFP7823ZL+Z01VbEwa+jvhxn5GeSku2jp8dLSHb8eopo2D4GgpjIvgwy3k7Jc49dM9lISySaBkhAiIjtQypycH5rF6Giteeaw8dP0VCq7Gw1r8l20vZTCA6VdDbvwBUaXmclOD2WUJnqQA4R6lNriXHrX1DV8Rglg4xyjHGrH6ZEzObHq8Pjw+ALkpLu4yJywuPtcO75AMGpGaTRZtYaO2ErvwMhUOR2K54820TbKTW0ng0/+Zgfv+fFLMe3BZfWJRZoMqZRiYQIm31kT7+YUZwNQbvaV1cuIcJFkEigJISJq6DU+NEtGaXo40dTNmZZeCrPcSd9odqxGyiid6Thjf+3xe9jTtGdU9w8vtUtGoJS40jsrozRMoDTX+D0xeK+j8bCySRX5GRTnpDO/NJs+X5D9NR2hQKlqcKBk9WmNHMzEMvXOUpqbztaFJfiDmj/vrx/V6xgrjzeAx5v40rL9NR385UADe86122V1w+nqM/q0ok29tAY6/PbVM/R649PTZU28m1ti/LmqMH/NpE9JJJsESkKIiOyMUrYEStOBVXb31iVlUfecSXV5acaH6mgjwq2MUmW20eeyvX77qO4f3qM00RPvAPJHESTEKhDUtPYYGaXiKKV3YEwMBKOPLdYNX0diZQsqzQ/F55lZq0d319Lh8VGUnTYkGxTrXlJaa/tDdiwZJQiV3z2+N/Hld15/kLfd8TwfvPuVuL2f0YSPU69uGzlQskrvou019oENs0hzOfjTvjre/b8v2qPEx8PabDaUUZLSO5EaJFASQkQk48Gnl2fNQOmSSVp2B5CXPnygdKbTyCh9YPEHANheN7pAKTyjNNGbzUIoSOiIY0aprddLUBuZGrcz+keChaU55Ge6qe/ss6f+jVetOfHOCpSsrNVDO6sBWF6Zh1IDg3YrWBypR6m914fXHyQ33RXz0A1rDPruc/EZWtHU1c/e6vaIj9V3GO/jvpoOTjT1jPu5ounzBXgkrO+qum3kXzs7o5QZOaO0aV4R2z67lcXlOZxs6uF9d77EXc+fGFfAZ028m2sOkbGC2/oO2UtJJJcESkKIIfoD/bT3t+NSrmE3+RRTQ0evjx1nWnE7FW9eXJLs5YzZcKV3vqCP6q5qFIr3L3o/DuVgX9M+enyxf0gNH+Yw0aPBIdRc3xbHjNJIE+8sDodio7lhb7z6lOx9jvKN7JyVteoyR3QP7k+C0ECLdo9v2A/moym7sxTnpDMjP4Neb4BTzePrvzlQ28GlP3iB9/z4Jc61Ds3iNHaFMiUvn4j/2HXLUwcbBgTWsQS5Vo/ScBtOL63IY9tnL+SjF8zFF9Dc9ufDPLFv7CWLg3uUrNI7ySiJZJNASQgxxK6GXQCUZ5fjUPLXxFT3yskWghrWzS4kd5gPR6luuGEONV01+LWfyuxKSjJLWFmyEr/2s7NhZ8z3zzKHObgcys6CTKSCBGw429w1/MS7cBvMjI81mW68rB6lGeZ7Oac4a8A6lkcIlNJdTjLdTgJBTfcwex6NtuzOstLcYHVv9djLyXadbePan75KS48XreFk89BgvLErlCl5MQH7U1n+YGbn1swqAGLLKA03zCFchtvJLVes4KuXLgXgoV3VY1pjIKg512qsa46ZUbJK76RHSSSbfAISQgzgC/q47bXbAHjfwvcleTViIrx03PigduHCyZtNgrCMUoTSO6vsbk7eHAA2V2wG4NW6V2O+f46ZUaoqzMQ1TJlaouRmuFHKKI3yxzC9LBaxZpQglPGJV0bJ2mzWyh4opezpejB0NLjFChiHK0G0Jt6VjzJQWmUGSvvG2HfzyokWPvTz7XT2+XE71YC1hGsMCwBePdkS9/2pAGrbPfz9WBNpTgefecsCAGpi6FEaqfRusA9smInToXhhjBMD6zo8eANBynLTyTL/jFVIj5JIERIoCSEG+N3B33Gy4ySzc2fz0ZUfTfZyxAR4ySz92bqwOMkrGZ/hSu+sQQ5z8+cCsKVyCzC6PqUss9clGWV3AE6HssuhOvviM21sNIHSqqp80pwOjjZ2xbSP0Ujq7GEOocEYVp9SptvJvJLsiNfZ5XfDrMEuvcsb+XWFWzXT+D00lgEFr5xo4aO/eo1eb4D3rp3Bx7bOAyJ/2A/PKHX2+eMyEGGwh3ZWozX8w4pyO1MWU0ZphGEOg4VPDHxif92o13nWnMQ3tzj0620FuI2d/QkfdiHEcCRQEkLYGnoa+MmenwBw8+abSXeO7kOGmHzqO/o42dRDdpqT1TMLkr2ccRkuo2QFSlZGaU3ZGtKd6RxtO0qLpyWm+1cVGB/oI5WETZTQXkrx6VNqMgOl0tyR/6xnuJ2snpmP1kZ52XhorUNT7wpCWZ83LSrFoYyBAdGmL8aUUbI2mx1liaSVUTpQ2znqLM+dzx2n3x/kmvNmcccH19olhQ1d0QMla5LiS3HuUwoGtV1298GNsyjPTcflUDR29dPnG34k+UjjwSOxJgY+OoYNe0+bgdLs4tAPIDLTnORluPAGgrROwX2txOQhgZIQwvbfO/6bXn8vl8y+hAurLkz2csQEsMruNs8vHnbq2WRg9ShFDJQ6TgMwL8/4KX+6M531ZesBeK3+tZju//bl5dx34xY+f8miOKx2bPKtvZTi1Kc0mh4lgI3WmPBx9il1evz0egNkpznJDZtKt6Qil8c+dyF3fHBN1GsLMkd+Dxo6x1Z6N56BDofqugC46a0LcThU2ECCoZPbrEDp0pUVQOjPYby8drqVs629VOZnsHVhCS6nw15P3TCbuGqtY+5RCveOFeWkuRy8frqV2lFORRw88c4ieymJVDC5/1UUQsTN9rrt/Pn0n8lwZvAv5/1LspcjJoj1AW3rJO9PgtB48E7v0GEOdo9S/hz72OZKo08p1vI7p0OxZX5xzOOmEyE0Ijw+P2VvsfZQyo4texyvyXd1naH+pMEjwFfMyKd4mFJAe6jFMO+BPVFvlIESjG2gQ0t3P83d/eSku5hZaGQey4bps7F6lN6ztgow3s+RMj2j8YC5d5LVPwTY6xpuL6U+XxBfQJPmcpDhdkY9b7DcDDdvW1aG1qPfh2rwxDuL7KUkUoEESkIItNb2AIdPrP4EM3JmJHlFYiJoradMfxIMzCiF9zX0+Hpo8jSR5kijIqvCPm71KY1moEOyxXvynd2jFEPpHcAGM1DaXd1Ov3/sH+ztiXcFo9+4Nz+G98D6cD3a0juA1TNHP9DhSL2RTVpcnmMHfsN90G8yM0rLKnJZVplHvz/IrjPxGZIRCGqeMfdFe9+6Kvt4VYGRsRmuT6krhtHg0VyxxniubXtGFyididCjBLKXkkgNEigJITjVeYrj7ccpyijioys+muzliAlyoqmHhs5+SnLSWFKem+zljJvb6SbLlUVABwbsj2T1J83Om43TEfop+dKipeS4c6jprqGhp2Gilzsmob2UklN6V5idxqKyHLz+IM8faaKm3UNNu2fUwx3Gk/GxSu+i9Sj1+wO09HhxOlRMQyoGszJKoxmwcNgMlJZUhPrXSs3nburqH9Dv5AsEaenx4lBGqd/WBcYPKV6MU/ndnup2Ojw+5hZnMb80xz5uZZRqhgmUQnsojT5r+pYlpeSmu9hf08nxxtjKFrXWdkZptpTeiRQkgZIQgh31OwA4r+I80pyxfWASk5+10eUFC0qGlD9NVpEm353pMMru5ubNHXCu0+FkVckqAPY2752YBY6TNfGtIw7DHLTWdundaAIKq0/pxt/sZOttz7L1tmdZ/+2nRtW3VGf2sYxlP6pQVi3ye9Bo9gSV5qRHHQgxnLEMdLAySksrQj9wSHM5KM5OI6iN0jyLlcUrNtdnlb2+dCK2oSIjef5IEwAXLS4dcDyW0jtrmmJujKPBw2W4nXbPVaxZpaaufvp8QQqz3PbvbYudkQvrqerw+Hj2cINMwhMTRgIlIYQdKG0s35jklYiJZG10ORXK7ixWoBS+6ezg0eDhVpeuBmBv0+QIlEL9OePPKHV4fPgCmtx016j6Ua4+bxYLy3KYkZ/BjPwMctJdBIKaPefaY76HPRp8DKV3BSOMB7cHOYxxU+DwgQ4nm2LLjBxusDJKAzOzkTZOtQK5MrPccdO8IlwOxT4zEzRezx81A6UlAwOlKjtQGiaj5Bl7RglCPVeP7amNKZixpi5GGrpREeG9++2rZ/j4PTv41z/uH9P6hBgtCZSEmOa01uxoCGWUxPQQCGpePWn8BPuCBZN/kIPF7lMKyygNHg0ebk2pMV1tT9OexC8uDmLtUWrt8bL9ZMuwH1ZH259kWTurgKe/eBEv33wJL998CZ9883xgdCPL68fRQ5Q/QrBo33uUeyiFWzWKPqVgUHPMCpTKBwdKxhrCJ99ZE++sQCk73cW62QUENWw/Ob6sUluPlz3V7aQ5HWyZP/AHINb+XzXDTKXrHMNo8HDnLyimJCedU809HDHfk+FYJZuDs0lA2NRA49ezzxfgVy+dAuBdqyrHtD4hRksCJSGmubNdZ2nyNFGUUcT8/PnJXo6YIPtrOujs8zO7KItZRcnZQDURCjIKADjSesQ+Zk28G1x6B6GM0oHmA/gC8en7SaQCu0dp+KDkqw/t5eqfvsqNv9kZdR+aplH2J0VdU7ZxfWtP7O9f7XhK76wepSjB4nj6nyxW+V0sgVJ1m4deb4Cy3HQKswe+l5EGOjSa+yqV5YbWZ/2wYrxjwl883ozWcN68QrLSBmaFKvIzcCgjkPT6gxGvt4c5ZI4to+R0KNbOKgDgdHPP8CcT6jOzfgAQbvB794ed1TR3e1lZlTelsuAitUmgJMQ0Z5XdbSjfMGX6VMTIQtPupk42CeCyeZcBcPeeu2nxGBkVaw+lSIFSfno+c/Pm4g16OdJ2ZMjjqSY0Hnz4oGS3WQb31MEG3vGDF/j7saYh59gZpTEMPAhXOELP0GBa61DpXf4YSu9GGA8+3tI7GN1Ah8P1Rpnn4LI7CI0Ib4xUeheW8brAHOjw+jjHrttld4P6kwDcTgcVeRloHQomB+v0mD1KY8woAVSZGwjXtI88hMH6fRwpo1ScnYbLoWjr9dHr9fOzF04C8OmLFsq/VWLCSKAkxDT3esPrgBEoiekjtH/S1PrJ7MWzLmZr1Va6fF18f+f3afY00+vvJT893842DTaZyu8KYthwtr3XS1NXP5luJ5vmFtHU1c+Hf/Ea//WXwwPOi1egVBRjlsvS1W9sNpuV5hxTL4wVKEULFuvNQCQeGaX9NSMPdIg0yMESqc9mcOkdwGKzZO9sa++YBxVore1A6c0RAiWAmYXWiPDIAx26xjH1zmL1ncWy8Wz7MIGSw6Hs9+hXL53mbGsvc4uz7IERQkwECZSEmMa01gMm3onpoc8XsH9yff78qRUoKaW4edPNuB1uHj3xKI8cfwSInE2yWOV3exonQaCUOXL25miDMYBgUXkOv79xC196+2KcDsWP/3bCzn5A/AKlWIK3cHXtof6ksWQGMt1O0pwO+nzBiJu02hmlcQRK1kAHj2/kgQ6hQQ55Qx6L1KPUZJbelYaV3hVkuclJd9Hd7x/zHlmH6rpo6uqnPC896rj/kQY62OPBxzD1zjJjFIFSqPQucvmnlRW882/HAbjxzQvGNMlQiLGSQEmIaay6u5qG3gby0/NZWLAw2csRE+TVky14/UFWVeVTPM4PyaloTt4cez+wH+/+sX0sGiujNBlGhOdlulHKaLqPluk4an5wX1SWi9Oh+Nwli3j3aqP5/fVToRHeLd1GsFU8zh6lwmzjQ3W0jNKju2v45mMH7A1q6zqMD9AzxlB2B0YwnDdMCWI8AiWIfaDDcBmlyD1KQ0vvlFJh47tHDjAiCS+7ixaA2s8RJYgJld6NPaNkld7FlFHqHT4wszJyPd4ApbnpvH99VcTzhEgUCZSEmMbs/qSyDTiU/HUwXQzXxzBVfGL1J6jMriSgjQ/n8/LnRT13YcFCslxZ1HTX0OyJz6afieJ0KHsiWbTSM2sC2+Ly0Gaj1t5H4T0w8etRMkvvenwRy8Zu/+sRfvXSae7461EgbNjCOHqIok3/01rH5f4QKr/bWx09UOr3BzjV3INDwcKynCGPW8GQFRzB0PHgFqss7tww+xwN54URyu6M5xh+L6VQ6d34M0qx9ChZ48gLogRK4cHux7fOG9UYeyHiQT4ZCTGNyVjw6emFKPusTCWZrky+et5X7e+HyyiFbzw7KcrvRhieYJXeLQ4rvzpvbiEAO8+EAqUmM6NUmju+jFKG20mG24E3EKTXO7AUTmtNkxkk/PTvJ3n1ZAu19iCHcQRKUUoQOzw++v1BctJd5KSPPSsCsH6O8Z49f7Qpat/QicYeAkHN3OLsiB/iS7KNTWVbe7z0+wMEg9oOUEsHBUqziowA41zr6AOl7n4/O8604lBw4TADWqoKrB6laKV34x/mUJabgdOhaO7ut7OI0Qw3zAFCwW5uuovrt8we85qEGCsJlISYxuyNZitko9np4lxrLyeaeshNd9ljfKeqi2dfzKVzLyXHncPa0rXDnmv3KTVPgkDJChKiZZQazdK7sIzS4rJccjNc1LR77H10mrvik1GC6AMderwB+nzGKGqt4UsP7OGoWao2lol3lmgb79bbZXfjf02b5hbZewLtr+mMeM6RhugT72DgQILGzn5ae734g5qCLDfproGBVWjQwuhL71450YIvoFk7qyBqv4/xHGa2J8pzjHc8OBhZT3uIRZTpehZrcmG0QOn8+cVm+ejCcWW5hBgrCZSEmKZqu2up7aklNy2XRQWLkr0cMUFeMMdEb11Ygts5tf8JUErxvTd/jxeufoHSrOGzZ/bku0mRUYq+j1Brj5fmbi/ZaU6qCkKBiMOh2GhmSHacbkVrHbfSu/A1DS6FazGfozI/gzUz86lp9/DkgXr72FjlR9lLKV5ldwAup8Pu7Xp0d03Ecw7XW4McIgdKEDYivKsvatkdwCwziBlN6Z3Wmr8daeS//2qMtr9ocdmw51cWZKDMvZT8gaF7KVk9SuMNSqrs8rvhg77h9lECWDOrgMPfupQb37xgXOsRYqym9r+SQgibL+ijtruWoDb+cbTK7jaUbcDpkLrv6WI6lN2FcygHbufIH/qsjNLBloP4gqm98az1oTLS8ARrkMPC8twhDf1Wn9KO02109/vp9wfJdDvJHmeJGoQGOgze3NYKxsryMvj+1WvJDCtPi0uP0qC9lOI1yMFyxdoZADy2tzbi8IzhBjlYynNDk+8ibTZrsTZ+jiWjFAxqHt9by7t++CIf+9XrHK7voiQnbcRhB+kuJ2W56QSCob2swllT78YzzAFghj3QYfiMkhXoRssoAVP+BzoitY3/b0chxKRwy8u3sO3ENvLT81lXto7mXqNpXcrupg9fIMhLx1uA4Ru+p6PCjELm5M3hTOcZjrYdZUXximQvKapQf87QgM4e5BBhsICdUTrTRrPZn1Qyzv4ke01RSu/s58lOY35pDt949zK+/sf9wNin3kH096C+Y/x7KIVbN6uAWUWZnGv18NqpVs5fMHCc/pH66KPBLeVhZWg5ZgASKaMUPmhBaz3s6PRfvXyabz1+EDB6nT7xpnlct3lOTH1ZMwuzaOjsp6bdYwdnAH6zx8yhIDttvIHSyCPCA0Edl54oIRIpYWG6UuqXSqlGpdT+sGNFSqmnlFLHzP8Xhj12s1LquFLqiFLqHYlalxDT1e7G3QB09Hfw3Lnn2N9i/NGUQGn62HXGyCQsLMsZUJYlDKtLJsd+SvlWmVuEHqVIgxwsa2YV4HYqDtd3cqrZOC8eZXcAhVGm0FkjyK3nuW7TbD510QI+edF88qOUW8VipB6leJTegVG+ecUaI6u0bc/A8ruOXh91HX1kuB3MDgs4BrPW0tDVZw+2KI3QQ5Wb4aYgy02fL0hTd/+Qx8MdrjN6o244fw5//5e3cuObF8Q8vML6sz84c9VlBi056S4c49yrKJZNZ8M3t5W9kUSqSmQ+8x7g0kHHvgY8o7VeBDxjfo9SajlwDbDCvOZOpZTUAgkRJ1prGnobAHjoiof47oXf5cpFV/KJVZ9gedHyJK9OTBSrP2kqjwUfj8myn5IVlHQMU3oXPsjBkuF2sqoqH63hrweMvw/iFShFG+Zgld5ZezUppfjaZUu5+bJl43q+/Ch9WvXmHk3xKr0DeM9ao5ztiX31eP2hvp4jg/ariiZ8mENjZ/TSOyDmvZSsQOpNi0pHPTI72kAHK1Aaz2azFmsvpeF6lOyJd+MImIVItIQFSlrrF4DWQYffA9xrfn0v8N6w4/dprfu11qeA48CmRK1NiOmmrb+N/kA/ue5cFhcu5vIFl3PLBbfwT+v/adjyDjG1TIf9k8bDnnyX4hmlUI9ShNK7xugZJYDzzD6lpw7GN1AaaZhDvJ7Hfr7MyD1Kp5p7AJhbnB2351pcnsvSilw6PD67xw/gcP3wE+8s4ZvO2pvNRii9A5hl7aU0wohwexBHlPsMJzRdb+BzdMZhDyVLLKV37TH0JwmRbBPdIVeuta4DMP9vjWepAs6FnVdtHhtCKXWjUmqHUmpHU1NTpFOEEIPU9xhTpsqzy5O8EpEsTV397K/pJN3lYNO8omQvJyUtLFxIhjOD6u5q2vvak72cqAoyI5feNXf309rjJTfdFXWi3AazT6mlxyqJi0+PUvRhDsb3xXF6HosVLIZvutvvD3C2tReHgjnF0UvhxsIa6vDonlq01jy8q5r/fNKYNGdtTBuN3aMUS6AU40CHJnu0++jf16ooWStr89fxDnKA8ECpL+oeVPbEu8z4/t4QIp5SZZRIpB9pR/yTpbX+qdZ6o9Z6Y2mp/FRUiFhYgVJFdkWSVyKS5cXjxg+Wtswvlt3to3A73CwrNkrCrB6+VFQQpfTO2p9oYXlO1EyxFShZ4p1RilZ6F/+M0tAM1pmWXoLaCDbi/Xv88tVGoPTUwXr+6b7dfPGBPXT3+7lsZQVXnzdr2GutwRKN4VPvopQGhg90iCYY1EN6v0bDLr0blO3pjGPpXV6Gm9x0Fx5fIOLQEQgF+pJREqlsogOlBqVUJYD5/0bzeDUQ/jfNTKB2gtcmxJQlgdLk89qpVj5/3xv89tUzcbnf80ek7C4WK0tWArCveV+SVxJdQZRhDkftiXfRS8GKc9JZUBoqS4vfMIfIpXeJCpTy7WAx9Hwnm4yywwWlQ/uzxmtWURYb5hTS5wvy2J5astKc/OeVq7nz+vUjBmV5mS7SXQ66+/3UtVs9SiOV3g3f2+MPanIzXGMKCKvCyuLC91KK12hwi51V6oj8WqyMUjwCMyESZaIDpW3ADebXNwCPhh2/RimVrpSaBywCXpvgtQkxZdX3moFSlgRKqczaPPKqu17mg3e/wqO7a/nGI/u5469HhpSvPHWwgQ//Yjuvnx7cCjpUV5/P7kl5yzTZP2msVpWsAmB/cwpnlMwPlm2DytyOmv1JkQY5hLP6lCB+pXfRhjlYJX7xLr3LTXfhUNDV78dnftg/0WT0J4UHgvF0/ebZAKyemc+f/ulNfPC8WTH1eCql7PI7f1CTnRZ976pZRSNnlKxBDqVj6E8CY6hHWW46/qC2pwRC2DCHOI3qHmkvpc4RNpsVIhUkbB8lpdTvgbcAJUqpauA/gNuAB5RS/wicBa4C0FofUEo9ABwE/MBNWutAotYmxHQjGaXUFwhqPn7P6/bAhbwMF+9YUcHDb9Tww2eP0+MN8I13LaPPF+TbfzrI77afBeBkUw9Pf/EiMtOi/2T54V019HgDbJ5XxPwE/LR9KrEySvub94+4l02y5GW6UcoolQoEtT1xzd5DKcogB8vGuUXc97rRFjyWYQCRFGQPHQ/uCwRp7/XhUKGMU7w4HIr8TDdtvT46PT6Kc9I50Zi4jBLA+9fPZMOcQqoKMnGNchPU8rx0zpoDGqKV3QFUFRgZpZp2z4Bf23DNXePP0s0uyqKxq5+zrb32cIfOOGd4Rhro0G4G1VJ6J1JZwgIlrfW1UR66JMr53wG+k6j1CDGdNfQY2QQJlFLXnup2nj/aRG66i89evJDrtxibR16yrIzP/f4NfvHiKZq6+jlY18nxxm7SnA6Kc9Koafdw53PH+dI/LIl4X601v37lNAA3XDB34l7QJDUzZyYF6QW09rVS11PHjJwZyV7SEE6HIi/DTYfHCBIKs9PQWg+7h1K48+aG+pTiVRKXm+7C5VB09/vx+oOkuRz2YIei7LSE7JNjBUrtVqBklt4l8ocBc8Y4TS98XPlwmaDMNCclOek0d/fT0NlnBxvh7IzSOAOlHWfaqG71wALjWGfYvkbxMFKgFBrmIIGSSF2pMsxBCJFAklFKfS8fbwaM6VqfvCi0eeSlKyv52Uc2ku5ysG1PLccbu1lYlsMfb7qAH123DoC7nz9pj0Uect8TLZxo6qEiL4O3L5ephyNRSrGiZAUQuU+py9tFIJj8gofBG642dfXT4fGRl+GiPMJmpuFmF2XxliWlXLS4NG4fipVSoTWZmYJE9SdZ8sP6orTWCS+9G4/wQClaf5JlpL2U7E1rx5ENnGlO1zsbNoY8UaV30fZS6pBhDmISkEBJiCkuEAzQ2GvMTSnPkg/Kqeql4y0AbF1YMuSxtywp496Pb2J+aTY3nD+Hxz57IStm5LNhThEf2DATbyDINx87EHEM770vnwbgus2zcY+yXGi6itan9ErtK2z9/VYuvO9CPvX0p/jZ3p+xtyk5m9PafUpmUBKeTRqpXFApxT0f28S9H98U19LC0OQ74wNwokaD28+XaY0I99LY1U93v5+CLDdF2ak3bjo8eI222azFGhEebS+l5u7xj3afHSFQiud4cIAZ+SOV3kmgJFJfwkrvhBCpoaWvBb/2U5heSIYrfrvVi/jxeAPsPNOGUnD+/OKI52yZX8yzX3rLkONfu2wpfzlQz3NHmvjrwQbesSKUNaxp9/D0oQbcTsU1m4YfYSxCrEBpcEbpt4d+i0bT7evmpZqXeKnmJXgDbjn/Fq5cfOWErtHKplhT36yJd4tGKLtLpMEDHazNZouzE5NRCmWwfHbZ3YLS6KPRk2lARmmEjN+sCcgoWc9xri1CRinuPUqRhznYGSUZ5iBSmPx4UYgpTsruUt+OM614A0FWzMijcJQ/DS/JSefLZn/SrY8dpKsv1Ez/u1fPENTwzlWVI/4UW4SsKDZK7w62HLTL7Bp7G3mx5kVcDhcPXv4g33vT93jX/HcB8PN9Pyeog1HvlwiF5ofLU809fP+po/zPM8cAWDzCxLtEsgIXaxpfokvvrIySESilbtkdjLb0zswoRZl8F4/3dXbx0KxVqEcpPoFLRX4GSkFDV589mTCclN6JyUACJSGmOAmUUp9ddrdgaNldLK7fPJvllXnUtHt483/+jR8+c4zGzj57stlHzp8Tt7VOB8WZxVTlVOHxezjZcRKAbSe2EdRB3jrrrSwpWsI757+T72z9DjOyZ1DdXc2LNS9O6BqtIOHWxw/yP88co8Pj47y5hbxrdeWEriNc4aDSu5YEl97lh+0nleiJd+M1MFAaqfTOzPZELb0bf0apPDeDNKeD5m4vvV4jkxTvfZTcTgfluRloDfUdQ7NKEiiJyUACJSGmOAmUUt/LJ4xBDhdE6E+Khcvp4IfXrmPd7ALaen3c8dRRLrjtWVp7vKyYkcf62YUj30QMMHhM+CPHHwHgvQvfa5/jdDj54JIPAnDf4fsmdH3hH5IvWlzKA588nz986oKkZg6tEeFt9jAH4//jmc427PNZPUq93gmZeDce4VmkkUvvjGzPSKV348koORzKHhphbW4b79I7CN9LaeBr8fqD9HoDOB3KHlwjRCqSQEmIKa6upw6QQClVtfd62VfTQZrTMWBs82gtLMvh4U9fwO8/sYU3LSrBHzQGO9xwwdyU7NlIdSuLjUBpX/M+3mh8gzOdZyjLLOOCGRcMOO/9i95PmiONF2te5FznuQlb3zWbZvOlty/m8c9dyL0f38SmeUUjX5RghfYUuoGldwkb5pBlDXPwcTLFS++y012U5KTjcigq8ocPZisLjJK1ug7PkJK1YFDHbRPfWWEDHbTWcR/mAKE+pbpBGaXwbJL8/SRSmYTxQkwR9T31/HL/L7lx9Y2UZIYyEw295h5KWRIopaJXT7agNaybXUBW2vj+SlZKcf6CYs5fUMze6nZONfdwxZrU2wdoMgjPKPmDxk/ar1h4BS7HwF+jwoxCLpt3GY+eeJT7j9zPl8/78oSsryQnnc9dsmhCnitWVt+UXXrXYwVKiR3mUNvRR027B7dT2R/+U9FPP7KBTo9vxB6gdJeTirwM6jr6qO/oG/Ca2j0+AkFNfqabdFf0TaZjMTtsul6PN0BQQ6bbGdfpmFVmoDR4RLiU3YnJQjJKQkwR//vG//L7w7/nnv33DDgupXepbbix4OOxemYB71lbJT+tHaPlxctxKAfH2o7x5OkngYFld+GuXWrsr/7w8Yfx+COXS00Hdo+SNcyha/xjrIeTn2ncd191B2BsBpvKI/DXzy7kLUvKYjrXKr8b3KcUKrsb/3tq9UKdbe21h8DkZcb35+fRNp2VQElMFqn7N4oQIma+oI+/nfsbAG80vjHgMQmUUttL5kazWxdGHgsukiPLncWCggX4tR+P38P6svXMyYs8FGNFyQpWl6ymy9vFEyefmOCVpg5rYmNbrxettZ1RStjUOzOj5PEZkwlTtexuLGZGGN8N8RnkYAnPKHV6jKxpbpwm3lkq8yP3KHV4jCBaAiWR6iRQEmIKeL3udbq8xj4qB1sO2j/V9gV8NHuaUShKs0qTuUQRQV2Hh5PNPeSku1g9syDZyxGDWPspQfRskuWapdcAcN+R+yJu/DsdFIbta9TZ58cX0OSku8hwj69ELJqCQR+yU3Xi3VjMLIo80CEegxws9sa2bWEZpTj2J0H0vZQkoyQmCwmUhJgCnjr7lP21X/vZ37wfgEZPIxpNaWYpbof8g5RqrLK7zfOKUrpkaLqy+pQyXZm8Y+47hj33H+b+A0UZRRxuPczupt0TsLrUUxC24WyiBznA0A/ZqTrxbixCE+kiZ5TiGii1euzAJd4ZpaoopXftZh9bgWw2K1Kc/MssxCQXCAZ49uyzAGwo3wDAroZdgJTdpTqr7G6sY8FFYl2Ut5gZ/iAfy1pAlnv4IQHpznQ76/TwsYcnYHWpx94A1uOjsdMMlEa5gfJouJwOcsNGS0+l0rv5JcZrOWbuD2VpimPpXV6Gm4IsNx5fgFPNxtTAeI4GByMQynQ76er328EYSEZJTB4SKAkxyb3R+Aatfa3MzJnJNUuM8p83mow+JStQKs8uT9r6RGRaaztQulACpZRU1l7NX85V8+mW5pjOf9/C9wHwl9N/ocfXk8ilpSSX00FehgutsT94J6o/yZIflpGYShmlJRW5ABxr6MYfNiLcKr2L195U1tCIA7WdQPxL75RSzCk2nsPa6wokUBKThwRKQkxyT599GoC3z3k768rWAbCncQ+BYEAySinsQG0njV39lOels7h86nzAm1I87cb/+9pjOn1u/lzWl63H4/fw19N/TdiyUpk10OFYo9EzmajR4Bbrg3ZpbvqU+tCdm+FmVlEm3kCQk82hoNvexDcOGSUIDXQ4UNthP2+8LTWDvqP1Xfaxjl4JlMTkIIGSEJNYUAd5+owRKL1tztsozy6nKqeKbl83x9uP24FSZXZlMpcpInj6kLG/1cVLy2WEd6qyAiRPW8yXWOV3fzz+x/ivZxKw+pSOmyVjpQnsUTKez/igPZXK7izLKvIAOFTXaR+L5zAHCPUpWb9e8R4PDrDEfB2HwwMlySiJSUICJSEmsf3N+2nobaA8q9xuPLeySrsad1HfKxmlVPXs4UZWqpN8oPh0spciorEySp42iHGS3TvmvoNMVyZvNL7B6Y7TCVtaqirMcqNcnRzueBVIfEapwNxLaSqV3VmWVRoBxsGwQMke5pAbnwDU2kspaP72TkRGaUmF8WtzJEKgZAXWQqQqCZSEmMSsbNIlsy/BoYw/zlag9EbDGzT0GFmLiiwJlFJJQ2cf+6rb+G3abWz424fg4LZkL0lEYmWUgn7wxtZzlOXOsifkPXL8kcSsK4UVZqWRMeM++op/jjPzdEKn3kGoBG1JeW5CnycZllUar+lQnRFgBIKaVnMz3+Ls+JbeWeLdowShjNKRhi57dH67ZJTEJCGBkhCTlNba7k9625y32cftQKnpDelRSlHPHm5kpmqiQJnNzX/8JNTuTuqaRARWRglGVX5nDXXYdmIb/qA/zotKbZkZvTizTgHgSG9I+DCHG988n5svW8oHNsxM6PMkg5VROmxmlNp6vQSCmoIsN2mu+Hx8GxIoJSBwmZGfQW6Gi9Yer91jJaV3YrKQQEmISepw62HOdZ2jKKOI9WXr7eMLChaQm5ZLfU89bf1tuBwuijOLk7hSMdgzhxpYrKrN7xT4euH310BnXVLXJQbp6wh9PYpAaV3ZOubkzaHJ08TLtS/HdI3Wml/s+wXPnHlmtKtMKW3sRCkja6DcbZQkOKM0oyCTT160gOz0+GdCkm1WYRbZaU4au/pp6e63y+7iNfEOjPfPEdYimYiMklLKzvgdqTeySqHSOwmURGqTQEmISajX18u/vfRvgDHtzulw2o85lMPOKgGUZ5XbZXlilPxeeOwLcOCRuN2yzxfgxePNLFY1xoGNH4fZ50NXnREseXuHv4GYOOHT7mKcfAfGB0NrqEOs5XdH247yg10/4BsvfWNSZ6HOeV+zv3a42xKeUZrKHA7F0kproEMXzV1GNiae76nb6aAyP9P+Pi8BPUoQGnd+uL6TPl8Qrz9ImstBhts5wpVCJJd8ehJikgkEA3z171/lSNsR5uTN4XPrPjfknMGBkhij40/Dzl/BE1+GYCAut3zpeDN9viCbso3+MSpXw9W/g4I5ULcbtn02Ls8j4mCMpXcAVyy4Aody8Ldzf+OJk08QGOH3z/7m/QB0+7o50HJgtCtNCe197Zzr3Wt/70hrT9gH7+nCGq19qK6Tpu4+AEriNBrcYg10gMQMc4DQ6zhS3yVld2JSkUBJiEnmf3b9D8+de468tDx+dPGPyE/PH3JOeCme9CeNQ/Xrxv97muDc9rjc8pnDjQCscNcaB0qXQXYxXPcApOXA/ofg6F/i8lxinMKzSOFBUwzKssq4bN5l+IN+vvr3r3L5I5fz4NEH8Qa8Ec8/2HLQ/np7XXx+r020v537G0GCBPpLAXClteNwyOj78VhWGRoRbmWU4ll6BwP7lBIxHhxgsVV619BFu8d4HQUSKIlJQAIlISaRh489zK8O/AqXcnHHW+5gbv7ciOetKFmB22H8IySB0jhYgRKMejJdIKj5t0f2s+W7z/DHN4x+JK01zx5qxEGQkr7TxomlS4z/ly2Ft9xsfP3nfwFf3zgXL8ZtHBklgG9d8C1uOf8WZuXO4lzXOb75yje59k/X0ucf+ms7FQIla7iMr+18tHagnR1RA0MRGztQqu+iKc6jwS1WoORyKDITVAq31Jx8d7Shi7YeySiJyUMCJSEmiTOdZ/jWq98C4F+3/CubKzdHPTfdmc6K4hWABEpjFvBDzc7Q94cei3kvHa8/yD/d9wYlO27nr/0f4vsP/JXP3/cGr5xsob6zj/W5HTgC/ZA7AzILQhdu/qSRYWo7DS/9T1xfjhglXx8E+kPfjyFQcjvdXLn4Sra9dxv/+eb/pDSzlKNtR9nVuGvgUwV9HG07CoBCsbtxd8RgKtwL1S+w4TcbeO7cc6NeVyJ0e7t5pfYVFAp/5yq0z/hgbE3eFGNjlawdb+yirsP4PRHvjJK16Wxuhithm1/nZ7mpyMugzxdkf40xJEUCJTEZSKAkxCTxau2r+IN+Lp51MVctvmrE8z+y4iMsK1rGW2e9dQJWNwU1HjSm0RXMNgKazmqo2TXiZX2+AJ/67U6e3nuGjzufJE/1coX7dR7dXcuHf2E0ur+nytxAsmzpwIudbnjX7cbXL95hBEwiOQYPbxjFMIfBXA4Xl827jHfOeycAO+p3DHj8RPsJvEEvs3Nns7RoKd6glzca3xj2no+deAxv0MvDxx4e87ri6YXqF/AFfawtXYcO5BL0FQJQ012T5JVNbtnpLuYUZ+ELaLafbAES0aNkBEqJGA0ezhrosP1UK2AET0KkOgmUhJgkDrYapTnnVZwX0/lvn/N2Hrj8AckojVW1Ob1r1mZYdrnx9aHhy+96+v18/J7XefZwI+/O3E+u8gDwmXn1rKrKJxA0MlIX5Bp9SpQuG3qTuRfCqqvA3wdP3hyXlyLGYHBP0hgySoNZf3Z3NAwMlA40G8MbVhSvsDPFr9a9GvU+Wmt2NRhB++v1r6fElDyr7O4f5r6dDLcDbQZKtd21yVzWlLDMLFtr7Ir/eHCAVVX5vG1ZOR/eMieu9x3Myo69ftoMlCSjJCYBCZSEmCSsD1PLi5cneSXTRLX5YXbmJlh+BQD60DaeO9xAe2/kvovvPXmYl0+0UJqbzi3zDtnHs+pe56FPbuLL/7CYj14wl3n6nPHA4IyS5e3fgrRcOPIEHHo8bi9JjMLgDFIcAqV15etQKPY178Pj99jHrf6k5cXL2VK5BRi+T6m2p5ZGjxFsd/u6B/Q3JYPH7+HFmhcBuGT2JRRmpdkZpdoeCZTGy+pTspTGOaPkdjr4+Q0b+X9vmh/X+w5mZZRk6p2YTCRQEmIS6A/0c6L9BArF0qIoH65FfJ2zMkrnGfscZZWgWk9y270P86UH9gw5vbPPx4M7jaENv75+KblnngYUZJWAt4u0pv189uJF3HLFChxNR4yLImWUAPIq4S1fM76+/3q47/qB/VIi8ayMUlbJwO/HIS8tj6VFS/EH/extCo3RDg+U1pWtw+VwcbDlIB39HRHvY2WTLMke/vByzct4/B5WFq+kMqdyYKAkGaVxW1qZO+D7ouzEbuKbKNbkO4tMvROTgQRKQkwCR1uP4td+5uXPI8udNfIFYnx6WqD1BLgyoXwlOJycKL4IgEudr/HM4UYO1XUOuOShndX0egNcsKCYZe0vGIMA5myFJZcaJ5x5yfh/MADNRuO+PfEuks2fgi03/f/t3Xd4VFX6wPHvmUx6rxBKEnoJNRSpAtJUFBVERSzYF/vPrrtrW9vada2oa127ooBUadJbCL2FJEAgvZOemfv748ykJySQkIS8n+fJk8m9d+6cOzfJ3Pee97wHHJzhwEL45CL46ko4GdWwxyqqZ+9R8uukvzdAoAQwqM0goCz9rthSVsihl38v3Bzd6B/YHwOjylgmu6jkKIDSgi1NHiid3ADA+NDxALT1dpHUuwbUu1yPkp+7E44OLfPSrWuQBw7lysXLGCXRErTMvzYhWhn7HWf7hZFoZCdsF6jtBoKDIxuOpPJCTDcArnDSPTsfrzlSurnVavD1xqMA3DQ8DHb/rFf0vRpCR+nHcbZAKT1WB1FeHcClYkpNBQ5muPgleHA3jHxAz7EUswo+nQDr3gartaGOVlSnwNab42sLlM6imEN5peOUbEFQdGZ0aSEHTyd9x90+TmljwsZq92GvmndnvzsB2JG847RV8hpTcp5OAwzzCgPgyUt6ct+F+jgl9e7sdfB1xdNZz28U4NEye5MAXBwdCPMvu9Hn49pyj0W0HhIoCdEC2As5yPikc8SedtdhMLGpucz5JpJ1lt7kO3jSyXqULqZEFuxK4Hh6HgDrolOJSc2lnbcLEzoCMavBZIbeV0DYSL2voxt0b1KybTxJTeOTKvNsAxOfh//bA0PvBGsx/PkMfDUVsqSiWKOx9yD5dAQUFGaDpfisdzuozSAUil0puyi0FFZ7E2R48HCg+p6irMIsojOjcTI5Mar9KHr59apTlbzGlFagq7H5u/oD0K2NJ/eMHoxJmUjOS6bYevbvW2umlCpNv2vo8Unnmn0+JWj8KntCNAQJlIRoAaSQw7llOa4nml2Y3pEbP9tMVn4xY3q1wzlcl3d+OXAZ7tZTfLo2BoCvbL1Js4aFYj4wHwwLdJ0Abn66vLhPCBRmQdIeSDmgXySwnmPNXH3h0tfg+p/APRDi1sKHI2TsUmOx9yC5+pXNdVVQ/Zih+vB29qabbzeKrEXsStlVYXySXXhAOG5mN+Ky40jKTarw/J0penxcn4A+ODk4lfY+nU36ncVq4YVNL/Dxzo+xGvXvqUzLtwVKLv6lyxwdHAl0DcRqWKscg6g/e4AR0MAV7841e0EHkGIOomWQQEmIZk4KOZw7JRYrd365mfxYfdH5XJQb8Rn59A724p3rBmIaMAuAoVlLWOd8P+22v8reQ9GsOJCEk4OJa4d0hD32tLtyc12VT79LtlXDC6qhkMPpdJ8EczZAl4v0xfz6d89sP6J29h4lF29w8am47CwNbjMY0OOUqguUHE2ODG6rt9mcWDEAsvccDQgaANAggdKWxC38cPAH3ot6j2c3PIvFaqnzcw3DqNKjZNfeoz0g45Qawogu+r0t3yPTEpUPlHxkjJJoASRQEqKZsxdy6OzdWQo5NLL1R9I4diASD1VAkimIKSMG8sGsCH6ZMwJ3ZzN0HgM3L4BOF+Kl8rnL9Dtdvh3Ol+aXebvdcgKOLobjm8HRDXpcUrbjMFugdHR9uR6lMwyUADyCYMqb+nHMKrA0/Tw6553SHiUf3ZsHDVIiHMrGKW06uYmDGboCYi//ir8PF7TVAZC97LadveJdRFBE6Xezycy+9H1kF1UsMFJXi2IXlT6eFz2PJ9Y+Ued0ubySPAothbg4uOBmrvj/qZ1HO0AmnW0IF/dpy5pHx3LXhY1bwrux9WgjPUqiZZFASYhmrro7zqJx/B51goGmwwC06T2aZ6eGc2nfYFydHMo26nQh3LyAfZf+ynLLIFwo4kKH3Vya8hn8dLPepsel4ORe9hz7OKW4dZCq919rxbu68OsEfl10Opik3zU8e5qdi0+DB0r2yneRyZEUW4srFHKwG9txLCZlYmncUg6m62CqyFLEntQ9QFmPkpujG/0C+mE1rGxN3FrvthRaCvnzqJ4s9tnhz+Lu6M6SuCU8tOohCi2Fp31+adqdqz9KqQrrgt2DAUjITah3u0RFSilC/d0xmdTpN27GQvzc6BXsxaBQ3xZbvU+0LvJbKkQzJ4UcztKql+HFYJh/H6QdqXGzgmILS/ckEqFsgUyHobXutvfQ8XzU7gWGFLzPvz2ewBh6J7Ttq8e0DJtTcWOfUF3lriBTF2PwDgFnj7M8MPQ4KIAjK6qus1oaLFWsVbK/d64+5cYoZTbIrn1dfOnq07X05+qqWYZ4hTCz50yshpUXN7+I1bCyL20fRdYiuvp0xdvZu3TbYe30JLWbTm6qd1vWxa/jVPEpevn1Ynr36Xw26TO8nb1ZHb+aV7a8ctrnl6bdufhXWWdPvZMeJWFnMin+uG8UP941vKmbIkSdSKAkRDMnhRzO0oE/oDgPIr+C9wbDz7dC0r4qm608kExukYVhzrpAAx2GnHbXT13aC++gjoy44nbUpa/B39bB47HQYXDFDZUqS7+Dule8Ox17oBT9Z9V1S56A17qWlSUX9WMPihqhRwnKepWg5r/tuwfcjb+LPzuSd7DgyILSsuADgwZW2G5YsA6UKo9nqos/Yv8A4NJOulBJeEA47130HgBr49ee9vn2HiU/V78q6+ypd9KjJMozmVSF+ZSEaM6aJFBSSsUppXYrpaKUUttsy/yUUsuVUodt332bom1CNCf2Qg4mZZJCDmfCMCAjTj/uOwOUCfb8AnPHwInICpv+HnWCbiqejpZ4Pclr276n3f2gUF/+fGgMo7sFnr4t9vQ7qH/Fu9r26eCkjyU3rWz5qRTY/oXuvVr+tH4fRP00YjEHKBunBDUHSl5OXjw0+CEA3tz+ZmngUjlQ6hPQBzezG7FZsSyMWcjKYytZeWxlacpeTU4VneKv+L9QKC7udHHp8r4BfXF2cCYpL+m0456qq3hnZw+UpJiDEKKlasoepXGGYQwwDMN+6/UJYIVhGN2AFbafhWjV7IUcOnl1kkIOZyIvHYpywNkLpn0C90dB7yvBUgS/3glFeh6krPxi1h04yduO7+vnDZgJ5gaeDLFCj9JZFHIoz8kdQkcAhi7qYLfjK32MoCfPPbio2qeLGliKoTgXlAM4ezZqj5JCVSnkUN7lnS8nIiiC9IJ0tiXpSWorB0qOJsfS/T259kkeWPUAD6x6gKsXXM2PB3+scd8rj6+k0FJIRJsI2rq3LV3uYHKgs7cuGhCdEV3rcdhT7/xcqvYo2ccoJeYmUmKVgiNCiJanOaXeXQF8aXv8JXBl0zVFiOZBCjnUT3ZBMasOJvPlhji2xqVTlGZLo/MJBaVIVIH80fVZcry6QdphWP5PAJbuTeQ+9SPhpqPgGwaTXmj4xvl20uOUANpUHZNyxiqn31lKYOt/9eMeU/T3lS/oMUuibsr3JinVKIFSgGsA/xz2T54e/nSVQg7lKaV46oKncFC6oEiQa1Dp2J/y7hl4DxNDJzK241jGdhzLyHa6B/OlzS+x8eTGave9KEYH0Pa0u/K6+XYD4HDG4VqPo3wxh8qcHJwIdA3EYlhIyUupdT9CCNEcmZvodQ1gmVLKAD42DGMu0MYwjAQAwzASlFJB1T1RKXUncCdASEjIuWqvEE1CCjmcXlZeMe+tOsz66DQOJGZjLZdldqXjJt52gJ25Ptz76kqOp+cD0EvdykKXf+Kw9VPoNplDm4/ylMNCrJgwTftE9yI0NKVg2lxI2Q/B/Rtuv10nwLJ/QPQKsFrh0GLIjge/znD1f/W4rOR9OuWw3zUN97rnM3vFO3sRhwYu5mB3TY+6nY8efj2Y2XMm3+z/hkFtB1WpLge6IMSbY9+ssOyt7W/x3z3/5eE1D/O/S/9HJ+9OpevS8tPYlLAJszIzKXRSlf119+0OwOHM0wRKNcyhZNfOox0p+SmcOHWCYI/g2g9UCCGamabqURppGEYEcAlwj1Lqwro+0TCMuYZhDDYMY3BgYB3GBQjRgtkLOYQHNGAPxHnmsV928snaWPYlZONgUkSE+DA9ogM92njSzpoEwOZML46n5+PhbGZU1wCOmDrxapGeENby293ckvwKJmVQNPz/oGPt1e7OSthIGHJ7w+4zsCd4toPcZEjaA1s+0cuH3AGOLjDWlsW86kUoKWrY1z5flS/kAI3So1RfD0Q8wJNDn+ShQQ/V6zkXdbyInKIc7l1xL5nlAr1lR5dhMSyMaD8CH/txltPNp549StWMUYJy45RyZZySEKLlaZIeJcMwTtq+Jyul5gFDgSSlVLCtNykYSG6KtgnRXJQv5NDD9yzn3DlPrT6YzNK9Sbg5OfDxjYMYHOpXYc6jwl9/hF0wsF9/Fo4cRa9gLxxMijWHUpjztZVx1iiG5e2nvYJYpx50mvBkEx7NGVIKuo6HHV/Dpg8gdo2e8HbA9Xp9v+tg/TuQekhvM+S2pm1vS1A+9Q6aRaDkYnbh+l7X1+s5JmXi5dEvM3vJbPan7+fGxTcS6hUKwP60/UD1aXdQLvUu8zCGYVTbiwWQXpAO1NKj5C4FHYQQLdc571FSSrkrpTztj4FJwB5gPmCbrZGbgd/PdduEaE7Wxq+lxCihm083KeRQjcISC8/O1z1uD4zvxuhugRUnhgWcc44BMGRgBH3ae5eWpB3TPZDPbxnGP9W9ZBlu5BnOxF74Fji00Jni7eOUdn6nv/e7pixdzMEM4/6uH695FYrzz3nzWhx7z4v9PWyEqnfnipujG+9e9C6BroHEZcexJn4Na+LXkJyfjKeTJ+M6jqv2eQGuAfg4+5BTlENSXlKN+69tHiWQyndCiJatKXqU2gDzbHenzMC3hmEsUUptBX5USt0GHANmNEHbhGg2vj/wPQBXdr2yaRvSTH26Npa4tDy6BLpzy8hO1W+UeVR/9w2rsuqCzv68fvtlXPtfhZPJ4IehwxqvsY2t8xhd+tyw6p+H3FFxfe8roE1fSNqtxzL1uqzieqsVFtwP7oEw4Zlz0+bmzN5zVJp651O23DB0L14L0ta9Lb9d+Rs7knZgUDaIr4tPlxpvwiil6OrTlW1J2ziccbhCVTy7gpICcotzcTQ54uXkVe1+7IUnJFASQrRE5zxQMgwjBqgyktkwjDRg/LlujxDN0ZHMI2xO3Iyr2ZWpXac2dXOanfiMPP6zUo+deP6KPjiZq+kct5RA5nH92Ltjtfvp39GH7x+dgdWgSm9Ui+LqqyfIPb4ZQkZA2z4V1ysF4VfqQOnQ4qqBUvwWnZYHcMFd4Fn1oriKFhgw1FnlYg6OrmB2hZJ8KMoFZ48ma9qZ8nLyYkzHMfV6TjffbjpQyjzM6A6jq6wvXxq8ptQ8ewEHGaMkhGiJmlN5cCGEzXcHdArV5Z0vr/FObWv2r4X7KCi2MqVfMCO7BlS/UXY8GBZd6MDRpcZ9+bg54efewHMmNYVBs8HsAmMerX59j0v090PLdA9SefsXlD0+tLT217FaYO0b8Gpnncp3Pk5mW7mYAzRa5bvm7HQlwmsrDW5nH6OUkJuA1bDWuJ0QQjRHEigJcQ4VW4tJzU/FqOXi8lTRKRYc0Reu1/W87lw1rcXYEJ1aWsDhH1Nqmbg1w552F3puGtbUBlwPf0+ELhdVvz6ot+5Zy02Gk5Flyw0D9s0v+/nQkppfIysevpwKK56H/HRdSW/p38+/YKlyMQdoFgUdzrXTVb6zB0rVTTZr52J2wc/FjxJrCcl5UqNJCNGyNNU8SkK0So+teYw/j/1JkFsQg4IGEdEmgpHtR9LRsyw1bP6R+eSV5DG4zeDSO7qizHurogGYM6YLwd6uNW+YEae/VzM+6bxVWyqcUtD9Ytj6iQ6GOgzWyxOiIOuY7j0pyIQjq3TBB8dK7+2eX2HhgzotzaMNDL4V/nodNr0PRafgsrfAZEtfzE2F1MNALQGUTwh4dzjjQ21UlYs5QIsu6HCm7P9/YrJiKLGWYDZVvGQ4XSEHuzCvMNIL0onJjKl2rJMQQjRXEigJcY7EZsXy57E/AUjOS2Zx3GIWxy3GrMzcM/Aebgm/BZMy8f1BXcRhZs+ZTdncppVySN/N92xTYfHO45lsOJKGh7OZm0aE1b6P1hgonU4PW6B0cAlc9A+9zN6b1Gc6nNgGCTsh9i/oPrnsedEr4Odb9OPuF8MV74N7ALQfDD/MgsgvIS8N3Pzh2EZdivx0HN3h7g3N8/yU9ij5lC1rhT1K7o7utPdoz4lTJziWfYzOPp0rrK9L6h3oyWsjkyM5mHGQEe1HNFp7hRCioUmgJMQ58sPBHwC4qutV3Nj7RnYk72BTwiaWH13OO5HvsOHkBq7ocgWxWbEEuQYxLqT6sr3nvewE+Hi0vui+ZzM4e5au+mjNEQBmXRCCt+tpSnnbK975tJLUu7oIGw1OHrqoQ+Zx3aOz3xYo9Z6qq94l7ISDiysGSn+9rr+PfBAmPFvWc9VtAtzwC3x7LRxYWLa92UWn+pmdq29HToIOZJc8BTO/beCDbADV9Si1wkAJoKtPV06cOsGhzENVA6U69ij18NPzwB3MONg4jRRCiEYigZIQ50BecR6/R+upwa7vdT3dfLvRzbcb1/S4hnUn1vGPdf9ga+JWtiZuBWBGjxk4mlronD5n6+AiKCmA7BOw5t8w6QUAjqScYsneRJwcTNw6qlw58OIC2POLrurm5F62XHqUqjI7Q5dxunjDoSUQNgrSosHVD0JH6V68Na/ogg72qnbHNsOxDXrdhY9UTe8LGwU3L4DNH0NQLwgdAcEDwFxLgYzsBHhvCBz8Q79W+aCsObBXvWvlxRxAp9+tiV/D4YzDXBx2cYV1p5ts1s4+YfbBdAmUhBAtixRzEOIcWBizkFPFp4gIiqCnX88K60a1H8UvU39hTAddutdsMnN196ubopnNQ/liAps+hOT9AMxdE4NhwLSI9rTxKlfFbs2/4fe7YfUrFfeTUfMcSq1ad3v1uyVlaXc9L9UT0wYPAM9gyDmpe5YA1r+tvw+5o0LvXgXtI2DaxzDqQeg4tPYgCcArGMY9qR8vfkwHu81Jvj1QKl/Mwce2rnX1KNVW0KGuqXddfbuiUMRlxVFkKWr4RgohRCORQEmIRmYYRmm575qq2Pm7+vOfi/7D22PfZu7EuQS41lDy+nxXlAsxa/TjXlPBWgKLHiUxM59fd8SjFNx5Ybn0H6sVdv2oHx9YWFZ9rTAH8lLBwVkXHhBluk0ClB6HtPsnvayXba4upcp6dw4theQDuofP7AIX/K1h2zH0Tp2elxEH699p2H2fDasFCqsLlFpn6p29oEN0ZnSVdXVNvXM1uxLqFUqJUcKRzCMN30ghhGgkEigJ0ci2JW0jOjOaANcAJoRMqHE7pRTjQ8czpO2Qc9i6ZiZmDVgKof0guPwdnRIWt5ZNC+ZSbDG4OLwtnQPLTfZ5fLOeLwkgPcZWaY2KpcFN8m+uAo9AXfHOUgRph8HZCzqPLVvf3ZZedWhxWQAz8Ab9vIbk4AiX2sY+rXuzLFWyqdnT7py9y6r4QausegcQ5h2G2WQmPieevOK8Cuvq2qMEuqADwKGMOhT6EEKIZkKuIIRoZPbepKu7X42jQysdd1RXhxbr790vATc/mPgcACOi38KdfP42pkvF7e09Isqh4vMzJe2uVt3LjTXpPrli0YVOY3QP0skdsPtHUCYYfm/jtCNsJPS9Ro9JW/Ro85iPqbSQg3fF5a20R8nR5Egn704YGBV6g4otxWQXZWNSJnycfU67HynoIIRoiSRQEuIsHM85zi1LbiktwlBZUm4SK4+txKzMzOg+4xy3roWxWnW6F+gy1sDx0GnsNXUnSGXwWuBi+nf0KdveUgx75+nHox7U3+3Pt/dOSMW76vW4pOyxPe3OzsmtrIfJWgLh08CvE41m0r90783hZVXHmTWF6go5QFmg1MqKOYCufAdwOLNsnJI97c7X2ReTOv2lhL2gw6F06VESQrQcEigJcRZ+OvQT25K28eXeL6td//Phn7EYFsaHjifILegct65lyC+ycOsXW3n0P1/CqSQMrw7Qpg9HUk4x4+PNPJ5/E1YUl5yaV1rYAYCY1ZCfDgE9YOQDYDLDsU2Qly4V704nqLeeA8knBLpWkw5avsfJHoQ2Fs+2cPVnuudqzSuw++fGfb3TKZ1DqXKPko9tfevqUYKytLnyBR1KxyfVIe2u/D4OZhzEaA49h0IIUQcSKAlxFrYnbgcgKiUKq2Gtsn7NcV2Y4KquV53Tdp0LBcWWGtcZhkF+Uc3r7axWg0d+2snKA8l0SNHv1fy8vsxdG8O1H28kMbsA19BBlAycjTIsFdOz7Gl3fWfoi9rQEWBYIPrPimOURFVKwa1L4N5tugepsl6Xg2c76D8T2vZt/PZ0mwiTX9KPf7sbjlfqoS3KPXdpedXNoQTlUu8yz007mpHefr0B2J60vXRZ6fik0xRysGvr3hZPJ08yCzNJzktu+EYKIUQjkEBJiDOUV5zH3rS9AGQVZhGbFVthfU5RDgczDmI2mYloE9EUTayX3MIScgtL6rTt6oPJ9HlmKa8uOVDt+leXHqTX00sY89oqHvlpJz9uPc7x9Lwq27395yH+2J2Ap7OZ6332ATAvry8vLTpA6qkiRncL4Mtbh+I08enSwg7s+QWK8uDAH3onfafr7/ay1wcXS49SXTg41jwhrHsAPLwfrvzw3LXngr/B4Ft1MY/vr4fIr2DBA/DeUHipnV5WnN/47SjtUfKpuNzZG1BQmA2Wuv2dnC8i2kTg7ODM/vT9pOanAvUr5AC6WE1p+p0UdBBCtBASKAlxhnYk78BilPWaRCZHVllvNaz08e+Dq9n1XDevXlJyChn/xhoGvbCc5xbs5WRmzRekBcUW/vHbHjoaJ/l49SHWHU6tsH7t4RQ+XK0HfR9Ny+Pn7fE89ssuRr+6iju+2saOYzp16bcdJ3h3ZTQmBXOvbEvgqYMYju5Mnz6TAR19mDawPZ/cNBg3J3OFwg4s/bvuTSo6pavj+dnKhdvGNRG9oqyYg4xROjuVJ5dt7Ne65FVdTCI3GebfB9u/gFTb4P+Di+B/M6DwVOO2o6YeJZOpLB3PPo6plXAxuzC47WAANp7cCJSbbLaOPUogBR2EEC2PBEpCnKFtSdsASis+7UjaUWG9vcBDcy/3bRgGj/+yi8TsAgqKrXy+Po4xr63isZ93VtsL9MHqI/TPWsUq54d5xvwVD/8URWaenkQyM6+IR37SE5U+OKEbC+4dxT8v683k8DY4m00s35fEVR9s4JqPN/LYL7sAePqy3gwv0e+l6jKOywd15rd7RvLmtQNwcSxXnnnADXpczalEWPSIXta3XIEMv856vFJhlq6i5uoHLl6N8I6JRuPgCNd8CT0u1eOkJjwHty2Hu9aCR1vdo/j1VY2b/lZTMQdotZXvAEa1GwXAuhPrgPqPUQIp6CCEaHkkUBLiDG1L1Bf3N/a+EdA9SNWtH9xm8LltWD39b/MxVh5IxsvFzBe3DOGyfsFYrAY/bovnsv+sI+p4Zum2R9Ny+XjNYe43/wrATPMqyE7g77/twTAM/j5vD0nZhQwK9eXecV3p28Gb20Z14uMbB7Pu8YuYM7YLHs5mtsSmU1Ri5YZhIdw8IgwOLdEvUL6IQGUmE0x5HVB6DiBlgvBKY796lHu+pN21TK6+MPM7uP4HXUii41AI7ge3LALvjhC/Bb68DLLiG+f17UFY5R6l8staYeW7ke1HArDh5AYsVku9U++gYkEHIYRoCSRQEuIM5BXnsSd1DyZl4toe1+Lu6E78qfjSQcqnik6xP30/DsqBAUEDmraxtYhJOcWLf+hKci9e1ZexPYJ47/oIVjw8lnE9AsnKL2bWJ5vYHKMvip5bsI+R1kh6mPRFqiMl3OW8lD92JXDvdzv4Y3cC7k4OvHXNAMwOFf+9BHo68/jFPVn/xEU8fnFP7ruoK89cHo7KiNMV7FB6Tp/atBuox7EAhI3WFdPK616u7LUESucX/y66AIVfF0jcDe8M0Ol5aUdO+9R6sQdB0qNUQZhXGO3c25FZmMn+9P1lPUr1SL3r4tMFkzIRlx1HQUlBYzVVCCEajARKQpyBnSk7KTFK6OnXE29nb/oH9gfKepXs45fC/cNxc6ymqlg1DMNgwc6TLN+XdNbtMwyDDdGpzP3rCHGpudVuU2yx8n8/RJFfbOHKAe24vH+70nWdAtyZe9NgrhjQjtwiCzd/voWXF+1n5YFk7nVcoDfqdy0AN5pX4MUp/tiVAMAzl4cT4l/zMXu7OjJnbBcentQDRwcTLHlC9xD1uxY86lBCfeLzMO7vMOWNqus6Di27mJWKd+cf7w46WAq/Ss/xFPkVvDcYfrgBljxZ9rXubV0p70zUVMwBWnXlO6VUaa/S+hPrz6hHycXsQphXGFbDypGsBg5whRCiEUigJMQZsI9PGtJGjz8aGDQQKAuU7OvtA6BPxzAMXll8gPu+28EdX21j4a6TZ9Quq9Vg2d5ErvxgA9d/upmXFh3gojdWc/93O9ifkA1AdkExqw8m88hPO9kZn0U7bxeeu6JPlX05Oph485oBXDekIwXFVj7+K4bB6gAR6qC+iJzyJnQei6Mlj+fbbQJgcngbZgzuACejYNXLUJhTe4MPLtZpd85eOgCqC2cPGPMYBHSrus7kAD2n6Mdtqh6TOA94BMGML3Rp84E3gHKA/Qtg0wdlX38+A7/cDtbTl6ivoqZiDlAWPLXCHiUoS79bf3L9GRVzABmnJIRoWcxN3QAhWqLS8Ue2QKjGQKkO45OsVoOn5+/hm03HUEpPF/Pwjzvp6OtG/44+dW7TkZRTzPlmO4eSdFUwP3cnhoT5smJ/MvN3nmT+zpN0CnDnaFouVtuUNErBG9cMwNvVsdp9OpgUL0/ri6uTA5+vj+NRj8VQDAy9UwcsIx+EmNVcUTAfY9o9TOofhopZbSvlnKcr001+sfoGF+fD4sf043FPgWebOh9rrSa/rCdR7TW1YfYnmqeArnDF+zD2SR1wW3RBEawWWPuGrpL357Mw6V/122+depRaZ6B0QdsLMCszO1N2lk4a61Pd+1SL7n7dWRy3WMYpCSFaBAmUhKingpICdqfuRqFK50fqG9AXB+XAgfQDpOansi91HyZlKg2galJisfLYL7v4NfIETmYTH86KYPm+JL7fepzbv9rG7/eMpJ1P3UqLPzt/L4eSThHs7cIdoztz3dCOuDmZOZGZzyd/xfD91mPEpubi6KAY0N6bIZ38uDi8LQNDfGvdr1KKpy/rzdUdswn/bSuYXeGCu/TKzmMheAAqIYqrWAVxHeDHm8ouWrd/ARc+UnaBWd66tyHzGASFw5A76nSMdeLiVbXIgzh/eXeAoZV+f9oN0NXxNrwLAd0h4sa6789e9a7aYg623+NDi8GnI4QM12PhzmUZ9Sbk4eRB/6D+pRPP+jj74Giq/iZLTUoLOqRLoCSEaP4kUBKinnal7KLYWkxPv554Oeny026ObvTy68WetD18tfcrSowSwv3D8XDyqHE/kccyeH3pQTYcScPNyYFPbxrMiK4BjO4WSFxaLpti0rn9y2389LfhuDvX/qe650QWaw+n4ubkwOIHRuPj5lS6rr2PK89ODef+8d04mpZLz7ZeuDo51LK3qpRShMd8oX+IuFFPSKpX6MpkP82G1S/ri0xriQ58Ug9C7F+w9VO48NGKO0yPgXVv6cdTXgcH+VckGlCnC/UYtgUPwMIHwa8ThI06/fMMo1x5cO+q64N66u8nd8Bvc/Rjrw76d7jHJVW3Pw+Naj+qNFCqb9odlKXeHUw/SE5RDp5OnmfVno0nN/JB1Af8a+S/CPMOO6t9CSFEZXJ10gSKLVZsWQsAmE0Kk6ludyQNw0A1s7uXiVkFfLI2hlUHkrmgsx93XdiFsAD3pm5Wo6kprW5gm4HsSdvDDwd/qHY96PO3LjqVD1YdYaOtkpyXi5nPbxnKoFB9t9rJbOKjGwZx5fvr2ZeQzZR31zKqWwBDwvwY2smPYO+qPUwfrdEDo2cODakQJJXn5+6En3v1604r7Yie5FU5wPB7K67rNVXPYZQeo38e9X8w/hldyS72L9j0kX6Oo63dVgssfAgshdB/JoSOOLM2CVGbQbMh5RBseh++nAq1FVXxbAMhw6BdBBgWcHTXczpV1nWCntMpdg0c3QjHNkJ2PHw/C6bNhb5XN9rhNBcj243knch3gPoVcrALcguii3cXjmQd4fZlt/PxhI/rnb5X3vtR77MzZSdf7P2CZ0c8e8b7EUKI6kigdBasVoP/ro/l/VXR+Ljp8SD2i9kQP7cKAY1hGKw6mMyHq4+wNa5ifntbLxdemtaHi3rWPkZja1w6c76JpIOvK3PGdmFirzZ1DrCqYxgGRRYrzubqexcKSyyYTSYcaniNuNRcPlpzhF8i4ym26MgvJjWXH7YeZ0q/dtw9tgu9gpvXhJ8Wq8H93+9g5f5k+nf0ZmiYH0M6+TEo1Bc3p6p/Dsl5ycxeMhsPRw9u7XMrE0Mnlk4kW7lQQ0RQBF/v+5q8Ej1Ja/mJZq1Wg2X7kvhgdTS74vUda09nMzcOD+XWUZ0I8HCusC8fNyc+mz2EmXM3EZeWR1zaMb7ZdAyAWReE8MKVfUp/v46m5bJodwKODorbR3dqoHeqHEsJzLtLX0AOmFW1mpzJASb+C+bfCyPuh9EP6eW2tDwSomDHN2XpUcufhphVOo2prgUchDgTk/4Fuck6yC+qpbBIWg6kRevfU6g+7c4uuJ/+GnEfWK2w8nndO/rL7XpcXsRNNT/XatFpqY51S6dtjnr49cDfxZ+0grQz6lFSSvH+hPe5fent7Evbxy1Lb+GTSZ8Q4BpQ43MKLYU4mZyq3CQ8nnOcnSl6guvlR5fz1AVP4eRwhjeDhBCiGsoo37XRwgwePNjYtm1bk7x2cnYBD/+0k7WHU6tdH+TpzJBOfgwN88Pd2cxn62JLq46ZFKXBh2FAiW1k/c3DQ3ny0l64OFYNXNYeTuHOr7aTX1xWxalbkAdzxnbh0r7B1T6nsMRCem4Rbb1cqnzAHEjM5sHvo0jIKuCjGwYxvEvFD7w9J7KY/bkOCO4Y3YlZw0LxsKV/7U/I5oPVR/hj10mshs6+urRvMDMGdWDx7kR+3VEWOI3vGcTd47qW9pY0lPiMPHIKSkp/dnRQdA7wOG3g+OIf+/hkbWyV5QEeznxxyxD6tK+YbvPYX4+xOHZx6c8hniEk5iZSZC1i7bVrK9wJTc1PZdyP4wBQKNbNXIergwcLdp7kg9VHiE7WRRb83Z24dVQnbhweipdL7fn9BcUWdp/IYktsOlvj0tlwJI2iEiuPTu7BPeO6AvD3ebv53+ZjzBjUgddm9K91f2dkzauw6kXwag9z1lc/3gj0L3Pl3s6983Rank8o3BcJUf+DBfeDyRFu+q1u6VBCnK3CU2BYa1hp6CDJ3kN0IlL3DNWnCMRfr8NK2/YX/xuG/a3qNlYLfDEFjm/WFRlDR+gxTp3H1h6YNUNPrX2KBTELuKHXDTw+9PEz2kdyXjJ3LruTI1lHCPEM4dNJnxLsEVxluxVHV/DoX49yc/jNPBDxQIV1n+z6hHd3vFv687vj3mVcyLgzao8QdaGU2m4YRvOeRV40KAmUzsDyfUk8/ssu0nOL8HVz5JXp/Wjj5cK2uHS2xKaz7WgG6blFVZ4X5OnMHaM7M/OCkNKgw2o1+GRtDK8vO0ixxaB7Gw9entaPgR19Si/6l+1N5N5vd1BksTJjUAfC23kx968YTmbpCfucHEz07eDN4DBfegd7cSgph62xGUTFZ1JUYmVQqC/3jOvCuB56jpovNsTx8uIDFJXoCwdns4mPbhxUun5bXDq3fL6VnMKyQMTLxcysYaEcSsxhxQE9qaqjg2LawA7cNaYznQPLxuKczMznk7UxfLflGAXF+jWG2VLyhnfxrzaoqwvDMNgcm877q6KrDVC7BLpz99iuTB3QTs/PU8n3W47xxK+7MZsUH8yKwAC2xqbz1+EUDiWdwtPFzBe3DGFQqB8Am05u5o7lt2NYHTFlTcYjYCs5Fj3HUXff7vwy9ZcqrzHl1ykcyzlGD9+eXBH4Gh+tieFEZj4A7bxduPPCzlw7JKTeY4Tslu1N5K5vtmMY8OGsCAaF+TLq36soKrHy50MX0jXo7PL9q4jfDp9N1L1JN/2uL+rqw2rR89ykx+hxS9s/12OYpr5XvwH2QjR3mz7Uc4IBXDUX+l9bcf3WT+GPh6s+z6Mt3L4cfEJq379hQMoB8O9afVrgOXQg/QDPb3yeJ4c+Sd/Avme8n4yCDO5afhf70/cT7B7MJ5M+IdSrrMd6X9o+Zi+ZTX5JPs4OziydvrRCut9Vv19FdGY0g9oMYnvSdi4Ju4RXx7x6VseWcCoBb2fvOs9/J1oXCZRaHwmU6unn7fE88pPu6h/dLYA3ZvQnyMulwjaGYXAk5RRbYjPYGpfOycx8rhjQnmkR7WsMEvacyOL+73YQY5sc1NvVkcGhvoQFuPPFhjgsVoPZI8J4+rLemEyKohIrv0Wd4KuNcew9mU1Np9HV0aG0F6pXsBf+7k6si9ZBxsyhHQH4bstxHB0U7143EE8XR+74ahv5xRam9A1m+qD2fLQ6hi1x6aX7dHE0MXNoCHeM7lxrRba0U4V8vj6OLzfGlfb+ODmY6NdBV1wb1TWAEV38Tzvmyp62+P6qI2w/qtMW3ZwcCPEr+yBLPVVE6qlCQBcvuGN0JyaFty1t34Yjqdz02RZKrAb/nt6Xa4eUXZQUlVh58IcdLNqdWFpUIcTfhSt/m0ahKYHC5IkUpY0HLLj77aVDx/3cNXAm03pWHbz9+JqnWBS3AIecC8mMvxSAzoHuzBnThSsGtMfJfPZTl3205givLD6Ai6OJMd0DWbo3iUm92zD3pgb+312UCx+NhvQjeoxRTWW+T2fb53pAvd2I++tfslmIlmDzx7rkvbOX7n21Bz+5qfCfCF0o4qq54NlW917tmw/JeyGoN9y6VFdsrE5umu6JPbAQOg6DWT9WX2yiBcouyuaeP+8hKiWKANcA5k6cSzffbiTlJnH9H9eTnJ+Mq9mV/JJ87ux3J/cNvA+AQxmHmD5/Ot7O3nx76bdMmTcFFwcX1ly75oyCnEJLIW9vf5tv9n9DRFAEX1z8RbMbDyyangRKrY8ESvWUXVDMle+t5/oLQrh1ZKezGiNUWV5RCW8sO8Si3Qkk2HqL7O4e24VHJ/eo9h93Vn4xkUcz2BKXzsHEHLoGeTAkzI/Bob44mU18t+UYc/+KITlHBxI+bo68Mq0fF/dpi2EYvPjHfj5dF4tJgdlkoshiZXpEB/49vS9mW8/Mlth0ftp2nGBvF24eEYZ/pTE1tckuKOabTUeZH3WSg0k5FYK6XsFe3G1LH6w8FspiNfhjdwIfrIrmQGJOadtvGdGJm0eEVihaUGyx8nvUST5YHU1MSm7p8vY+rgwJ82XVwRSy8ou5Y3Qn/j6ld9l7V5jFjuQdmJUjv65349cdJ3Eym3DxX4vhtwBVHMDrI77Gy8W1Qk+Wk4OJGYM7cNeFXQjxdyM9t4jP18fyxdYtFHsuozD5EnoHdeSecV2ZHN62xnFeZ8IwDB77eRc/bY8vXfbr3SOIOE2Z73pb+H+w7b+6fPcdK8HR5fTPqU5xAbzTD04lQY9L4dpv9LgmIc43hgE/3KADmtCRcPMC/bv++z16/FOXi+CGX8tSVPMz4dMJkHYYuk2Gmd9V/ds4sgrm/Q1OJZYtCx6g9+Ne/zFCNTq2CdwDwb9Lw+2zjvKK87h/5f1sTtyMt7M374x7h1e3vsq+tH1EBEVwz4B7uG3ZbXg6ebL86uW4O7rz9va3+WzPZ8zoPoOnhz/NzYtvJjI5kpdHv8xlnS+r1+tHZ0Tz+NrHOZRRNgnuJ5M+YVjwsIY+VNHCSaDU+kigdAaKSqwN0jNQE8MwiM/IZ2tcOpHHMugV7MWsC0JP/8RaFJZY+GX7CQ4kZnP32K609S676DUMg7f+PMy7Kw4DcNPwUJ69PLxBg0C7rLxith9LZ3NsOvMiT5QGb2H+bkzt3640MCu2WFmw8yRxabowQpCnM3de2JmZQ0NqLZVtsRos25vIj9uOs+1oRoVxTON7BjH3psHEZEXz/YHviUyOJDozunR9Z+/OeBdNYu0ub9w7v4VyKOKVEe8ypVtZzvvu+Cw+WB3Nkr2JGIYeazaiiz/b4jJKe+6GdvLjnnFdubBbQKPdkSwqsXLDp5vZEpfOBZ38+OGu4Q37ArFr4cvLwMEJ7lgFbfuc3f5iVkP0nzDmCT1RrRDnq9xU+GC4LiIx4Tk9FumziXpc3t2b9ES55aUdgU/H60lsh90DF78EJUW6BPmeX2DLx3q7jsNg/D/h93shIxYCe+lxfp5tz77N9jFWzt5w9wY9N9U5Vmgp5OHVD7Mmfk3psg4eHfh2yrf4uvhy0+Kb2JG8g0cGP8JNvW/i4l8u5mTuSf47+b8MaTuE7w98z4ubX2R0+9F8MOGD0n3sT9vPX/F/YVD9tc6polN8f/B7Ci2FdPTsyIDAASyIWcDw4OHMnTS30Y9btCwSKLU+EiiJUgt2niSvqIRrBnc8JykH9uDtozVHOJaeV+02IX5uzBnbhWkR7WuszlcTi9XgYGIOW+PSScst4q4LO5NnyWDa/GlkFmYC4GRyok9AHxJyE0jITQDAhBkrJYwPGc/b496udt/RyTl8uDqG36JOYLEV47ioZxB3j+3C4DC/erXzTGXmFfH5+jiuGti+YcuxW4rho1F6PMS4v8OYxxpu30K0BoeWwbczdHDkE6LTV0c/DOOfrn77uHXw1ZVgLdYlypP3QYktq0A5wNgnYNRDer6x7AT4+kr99+nXGWb9XH0vUNx6iN8CQ24H5xrGLhoGrHge1r1ZtixsNNw0H0zlbgYWZOkU2u4Xl80l1QiKrcU8ufZJlsYtxcPRg28u/YYuPvrY1hxfw70r7yXILYhXRr/CrUtvJcgtiOVXL8ekTKQXpHPRjxehUKy8ZiW+Lr6sOraKh9c8TLG1+LSvfVXXq3hi6BMUW4uZ9PMk8kry+P6y7wn3D2+04z0bUclRbEncwrU9rsXb+fxIw2wJJFBqfSRQambmHZ5HoaWQ63pe19RNOWdKLFaW7E3kYGLF8r092npycXjb0l6ms2UYBnNWzGH9ifUMaTuE+wfeT2//3jg5OFFsLWZRzCI+2/MZsVmxuDi48PuVv9POo12t+4zPyGPVwRQiQnwIb3eefFhteA+W/R18O+k74GeacidEa/bHw7qAA4B3R7hnMzjVckMj8mtdYt8uoAeEDtflxtsPqrhtbip8fRUk7gInD7j0NT0nmVJQUqh7hzb8R2/r2wmmfwodKl3bWa26+MSWj3UwdvEr8NerkJsCk16EEba25KbpwCxxl+5xmvUThFxwVm9NbSxWCwtjFtLbvzfdfLuVNdewMn3+dKIzo2nn3o6TuSeZHT6bhweXFciY8+cc1p1Yxz+H/RNPJ0+eXPskFsPCxNCJdPKueeqEgUEDGdW+rALna1tf46t9XzE5bDKvj3m9cQ70DBiGwcaEjXy6+9PSaSouDruY18a81sQtaz0kUGp9JFBqRvan7eeahdcA8OGEDyv84xZn77sD3/HS5pfwdvbm16m/EuQWVGUbq2Fl48mN+Ln40cu/VxO0sollJ+gqdUWn9J3qbhObukVCtExFefDxhXr80bXfQK/LT/+cw3/qnqSQ4acff1SQBQse0CX4AcKnwbC74Y+HdFCjHHRvVkasfjzuSRj5f7oC5bENsH8hRC/X6bUzvoCeU+DgEvju2rKUWzf/st4rs4tum6M7zPy25gqYBdl6bGPc2ool2QN76R61s7jxsuDIAp5a91Tpzz9c9gO9/XtXWR/kGkRKfgoGBrf1uY0HIh6oV5ZEYm4il/x6CVarlQXeFxDSdyZ0aZqy4/kl+exK2UVkUiSrjq9if/p+ADwdPSmyFlFoKWxR46kMw+DjXR/j5ODErX1uberm1JsESq2PBErNyN1/3s3aE2sBPV/PvCvmyeR5lVisFpYdXcbi2MV09enKrF6z6jQ7fExWDNcsuIZCSyFvjHmDSWGTzkFrmyFLCSTuLJszRplg6J16PiOl4OfbYM/P0PMyuO5/Td1aIVq2Uyk67S6kkS5iDQOivoVFj0JxWREbfEJ1L1Jwf51at/E9vdzRTU+Ka2d21X/nXceXLVvwoC7jH9hTB0YZcTrIueEXWPkC7PwWHJzhmi+hR7nKn7lpsPlD2DJXB3HV6TsDpn1Scb61gmzds5W0t2yZMulth82psG1xdgJTfp5EggOEFRUzv+M01IRnwKyLC+UW5zLmhzEUWvTY1/sH3s8d/e6oxxta5p9rn+K3mAXMyM7h6ax8mL0IOgw6/RPrqNhSzIubX6TEWsJN4TfR3bd76TqL1cLyo8v59sC37E7ZTYlRNtbWz8WPG3vfyLU9ruX7A9/z7o536eTdiV8u/wXHMy0bX5Srz7uLl65w6tcIE5fbLD+6nIdW60nJP5rwESPbj2y012oMEii1PhIoNRORSZHcvORm3MxuBLkFEZcdd1b/5Fui1PxUIpMiiUyOJCo5CkeTIwPbDGRQ0CDCA8JZc3wN/93zX47lHCt9jrODM9O7TWd2+OxqJysE/YE0a9Es9qfvZ2qXqbw46gzLXLdERXkQv1VXtDq2AY5vrXhBZddhqL7oWfGcvnN8zxbwPbsCIkKIcyTtCPx6B5zYrlPwLnm1Yqnx6BXw2xxdedI9SBeYCB0B3SeDb1jFfZWfFgB0hb0b54Gbn07XW/wYbP1E91J5tS97Xm5y2biq0FEw5LayNhRkw/z7dE/1uH/AmEf18rx0+GY6nIys/riG3wuTXtDBUnEBfDWVeRl7eDrQn8fSM7kxKxva9NVBoW3s1NPrn2Ze9DweG/IYN/Y+w7naDIOYn67nyrzdOAIfJSYT7eFHZM/xHC9I4/Iul3N9z+vPeCyvYRg8veFpfov+rXTZ2I5jubXPrcRmxfLZ7s9KP+dMykRPv55EBEUQ0SaCUe1H4WrW014UWYqYNn8aR7OP8pDPAG6J263nrrPJdvcjqucEtru5sSNlJ26Obrw86mV8XSpVSLUHx6CD1D5Xw6j/gza9aUh5xXlc8fsVJObqCo6hXqH8OvXXFnVDWAKl1kcCpTNwOOMwXX26NljBA8MwmL1kNpHJkczpP4dBbQZx+7Lbqx8nYxgV78Y1wGtXexwno3Rah5sfXP5OrZMhJuYm8uXeL1l2dBnTuk3jrn53YTZVU5muhrbH58Tz9Pqn2Zq0tU5t7uDRget6Xse2pG2sPr4aALMy0zewb+mHSVefruxP309kUiSbEjZxKOMQ7dzb8fPUn/F0auBJWRvS2Z7fvPSyoOjoRkiI0hO8luffVd/hDhkBWfH6LnB+Rtn68hcyQoiWwWqB7BM1/68uKYRTybqi3en+x8Rv12OggvvpHqfyczaVFoB4CypXkus2GUY/VH0P2sHF8N1M/ZyrP9e92F9dqeeR8gmFK94vG8OVtFdPT2AthkG3wJQ3dKC36wfwak/irO9pU1SE+vV2nVpodtFFK4bfS7FHABkFGQS5BkLMKlj/jg4k20fo/3mhw3Vq4dENulf9+BbwDIYR9+npC0wmWP0KrH6ZB9q2ZaVr9RfxI9uP5IWRLxDgGgDA3pTdfLryEQ7mneT5gQ8zeMDsGt/ez/d8zpvb38TFUFxSrFjkBIVYK2zTwaMDt/a9lUvCLsHDqeZKoesP/MzfNj+Hq9XK/PgE2lgsbHNx5lNvLza6umBUOtddvLswd9LcstTz8umWPS+Dfb/rCcZBp1kCK1wced3HnUluIdw77jUc29Y+yfCHUR+y8vhK/jXyX/T0Kyv+8U7kO3y6+1N6+fWi0FJITFbMmd0QTj2sA/wmmHhZAqXWRwKlejqWfYzLf7uc3n69ub3f7YzrOA6TqqXYgGHoO3S1lEReG7+Wu1fcjY+zD4unLcbDyYNH1zzKkrglFSuv7f6ZvMWP4dK2H6Yr3gfv9jXuU7+0QX5JfrWT78XnxPPMhmfYk7qH8IDw0gCjs2eYvrO0/h2wluBrteDs5A2XvQl9r66wj9isWD7f8zkLYhZQUu5ivF9gP14Z9QodvfSEtuSm6QlHY9foHPXBt5V+UC84soAXN/6LXEs+rgb09+1JRNhFRARFUGQpIjI5ksikSPak7iHUO5Tb+tzG5LDJpYHYoYxDfLb7M5bGLcViWKiJh9md9yd8QESbiFrfszopyNIDqKubC8gwoCATXHyqvxixlOi7umVPgMxjtg/tTfpD280Pht8DA28Ax0oT+uZn6F4iu5ICfRfZ/vyU/RW3VyZo27fsAiFkOHhUGptVeAoiv4SNH+h1tyyWAg5CtHbF+VX//5SXm6o/2+wc3cAjsPZ9bvgPLPuHDmw82+q0voDucNPv4FWpcM6hZfDjjfp/XFBvXQnQ0R1uXaIDOIDCHFj8OETZ0oQdnGDALP1/bvOHusR6fQT21OMyN/wHlIkDU99k9v6P8XL0ICIzmYjsNJzb9OM1hxyyirLwc/Hjrn53sfr4KjYmbCrdjYvV4O0+f2PkkHurvMTKoyt4cPWDGMBbSSlMyMsn1WTiG29P5nl6EGAobnXtzOTOl2IOHQlt+lSsQGhnT7tc/Bj/5+PCn+5uDPHqSqGDA7syDgJgVib6lBhE5GTSt7CI9/0DiDYrOnh04NPJn9IeJ/hwuK2Axws6WMw8po8/8msoyWeBuxv/DPTHYvs861VYxL89+tBp1GPVlpGPSt/HjX/p1DpPJ08+nPAh/QP7E5sVy7T50yixlvDNpd9QUFJQdkP4kv/RzlxW6CSnJI9cJ/fS4zabzPi7+KMSomDtm7B/AVz5AQy4vn7ntwFIoNT6NLtASSl1MfAO4AB8ahjGKzVt2xSB0trja/jH2idILz4F6Lszt/W9jYmhE3Exl7u4tFrhwEIK1r5OUspeOrgH4xAy3HaxOgICe4BSWA0r1y68lgPpB3hk8CPcHH4zoHtppv42lfySfO4Ov5XkQwuJzD1BjJMjHYqLuTW3hCvGv4pTn2mlL1lcnMeB2BVEpu1he8ZBdmQeJLP4FGMCBnJ75ysY4KMrCC04uY4X939OrqXipLbVcUTRpyCfiIJCBgYPI63TCLZnHiIy4yDx+ckAmIDJhVZGZ6XzTmAQScqKm9mNx4Y8Rnh+Hqx8EfJTy3YaOgrrmMf48sjvLIpbBMCE3DyeSU3Hx2roO5Jjnyy7W2QYGBlxqMIcapKVl0pUzBK2J21jR34isQ7QvaiYiIJCIgoKGVBYiJtPmP4ADR1u+/CpeT6mCgyLvsNpH9eTfgScvaDjUL2/dgMg5ZDuxTm2SX/oeAbbXmuEvvN1IrL21LfquAfB8Lv1d/u+06Jrf46Ds65uZT/ODkMrpuCc9lgbtsdSCCFKGYZOwdvxtf65bV+4YV7NAVbsX/Dtdbb/mUr3bvWcUnW7k1G6xPm++VTo5XIL0P9Du02y/Q+2/Q+3lOjKfSHDoeMFetn6dyG7bBJvJr8Mw+8uy7pIjYZPL4KCLJI6DOLvAT5szjpc9lJWK9eeKiDDux2/GZmYDYPXu93A+JFPlG6zN24lt6x5kHwM7k/P5I6u03Vgd3xzWdvy0ioeW2BPXRq+z3RdHt4w4PByWPsGHNfBWUKvKUwtPkSBbWyWj7MPs3rNYmbPmXg7euoJkP96lczkvdzVNoh9zk60cWvDS4WueB3bqEvSX/Y2wZ7ty0qNW4r56cAP/GvbqxgYXB0yiY3xf3HCWoCr1cpj6RlMz8ml/KeFBbiuXVsOODsRVFJCstmMKw681+U6PsvcxYa03UxrP5bnwm+H1MM8tudjFhclMj43j7eTUzniaOYzb28WebiVBmZ2vXHmjqR4LsrLx+TgBGMehwsfqf73phFJoNT6NKtASSnlABwCJgLxwFZgpmEY+6rbvklS705Gkf/JWH719OALXz8STfr9MysHwj06EuHVhe7KhcNHlhJp5LLX2YlipXC3Whlgu2jvVVSE2ckTgnqz3zuQt9K2EOTkzR+D/olLuVzdz+NX8Gbc7xVeXlH2MRBUUsL1Ht0ocvZge9Zhdlnzya80SawyjNKu9yH5BfhaLCzz0HduJubm8UB6JtFOjkS6OBPp4kyyg4PuhXD1xXBwIjU/tcaJ+tysVi7JzePWzGxCSkoARZZJ8VyAH8vdq/ZiVcfVauWJtAyu6n41yj1Qf9gZVv2Pu+/V+gPk6Ead/14fLj76DqddQVbdA5TTcXACS9GZr3cPqhikufnpD+vQEfr7yUj9IZiws+pzza7gWi6/XJmgTbhOdQkdAe0Glg5sFkKIZqekCBbcr8crTf1Pxf9n1Tm+FZY+qQOKwbfUvm3KIZ0NkXoQ+l6je+Wd6vZZREkR7P5RzxfV6UKd/VD5plHsWt3LlZ+BFfi6fXd+c7IwOSOFmfngff0PGB2H8eovV/JNXiwOhsHt3n1IKUgjMj+ROFsSwuX5xbw45nVUr8sq7t8wIPWQDpiObtSpg/YMBJ9Q3YOyfyEk7dbLXHxg8ksw4Hp+O/I73+7/lsu7XM70btOrZpJYSmDt6+T89Sr3tvEn0qX6rIGuPl0Z1GYQzg7OfLXvKwAejHiQ2/reRk5RDi+te5qFx/8E4Np8K0/lWrH3d33nonjJw4Fgi8GvCam86OPGQg93HAwDi1J4WqwsjD+Jn1WnGSY5ODC1QzB5JhNDiqxsddJ7cjAM/C1lGSK5JhO5tt6lzmYPbus/h0t6z8TRJKl3ovE1t0BpOPCsYRiTbT8/CWAYxsvVbd8kgdLRjTp1ICGKYmsJCz3c+d7Lg/1OTlVygUEHNv4u/qQWpFXdVzlPp6YxI6fihXwx8GyAH9kmEwOd/Im48J/07DyR1cdW8cmWf3OosOo+Qy0QYTgSYTEzyOqAu6H4xrGI782F5Nia52rAE0WuXGVxRFGpzUG9dBe8ZxsAsgqz2Jmyk+2xy9kVswzfkiIirGYiLGa6Y8Ic2Kus58SrPUR+ibHhPX4jh588PSgyKXBvY7tjqPRkplnHoSiXthYLD+da6DTl3bLSuUc3wK936m3KcwvQvTQ1MZn0oF57eplf54ofcpYS/eFydKPunUmPq/V8VOEbWtZL07a/DtzsOe6Ju8GvS1lvoV9n24edbZxQ5jHd6xRia5vtva2VYcCRFbD1M/2+2fcd3K9J8rKFEEKgU5W3f6HT007pogS4+uqqgLb5rgyrlfd+n8nc7Ir3eF2tBuPNfjx32dc41aVYjj14W/dWxWwCj7Z6nqtBs2ueTLgmxzaT9+vt/Nt8ir1OTuDTEVx8sBgWjmYfrTI571MXPMXMnjMrLFsYs5Bn1j9DkbWIqV2m8tyI58gqzOLyeZeTU5zDW2PfYkL7C7GejOSF7W/wU/YBAP5R5MK1JbYbeZ5tIGQ4X6gc3oj5FdATwF/V7Spmh8+mg+FQmkmRn7SHef5t+LzgOIm2TJYrulzBC6NeqN+xNwAJlFqf5hYoXQ1cbBjG7bafbwQuMAzj3nLb3AncCRASEjLo6NGjTdJWinIhfpu+UD4RSU5JHlEUEEkB0ZTQObAvg8KvY0DwELycvEjKTSIyOZLtSduJy4qDknzdy1GQRUiJhSfxx7Fy0GIXOlJXoDGX9TYZhsHaPd8wf9dnBDh6EtFuGBE9pxMQUP2s6TlFOfxw8AcOZxxmTv85hHmHNfx7YldcoEvIxqyG4fdBxyEV11stsOkDPTfHuL9XzU3Pz4S/XtMpCPYgzL+rpIQJIYRoHkoK9Rih2DVw4aO6Z7+S75fcx5aUHfTz7UlEp4n06n45jtWMGT4tqwX2z9cFMTpeoHvXzmYcaUGW/ox1C4BRD5YuLrQUsid1T+m44Mlhk7m086XV7mJzwmbuW3kf+SX5TAydiLODMwtjFjKy3Ug+nPBhaZEowzD4Zv83pOWncd/A+3CoNLa32FrMm9vexMXswqxes0qLY1Sn2FLMH7F/8Nnuz3h+5PMMDBp45u/BGZJAqfVpboHSDGBypUBpqGEY91W3/flUHlwIIYQQoqWISo7i7j/vJqdYjx92NDky74p5hHo17tQSVsNaexGtRiSBUuvTNL9pNYsHOpb7uQNwsonaIoQQQgghqjEgaACfTf4MX2c9zmx2+OxGD5KAJguSROtUx7Jf58xWoJtSqhNwArgOOPf1H4UQQgghRK16+ffiu8u+Y1vithrT9IRoyZpVoGQYRolS6l5gKbo8+H8Nw9jbxM0SQgghhBDVaO/RnvZda5/XUYiWqlkFSgCGYSwCFjV1O4QQQgghhBCtlyR6CiGEEEIIIUQlEigJIYQQQgghRCUSKAkhhBBCCCFEJRIoCSGEEEIIIUQlEigJIYQQQgghRCUSKAkhhBBCCCFEJRIoCSGEEEIIIUQlEigJIYQQQgghRCUSKAkhhBBCCCFEJRIoCSGEEEIIIUQlEigJIYQQQgghRCUSKAkhhBBCCCFEJRIoCSGEEEIIIUQlEigJIYQQQgghRCXKMIymbsMZU0qlAEeb6OUDgNQmem3R+OT8nl/kfJ7f5Pyef+Scnt9a6vkNNQwjsKkbIc6dFh0oNSWl1DbDMAY3dTtE45Dze36R83l+k/N7/pFzen6T8ytaCkm9E0IIIYQQQohKJFASQgghhBBCiEokUDpzc5u6AaJRyfk9v8j5PL/J+T3/yDk9v8n5FS2CjFESQgghhBBCiEqkR0kIIYQQQgghKpFASQghhBBCCCEqaTWBklKqo1JqlVJqv1Jqr1LqAdtyP6XUcqXUYdt3X9vyiUqp7Uqp3bbvF5Xb14tKqeNKqVOnec1BtudHK6XeVUop2/K/2ZZHKaXWKaV6N+axtwbN6fyWW3+1UspQSkkJ1HpqTudTKTVbKZVi+3uNUkrd3pjH3ho0p/NrW3eNUmqfrS3fNtZxn8+a0zlVSr1V7u/1kFIqsxEPvVVoZuc3xNaWHUqpXUqpSxvz2EUrZxhGq/gCgoEI22NP4BDQG3gVeMK2/Ang37bHA4F2tsd9gBPl9jXMtr9Tp3nNLcBwQAGLgUtsy73KbTMVWNLU709L/2pO57dcG/4CNgGDm/r9aWlfzel8ArOB95r6PTmfvprZ+e0G7AB8bT8HNfX70xK/mtM5rbTNfcB/m/r9aelfzen8ogtBzLE97g3ENfX7I1/n71er6VEyDCPBMIxI2+McYD/QHrgC+NK22ZfAlbZtdhiGcdK2fC/gopRytq3bZBhGQm2vp5QKRgdEGw3DMICvyu07u9ym7oBU1DhLzen82vwL/QFScPZH1/o0w/MpGlAzO793AO8bhpFh219ygxxkK9PMzml5M4HvzuLQBM3u/BqAl+2xN3Cy6h6EaBitJlAqTykVhr7bsRloY/+DtX0PquYp04EdhmEU1uNl2gPx5X6Oty2zt+EepdQR9MX0/fU6AFGrpj6/SqmBQEfDMBbWv/WisqY+n/Z92lI8flZKdaxP+0XtmsH57Q50V0qtV0ptUkpdXM9DEJU0g3Nqb0co0AlYWY/9itNoBuf3WeAGpVQ8sAjdayhEo2h1gZJSygP4BXiwUs9OTduHA/8G7qrvS1WzrLTnyDCM9w3D6AI8DvyjnvsWNWjq86uUMgFvAQ/Xc3+iGk19Pm3fFwBhhmH0A/6k7O6pOEvN5Pya0el3Y9G9D58qpXzquX9h00zOqd11wM+GYVjquW9Rg2ZyfmcCXxiG0QG4FPja9tkrRINrVb9YSilH9B/4/wzD+NW2OMnWxWvv6k0ut30HYB5wk2EYR06zb4dyg0efR9/96FBukw5U3z38PZLi0yCayfn1ROdjr1ZKxaFzsecrKehQb83kfGIYRlq5O6GfAIPO/uhEczm/tnW/G4ZRbBhGLHAQHTiJempG59TuOiTtrsE0o/N7G/AjgGEYGwEXIOBsj0+I6rSaQMlWLeUzYL9hGG+WWzUfuNn2+Gbgd9v2PsAfwJOGYaw/3f4Nw7AYhjHA9vW0rQs6Ryk1zPbaN5Xbd/kP4SnA4bM7OtFczq9hGFmGYQQYhhFmGEYYupjDVMMwtjXQobYKzeV82vYdXO6pU9G5+eIsNKfzC/wGjLO9TgA6FS/mLA+x1Wlm5xSlVA/AF9h49kcnmtn5PQaMt71OL3SglHK2xyhEtYxmUFHiXHwBo9DdtruAKNvXpYA/sAIdrKwA/Gzb/wPILbdtFLZqSOhxRfGA1fb92RpeczCwBzgCvAco2/J30IMbo4BVQHhTvz8t/as5nd9K26xGqt616PMJvGz7e91p+3vt2dTvT0v/ambnVwFvAvuA3cB1Tf3+tMSv5nRObeueBV5p6vflfPlqTucXXeluve1/chQwqanfH/k6f7/sv3RCCCGEEEIIIWxaTeqdEEIIIYQQQtSVBEpCCCGEEEIIUYkESkIIIYQQQghRiQRKQgghhBBCCFGJBEpCCCGEEEIIUYkESkIIcR5QSllskzXuVUrtVEo9dLrZ6pVSYUqp689VG4UQQoiWRAIlIYQ4P+QberLGcGAieo6TZ07znDBAAiUhhBCiGjKPkhBCnAeUUqcMw/Ao93NnYCsQAIQCXwPuttX3GoaxQSm1CegFxAJfAu8CrwBjAWfgfcMwPj5nByGEEEI0IxIoCSHEeaByoGRblgH0BHIAq2EYBUqpbsB3hmEMVkqNBR4xDOMy2/Z3AkGGYbyglHIG1gMzDMOIPZfHIoQQQjQH5qZugBBCiEajbN8dgfeUUgMAC9C9hu0nAf2UUlfbfvYGuqF7nIQQQohWRQIlIYQ4D9lS7yxAMnqsUhLQHz02taCmpwH3GYax9Jw0UgghhGjGpJiDEEKcZ5RSgcBHwHuGzq/2BhIMw7ACNwIOtk1zAM9yT10KzFFKOdr2010p5Y4QQgjRCkmPkhBCnB9clVJR6DS7EnTxhjdt6z4AflFKzQBWAbm25buAEqXUTuAL4B10JbxIpZQCUoArz03zhRBCiOZFijkIIYQQQgghRCWSeieEEEIIIYQQlUigJIQQQgghhBCVSKAkhBBCCCGEEJVIoCSEEEIIIYQQlUigJIQQQgghhBCVSKAkhBBCCCGEEJVIoCSEEEIIIYQQlfw/Cna5scYk0TcAAAAASUVORK5CYII=\n",
      "text/plain": [
       "<Figure size 864x504 with 1 Axes>"
      ]
     },
     "metadata": {
      "needs_background": "light"
     },
     "output_type": "display_data"
    }
   ],
   "source": [
    "#calling the function\n",
    "twoStates(['Kerala','Uttar Pradesh','Goa'],'Deceased')"
   ]
  },
  {
   "cell_type": "code",
   "execution_count": 38,
=======
   "execution_count": 55,
>>>>>>> b16863ab3c0a4737f053e604f6f89d5ee197d7c1
   "metadata": {},
   "outputs": [
    {
     "data": {
<<<<<<< HEAD
      "image/png": "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\n",
=======
      "image/png": "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\n",
>>>>>>> b16863ab3c0a4737f053e604f6f89d5ee197d7c1
      "text/plain": [
       "<Figure size 864x504 with 1 Axes>"
      ]
     },
     "metadata": {
      "needs_background": "light"
     },
     "output_type": "display_data"
    }
   ],
   "source": [
    "twoStates(['Kerala','Karnataka'],'Confirmed')"
   ]
  },
  {
   "cell_type": "code",
   "execution_count": 39,
   "metadata": {},
   "outputs": [],
   "source": [
    "# The url for dataset of covid state-wise covid vaccination progress of the ststes of the nation\n",
    "url2='http://api.covid19india.org/csv/latest/vaccine_doses_statewise_v2.csv'"
   ]
  },
  {
   "cell_type": "code",
   "execution_count": 40,
   "metadata": {},
   "outputs": [
    {
     "data": {
      "text/html": [
       "<div>\n",
       "<style scoped>\n",
       "    .dataframe tbody tr th:only-of-type {\n",
       "        vertical-align: middle;\n",
       "    }\n",
       "\n",
       "    .dataframe tbody tr th {\n",
       "        vertical-align: top;\n",
       "    }\n",
       "\n",
       "    .dataframe thead th {\n",
       "        text-align: right;\n",
       "    }\n",
       "</style>\n",
       "<table border=\"1\" class=\"dataframe\">\n",
       "  <thead>\n",
       "    <tr style=\"text-align: right;\">\n",
       "      <th></th>\n",
       "      <th>Vaccinated As of</th>\n",
       "      <th>State</th>\n",
       "      <th>First Dose Administered</th>\n",
       "      <th>Second Dose Administered</th>\n",
       "      <th>Total Doses Administered</th>\n",
       "    </tr>\n",
       "  </thead>\n",
       "  <tbody>\n",
       "    <tr>\n",
       "      <th>0</th>\n",
       "      <td>16/01/2021</td>\n",
       "      <td>Andaman and Nicobar Islands</td>\n",
       "      <td>225</td>\n",
       "      <td>0</td>\n",
       "      <td>225</td>\n",
       "    </tr>\n",
       "    <tr>\n",
       "      <th>1</th>\n",
       "      <td>16/01/2021</td>\n",
       "      <td>Andhra Pradesh</td>\n",
       "      <td>18412</td>\n",
       "      <td>0</td>\n",
       "      <td>18412</td>\n",
       "    </tr>\n",
       "    <tr>\n",
       "      <th>2</th>\n",
       "      <td>16/01/2021</td>\n",
       "      <td>Arunachal Pradesh</td>\n",
       "      <td>829</td>\n",
       "      <td>0</td>\n",
       "      <td>829</td>\n",
       "    </tr>\n",
       "    <tr>\n",
       "      <th>3</th>\n",
       "      <td>16/01/2021</td>\n",
       "      <td>Assam</td>\n",
       "      <td>3528</td>\n",
       "      <td>0</td>\n",
       "      <td>3528</td>\n",
       "    </tr>\n",
       "    <tr>\n",
       "      <th>4</th>\n",
       "      <td>16/01/2021</td>\n",
       "      <td>Bihar</td>\n",
       "      <td>18169</td>\n",
       "      <td>0</td>\n",
       "      <td>18169</td>\n",
       "    </tr>\n",
       "  </tbody>\n",
       "</table>\n",
       "</div>"
      ],
      "text/plain": [
       "  Vaccinated As of                        State  First Dose Administered  \\\n",
       "0       16/01/2021  Andaman and Nicobar Islands                      225   \n",
       "1       16/01/2021               Andhra Pradesh                    18412   \n",
       "2       16/01/2021            Arunachal Pradesh                      829   \n",
       "3       16/01/2021                        Assam                     3528   \n",
       "4       16/01/2021                        Bihar                    18169   \n",
       "\n",
       "   Second Dose Administered  Total Doses Administered  \n",
       "0                         0                       225  \n",
       "1                         0                     18412  \n",
       "2                         0                       829  \n",
       "3                         0                      3528  \n",
       "4                         0                     18169  "
      ]
     },
     "execution_count": 40,
     "metadata": {},
     "output_type": "execute_result"
    }
   ],
   "source": [
    "vac=pd.read_csv(url2)\n",
    "vac.head()"
   ]
  },
  {
   "cell_type": "code",
   "execution_count": 41,
   "metadata": {},
   "outputs": [
    {
     "data": {
      "text/plain": [
       "38"
      ]
     },
     "execution_count": 41,
     "metadata": {},
     "output_type": "execute_result"
    }
   ],
   "source": [
    "len(vac['State'].unique())"
   ]
  },
  {
   "cell_type": "code",
   "execution_count": 42,
   "metadata": {},
   "outputs": [],
   "source": [
    "vac['Vaccinated As of']=pd.to_datetime(vac['Vaccinated As of'])"
   ]
  },
  {
   "cell_type": "code",
   "execution_count": 43,
   "metadata": {},
   "outputs": [
    {
     "data": {
      "text/plain": [
       "0   2021-01-16\n",
       "Name: Vaccinated As of, dtype: datetime64[ns]"
      ]
     },
     "execution_count": 43,
     "metadata": {},
     "output_type": "execute_result"
    }
   ],
   "source": [
    "vac.loc[:0,\"Vaccinated As of\"]"
   ]
  },
  {
   "cell_type": "code",
   "execution_count": 44,
   "metadata": {},
   "outputs": [],
   "source": [
    "swave['Date']=pd.to_datetime(df['Date'])"
   ]
  },
  {
   "cell_type": "code",
   "execution_count": 45,
   "metadata": {
    "scrolled": true
   },
   "outputs": [
    {
     "data": {
      "text/html": [
       "<div>\n",
       "<style scoped>\n",
       "    .dataframe tbody tr th:only-of-type {\n",
       "        vertical-align: middle;\n",
       "    }\n",
       "\n",
       "    .dataframe tbody tr th {\n",
       "        vertical-align: top;\n",
       "    }\n",
       "\n",
       "    .dataframe thead th {\n",
       "        text-align: right;\n",
       "    }\n",
       "</style>\n",
       "<table border=\"1\" class=\"dataframe\">\n",
       "  <thead>\n",
       "    <tr style=\"text-align: right;\">\n",
       "      <th></th>\n",
       "      <th>Date</th>\n",
       "      <th>State</th>\n",
       "      <th>First Dose Administered</th>\n",
       "      <th>Second Dose Administered</th>\n",
       "      <th>Total Doses Administered</th>\n",
       "    </tr>\n",
       "  </thead>\n",
       "  <tbody>\n",
       "    <tr>\n",
       "      <th>0</th>\n",
       "      <td>2021-01-16</td>\n",
       "      <td>Andaman and Nicobar Islands</td>\n",
       "      <td>225</td>\n",
       "      <td>0</td>\n",
       "      <td>225</td>\n",
       "    </tr>\n",
       "    <tr>\n",
       "      <th>1</th>\n",
       "      <td>2021-01-16</td>\n",
       "      <td>Andhra Pradesh</td>\n",
       "      <td>18412</td>\n",
       "      <td>0</td>\n",
       "      <td>18412</td>\n",
       "    </tr>\n",
       "  </tbody>\n",
       "</table>\n",
       "</div>"
      ],
      "text/plain": [
       "        Date                        State  First Dose Administered  \\\n",
       "0 2021-01-16  Andaman and Nicobar Islands                      225   \n",
       "1 2021-01-16               Andhra Pradesh                    18412   \n",
       "\n",
       "   Second Dose Administered  Total Doses Administered  \n",
       "0                         0                       225  \n",
       "1                         0                     18412  "
      ]
     },
     "execution_count": 45,
     "metadata": {},
     "output_type": "execute_result"
    }
   ],
   "source": [
    "vac.rename(columns={'Vaccinated As of':'Date'},inplace=True)\n",
    "vac.head(2)"
   ]
  },
  {
   "cell_type": "code",
   "execution_count": 46,
   "metadata": {},
   "outputs": [],
   "source": [
    "#df3=vac.set_index(['Date'])\n",
    "#df4=df.set_index(['Date'])\n",
    "#df4.head()"
   ]
  },
  {
   "cell_type": "code",
   "execution_count": 47,
   "metadata": {},
   "outputs": [],
   "source": [
    "sl=vac['State'].unique()"
   ]
  },
  {
   "cell_type": "code",
   "execution_count": 70,
   "metadata": {
    "scrolled": false
   },
   "outputs": [],
   "source": [
    "#The vaccine data above is not cumulative it is better if it became cumulative so\n",
    "# so bellow I tried to make it cumulative but for sum reason it is not working\n",
    "\n",
    "sl=vac[\"State\"].unique()\n",
    "\n",
    "\n",
    "cc=['Date','First Dose Administered','Second Dose Administered','Total Doses Administered','State']\n",
    "vac2 = pd.DataFrame(columns=cc)\n",
    "type(vac2)\n",
    "\n",
    "#vac2=pd.DataFrame()\n",
    "for state in sl:\n",
    "    dftest=vac.groupby('State').get_group(state)\n",
    "    \n",
    "    dftest=dftest.set_index(['Date'])\n",
    "    \n",
    "    dftest.drop('State',axis=1,inplace=True)\n",
    "    \n",
    "    dftest=dftest.cumsum(axis = 0 )\n",
    "    \n",
    "    dftest['State']=state\n",
    "    \n",
    "    \n",
    "    \n",
    "    dftest.reset_index(inplace=True)\n",
    "   \n",
    "    vac2=vac2.append(dftest)\n",
    "\n",
    "   \n",
    "   "
   ]
  },
  {
   "cell_type": "code",
   "execution_count": 71,
   "metadata": {},
   "outputs": [
    {
     "data": {
      "text/plain": [
       "Date                        datetime64[ns]\n",
       "First Dose Administered            float64\n",
       "Second Dose Administered           float64\n",
       "Total Doses Administered           float64\n",
       "State                               object\n",
       "dtype: object"
      ]
     },
     "execution_count": 71,
     "metadata": {},
     "output_type": "execute_result"
    }
   ],
   "source": [
    "#Changing the data types of columns\n",
    "vac2['First Dose Administered']=vac2['First Dose Administered'].astype(float)\n",
    "vac2['Second Dose Administered']=vac2['Second Dose Administered'].astype(float)\n",
    "vac2['Total Doses Administered']=vac2['Total Doses Administered'].astype(float)\n",
    "vac2.dtypes"
   ]
  },
  {
   "cell_type": "code",
   "execution_count": 73,
   "metadata": {},
   "outputs": [],
   "source": [
    "#The vaccine data above is not cumulative it is better if it became cumulative so\n",
    "# so bellow I tried to make it cumulative but for sum reason it is not working\n",
    "\n",
    "sl=vac2[\"State\"].unique()\n",
    "\n",
    "\n",
    "cc=['Date','First Dose Administered','Second Dose Administered','Total Doses Administered','State']\n",
    "vac2 = pd.DataFrame(columns=cc)\n",
    "type(vac2)\n",
    "\n",
    "#vac2=pd.DataFrame()\n",
    "for state in sl:\n",
    "    dftest=vac2.groupby('State').get_group(state)\n",
    "    \n",
    "    dftest=dftest.set_index(['Date'])\n",
    "    \n",
    "    dftest.drop('State',axis=1,inplace=True)\n",
    "    \n",
    "    dftest=dftest.cumsum(axis = 0 )\n",
    "    \n",
    "    dftest['State']=state\n",
    "    \n",
    "    \n",
    "    \n",
    "    dftest.reset_index(inplace=True)\n",
    "   \n",
    "    vac2=vac2.append(dftest)\n",
    "\n",
    "   \n",
    "   "
   ]
  },
  {
<<<<<<< HEAD
   "cell_type": "markdown",
   "metadata": {},
=======
   "cell_type": "code",
   "execution_count": 53,
   "metadata": {},
   "outputs": [
    {
     "data": {
      "image/png": "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\n",
      "text/plain": [
       "<Figure size 864x504 with 1 Axes>"
      ]
     },
     "metadata": {
      "needs_background": "light"
     },
     "output_type": "display_data"
    }
   ],
>>>>>>> b16863ab3c0a4737f053e604f6f89d5ee197d7c1
   "source": [
    "#### Below is the code for merging the 2 data sets (ie, vaccine and covid cases)"
   ]
  },
  {
   "cell_type": "code",
<<<<<<< HEAD
   "execution_count": 74,
   "metadata": {},
=======
   "execution_count": null,
   "metadata": {
    "scrolled": true
   },
>>>>>>> b16863ab3c0a4737f053e604f6f89d5ee197d7c1
   "outputs": [],
   "source": [
    "final=pd.merge(swave,vac2, how ='inner', on =['State','Date'])"
   ]
  },
  {
   "cell_type": "code",
<<<<<<< HEAD
   "execution_count": 75,
   "metadata": {},
   "outputs": [
    {
     "data": {
      "text/html": [
       "<div>\n",
       "<style scoped>\n",
       "    .dataframe tbody tr th:only-of-type {\n",
       "        vertical-align: middle;\n",
       "    }\n",
       "\n",
       "    .dataframe tbody tr th {\n",
       "        vertical-align: top;\n",
       "    }\n",
       "\n",
       "    .dataframe thead th {\n",
       "        text-align: right;\n",
       "    }\n",
       "</style>\n",
       "<table border=\"1\" class=\"dataframe\">\n",
       "  <thead>\n",
       "    <tr style=\"text-align: right;\">\n",
       "      <th></th>\n",
       "      <th>Date</th>\n",
       "      <th>State</th>\n",
       "      <th>Confirmed</th>\n",
       "      <th>Recovered</th>\n",
       "      <th>Deceased</th>\n",
       "      <th>Other</th>\n",
       "      <th>Tested</th>\n",
       "      <th>First Dose Administered</th>\n",
       "      <th>Second Dose Administered</th>\n",
       "      <th>Total Doses Administered</th>\n",
       "    </tr>\n",
       "  </thead>\n",
       "  <tbody>\n",
       "  </tbody>\n",
       "</table>\n",
       "</div>"
      ],
      "text/plain": [
       "Empty DataFrame\n",
       "Columns: [Date, State, Confirmed, Recovered, Deceased, Other, Tested, First Dose Administered, Second Dose Administered, Total Doses Administered]\n",
       "Index: []"
      ]
     },
     "execution_count": 75,
     "metadata": {},
     "output_type": "execute_result"
    }
   ],
   "source": [
    "final.head()"
=======
   "execution_count": null,
   "metadata": {},
   "outputs": [],
   "source": [
    "vac=pd.read_csv(\"vaccine_doses_statewise_v2.csv\")\n",
    "vac.head()"
   ]
  },
  {
   "cell_type": "code",
   "execution_count": null,
   "metadata": {},
   "outputs": [],
   "source": [
    "len(vac['State'].unique())"
   ]
  },
  {
   "cell_type": "code",
   "execution_count": null,
   "metadata": {},
   "outputs": [],
   "source": [
    "vac['Vaccinated As of']=pd.to_datetime(vac['Vaccinated As of'])"
>>>>>>> b16863ab3c0a4737f053e604f6f89d5ee197d7c1
   ]
  },
  {
   "cell_type": "code",
<<<<<<< HEAD
   "execution_count": 52,
   "metadata": {},
   "outputs": [
    {
     "data": {
      "text/plain": [
       "Index(['Date', 'State', 'Confirmed', 'Recovered', 'Deceased', 'Other',\n",
       "       'Tested', 'First Dose Administered', 'Second Dose Administered',\n",
       "       'Total Doses Administered'],\n",
       "      dtype='object')"
      ]
     },
     "execution_count": 52,
     "metadata": {},
     "output_type": "execute_result"
    }
   ],
=======
   "execution_count": null,
   "metadata": {},
   "outputs": [],
>>>>>>> b16863ab3c0a4737f053e604f6f89d5ee197d7c1
   "source": [
    "final.columns"
   ]
  },
  {
   "cell_type": "code",
<<<<<<< HEAD
   "execution_count": 53,
   "metadata": {},
   "outputs": [
    {
     "data": {
      "text/html": [
       "<div>\n",
       "<style scoped>\n",
       "    .dataframe tbody tr th:only-of-type {\n",
       "        vertical-align: middle;\n",
       "    }\n",
       "\n",
       "    .dataframe tbody tr th {\n",
       "        vertical-align: top;\n",
       "    }\n",
       "\n",
       "    .dataframe thead th {\n",
       "        text-align: right;\n",
       "    }\n",
       "</style>\n",
       "<table border=\"1\" class=\"dataframe\">\n",
       "  <thead>\n",
       "    <tr style=\"text-align: right;\">\n",
       "      <th></th>\n",
       "      <th>Date</th>\n",
       "      <th>State</th>\n",
       "      <th>Confirmed</th>\n",
       "      <th>Recovered</th>\n",
       "      <th>Deceased</th>\n",
       "      <th>Other</th>\n",
       "      <th>Tested</th>\n",
       "      <th>First Dose Administered</th>\n",
       "      <th>Second Dose Administered</th>\n",
       "      <th>Total Doses Administered</th>\n",
       "    </tr>\n",
       "  </thead>\n",
       "  <tbody>\n",
       "    <tr>\n",
       "      <th>4639</th>\n",
       "      <td>2021-08-05</td>\n",
       "      <td>Odisha</td>\n",
       "      <td>1342.0</td>\n",
       "      <td>1652.0</td>\n",
       "      <td>68.0</td>\n",
       "      <td>0.0</td>\n",
       "      <td>66146.0</td>\n",
       "      <td>206015651.0</td>\n",
       "      <td>37345614.0</td>\n",
       "      <td>243361265.0</td>\n",
       "    </tr>\n",
       "    <tr>\n",
       "      <th>4640</th>\n",
       "      <td>2021-08-05</td>\n",
       "      <td>Puducherry</td>\n",
       "      <td>81.0</td>\n",
       "      <td>100.0</td>\n",
       "      <td>0.0</td>\n",
       "      <td>0.0</td>\n",
       "      <td>0.0</td>\n",
       "      <td>6412064.0</td>\n",
       "      <td>844183.0</td>\n",
       "      <td>7256247.0</td>\n",
       "    </tr>\n",
       "    <tr>\n",
       "      <th>4641</th>\n",
       "      <td>2021-08-05</td>\n",
       "      <td>West Bengal</td>\n",
       "      <td>812.0</td>\n",
       "      <td>823.0</td>\n",
       "      <td>13.0</td>\n",
       "      <td>0.0</td>\n",
       "      <td>48869.0</td>\n",
       "      <td>384002881.0</td>\n",
       "      <td>73094664.0</td>\n",
       "      <td>457097545.0</td>\n",
       "    </tr>\n",
       "    <tr>\n",
       "      <th>4642</th>\n",
       "      <td>2021-08-05</td>\n",
       "      <td>Karnataka</td>\n",
       "      <td>1785.0</td>\n",
       "      <td>1651.0</td>\n",
       "      <td>25.0</td>\n",
       "      <td>0.0</td>\n",
       "      <td>161662.0</td>\n",
       "      <td>317325697.0</td>\n",
       "      <td>50417178.0</td>\n",
       "      <td>367742875.0</td>\n",
       "    </tr>\n",
       "    <tr>\n",
       "      <th>4643</th>\n",
       "      <td>2021-08-05</td>\n",
       "      <td>Lakshadweep</td>\n",
       "      <td>0.0</td>\n",
       "      <td>0.0</td>\n",
       "      <td>0.0</td>\n",
       "      <td>0.0</td>\n",
       "      <td>0.0</td>\n",
       "      <td>703679.0</td>\n",
       "      <td>180204.0</td>\n",
       "      <td>883883.0</td>\n",
       "    </tr>\n",
       "  </tbody>\n",
       "</table>\n",
       "</div>"
      ],
      "text/plain": [
       "           Date        State  Confirmed  Recovered  Deceased  Other    Tested  \\\n",
       "4639 2021-08-05       Odisha     1342.0     1652.0      68.0    0.0   66146.0   \n",
       "4640 2021-08-05   Puducherry       81.0      100.0       0.0    0.0       0.0   \n",
       "4641 2021-08-05  West Bengal      812.0      823.0      13.0    0.0   48869.0   \n",
       "4642 2021-08-05    Karnataka     1785.0     1651.0      25.0    0.0  161662.0   \n",
       "4643 2021-08-05  Lakshadweep        0.0        0.0       0.0    0.0       0.0   \n",
       "\n",
       "      First Dose Administered  Second Dose Administered  \\\n",
       "4639              206015651.0                37345614.0   \n",
       "4640                6412064.0                  844183.0   \n",
       "4641              384002881.0                73094664.0   \n",
       "4642              317325697.0                50417178.0   \n",
       "4643                 703679.0                  180204.0   \n",
       "\n",
       "      Total Doses Administered  \n",
       "4639               243361265.0  \n",
       "4640                 7256247.0  \n",
       "4641               457097545.0  \n",
       "4642               367742875.0  \n",
       "4643                  883883.0  "
      ]
     },
     "execution_count": 53,
     "metadata": {},
     "output_type": "execute_result"
    }
   ],
   "source": [
    "final.tail()"
   ]
  },
  {
   "cell_type": "markdown",
=======
   "execution_count": null,
   "metadata": {},
   "outputs": [],
   "source": [
    "swave['Date']=pd.to_datetime(df['Date'])"
   ]
  },
  {
   "cell_type": "code",
   "execution_count": null,
   "metadata": {
    "scrolled": true
   },
   "outputs": [],
   "source": [
    "vac.rename(columns={'Vaccinated As of':'Date'},inplace=True)\n",
    "vac.head(3)"
   ]
  },
  {
   "cell_type": "code",
   "execution_count": null,
>>>>>>> b16863ab3c0a4737f053e604f6f89d5ee197d7c1
   "metadata": {},
   "source": [
    "### Below is another function which is updated to compare the vaccination progress also of to selected states on the go"
   ]
  },
  {
   "cell_type": "code",
<<<<<<< HEAD
   "execution_count": 54,
=======
   "execution_count": null,
>>>>>>> b16863ab3c0a4737f053e604f6f89d5ee197d7c1
   "metadata": {},
   "outputs": [],
   "source": [
    "fet=final.columns"
   ]
  },
  {
   "cell_type": "code",
<<<<<<< HEAD
   "execution_count": 55,
   "metadata": {},
   "outputs": [],
   "source": [
    "def twoStates2(sl,fet):\n",
    "    dfs=final[final.State.isin(sl)]\n",
    "    #x = np.random.randint(low=0, high=100, size=100)\n",
=======
   "execution_count": null,
   "metadata": {},
   "outputs": [],
   "source": [
    "vac['First Dose Administered']=vac['First Dose Administered'].astype(float)\n",
    "vac['Second Dose Administered']=vac['Second Dose Administered'].astype(float)\n",
    "vac['Total Doses Administered']=vac['Total Doses Administered'].astype(float)\n",
    "vac.dtypes"
   ]
  },
  {
   "cell_type": "code",
   "execution_count": null,
   "metadata": {},
   "outputs": [],
   "source": [
    "cc=['Date','First Dose Administered','Second Dose Administered','Total Doses Administered','State']\n",
    "vac2 = pd.DataFrame(columns=cc)\n",
    "type(vac2)"
   ]
  },
  {
   "cell_type": "code",
   "execution_count": null,
   "metadata": {
    "scrolled": false
   },
   "outputs": [],
   "source": [
    "#vac2=pd.DataFrame()\n",
    "for state in sl:\n",
    "    dftest=vac.groupby('State').get_group(state)\n",
    "    \n",
    "    dftest=dftest.set_index(['Date'])\n",
    "    \n",
    "    dftest.drop('State',axis=1,inplace=True)\n",
    "    \n",
    "    dftest=dftest.cumsum(axis = 0, skipna = True)\n",
    "    \n",
    "    dftest['State']=state\n",
    "    \n",
    "    \n",
    "    \n",
    "    dftest.reset_index(inplace=True)\n",
    "   \n",
    "    vac2=vac2.append(dftest)\n",
>>>>>>> b16863ab3c0a4737f053e604f6f89d5ee197d7c1
    "\n",
    "    fig, ax = plt.subplots(figsize=(12, 7))\n",
    "    sns.lineplot(data=dfs, x=\"Date\", y=fet, hue=\"State\",linewidth = 2)\n",
    "    plt.legend( bbox_to_anchor=(1.02, 1),loc='upper left', borderaxespad=0, title='states')\n",
    "    plt.title(fet+' -Comparrison')\n",
    "    #plt.xticks(np.arange(0, len(x)+100, 1))\n",
    "    #ax.set_xticks(np.arange(0, len(x)+1, 5))\n",
    "    plt.show"
   ]
  },
  {
   "cell_type": "code",
<<<<<<< HEAD
   "execution_count": 56,
   "metadata": {},
   "outputs": [
    {
     "data": {
      "image/png": "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\n",
      "text/plain": [
       "<Figure size 864x504 with 1 Axes>"
      ]
     },
     "metadata": {
      "needs_background": "light"
     },
     "output_type": "display_data"
    }
   ],
   "source": [
    "twoStates2(['Kerala','Uttar Pradesh'],'Total Doses Administered')"
   ]
  },
  {
   "cell_type": "code",
   "execution_count": 57,
   "metadata": {},
   "outputs": [
    {
     "data": {
      "text/plain": [
       "Date                        datetime64[ns]\n",
       "State                               object\n",
       "Confirmed                          float64\n",
       "Recovered                          float64\n",
       "Deceased                           float64\n",
       "Other                              float64\n",
       "Tested                             float64\n",
       "First Dose Administered            float64\n",
       "Second Dose Administered           float64\n",
       "Total Doses Administered           float64\n",
       "dtype: object"
      ]
     },
     "execution_count": 57,
     "metadata": {},
     "output_type": "execute_result"
    }
   ],
   "source": [
    "final.dtypes"
=======
   "execution_count": null,
   "metadata": {},
   "outputs": [],
   "source": [
    "vac.loc[vac['State']=='Goa']['Total Doses Administered']#Took a look at orginal data"
   ]
  },
  {
   "cell_type": "code",
   "execution_count": null,
   "metadata": {},
   "outputs": [],
   "source": [
    "vac2.loc[vac2['State']=='Goa']['Total Doses Administered']#Took a look at modified data"
   ]
  },
  {
   "cell_type": "code",
   "execution_count": null,
   "metadata": {},
   "outputs": [],
   "source": [
    "vac2.loc[vac2['State']=='Goa']['Total Doses Administered'].plot()#Tried to plot it some sort of problem"
   ]
  },
  {
   "cell_type": "code",
   "execution_count": null,
   "metadata": {},
   "outputs": [],
   "source": [
    "final=pd.merge(swave,vac2, how ='inner', on =['State','Date'])"
>>>>>>> b16863ab3c0a4737f053e604f6f89d5ee197d7c1
   ]
  },
  {
   "cell_type": "code",
<<<<<<< HEAD
   "execution_count": 58,
   "metadata": {},
   "outputs": [
    {
     "data": {
      "text/html": [
       "<div>\n",
       "<style scoped>\n",
       "    .dataframe tbody tr th:only-of-type {\n",
       "        vertical-align: middle;\n",
       "    }\n",
       "\n",
       "    .dataframe tbody tr th {\n",
       "        vertical-align: top;\n",
       "    }\n",
       "\n",
       "    .dataframe thead th {\n",
       "        text-align: right;\n",
       "    }\n",
       "</style>\n",
       "<table border=\"1\" class=\"dataframe\">\n",
       "  <thead>\n",
       "    <tr style=\"text-align: right;\">\n",
       "      <th></th>\n",
       "      <th>Date</th>\n",
       "      <th>First Dose Administered</th>\n",
       "      <th>Second Dose Administered</th>\n",
       "      <th>Total Doses Administered</th>\n",
       "      <th>State</th>\n",
       "    </tr>\n",
       "  </thead>\n",
       "  <tbody>\n",
       "    <tr>\n",
       "      <th>195</th>\n",
       "      <td>2021-07-31</td>\n",
       "      <td>2.517943e+10</td>\n",
       "      <td>5.955968e+09</td>\n",
       "      <td>3.116180e+10</td>\n",
       "      <td>Total</td>\n",
       "    </tr>\n",
       "    <tr>\n",
       "      <th>196</th>\n",
       "      <td>2021-01-08</td>\n",
       "      <td>2.554742e+10</td>\n",
       "      <td>6.060197e+09</td>\n",
       "      <td>3.163402e+10</td>\n",
       "      <td>Total</td>\n",
       "    </tr>\n",
       "    <tr>\n",
       "      <th>197</th>\n",
       "      <td>2021-02-08</td>\n",
       "      <td>2.592005e+10</td>\n",
       "      <td>6.166114e+09</td>\n",
       "      <td>3.211257e+10</td>\n",
       "      <td>Total</td>\n",
       "    </tr>\n",
       "    <tr>\n",
       "      <th>198</th>\n",
       "      <td>2021-03-08</td>\n",
       "      <td>2.629814e+10</td>\n",
       "      <td>6.273310e+09</td>\n",
       "      <td>3.259785e+10</td>\n",
       "      <td>Total</td>\n",
       "    </tr>\n",
       "    <tr>\n",
       "      <th>199</th>\n",
       "      <td>2021-04-08</td>\n",
       "      <td>2.667927e+10</td>\n",
       "      <td>6.381526e+09</td>\n",
       "      <td>3.308720e+10</td>\n",
       "      <td>Total</td>\n",
       "    </tr>\n",
       "  </tbody>\n",
       "</table>\n",
       "</div>"
      ],
      "text/plain": [
       "          Date  First Dose Administered  Second Dose Administered  \\\n",
       "195 2021-07-31             2.517943e+10              5.955968e+09   \n",
       "196 2021-01-08             2.554742e+10              6.060197e+09   \n",
       "197 2021-02-08             2.592005e+10              6.166114e+09   \n",
       "198 2021-03-08             2.629814e+10              6.273310e+09   \n",
       "199 2021-04-08             2.667927e+10              6.381526e+09   \n",
       "\n",
       "     Total Doses Administered  State  \n",
       "195              3.116180e+10  Total  \n",
       "196              3.163402e+10  Total  \n",
       "197              3.211257e+10  Total  \n",
       "198              3.259785e+10  Total  \n",
       "199              3.308720e+10  Total  "
      ]
     },
     "execution_count": 58,
     "metadata": {},
     "output_type": "execute_result"
    }
   ],
   "source": [
    "vac2.tail()"
=======
   "execution_count": null,
   "metadata": {},
   "outputs": [],
   "source": [
    "final.head()#Why does Bihar comes 3 times"
>>>>>>> b16863ab3c0a4737f053e604f6f89d5ee197d7c1
   ]
  },
  {
   "cell_type": "code",
<<<<<<< HEAD
   "execution_count": 59,
   "metadata": {},
   "outputs": [],
   "source": [
    "k=final.groupby(\"State\").get_group(\"Kerala\")"
   ]
  },
  {
   "cell_type": "code",
   "execution_count": 60,
   "metadata": {},
   "outputs": [
    {
     "data": {
      "text/plain": [
       "<AxesSubplot:>"
      ]
     },
     "execution_count": 60,
     "metadata": {},
     "output_type": "execute_result"
    },
    {
     "data": {
      "image/png": "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\n",
      "text/plain": [
       "<Figure size 432x288 with 1 Axes>"
      ]
     },
     "metadata": {
      "needs_background": "light"
     },
     "output_type": "display_data"
    }
   ],
=======
   "execution_count": null,
   "metadata": {},
   "outputs": [],
>>>>>>> b16863ab3c0a4737f053e604f6f89d5ee197d7c1
   "source": [
    "k['Total Doses Administered'].plot()"
   ]
  },
  {
   "cell_type": "code",
<<<<<<< HEAD
   "execution_count": 61,
   "metadata": {},
   "outputs": [
    {
     "data": {
      "text/html": [
       "<div>\n",
       "<style scoped>\n",
       "    .dataframe tbody tr th:only-of-type {\n",
       "        vertical-align: middle;\n",
       "    }\n",
       "\n",
       "    .dataframe tbody tr th {\n",
       "        vertical-align: top;\n",
       "    }\n",
       "\n",
       "    .dataframe thead th {\n",
       "        text-align: right;\n",
       "    }\n",
       "</style>\n",
       "<table border=\"1\" class=\"dataframe\">\n",
       "  <thead>\n",
       "    <tr style=\"text-align: right;\">\n",
       "      <th></th>\n",
       "      <th>Category</th>\n",
       "      <th>India/State/Union Territory</th>\n",
       "      <th>Population 2011</th>\n",
       "      <th>Decadal Population Growth Rate - 2001-2011</th>\n",
       "      <th>Population Density (per sq.km) - 2011</th>\n",
       "    </tr>\n",
       "  </thead>\n",
       "  <tbody>\n",
       "    <tr>\n",
       "      <th>0</th>\n",
       "      <td>India</td>\n",
       "      <td>India</td>\n",
       "      <td>1210854977</td>\n",
       "      <td>17.7</td>\n",
       "      <td>368</td>\n",
       "    </tr>\n",
       "    <tr>\n",
       "      <th>1</th>\n",
       "      <td>State</td>\n",
       "      <td>Andhra Pradesh</td>\n",
       "      <td>49386799</td>\n",
       "      <td>9.0</td>\n",
       "      <td>308</td>\n",
       "    </tr>\n",
       "    <tr>\n",
       "      <th>2</th>\n",
       "      <td>State</td>\n",
       "      <td>Arunachal Pradesh</td>\n",
       "      <td>1383727</td>\n",
       "      <td>26.0</td>\n",
       "      <td>17</td>\n",
       "    </tr>\n",
       "    <tr>\n",
       "      <th>3</th>\n",
       "      <td>State</td>\n",
       "      <td>Assam</td>\n",
       "      <td>31205576</td>\n",
       "      <td>17.1</td>\n",
       "      <td>398</td>\n",
       "    </tr>\n",
       "    <tr>\n",
       "      <th>4</th>\n",
       "      <td>State</td>\n",
       "      <td>Bihar</td>\n",
       "      <td>104099452</td>\n",
       "      <td>25.4</td>\n",
       "      <td>1106</td>\n",
       "    </tr>\n",
       "  </tbody>\n",
       "</table>\n",
       "</div>"
      ],
      "text/plain": [
       "  Category India/State/Union Territory  Population 2011  \\\n",
       "0    India                       India       1210854977   \n",
       "1    State              Andhra Pradesh         49386799   \n",
       "2    State           Arunachal Pradesh          1383727   \n",
       "3    State                       Assam         31205576   \n",
       "4    State                       Bihar        104099452   \n",
       "\n",
       "   Decadal Population Growth Rate - 2001-2011  \\\n",
       "0                                        17.7   \n",
       "1                                         9.0   \n",
       "2                                        26.0   \n",
       "3                                        17.1   \n",
       "4                                        25.4   \n",
       "\n",
       "   Population Density (per sq.km) - 2011  \n",
       "0                                    368  \n",
       "1                                    308  \n",
       "2                                     17  \n",
       "3                                    398  \n",
       "4                                   1106  "
      ]
     },
     "execution_count": 61,
     "metadata": {},
     "output_type": "execute_result"
    }
   ],
   "source": [
    "pop=pd.read_csv(\"population_State_Uts.csv\")\n",
    "pop.head()"
=======
   "execution_count": null,
   "metadata": {},
   "outputs": [],
   "source": [
    "final.tail()"
   ]
  },
  {
   "cell_type": "code",
   "execution_count": null,
   "metadata": {},
   "outputs": [],
   "source": [
    "fet=final.columns"
   ]
  },
  {
   "cell_type": "code",
   "execution_count": null,
   "metadata": {},
   "outputs": [],
   "source": [
    "def twoStates2(sl,fet):\n",
    "    dfs=final[final.State.isin(sl)]\n",
    "    #x = np.random.randint(low=0, high=100, size=100)\n",
    "\n",
    "    fig, ax = plt.subplots(figsize=(12, 7))\n",
    "    sns.lineplot(data=dfs, x=\"Date\", y=fet, hue=\"State\",linewidth = 2)\n",
    "    plt.legend( bbox_to_anchor=(1.02, 1),loc='upper left', borderaxespad=0, title='states')\n",
    "    plt.title(fet+' Comparrison')\n",
    "    #plt.xticks(np.arange(0, len(x)+100, 1))\n",
    "    #ax.set_xticks(np.arange(0, len(x)+1, 5))\n",
    "    plt.show"
>>>>>>> b16863ab3c0a4737f053e604f6f89d5ee197d7c1
   ]
  },
  {
   "cell_type": "code",
<<<<<<< HEAD
   "execution_count": 62,
   "metadata": {},
   "outputs": [
    {
     "data": {
      "text/html": [
       "<div>\n",
       "<style scoped>\n",
       "    .dataframe tbody tr th:only-of-type {\n",
       "        vertical-align: middle;\n",
       "    }\n",
       "\n",
       "    .dataframe tbody tr th {\n",
       "        vertical-align: top;\n",
       "    }\n",
       "\n",
       "    .dataframe thead th {\n",
       "        text-align: right;\n",
       "    }\n",
       "</style>\n",
       "<table border=\"1\" class=\"dataframe\">\n",
       "  <thead>\n",
       "    <tr style=\"text-align: right;\">\n",
       "      <th></th>\n",
       "      <th></th>\n",
       "      <th>First Dose Administered</th>\n",
       "      <th>Second Dose Administered</th>\n",
       "      <th>Total Doses Administered</th>\n",
       "    </tr>\n",
       "    <tr>\n",
       "      <th>State</th>\n",
       "      <th>Date</th>\n",
       "      <th></th>\n",
       "      <th></th>\n",
       "      <th></th>\n",
       "    </tr>\n",
       "  </thead>\n",
       "  <tbody>\n",
       "    <tr>\n",
       "      <th rowspan=\"5\" valign=\"top\">Andaman and Nicobar Islands</th>\n",
       "      <th>2021-01-02</th>\n",
       "      <td>2727</td>\n",
       "      <td>0</td>\n",
       "      <td>2727</td>\n",
       "    </tr>\n",
       "    <tr>\n",
       "      <th>2021-01-03</th>\n",
       "      <td>6581</td>\n",
       "      <td>2556</td>\n",
       "      <td>9137</td>\n",
       "    </tr>\n",
       "    <tr>\n",
       "      <th>2021-01-04</th>\n",
       "      <td>17208</td>\n",
       "      <td>5666</td>\n",
       "      <td>22874</td>\n",
       "    </tr>\n",
       "    <tr>\n",
       "      <th>2021-01-05</th>\n",
       "      <td>94050</td>\n",
       "      <td>11113</td>\n",
       "      <td>105163</td>\n",
       "    </tr>\n",
       "    <tr>\n",
       "      <th>2021-01-06</th>\n",
       "      <td>109815</td>\n",
       "      <td>15186</td>\n",
       "      <td>125001</td>\n",
       "    </tr>\n",
       "  </tbody>\n",
       "</table>\n",
       "</div>"
      ],
      "text/plain": [
       "                                        First Dose Administered  \\\n",
       "State                       Date                                  \n",
       "Andaman and Nicobar Islands 2021-01-02                     2727   \n",
       "                            2021-01-03                     6581   \n",
       "                            2021-01-04                    17208   \n",
       "                            2021-01-05                    94050   \n",
       "                            2021-01-06                   109815   \n",
       "\n",
       "                                        Second Dose Administered  \\\n",
       "State                       Date                                   \n",
       "Andaman and Nicobar Islands 2021-01-02                         0   \n",
       "                            2021-01-03                      2556   \n",
       "                            2021-01-04                      5666   \n",
       "                            2021-01-05                     11113   \n",
       "                            2021-01-06                     15186   \n",
       "\n",
       "                                        Total Doses Administered  \n",
       "State                       Date                                  \n",
       "Andaman and Nicobar Islands 2021-01-02                      2727  \n",
       "                            2021-01-03                      9137  \n",
       "                            2021-01-04                     22874  \n",
       "                            2021-01-05                    105163  \n",
       "                            2021-01-06                    125001  "
      ]
     },
     "execution_count": 62,
     "metadata": {},
     "output_type": "execute_result"
    }
   ],
=======
   "execution_count": null,
   "metadata": {},
   "outputs": [],
>>>>>>> b16863ab3c0a4737f053e604f6f89d5ee197d7c1
   "source": [
    "tb=pd.pivot_table(vac,index=['State','Date'])\n",
    "tb.head()"
   ]
  },
  {
   "cell_type": "code",
   "execution_count": null,
   "metadata": {},
   "outputs": [],
   "source": []
  }
 ],
 "metadata": {
  "kernelspec": {
   "display_name": "Python 3",
   "language": "python",
   "name": "python3"
  },
  "language_info": {
   "codemirror_mode": {
    "name": "ipython",
    "version": 3
   },
   "file_extension": ".py",
   "mimetype": "text/x-python",
   "name": "python",
   "nbconvert_exporter": "python",
   "pygments_lexer": "ipython3",
   "version": "3.7.3"
  }
 },
 "nbformat": 4,
 "nbformat_minor": 4
}
